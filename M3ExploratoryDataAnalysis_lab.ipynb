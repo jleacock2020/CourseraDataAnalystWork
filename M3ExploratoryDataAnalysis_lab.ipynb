{
  "cells": [
    {
      "cell_type": "markdown",
      "metadata": {
        "id": "view-in-github",
        "colab_type": "text"
      },
      "source": [
        "<a href=\"https://colab.research.google.com/github/jleacock2020/CourseraDataAnalystWork/blob/main/M3ExploratoryDataAnalysis_lab.ipynb\" target=\"_parent\"><img src=\"https://colab.research.google.com/assets/colab-badge.svg\" alt=\"Open In Colab\"/></a>"
      ]
    },
    {
      "cell_type": "markdown",
      "metadata": {
        "id": "P2zAtIoSGR-t"
      },
      "source": [
        "<p style=\"text-align:center\">\n",
        "    <a href=\"https://skills.network/?utm_medium=Exinfluencer&utm_source=Exinfluencer&utm_content=000026UJ&utm_term=10006555&utm_id=NA-SkillsNetwork-Channel-SkillsNetworkCoursesIBMDA0321ENSkillsNetwork928-2023-01-01\">\n",
        "    <img src=\"https://cf-courses-data.s3.us.cloud-object-storage.appdomain.cloud/assets/logos/SN_web_lightmode.png\" width=\"200\" alt=\"Skills Network Logo\"  />\n",
        "    </a>\n",
        "</p>\n"
      ]
    },
    {
      "cell_type": "markdown",
      "metadata": {
        "id": "dj48j84DGR-y"
      },
      "source": [
        "# **Exploratory Data Analysis Lab**\n"
      ]
    },
    {
      "cell_type": "markdown",
      "metadata": {
        "id": "pVWAs0ZeGR-z"
      },
      "source": [
        "Estimated time needed: **30** minutes\n"
      ]
    },
    {
      "cell_type": "markdown",
      "metadata": {
        "id": "0twubf8bGR-z"
      },
      "source": [
        "In this module you get to work with the cleaned dataset from the previous module.\n",
        "\n",
        "In this assignment you will perform the task of exploratory data analysis.\n",
        "You will find out the distribution of data, presence of outliers and also determine the correlation between different columns in the dataset.\n"
      ]
    },
    {
      "cell_type": "markdown",
      "metadata": {
        "id": "YjPde2B5GR-z"
      },
      "source": [
        "## Objectives\n"
      ]
    },
    {
      "cell_type": "markdown",
      "metadata": {
        "id": "8m9dxu12GR-0"
      },
      "source": [
        "In this lab you will perform the following:\n"
      ]
    },
    {
      "cell_type": "markdown",
      "metadata": {
        "id": "xkLEYvUoGR-0"
      },
      "source": [
        "-   Identify the distribution of data in the dataset.\n",
        "\n",
        "-   Identify outliers in the dataset.\n",
        "\n",
        "-   Remove outliers from the dataset.\n",
        "\n",
        "-   Identify correlation between features in the dataset.\n"
      ]
    },
    {
      "cell_type": "markdown",
      "metadata": {
        "id": "gKakWlPGGR-0"
      },
      "source": [
        "* * *\n"
      ]
    },
    {
      "cell_type": "markdown",
      "metadata": {
        "id": "ZvI8L96nGR-1"
      },
      "source": [
        "## Hands on Lab\n"
      ]
    },
    {
      "cell_type": "markdown",
      "metadata": {
        "id": "h7dVYjntGR-1"
      },
      "source": [
        "Import the pandas module.\n"
      ]
    },
    {
      "cell_type": "code",
      "execution_count": 1,
      "metadata": {
        "id": "w2KOfp2gGR-1"
      },
      "outputs": [],
      "source": [
        "import pandas as pd"
      ]
    },
    {
      "cell_type": "markdown",
      "metadata": {
        "id": "qRx7L0IfGR-2"
      },
      "source": [
        "Load the dataset into a dataframe.\n"
      ]
    },
    {
      "cell_type": "code",
      "execution_count": 2,
      "metadata": {
        "id": "kjvQfK09GR-2"
      },
      "outputs": [],
      "source": [
        "df = pd.read_csv(\"https://cf-courses-data.s3.us.cloud-object-storage.appdomain.cloud/IBM-DA0321EN-SkillsNetwork/LargeData/m2_survey_data.csv\")"
      ]
    },
    {
      "cell_type": "markdown",
      "metadata": {
        "id": "F__htaAhGR-2"
      },
      "source": [
        "## Distribution\n"
      ]
    },
    {
      "cell_type": "markdown",
      "metadata": {
        "id": "8gb_tuy6GR-2"
      },
      "source": [
        "### Determine how the data is distributed\n"
      ]
    },
    {
      "cell_type": "markdown",
      "metadata": {
        "id": "2M3b9UIDGR-2"
      },
      "source": [
        "The column `ConvertedComp` contains Salary converted to annual USD salaries using the exchange rate on 2019-02-01.\n",
        "\n",
        "This assumes 12 working months and 50 working weeks.\n"
      ]
    },
    {
      "cell_type": "markdown",
      "metadata": {
        "id": "8-neuymiGR-3"
      },
      "source": [
        "Plot the distribution curve for the column `ConvertedComp`.\n"
      ]
    },
    {
      "cell_type": "code",
      "execution_count": 3,
      "metadata": {
        "colab": {
          "base_uri": "https://localhost:8080/",
          "height": 523
        },
        "id": "2ZqhYCSUGR-3",
        "outputId": "2d615fef-0d25-456e-a3be-e58fa7a14b8c"
      },
      "outputs": [
        {
          "output_type": "execute_result",
          "data": {
            "text/plain": [
              "<seaborn.axisgrid.FacetGrid at 0x79c3a977b310>"
            ]
          },
          "metadata": {},
          "execution_count": 3
        },
        {
          "output_type": "display_data",
          "data": {
            "text/plain": [
              "<Figure size 500x500 with 1 Axes>"
            ],
            "image/png": "[encoded data removed]"
          },
          "metadata": {}
        }
      ],
      "source": [
        "# your code goes here\n",
        "import seaborn as sns\n",
        "sns.displot(df['ConvertedComp'], kde = True)"
      ]
    },
    {
      "cell_type": "markdown",
      "metadata": {
        "id": "4xSXZskuGR-3"
      },
      "source": [
        "Plot the histogram for the column `ConvertedComp`.\n"
      ]
    },
    {
      "cell_type": "code",
      "execution_count": 4,
      "metadata": {
        "colab": {
          "base_uri": "https://localhost:8080/",
          "height": 535
        },
        "id": "dwnmn5SHGR-3",
        "outputId": "30244e72-d2b9-49f2-d667-8ac76502e7e6"
      },
      "outputs": [
        {
          "output_type": "execute_result",
          "data": {
            "text/plain": [
              "(array([9659.,  238.,  115.,  125.,   99.,  131.,   34.,   15.,   15.,\n",
              "         151.]),\n",
              " array([      0.,  200000.,  400000.,  600000.,  800000., 1000000.,\n",
              "        1200000., 1400000., 1600000., 1800000., 2000000.]),\n",
              " <BarContainer object of 10 artists>)"
            ]
          },
          "metadata": {},
          "execution_count": 4
        },
        {
          "output_type": "display_data",
          "data": {
            "text/plain": [
              "<Figure size 640x480 with 1 Axes>"
            ],
            "image/png": "[encoded data removed]"
          },
          "metadata": {}
        }
      ],
      "source": [
        "# your code goes here\n",
        "import matplotlib as mpl\n",
        "%matplotlib inline\n",
        "import matplotlib.pyplot as plt\n",
        "plt.hist(df['ConvertedComp'])"
      ]
    },
    {
      "cell_type": "markdown",
      "metadata": {
        "id": "eYbQdc-GGR-3"
      },
      "source": [
        "What is the median of the column `ConvertedComp`?\n"
      ]
    },
    {
      "cell_type": "code",
      "execution_count": 6,
      "metadata": {
        "colab": {
          "base_uri": "https://localhost:8080/"
        },
        "id": "4Gb4vG_2GR-3",
        "outputId": "d283cfca-b74b-4fd8-ec39-cb9b598bb975"
      },
      "outputs": [
        {
          "output_type": "stream",
          "name": "stdout",
          "text": [
            "ConvertedComp Median: 57745.0\n"
          ]
        }
      ],
      "source": [
        "# your code goes here\n",
        "df['ConvertedComp'].dropna(axis=0,inplace=True)\n",
        "print(\"ConvertedComp Median:\", df['ConvertedComp'].median())"
      ]
    },
    {
      "cell_type": "markdown",
      "metadata": {
        "id": "aJpNh7eYGR-3"
      },
      "source": [
        "How many responders identified themselves only as a **Man**?\n"
      ]
    },
    {
      "cell_type": "code",
      "execution_count": 7,
      "metadata": {
        "colab": {
          "base_uri": "https://localhost:8080/"
        },
        "id": "LF8dRBcsGR-3",
        "outputId": "50f313d4-c3ef-4782-9c36-1b681c7fd8cf"
      },
      "outputs": [
        {
          "output_type": "execute_result",
          "data": {
            "text/plain": [
              "Man                                                            10480\n",
              "Woman                                                            731\n",
              "Non-binary, genderqueer, or gender non-conforming                 63\n",
              "Man;Non-binary, genderqueer, or gender non-conforming             26\n",
              "Woman;Non-binary, genderqueer, or gender non-conforming           14\n",
              "Woman;Man                                                          9\n",
              "Woman;Man;Non-binary, genderqueer, or gender non-conforming        2\n",
              "Name: Gender, dtype: int64"
            ]
          },
          "metadata": {},
          "execution_count": 7
        }
      ],
      "source": [
        "# your code goes here\n",
        "df['Gender'].value_counts()"
      ]
    },
    {
      "cell_type": "markdown",
      "metadata": {
        "id": "XYyQ0UBCGR-4"
      },
      "source": [
        "Find out the  median ConvertedComp of responders identified themselves only as a **Woman**?\n"
      ]
    },
    {
      "cell_type": "code",
      "execution_count": 8,
      "metadata": {
        "colab": {
          "base_uri": "https://localhost:8080/"
        },
        "id": "eveXmK5dGR-4",
        "outputId": "1c08f285-6b3d-4391-e235-85211f2adf30"
      },
      "outputs": [
        {
          "output_type": "stream",
          "name": "stdout",
          "text": [
            "Woman Median: 57708.0\n"
          ]
        }
      ],
      "source": [
        "# your code goes here\n",
        "df_woman=df[df['Gender']=='Woman']\n",
        "print(\"Woman Median:\", df_woman['ConvertedComp'].median())"
      ]
    },
    {
      "cell_type": "markdown",
      "metadata": {
        "id": "4djASBaGGR-4"
      },
      "source": [
        "Give the five number summary for the column `Age`?\n"
      ]
    },
    {
      "cell_type": "markdown",
      "metadata": {
        "id": "gKxIDkVIGR-4"
      },
      "source": [
        "**Double click here for hint**.\n",
        "\n",
        "<!--\n",
        "min,q1,median,q3,max of a column are its five number summary.\n",
        "-->\n"
      ]
    },
    {
      "cell_type": "code",
      "execution_count": 9,
      "metadata": {
        "colab": {
          "base_uri": "https://localhost:8080/"
        },
        "id": "HIA2al5ZGR-4",
        "outputId": "dea234af-2702-41b5-b889-587cda82b50c"
      },
      "outputs": [
        {
          "output_type": "execute_result",
          "data": {
            "text/plain": [
              "count    11111.000000\n",
              "mean        30.778895\n",
              "std          7.393686\n",
              "min         16.000000\n",
              "25%         25.000000\n",
              "50%         29.000000\n",
              "75%         35.000000\n",
              "max         99.000000\n",
              "Name: Age, dtype: float64"
            ]
          },
          "metadata": {},
          "execution_count": 9
        }
      ],
      "source": [
        "# your code goes here\n",
        "df['Age'].describe()"
      ]
    },
    {
      "cell_type": "markdown",
      "metadata": {
        "id": "vH3o3zsFGR-4"
      },
      "source": [
        "Plot a histogram of the column `Age`.\n"
      ]
    },
    {
      "cell_type": "code",
      "execution_count": 11,
      "metadata": {
        "colab": {
          "base_uri": "https://localhost:8080/",
          "height": 499
        },
        "id": "joHLwaPYGR-4",
        "outputId": "4735f3f7-dcb3-4e75-9a34-dcf8615e9f0a"
      },
      "outputs": [
        {
          "output_type": "execute_result",
          "data": {
            "text/plain": [
              "(array([2.094e+03, 5.337e+03, 2.557e+03, 8.420e+02, 2.250e+02, 4.900e+01,\n",
              "        6.000e+00, 0.000e+00, 0.000e+00, 1.000e+00]),\n",
              " array([16. , 24.3, 32.6, 40.9, 49.2, 57.5, 65.8, 74.1, 82.4, 90.7, 99. ]),\n",
              " <BarContainer object of 10 artists>)"
            ]
          },
          "metadata": {},
          "execution_count": 11
        },
        {
          "output_type": "display_data",
          "data": {
            "text/plain": [
              "<Figure size 640x480 with 1 Axes>"
            ],
            "image/png": "[encoded data removed]"
          },
          "metadata": {}
        }
      ],
      "source": [
        "# your code goes here\n",
        "plt.hist(df['Age'])"
      ]
    },
    {
      "cell_type": "markdown",
      "metadata": {
        "id": "Ckfa-4joGR-4"
      },
      "source": [
        "## Outliers\n"
      ]
    },
    {
      "cell_type": "markdown",
      "metadata": {
        "id": "2NhRB9ncGR-4"
      },
      "source": [
        "### Finding outliers\n"
      ]
    },
    {
      "cell_type": "markdown",
      "metadata": {
        "id": "0jTKtjdUGR-5"
      },
      "source": [
        "Find out if outliers exist in the column `ConvertedComp` using a box plot?\n"
      ]
    },
    {
      "cell_type": "code",
      "execution_count": 17,
      "metadata": {
        "colab": {
          "base_uri": "https://localhost:8080/",
          "height": 537
        },
        "id": "MBdihgjGGR-5",
        "outputId": "88cc9fad-743e-4f39-ea48-cdc7419a41d6"
      },
      "outputs": [
        {
          "output_type": "display_data",
          "data": {
            "text/plain": [
              "<Figure size 800x600 with 1 Axes>"
            ],
            "image/png": "[encoded data removed]"
          },
          "metadata": {}
        }
      ],
      "source": [
        "# your code goes here\n",
        "df_cv = pd.DataFrame(data=df['ConvertedComp'])\n",
        "df_cv.plot(kind='box', figsize=(8,6))\n",
        "plt.show()"
      ]
    },
    {
      "cell_type": "markdown",
      "metadata": {
        "id": "wxPG9T3HGR-5"
      },
      "source": [
        "Find out the Inter Quartile Range for the column `ConvertedComp`.\n"
      ]
    },
    {
      "cell_type": "code",
      "execution_count": 18,
      "metadata": {
        "colab": {
          "base_uri": "https://localhost:8080/"
        },
        "id": "y7FL_CdpGR-5",
        "outputId": "38fc6429-3601-4143-ee8a-f88c0efc96c4"
      },
      "outputs": [
        {
          "output_type": "stream",
          "name": "stdout",
          "text": [
            "The Inter Quartile Range for ConvertedComp: 73132.0\n"
          ]
        }
      ],
      "source": [
        "# your code goes here\n",
        "df['ConvertedComp'].dropna(axis=0,inplace=True)\n",
        "Q1,Q3=df['ConvertedComp'].quantile(.25),df['ConvertedComp'].quantile(.75)\n",
        "IQR=Q3 - Q1\n",
        "print('The Inter Quartile Range for ConvertedComp:', IQR)"
      ]
    },
    {
      "cell_type": "markdown",
      "metadata": {
        "id": "fRsqU4rcGR-5"
      },
      "source": [
        "Find out the upper and lower bounds.\n"
      ]
    },
    {
      "cell_type": "code",
      "execution_count": 19,
      "metadata": {
        "colab": {
          "base_uri": "https://localhost:8080/"
        },
        "id": "iEIBx_SdGR-5",
        "outputId": "039319b0-dc68-417f-9116-0924efb36a71"
      },
      "outputs": [
        {
          "output_type": "stream",
          "name": "stdout",
          "text": [
            "Upper Bound: 209698.0\n",
            "Lower Bound: -82830.0\n"
          ]
        }
      ],
      "source": [
        "# your code goes here\n",
        "upper=Q3+(IQR*1.5)\n",
        "lower=Q1-(IQR*1.5)\n",
        "\n",
        "print('Upper Bound:', upper)\n",
        "print('Lower Bound:', lower)"
      ]
    },
    {
      "cell_type": "markdown",
      "metadata": {
        "id": "sr4dFToeGR_A"
      },
      "source": [
        "Identify how many outliers are there in the `ConvertedComp` column.\n"
      ]
    },
    {
      "cell_type": "code",
      "execution_count": 20,
      "metadata": {
        "colab": {
          "base_uri": "https://localhost:8080/"
        },
        "id": "-2XFbzQOGR_A",
        "outputId": "bd716fa9-f627-4132-e78c-f906e0f686bc"
      },
      "outputs": [
        {
          "output_type": "execute_result",
          "data": {
            "text/plain": [
              "0        False\n",
              "1        False\n",
              "2        False\n",
              "3         True\n",
              "4        False\n",
              "         ...  \n",
              "11393    False\n",
              "11394    False\n",
              "11395    False\n",
              "11396    False\n",
              "11397    False\n",
              "Name: ConvertedComp, Length: 11398, dtype: bool"
            ]
          },
          "metadata": {},
          "execution_count": 20
        }
      ],
      "source": [
        "# your code goes here\n",
        "(df['ConvertedComp']<lower) | (df['ConvertedComp']>upper)"
      ]
    },
    {
      "cell_type": "markdown",
      "metadata": {
        "id": "MBsVsGgWGR_A"
      },
      "source": [
        "Create a new dataframe by removing the outliers from the `ConvertedComp` column.\n"
      ]
    },
    {
      "cell_type": "code",
      "execution_count": 22,
      "metadata": {
        "colab": {
          "base_uri": "https://localhost:8080/"
        },
        "id": "xNyWg8qLGR_A",
        "outputId": "85bcc89a-1844-44b5-cb49-58175b1d8aa0"
      },
      "outputs": [
        {
          "output_type": "execute_result",
          "data": {
            "text/plain": [
              "count     10582.000000\n",
              "mean      72327.661406\n",
              "std       58619.926538\n",
              "min           0.000000\n",
              "25%       26868.000000\n",
              "50%       57745.000000\n",
              "75%      100000.000000\n",
              "max      209698.000000\n",
              "Name: ConvertedComp, dtype: float64"
            ]
          },
          "metadata": {},
          "execution_count": 22
        }
      ],
      "source": [
        "# your code goes here\n",
        "df2 = df['ConvertedComp'].clip(upper, lower)\n",
        "df2.describe()"
      ]
    },
    {
      "cell_type": "markdown",
      "metadata": {
        "id": "Z3ZLuePuGR_A"
      },
      "source": [
        "## Correlation\n"
      ]
    },
    {
      "cell_type": "markdown",
      "metadata": {
        "id": "QLAf8l_aGR_A"
      },
      "source": [
        "### Finding correlation\n"
      ]
    },
    {
      "cell_type": "markdown",
      "metadata": {
        "id": "8STixr8MGR_A"
      },
      "source": [
        "Find the correlation between `Age` and all other numerical columns.\n"
      ]
    },
    {
      "cell_type": "code",
      "execution_count": 23,
      "metadata": {
        "colab": {
          "base_uri": "https://localhost:8080/",
          "height": 292
        },
        "id": "eRVTmUEQGR_B",
        "outputId": "3bf05f66-c491-4ea2-aa37-043255d96c63"
      },
      "outputs": [
        {
          "output_type": "stream",
          "name": "stderr",
          "text": [
            "<ipython-input-23-2278162ba8b1>:2: FutureWarning: The default value of numeric_only in DataFrame.corr is deprecated. In a future version, it will default to False. Select only valid columns or specify the value of numeric_only to silence this warning.\n",
            "  df.corr()\n"
          ]
        },
        {
          "output_type": "execute_result",
          "data": {
            "text/plain": [
              "               Respondent  CompTotal  ConvertedComp  WorkWeekHrs  CodeRevHrs  \\\n",
              "Respondent       1.000000  -0.013490       0.002181    -0.015314    0.004621   \n",
              "CompTotal       -0.013490   1.000000       0.001037     0.003510    0.007063   \n",
              "ConvertedComp    0.002181   0.001037       1.000000     0.021143   -0.033865   \n",
              "WorkWeekHrs     -0.015314   0.003510       0.021143     1.000000    0.026517   \n",
              "CodeRevHrs       0.004621   0.007063      -0.033865     0.026517    1.000000   \n",
              "Age              0.004041   0.006970       0.105386     0.036518   -0.020469   \n",
              "\n",
              "                    Age  \n",
              "Respondent     0.004041  \n",
              "CompTotal      0.006970  \n",
              "ConvertedComp  0.105386  \n",
              "WorkWeekHrs    0.036518  \n",
              "CodeRevHrs    -0.020469  \n",
              "Age            1.000000  "
            ],
            "text/html": [
              "\n",
              "\n",
              "  <div id=\"df-c9871566-dfff-4894-87ff-e96cd0b8c237\">\n",
              "    <div class=\"colab-df-container\">\n",
              "      <div>\n",
              "<style scoped>\n",
              "    .dataframe tbody tr th:only-of-type {\n",
              "        vertical-align: middle;\n",
              "    }\n",
              "\n",
              "    .dataframe tbody tr th {\n",
              "        vertical-align: top;\n",
              "    }\n",
              "\n",
              "    .dataframe thead th {\n",
              "        text-align: right;\n",
              "    }\n",
              "</style>\n",
              "<table border=\"1\" class=\"dataframe\">\n",
              "  <thead>\n",
              "    <tr style=\"text-align: right;\">\n",
              "      <th></th>\n",
              "      <th>Respondent</th>\n",
              "      <th>CompTotal</th>\n",
              "      <th>ConvertedComp</th>\n",
              "      <th>WorkWeekHrs</th>\n",
              "      <th>CodeRevHrs</th>\n",
              "      <th>Age</th>\n",
              "    </tr>\n",
              "  </thead>\n",
              "  <tbody>\n",
              "    <tr>\n",
              "      <th>Respondent</th>\n",
              "      <td>1.000000</td>\n",
              "      <td>-0.013490</td>\n",
              "      <td>0.002181</td>\n",
              "      <td>-0.015314</td>\n",
              "      <td>0.004621</td>\n",
              "      <td>0.004041</td>\n",
              "    </tr>\n",
              "    <tr>\n",
              "      <th>CompTotal</th>\n",
              "      <td>-0.013490</td>\n",
              "      <td>1.000000</td>\n",
              "      <td>0.001037</td>\n",
              "      <td>0.003510</td>\n",
              "      <td>0.007063</td>\n",
              "      <td>0.006970</td>\n",
              "    </tr>\n",
              "    <tr>\n",
              "      <th>ConvertedComp</th>\n",
              "      <td>0.002181</td>\n",
              "      <td>0.001037</td>\n",
              "      <td>1.000000</td>\n",
              "      <td>0.021143</td>\n",
              "      <td>-0.033865</td>\n",
              "      <td>0.105386</td>\n",
              "    </tr>\n",
              "    <tr>\n",
              "      <th>WorkWeekHrs</th>\n",
              "      <td>-0.015314</td>\n",
              "      <td>0.003510</td>\n",
              "      <td>0.021143</td>\n",
              "      <td>1.000000</td>\n",
              "      <td>0.026517</td>\n",
              "      <td>0.036518</td>\n",
              "    </tr>\n",
              "    <tr>\n",
              "      <th>CodeRevHrs</th>\n",
              "      <td>0.004621</td>\n",
              "      <td>0.007063</td>\n",
              "      <td>-0.033865</td>\n",
              "      <td>0.026517</td>\n",
              "      <td>1.000000</td>\n",
              "      <td>-0.020469</td>\n",
              "    </tr>\n",
              "    <tr>\n",
              "      <th>Age</th>\n",
              "      <td>0.004041</td>\n",
              "      <td>0.006970</td>\n",
              "      <td>0.105386</td>\n",
              "      <td>0.036518</td>\n",
              "      <td>-0.020469</td>\n",
              "      <td>1.000000</td>\n",
              "    </tr>\n",
              "  </tbody>\n",
              "</table>\n",
              "</div>\n",
              "      <button class=\"colab-df-convert\" onclick=\"convertToInteractive('df-c9871566-dfff-4894-87ff-e96cd0b8c237')\"\n",
              "              title=\"Convert this dataframe to an interactive table.\"\n",
              "              style=\"display:none;\">\n",
              "\n",
              "  <svg xmlns=\"http://www.w3.org/2000/svg\" height=\"24px\"viewBox=\"0 0 24 24\"\n",
              "       width=\"24px\">\n",
              "    <path d=\"M0 0h24v24H0V0z\" fill=\"none\"/>\n",
              "    <path d=\"M18.56 5.44l.94 2.06.94-2.06 2.06-.94-2.06-.94-.94-2.06-.94 2.06-2.06.94zm-11 1L8.5 8.5l.94-2.06 2.06-.94-2.06-.94L8.5 2.5l-.94 2.06-2.06.94zm10 10l.94 2.06.94-2.06 2.06-.94-2.06-.94-.94-2.06-.94 2.06-2.06.94z\"/><path d=\"M17.41 7.96l-1.37-1.37c-.4-.4-.92-.59-1.43-.59-.52 0-1.04.2-1.43.59L10.3 9.45l-7.72 7.72c-.78.78-.78 2.05 0 2.83L4 21.41c.39.39.9.59 1.41.59.51 0 1.02-.2 1.41-.59l7.78-7.78 2.81-2.81c.8-.78.8-2.07 0-2.86zM5.41 20L4 18.59l7.72-7.72 1.47 1.35L5.41 20z\"/>\n",
              "  </svg>\n",
              "      </button>\n",
              "\n",
              "\n",
              "\n",
              "    <div id=\"df-20dc4002-db3e-4103-918a-e960ae831c5d\">\n",
              "      <button class=\"colab-df-quickchart\" onclick=\"quickchart('df-20dc4002-db3e-4103-918a-e960ae831c5d')\"\n",
              "              title=\"Suggest charts.\"\n",
              "              style=\"display:none;\">\n",
              "\n",
              "<svg xmlns=\"http://www.w3.org/2000/svg\" height=\"24px\"viewBox=\"0 0 24 24\"\n",
              "     width=\"24px\">\n",
              "    <g>\n",
              "        <path d=\"M19 3H5c-1.1 0-2 .9-2 2v14c0 1.1.9 2 2 2h14c1.1 0 2-.9 2-2V5c0-1.1-.9-2-2-2zM9 17H7v-7h2v7zm4 0h-2V7h2v10zm4 0h-2v-4h2v4z\"/>\n",
              "    </g>\n",
              "</svg>\n",
              "      </button>\n",
              "    </div>\n",
              "\n",
              "<style>\n",
              "  .colab-df-quickchart {\n",
              "    background-color: #E8F0FE;\n",
              "    border: none;\n",
              "    border-radius: 50%;\n",
              "    cursor: pointer;\n",
              "    display: none;\n",
              "    fill: #1967D2;\n",
              "    height: 32px;\n",
              "    padding: 0 0 0 0;\n",
              "    width: 32px;\n",
              "  }\n",
              "\n",
              "  .colab-df-quickchart:hover {\n",
              "    background-color: #E2EBFA;\n",
              "    box-shadow: 0px 1px 2px rgba(60, 64, 67, 0.3), 0px 1px 3px 1px rgba(60, 64, 67, 0.15);\n",
              "    fill: #174EA6;\n",
              "  }\n",
              "\n",
              "  [theme=dark] .colab-df-quickchart {\n",
              "    background-color: #3B4455;\n",
              "    fill: #D2E3FC;\n",
              "  }\n",
              "\n",
              "  [theme=dark] .colab-df-quickchart:hover {\n",
              "    background-color: #434B5C;\n",
              "    box-shadow: 0px 1px 3px 1px rgba(0, 0, 0, 0.15);\n",
              "    filter: drop-shadow(0px 1px 2px rgba(0, 0, 0, 0.3));\n",
              "    fill: #FFFFFF;\n",
              "  }\n",
              "</style>\n",
              "\n",
              "    <script>\n",
              "      async function quickchart(key) {\n",
              "        const containerElement = document.querySelector('#' + key);\n",
              "        const charts = await google.colab.kernel.invokeFunction(\n",
              "            'suggestCharts', [key], {});\n",
              "      }\n",
              "    </script>\n",
              "\n",
              "      <script>\n",
              "\n",
              "function displayQuickchartButton(domScope) {\n",
              "  let quickchartButtonEl =\n",
              "    domScope.querySelector('#df-20dc4002-db3e-4103-918a-e960ae831c5d button.colab-df-quickchart');\n",
              "  quickchartButtonEl.style.display =\n",
              "    google.colab.kernel.accessAllowed ? 'block' : 'none';\n",
              "}\n",
              "\n",
              "        displayQuickchartButton(document);\n",
              "      </script>\n",
              "      <style>\n",
              "    .colab-df-container {\n",
              "      display:flex;\n",
              "      flex-wrap:wrap;\n",
              "      gap: 12px;\n",
              "    }\n",
              "\n",
              "    .colab-df-convert {\n",
              "      background-color: #E8F0FE;\n",
              "      border: none;\n",
              "      border-radius: 50%;\n",
              "      cursor: pointer;\n",
              "      display: none;\n",
              "      fill: #1967D2;\n",
              "      height: 32px;\n",
              "      padding: 0 0 0 0;\n",
              "      width: 32px;\n",
              "    }\n",
              "\n",
              "    .colab-df-convert:hover {\n",
              "      background-color: #E2EBFA;\n",
              "      box-shadow: 0px 1px 2px rgba(60, 64, 67, 0.3), 0px 1px 3px 1px rgba(60, 64, 67, 0.15);\n",
              "      fill: #174EA6;\n",
              "    }\n",
              "\n",
              "    [theme=dark] .colab-df-convert {\n",
              "      background-color: #3B4455;\n",
              "      fill: #D2E3FC;\n",
              "    }\n",
              "\n",
              "    [theme=dark] .colab-df-convert:hover {\n",
              "      background-color: #434B5C;\n",
              "      box-shadow: 0px 1px 3px 1px rgba(0, 0, 0, 0.15);\n",
              "      filter: drop-shadow(0px 1px 2px rgba(0, 0, 0, 0.3));\n",
              "      fill: #FFFFFF;\n",
              "    }\n",
              "  </style>\n",
              "\n",
              "      <script>\n",
              "        const buttonEl =\n",
              "          document.querySelector('#df-c9871566-dfff-4894-87ff-e96cd0b8c237 button.colab-df-convert');\n",
              "        buttonEl.style.display =\n",
              "          google.colab.kernel.accessAllowed ? 'block' : 'none';\n",
              "\n",
              "        async function convertToInteractive(key) {\n",
              "          const element = document.querySelector('#df-c9871566-dfff-4894-87ff-e96cd0b8c237');\n",
              "          const dataTable =\n",
              "            await google.colab.kernel.invokeFunction('convertToInteractive',\n",
              "                                                     [key], {});\n",
              "          if (!dataTable) return;\n",
              "\n",
              "          const docLinkHtml = 'Like what you see? Visit the ' +\n",
              "            '<a target=\"_blank\" href=https://colab.research.google.com/notebooks/data_table.ipynb>data table notebook</a>'\n",
              "            + ' to learn more about interactive tables.';\n",
              "          element.innerHTML = '';\n",
              "          dataTable['output_type'] = 'display_data';\n",
              "          await google.colab.output.renderOutput(dataTable, element);\n",
              "          const docLink = document.createElement('div');\n",
              "          docLink.innerHTML = docLinkHtml;\n",
              "          element.appendChild(docLink);\n",
              "        }\n",
              "      </script>\n",
              "    </div>\n",
              "  </div>\n"
            ]
          },
          "metadata": {},
          "execution_count": 23
        }
      ],
      "source": [
        "# your code goes here\n",
        "df.corr()"
      ]
    },
    {
      "cell_type": "markdown",
      "metadata": {
        "id": "EH6nnnsLGR_B"
      },
      "source": [
        "## Authors\n"
      ]
    },
    {
      "cell_type": "markdown",
      "metadata": {
        "id": "_DYFekgIGR_B"
      },
      "source": [
        "Ramesh Sannareddy\n"
      ]
    },
    {
      "cell_type": "markdown",
      "metadata": {
        "id": "PWGbyRbPGR_B"
      },
      "source": [
        "### Other Contributors\n"
      ]
    },
    {
      "cell_type": "markdown",
      "metadata": {
        "id": "qpQN63kEGR_C"
      },
      "source": [
        "Rav Ahuja\n"
      ]
    },
    {
      "cell_type": "markdown",
      "metadata": {
        "id": "f0BunHpCGR_C"
      },
      "source": [
        "## Change Log\n"
      ]
    },
    {
      "cell_type": "markdown",
      "metadata": {
        "id": "Oxr_VcmKGR_C"
      },
      "source": [
        "| Date (YYYY-MM-DD) | Version | Changed By        | Change Description                 |\n",
        "| ----------------- | ------- | ----------------- | ---------------------------------- |\n",
        "| 2020-10-17        | 0.1     | Ramesh Sannareddy | Created initial version of the lab |\n"
      ]
    },
    {
      "cell_type": "markdown",
      "metadata": {
        "id": "Tdw-Nr7QGR_C"
      },
      "source": [
        " Copyright © 2020 IBM Corporation. This notebook and its source code are released under the terms of the [MIT License](https://cognitiveclass.ai/mit-license?utm_medium=Exinfluencer&utm_source=Exinfluencer&utm_content=000026UJ&utm_term=10006555&utm_id=NA-SkillsNetwork-Channel-SkillsNetworkCoursesIBMDA0321ENSkillsNetwork928-2023-01-01&cm_mmc=Email_Newsletter-_-Developer_Ed%2BTech-_-WW_WW-_-SkillsNetwork-Courses-IBM-DA0321EN-SkillsNetwork-21426264&cm_mmca1=000026UJ&cm_mmca2=10006555&cm_mmca3=M12345678&cvosrc=email.Newsletter.M12345678&cvo_campaign=000026UJ).\n"
      ]
    }
  ],
  "metadata": {
    "kernelspec": {
      "display_name": "Python",
      "language": "python",
      "name": "conda-env-python-py"
    },
    "language_info": {
      "name": ""
    },
    "colab": {
      "provenance": [],
      "include_colab_link": true
    }
  },
  "nbformat": 4,
  "nbformat_minor": 0
}