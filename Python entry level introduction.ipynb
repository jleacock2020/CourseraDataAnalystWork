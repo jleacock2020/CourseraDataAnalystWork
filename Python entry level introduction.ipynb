{
  "nbformat": 4,
  "nbformat_minor": 0,
  "metadata": {
    "colab": {
      "provenance": [],
      "include_colab_link": true
    },
    "kernelspec": {
      "name": "python3",
      "display_name": "Python 3"
    },
    "language_info": {
      "name": "python"
    }
  },
  "cells": [
    {
      "cell_type": "markdown",
      "metadata": {
        "id": "view-in-github",
        "colab_type": "text"
      },
      "source": [
        "<a href=\"https://colab.research.google.com/github/jleacock2020/CourseraDataAnalystWork/blob/main/Python%20entry%20level%20introduction.ipynb\" target=\"_parent\"><img src=\"https://colab.research.google.com/assets/colab-badge.svg\" alt=\"Open In Colab\"/></a>"
      ]
    },
    {
      "cell_type": "markdown",
      "source": [
        "**OUTPUT STATEMENTS**"
      ],
      "metadata": {
        "id": "higoe4iGABNO"
      }
    },
    {
      "cell_type": "code",
      "execution_count": null,
      "metadata": {
        "colab": {
          "base_uri": "https://localhost:8080/"
        },
        "id": "tsJ-DTom-xQX",
        "outputId": "a6df634b-7b5e-4ac6-9397-219e4e9fc3e6"
      },
      "outputs": [
        {
          "output_type": "stream",
          "name": "stdout",
          "text": [
            "Hello \n",
            "World\n",
            "World\torld\n"
          ]
        }
      ],
      "source": [
        "# print(\"Hello World!\")\n",
        "# print(23+56+77)\n",
        "# print(\"Hello World\", 45+67, \"Geetu\")\n",
        "print(\"Hello \\n World\")\n",
        "print(\"World\\t World\")\n",
        "\n",
        "\n"
      ]
    },
    {
      "cell_type": "code",
      "source": [
        "#two paramenter of print statements - end,  sep\n",
        "\n",
        "print(\"Hello\", \"World\", 45+60,\"Bye\", sep=\"\\n\")"
      ],
      "metadata": {
        "colab": {
          "base_uri": "https://localhost:8080/"
        },
        "id": "H4FM3S4GZUBi",
        "outputId": "c906c1b2-30a1-40e4-f2f1-c0b17c023a4d"
      },
      "execution_count": null,
      "outputs": [
        {
          "output_type": "stream",
          "name": "stdout",
          "text": [
            "Hello\\&&&World\\&&&105\\&&&Bye\n"
          ]
        }
      ]
    },
    {
      "cell_type": "code",
      "source": [
        "print(\"Hello\", end=\" \")\n",
        "print(\"World\")"
      ],
      "metadata": {
        "colab": {
          "base_uri": "https://localhost:8080/"
        },
        "id": "4-MVanf0Zt6q",
        "outputId": "b7002f67-dca0-4353-bc6d-c881b0e0b2cc"
      },
      "execution_count": null,
      "outputs": [
        {
          "output_type": "stream",
          "name": "stdout",
          "text": [
            "Hello World\n"
          ]
        }
      ]
    },
    {
      "cell_type": "code",
      "source": [
        "#Givin the following string variable, # Print the first element in the string"
      ],
      "metadata": {
        "id": "BpZrsjtfaNYx"
      },
      "execution_count": null,
      "outputs": []
    },
    {
      "cell_type": "markdown",
      "source": [
        "**DATA TYPES AND VARIABLES**"
      ],
      "metadata": {
        "id": "-OtCP_PZAOS_"
      }
    },
    {
      "cell_type": "code",
      "source": [
        "#Variable is a named storage location    - comment\n",
        "name=\"Geetu\"  #String\n",
        "score=34  #integer / int\n",
        "phone=\"9897234-#$#\"  #String\n",
        "score2=\"34\"  #string\n",
        "weight= 45.678 #float   /decimal/double\n",
        "answer=True   #boolean  - True / False\n",
        "\n",
        "#Rules for variable names\n",
        "#1) It should not be a reserved keyword -\n",
        "#2) It should not start with the number\n",
        "#3) Variable name can not have spaces.\n",
        "Full_Name= \"Geetu Sodhi\"\n",
        "#4) Only underscore is allowed as a special charcater in your variable name.\n",
        "#5) Variabes are ccase sensitive\n"
      ],
      "metadata": {
        "id": "ABEvPPUgASEW"
      },
      "execution_count": null,
      "outputs": []
    },
    {
      "cell_type": "code",
      "source": [
        "#type()\n",
        "print(type(weight))\n",
        "print(type(name))\n",
        "print(type(answer))\n",
        "print(type(score))\n",
        "print(type(score2))"
      ],
      "metadata": {
        "colab": {
          "base_uri": "https://localhost:8080/"
        },
        "id": "G-UxmOEiC_b2",
        "outputId": "c0a43842-1842-403f-b5ec-23ce65604117"
      },
      "execution_count": null,
      "outputs": [
        {
          "output_type": "stream",
          "name": "stdout",
          "text": [
            "<class 'float'>\n",
            "<class 'str'>\n",
            "<class 'bool'>\n",
            "<class 'int'>\n",
            "<class 'str'>\n"
          ]
        }
      ]
    },
    {
      "cell_type": "markdown",
      "source": [
        "**INPUT STATEMENTS**"
      ],
      "metadata": {
        "id": "Qvzp3aVSDU6V"
      }
    },
    {
      "cell_type": "code",
      "source": [
        "name=input(\"Enter your name:\")\n",
        "print(\"Welcome to my class\", name)"
      ],
      "metadata": {
        "colab": {
          "base_uri": "https://localhost:8080/"
        },
        "id": "Xo_zozh5DZpF",
        "outputId": "3b964482-a78d-4121-8f8f-410f305f41fc"
      },
      "execution_count": null,
      "outputs": [
        {
          "output_type": "stream",
          "name": "stdout",
          "text": [
            "Enter your name:Geetu\n",
            "Welcome to my class Geetu\n"
          ]
        }
      ]
    },
    {
      "cell_type": "code",
      "source": [
        "num1=int(input(\"Enter number 1:\"))\n",
        "num2=int(input(\"Enter number 2:\"))\n",
        "\n",
        "print(num1+num2)"
      ],
      "metadata": {
        "colab": {
          "base_uri": "https://localhost:8080/"
        },
        "id": "sGka2YqQDkju",
        "outputId": "fe9bbcfd-835b-4855-e1fb-abe8df9ed4dd"
      },
      "execution_count": null,
      "outputs": [
        {
          "output_type": "stream",
          "name": "stdout",
          "text": [
            "Enter number 1  34\n",
            "Enter number 2  44\n",
            "78\n"
          ]
        }
      ]
    },
    {
      "cell_type": "code",
      "source": [
        "num1=(input(\"Enter number 1:\"))\n",
        "num2=(input(\"Enter number 2:\"))\n",
        "\n",
        "print(str(num1)+float(num2))"
      ],
      "metadata": {
        "colab": {
          "base_uri": "https://localhost:8080/",
          "height": 235
        },
        "id": "3BixmFR5EV1Z",
        "outputId": "589c9059-2ad1-4e09-8e30-d07422a6fd7b"
      },
      "execution_count": null,
      "outputs": [
        {
          "name": "stdout",
          "output_type": "stream",
          "text": [
            "Enter number 1:Geetu\n",
            "Enter number 2:Geetu\n"
          ]
        },
        {
          "output_type": "error",
          "ename": "ValueError",
          "evalue": "ignored",
          "traceback": [
            "\u001b[0;31m---------------------------------------------------------------------------\u001b[0m",
            "\u001b[0;31mValueError\u001b[0m                                Traceback (most recent call last)",
            "\u001b[0;32m<ipython-input-19-91042b225b95>\u001b[0m in \u001b[0;36m<cell line: 4>\u001b[0;34m()\u001b[0m\n\u001b[1;32m      2\u001b[0m \u001b[0mnum2\u001b[0m\u001b[0;34m=\u001b[0m\u001b[0;34m(\u001b[0m\u001b[0minput\u001b[0m\u001b[0;34m(\u001b[0m\u001b[0;34m\"Enter number 2:\"\u001b[0m\u001b[0;34m)\u001b[0m\u001b[0;34m)\u001b[0m\u001b[0;34m\u001b[0m\u001b[0;34m\u001b[0m\u001b[0m\n\u001b[1;32m      3\u001b[0m \u001b[0;34m\u001b[0m\u001b[0m\n\u001b[0;32m----> 4\u001b[0;31m \u001b[0mprint\u001b[0m\u001b[0;34m(\u001b[0m\u001b[0mint\u001b[0m\u001b[0;34m(\u001b[0m\u001b[0mnum1\u001b[0m\u001b[0;34m)\u001b[0m\u001b[0;34m+\u001b[0m\u001b[0mint\u001b[0m\u001b[0;34m(\u001b[0m\u001b[0mnum2\u001b[0m\u001b[0;34m)\u001b[0m\u001b[0;34m)\u001b[0m\u001b[0;34m\u001b[0m\u001b[0;34m\u001b[0m\u001b[0m\n\u001b[0m",
            "\u001b[0;31mValueError\u001b[0m: invalid literal for int() with base 10: 'Geetu'"
          ]
        }
      ]
    },
    {
      "cell_type": "code",
      "source": [
        "num1=\"23\"  #concatenation\n",
        "num2=\"23\"\n",
        "print(num1+num2)"
      ],
      "metadata": {
        "colab": {
          "base_uri": "https://localhost:8080/"
        },
        "id": "60VLY6_tEODI",
        "outputId": "8e368f27-2465-45b1-b5f7-4aba167b79df"
      },
      "execution_count": null,
      "outputs": [
        {
          "output_type": "stream",
          "name": "stdout",
          "text": [
            "2323\n"
          ]
        }
      ]
    },
    {
      "cell_type": "markdown",
      "source": [
        "**String  Class/ Functions**"
      ],
      "metadata": {
        "id": "CV2mwmTHFDKY"
      }
    },
    {
      "cell_type": "code",
      "source": [
        "name=\"Tom Jackson\"\n",
        "\n",
        "print(name[0:3])\n",
        "print(name[-11:-8])\n",
        "print(name[-9::-1])\n",
        "\n",
        "\n",
        "# print(name[::-1])\n",
        "print(name[::-3])\n"
      ],
      "metadata": {
        "colab": {
          "base_uri": "https://localhost:8080/"
        },
        "id": "1ds4cbBIF52j",
        "outputId": "80bee920-8147-448c-b613-7bac0e8f6e0a"
      },
      "execution_count": null,
      "outputs": [
        {
          "output_type": "stream",
          "name": "stdout",
          "text": [
            "Tom\n",
            "Tom\n",
            "moT\n",
            "nkJo\n"
          ]
        }
      ]
    },
    {
      "cell_type": "code",
      "source": [
        "print(len(name))\n",
        "print(max(name))\n",
        "print(min(name))"
      ],
      "metadata": {
        "colab": {
          "base_uri": "https://localhost:8080/"
        },
        "id": "rh0GY-ZmJY1b",
        "outputId": "b19af516-bbe6-402e-9dc1-244b0811ed7f"
      },
      "execution_count": null,
      "outputs": [
        {
          "output_type": "stream",
          "name": "stdout",
          "text": [
            "11\n",
            "s\n",
            " \n"
          ]
        }
      ]
    },
    {
      "cell_type": "code",
      "source": [
        "strw=\"Tom Jackson 56\"\n",
        "strw=strw.upper()\n",
        "print(strw)\n",
        "a= input(\"Enter the word you are searching for:\")\n",
        "a=a.upper()\n",
        "print(a)"
      ],
      "metadata": {
        "colab": {
          "base_uri": "https://localhost:8080/"
        },
        "id": "5TozumEqKIdH",
        "outputId": "efe8ce52-4588-4fa3-e752-beed9e9efd10"
      },
      "execution_count": null,
      "outputs": [
        {
          "output_type": "stream",
          "name": "stdout",
          "text": [
            "TOM JACKSON 56\n",
            "Enter the word you are searching for:TOM\n",
            "TOM\n"
          ]
        }
      ]
    },
    {
      "cell_type": "code",
      "source": [
        "print(a in strw)"
      ],
      "metadata": {
        "colab": {
          "base_uri": "https://localhost:8080/"
        },
        "id": "706iYaAKLQy6",
        "outputId": "0a1f1364-1607-4e2c-9e62-3194ee634a24"
      },
      "execution_count": null,
      "outputs": [
        {
          "output_type": "stream",
          "name": "stdout",
          "text": [
            "True\n"
          ]
        }
      ]
    },
    {
      "cell_type": "code",
      "source": [
        "strw=\"Tom Tom Jackson 56\"\n",
        "a= input(\"Enter the word you are searching for:\")\n",
        "print(strw.endswith(a))\n",
        "print(strw.startswith(a.capitalize()))\n",
        "print(strw.rfind(a.capitalize()))  #index value of where it is starting from\n"
      ],
      "metadata": {
        "colab": {
          "base_uri": "https://localhost:8080/"
        },
        "id": "zfoqBDBXLeU6",
        "outputId": "43e3be52-9cb3-4a89-b137-7905a914c50f"
      },
      "execution_count": null,
      "outputs": [
        {
          "output_type": "stream",
          "name": "stdout",
          "text": [
            "Enter the word you are searching for:tom\n",
            "False\n",
            "True\n",
            "4\n"
          ]
        }
      ]
    },
    {
      "cell_type": "code",
      "source": [
        "#ARITHMETIC OPERATIONS\n",
        "\n",
        "# +, -, *, /\n",
        "# // - INTEGER dIVISION\n",
        "# % -  Modulus / Remainder operator\n",
        "# ** - Raise to power - exponent\n",
        "\n",
        "num1=int(input(\"Enter a number:\"))\n",
        "num2=int(input(\"Enter a number:\"))\n",
        "print(\"Addition\", num1+num2)\n",
        "print(\"Subtraction\",num1-num2)\n",
        "print(\"Multiplication\",num1*num2)\n",
        "print(\"Division\",num1/num2)\n",
        "print(\"Integer Division\",num1//num2)\n",
        "print(\"Remainder\", num1%num2)\n",
        "print(\"Exponent/Raise to power\", num1**num2)"
      ],
      "metadata": {
        "colab": {
          "base_uri": "https://localhost:8080/"
        },
        "id": "1ZvRQDQMN9D5",
        "outputId": "5bbe4ec2-c4da-4ce4-ae7a-7b5b69624254"
      },
      "execution_count": null,
      "outputs": [
        {
          "output_type": "stream",
          "name": "stdout",
          "text": [
            "Enter a number:21\n",
            "Enter a number:5\n",
            "Addition 26\n",
            "Subtraction 16\n",
            "Multiplication 105\n",
            "Division 4.2\n",
            "Integer Division 4\n",
            "Remainder 1\n",
            "Exponent/Raise to power 4084101\n"
          ]
        }
      ]
    },
    {
      "cell_type": "code",
      "source": [
        "import math as m\n",
        "\n",
        "print(m.sqrt(16))"
      ],
      "metadata": {
        "colab": {
          "base_uri": "https://localhost:8080/"
        },
        "id": "Z2Meq7_zPihN",
        "outputId": "e6080420-9a8a-4264-f401-7ca10520a2a1"
      },
      "execution_count": null,
      "outputs": [
        {
          "output_type": "stream",
          "name": "stdout",
          "text": [
            "4.0\n"
          ]
        }
      ]
    },
    {
      "cell_type": "code",
      "source": [
        "#Write a Python code to return your Python version\n",
        "import sys\n",
        "print(sys.version)"
      ],
      "metadata": {
        "colab": {
          "base_uri": "https://localhost:8080/"
        },
        "id": "ST2s2vByYMCp",
        "outputId": "a6609aa1-d406-4ad3-e929-dfbe8c49ff43"
      },
      "execution_count": null,
      "outputs": [
        {
          "output_type": "stream",
          "name": "stdout",
          "text": [
            "3.10.12 (main, Jun  7 2023, 12:45:35) [GCC 9.4.0]\n"
          ]
        }
      ]
    },
    {
      "cell_type": "code",
      "source": [],
      "metadata": {
        "id": "50taT7PLYM-k"
      },
      "execution_count": null,
      "outputs": []
    }
  ]
}