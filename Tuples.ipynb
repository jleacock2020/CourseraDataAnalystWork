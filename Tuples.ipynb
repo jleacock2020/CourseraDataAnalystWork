{
  "cells": [
    {
      "cell_type": "markdown",
      "metadata": {
        "id": "view-in-github",
        "colab_type": "text"
      },
      "source": [
        "<a href=\"https://colab.research.google.com/github/jleacock2020/CourseraDataAnalystWork/blob/main/Tuples.ipynb\" target=\"_parent\"><img src=\"https://colab.research.google.com/assets/colab-badge.svg\" alt=\"Open In Colab\"/></a>"
      ]
    },
    {
      "cell_type": "code",
      "execution_count": null,
      "id": "82c16f08",
      "metadata": {
        "id": "82c16f08",
        "outputId": "6a5b6ab5-1093-4294-e277-1b07bc560456"
      },
      "outputs": [
        {
          "data": {
            "text/plain": [
              "('NPower', 'JDA', 'Tuesday', 30, 3, 2021)"
            ]
          },
          "execution_count": 1,
          "metadata": {},
          "output_type": "execute_result"
        }
      ],
      "source": [
        "#Q1 Create myTuple tuple with the follwoing values (\"NPower\",\"JDA\",\"Tuesday\",30,31,2021)\n",
        "\n",
        "myTuple = (\"NPower\",\"JDA\",\"Tuesday\",30,3,2021)\n",
        "myTuple"
      ]
    },
    {
      "cell_type": "code",
      "execution_count": null,
      "id": "b24eb2c4",
      "metadata": {
        "id": "b24eb2c4",
        "outputId": "0e0ccbad-a86f-4024-a30a-e9e4575472e9"
      },
      "outputs": [
        {
          "name": "stdout",
          "output_type": "stream",
          "text": [
            "<class 'tuple'>\n"
          ]
        }
      ],
      "source": [
        "#Q2 What is the type of myTuple\n",
        "print(type(myTuple))"
      ]
    },
    {
      "cell_type": "code",
      "execution_count": null,
      "id": "2e868b2c",
      "metadata": {
        "id": "2e868b2c",
        "outputId": "bc3098d5-b2f6-4a04-ec82-3d2b79f2834c"
      },
      "outputs": [
        {
          "name": "stdout",
          "output_type": "stream",
          "text": [
            "6\n"
          ]
        }
      ],
      "source": [
        "#Q3 What is the length of myTuple\n",
        "print(len(myTuple))"
      ]
    },
    {
      "cell_type": "code",
      "execution_count": null,
      "id": "5b39b95c",
      "metadata": {
        "id": "5b39b95c",
        "outputId": "da563a46-caf7-415e-9645-ba441499e6db"
      },
      "outputs": [
        {
          "name": "stdout",
          "output_type": "stream",
          "text": [
            "('NPower', 'JDA', 'Tuesday', 30, 3, 2021)\n"
          ]
        }
      ],
      "source": [
        "#Q4 print the values in each index #Use regular indexing\n",
        "print(myTuple[:6])"
      ]
    },
    {
      "cell_type": "code",
      "execution_count": null,
      "id": "f8b21688",
      "metadata": {
        "id": "f8b21688",
        "outputId": "7594a7fc-22be-4539-8e1b-c77fae507ac3"
      },
      "outputs": [
        {
          "name": "stdout",
          "output_type": "stream",
          "text": [
            "('NPower', 'JDA', 'Tuesday', 30, 3)\n"
          ]
        }
      ],
      "source": [
        "#Q5 print the values in each index #Use negative indexing\n",
        "print(myTuple[-7:-1])"
      ]
    },
    {
      "cell_type": "code",
      "execution_count": null,
      "id": "fd22def5",
      "metadata": {
        "id": "fd22def5",
        "outputId": "f488b4f4-6fec-4d50-fa27-a562a3e4fc3d"
      },
      "outputs": [
        {
          "data": {
            "text/plain": [
              "[str, str, str, int, int, int]"
            ]
          },
          "execution_count": 6,
          "metadata": {},
          "output_type": "execute_result"
        }
      ],
      "source": [
        "#Q6 what is the type of each value\n",
        "res = list(map(type, myTuple))\n",
        "res"
      ]
    },
    {
      "cell_type": "code",
      "execution_count": null,
      "id": "0fa3dbbe",
      "metadata": {
        "id": "0fa3dbbe",
        "outputId": "837b96f3-352a-4f2c-e7ce-b1339f298ebf"
      },
      "outputs": [
        {
          "name": "stdout",
          "output_type": "stream",
          "text": [
            "NPower\n",
            "JDA\n",
            "Tuesday\n",
            "30\n",
            "3\n",
            "2021\n"
          ]
        }
      ],
      "source": [
        "#Q7 unpack myTuple in the follwoeing variables name,program,dayName,month,day,year\n",
        "# print the variables\n",
        "(name,program,dayName,month,day,year)=myTuple\n",
        "print(name)\n",
        "print(program)\n",
        "print(dayName)\n",
        "print(month)\n",
        "print(day)\n",
        "print(year)"
      ]
    },
    {
      "cell_type": "code",
      "execution_count": null,
      "id": "71eb19b1",
      "metadata": {
        "id": "71eb19b1"
      },
      "outputs": [],
      "source": [
        "#Q8 unpack myTuple2 in the follwoeing variables name,program,dayName.\n",
        "# What will happen to variables (name,program,dayName) and (month,day,year)"
      ]
    },
    {
      "cell_type": "code",
      "execution_count": null,
      "id": "3174610e",
      "metadata": {
        "id": "3174610e",
        "outputId": "a862bdd0-1ab8-40d6-9a44-9cff93345415"
      },
      "outputs": [
        {
          "name": "stdout",
          "output_type": "stream",
          "text": [
            "Type a <class 'str'>\n",
            "Jerry 2 89\n",
            "<class 'tuple'>\n",
            "('Ulan',)\n",
            "Leul\n"
          ]
        }
      ],
      "source": [
        "# Note the following\n",
        "Tuple1=(\"Jerry\",2,89) #This is a tuple with 3 elements\n",
        "Tuple2=(\"Ulan\",)#This is a tuple with 1 element\n",
        "test=\"Leul\" #This is a VARIABLE with string value\n",
        "a,b,c=Tuple1\n",
        "print(\"Type a\",type(a))\n",
        "print(a,b,c)\n",
        "d=Tuple2\n",
        "print(type(d))\n",
        "print(d)\n",
        "e=test\n",
        "print(e)"
      ]
    },
    {
      "cell_type": "code",
      "execution_count": null,
      "id": "ffd6623a",
      "metadata": {
        "id": "ffd6623a",
        "outputId": "bb417c6a-910d-4b4f-8751-e0794d447555"
      },
      "outputs": [
        {
          "name": "stdout",
          "output_type": "stream",
          "text": [
            "(1, 2, 3)\n",
            "(4, 5, 6)\n"
          ]
        },
        {
          "ename": "TypeError",
          "evalue": "'tuple' object does not support item assignment",
          "output_type": "error",
          "traceback": [
            "\u001b[1;31m---------------------------------------------------------------------------\u001b[0m",
            "\u001b[1;31mTypeError\u001b[0m                                 Traceback (most recent call last)",
            "\u001b[1;32m<ipython-input-10-855a10251bdc>\u001b[0m in \u001b[0;36m<module>\u001b[1;34m\u001b[0m\n\u001b[0;32m      7\u001b[0m \u001b[0mprint\u001b[0m\u001b[1;33m(\u001b[0m\u001b[0mtestTuple\u001b[0m\u001b[1;33m)\u001b[0m\u001b[1;33m\u001b[0m\u001b[1;33m\u001b[0m\u001b[0m\n\u001b[0;32m      8\u001b[0m \u001b[1;31m#But we can't change or edit a value for the existing tuple\u001b[0m\u001b[1;33m\u001b[0m\u001b[1;33m\u001b[0m\u001b[1;33m\u001b[0m\u001b[0m\n\u001b[1;32m----> 9\u001b[1;33m \u001b[0mtestTuple\u001b[0m\u001b[1;33m[\u001b[0m\u001b[1;36m0\u001b[0m\u001b[1;33m]\u001b[0m\u001b[1;33m=\u001b[0m\u001b[1;36m6\u001b[0m \u001b[1;31m#ERROR 'tuple' object does not support item assignment\u001b[0m\u001b[1;33m\u001b[0m\u001b[1;33m\u001b[0m\u001b[0m\n\u001b[0m",
            "\u001b[1;31mTypeError\u001b[0m: 'tuple' object does not support item assignment"
          ]
        }
      ],
      "source": [
        "#Tuples are immutable\n",
        "#we can always make the testTuple variable reference a new tuple in the memory\n",
        "#and hold a different information\n",
        "testTuple=(1,2,3)\n",
        "print(testTuple)\n",
        "testTuple=(4,5,6)\n",
        "print(testTuple)\n",
        "#But we can't change or edit a value for the existing tuple\n",
        "testTuple[0]=6 #ERROR 'tuple' object does not support item assignment"
      ]
    },
    {
      "cell_type": "code",
      "execution_count": null,
      "id": "a82b3b42",
      "metadata": {
        "id": "a82b3b42"
      },
      "outputs": [],
      "source": [
        "#Q9 Reverse myTuple, output should looks like (2021,3,30,\"Tuesday\",\"JDA\",\"NPower\")\n",
        "myTuple[::-1]"
      ]
    },
    {
      "cell_type": "code",
      "execution_count": null,
      "id": "957a350f",
      "metadata": {
        "id": "957a350f",
        "outputId": "b0ab214c-3128-4d07-c5a6-0bc502c1ebe2"
      },
      "outputs": [
        {
          "data": {
            "text/plain": [
              "(('Coursera', 'course', 6), 'week', (2, 'Lists', 'Tuple'))"
            ]
          },
          "execution_count": 39,
          "metadata": {},
          "output_type": "execute_result"
        }
      ],
      "source": [
        "#Q10 Create nestedTuple=((\"Coursera\",\"course\",6),(\"week\",(2,\"Lists\",\"Tuple\")))\n",
        "A=(\"Coursera\",\"course\",6)\n",
        "B=(\"week\")\n",
        "C=(2,\"Lists\",\"Tuple\")\n",
        "\n",
        "nestedTuple = (A, B, C)\n",
        "nestedTuple"
      ]
    },
    {
      "cell_type": "code",
      "execution_count": null,
      "id": "5b6c4033",
      "metadata": {
        "id": "5b6c4033",
        "outputId": "963a90bd-767b-473c-b020-a14a9783f67b"
      },
      "outputs": [
        {
          "data": {
            "text/plain": [
              "('week',)"
            ]
          },
          "execution_count": 40,
          "metadata": {},
          "output_type": "execute_result"
        }
      ],
      "source": [
        "#Q11 What is the output of nestedTuple[1:2]\n",
        "nestedTuple[1:2]"
      ]
    },
    {
      "cell_type": "code",
      "execution_count": null,
      "id": "a1aabf6d",
      "metadata": {
        "id": "a1aabf6d",
        "outputId": "68c99d1e-a3ec-4f06-b769-d5097e7a782b"
      },
      "outputs": [
        {
          "data": {
            "text/plain": [
              "(('Coursera', 'course', 6), 'week', (2, 'Lists', 'Tuple'))"
            ]
          },
          "execution_count": 41,
          "metadata": {},
          "output_type": "execute_result"
        }
      ],
      "source": [
        "#Q12 print each element in the nestedTuple\n",
        "nestedTuple"
      ]
    },
    {
      "cell_type": "code",
      "execution_count": null,
      "id": "bdd00207",
      "metadata": {
        "id": "bdd00207",
        "outputId": "a304c83a-b138-4a81-cecc-dd0e06d98676"
      },
      "outputs": [
        {
          "data": {
            "text/plain": [
              "(2, 'Lists', 'Tuple')"
            ]
          },
          "execution_count": 42,
          "metadata": {},
          "output_type": "execute_result"
        }
      ],
      "source": [
        "#Q13 Access (2,\"Lists\",\"Tuple\") from nestedTuple\n",
        "nestedTuple[2]"
      ]
    },
    {
      "cell_type": "code",
      "execution_count": null,
      "id": "4691d781",
      "metadata": {
        "id": "4691d781",
        "outputId": "d84a1618-9317-4910-907b-3334c62fd24f"
      },
      "outputs": [
        {
          "data": {
            "text/plain": [
              "'Lists'"
            ]
          },
          "execution_count": 43,
          "metadata": {},
          "output_type": "execute_result"
        }
      ],
      "source": [
        "#Q14 Access the value \"Lists\" from nestedTuple\n",
        "nestedTuple[2][1]"
      ]
    },
    {
      "cell_type": "code",
      "execution_count": null,
      "id": "82a4cf53",
      "metadata": {
        "id": "82a4cf53",
        "outputId": "9a54e4da-2b78-413b-ce50-4e018405152e"
      },
      "outputs": [
        {
          "data": {
            "text/plain": [
              "'Tuple'"
            ]
          },
          "execution_count": 44,
          "metadata": {},
          "output_type": "execute_result"
        }
      ],
      "source": [
        "#Q15 Access the value \"Tuple\" from nestedTuple\n",
        "nestedTuple[2][2]"
      ]
    },
    {
      "cell_type": "code",
      "execution_count": null,
      "id": "c9dc29a8",
      "metadata": {
        "id": "c9dc29a8",
        "outputId": "483f3973-8947-4a70-98fb-cb21cd1fe628"
      },
      "outputs": [
        {
          "data": {
            "text/plain": [
              "'course'"
            ]
          },
          "execution_count": 45,
          "metadata": {},
          "output_type": "execute_result"
        }
      ],
      "source": [
        "#Q16 Access the value \"course\" from nestedTuple\n",
        "nestedTuple[0][1]"
      ]
    },
    {
      "cell_type": "code",
      "execution_count": null,
      "id": "aa243bb0",
      "metadata": {
        "id": "aa243bb0",
        "outputId": "272fca53-658c-401d-8717-d24e1b5f57cb"
      },
      "outputs": [
        {
          "data": {
            "text/plain": [
              "('NPower',\n",
              " 'JDA',\n",
              " 'Tuesday',\n",
              " 30,\n",
              " 3,\n",
              " 2021,\n",
              " ('Coursera', 'course', 6),\n",
              " 'week',\n",
              " (2, 'Lists', 'Tuple'))"
            ]
          },
          "execution_count": 53,
          "metadata": {},
          "output_type": "execute_result"
        }
      ],
      "source": [
        "#Q17 Concatenate myTuple with nestedTuple\n",
        "myTuple=myTuple+nestedTuple\n",
        "myTuple"
      ]
    },
    {
      "cell_type": "code",
      "execution_count": null,
      "id": "ebe46afe",
      "metadata": {
        "id": "ebe46afe",
        "outputId": "12c8271f-112e-40ee-9b81-1f4b6d7bc31c"
      },
      "outputs": [
        {
          "data": {
            "text/plain": [
              "(('NPower',\n",
              "  'JDA',\n",
              "  'Tuesday',\n",
              "  30,\n",
              "  3,\n",
              "  2021,\n",
              "  ('Coursera', 'course', 6),\n",
              "  'week',\n",
              "  (2, 'Lists', 'Tuple')),\n",
              " 'Kowcika')"
            ]
          },
          "execution_count": 55,
          "metadata": {},
          "output_type": "execute_result"
        }
      ],
      "source": [
        "#Q18 add your name to the tuple\n",
        "name=(('Kowcika'))\n",
        "newTuple=(myTuple,name)\n",
        "newTuple"
      ]
    },
    {
      "cell_type": "code",
      "execution_count": null,
      "id": "fd86bd29",
      "metadata": {
        "id": "fd86bd29"
      },
      "outputs": [],
      "source": [
        "#Q19 check whether Coursera exists within myTuple\n",
        "# NOTE \"in\" doesn't work properly with nested tuples"
      ]
    },
    {
      "cell_type": "code",
      "execution_count": null,
      "id": "52395fc9",
      "metadata": {
        "id": "52395fc9",
        "outputId": "8ec97667-5080-4620-ae71-42da5ee100bc"
      },
      "outputs": [
        {
          "name": "stdout",
          "output_type": "stream",
          "text": [
            "Number exists\n"
          ]
        }
      ],
      "source": [
        "#Q20 check whether 55 exists within testTuple\n",
        "testTuple=(1,2,33,55,6,55)\n",
        "number=55\n",
        "for number in testTuple:\n",
        "     print(\"Number exists\")\n",
        "     break;"
      ]
    },
    {
      "cell_type": "code",
      "execution_count": null,
      "id": "4e9824c8",
      "metadata": {
        "id": "4e9824c8",
        "outputId": "0ba56d3f-d8bc-48b9-e6cd-04a6c4ba0e2c"
      },
      "outputs": [
        {
          "ename": "ValueError",
          "evalue": "tuple.index(x): x not in tuple",
          "output_type": "error",
          "traceback": [
            "\u001b[1;31m---------------------------------------------------------------------------\u001b[0m",
            "\u001b[1;31mValueError\u001b[0m                                Traceback (most recent call last)",
            "\u001b[1;32m<ipython-input-63-a1cd5b10f574>\u001b[0m in \u001b[0;36m<module>\u001b[1;34m\u001b[0m\n\u001b[0;32m      2\u001b[0m \u001b[1;31m# Find the index of 'Coursera' in newTuple\u001b[0m\u001b[1;33m\u001b[0m\u001b[1;33m\u001b[0m\u001b[1;33m\u001b[0m\u001b[0m\n\u001b[0;32m      3\u001b[0m \u001b[1;31m# NOTE index doesn't work properly with nested tuples # Wrong output\u001b[0m\u001b[1;33m\u001b[0m\u001b[1;33m\u001b[0m\u001b[1;33m\u001b[0m\u001b[0m\n\u001b[1;32m----> 4\u001b[1;33m \u001b[0mnewTuple\u001b[0m\u001b[1;33m.\u001b[0m\u001b[0mindex\u001b[0m\u001b[1;33m(\u001b[0m\u001b[1;34m'JDA'\u001b[0m\u001b[1;33m)\u001b[0m\u001b[1;33m\u001b[0m\u001b[1;33m\u001b[0m\u001b[0m\n\u001b[0m\u001b[0;32m      5\u001b[0m \u001b[0mnewTuple\u001b[0m\u001b[1;33m.\u001b[0m\u001b[0mindex\u001b[0m\u001b[1;33m(\u001b[0m\u001b[1;34m'Coursera'\u001b[0m\u001b[1;33m)\u001b[0m\u001b[1;33m\u001b[0m\u001b[1;33m\u001b[0m\u001b[0m\n",
            "\u001b[1;31mValueError\u001b[0m: tuple.index(x): x not in tuple"
          ]
        }
      ],
      "source": [
        "#Q21 Find the index of JDA in newTuple\n",
        "# Find the index of 'Coursera' in newTuple\n",
        "# NOTE index doesn't work properly with nested tuples # Wrong output\n",
        "newTuple.index('JDA')\n",
        "newTuple.index('Coursera')"
      ]
    },
    {
      "cell_type": "code",
      "execution_count": null,
      "id": "21ca4d0b",
      "metadata": {
        "id": "21ca4d0b",
        "outputId": "881fe961-ea13-4e6a-8401-930692b771d9"
      },
      "outputs": [
        {
          "ename": "IndexError",
          "evalue": "tuple index out of range",
          "output_type": "error",
          "traceback": [
            "\u001b[1;31m---------------------------------------------------------------------------\u001b[0m",
            "\u001b[1;31mIndexError\u001b[0m                                Traceback (most recent call last)",
            "\u001b[1;32m<ipython-input-65-97576e783ad1>\u001b[0m in \u001b[0;36m<module>\u001b[1;34m\u001b[0m\n\u001b[0;32m      1\u001b[0m \u001b[1;31m#Q22 print index 8 from newTuple\u001b[0m\u001b[1;33m\u001b[0m\u001b[1;33m\u001b[0m\u001b[1;33m\u001b[0m\u001b[0m\n\u001b[1;32m----> 2\u001b[1;33m \u001b[0mnewTuple\u001b[0m\u001b[1;33m[\u001b[0m\u001b[1;36m8\u001b[0m\u001b[1;33m]\u001b[0m\u001b[1;33m\u001b[0m\u001b[1;33m\u001b[0m\u001b[0m\n\u001b[0m",
            "\u001b[1;31mIndexError\u001b[0m: tuple index out of range"
          ]
        }
      ],
      "source": [
        "#Q22 print index 8 from newTuple\n",
        "newTuple[8]"
      ]
    },
    {
      "cell_type": "code",
      "execution_count": null,
      "id": "3614edd7",
      "metadata": {
        "id": "3614edd7",
        "outputId": "0fd6ee98-b053-4221-8815-e28a89d38213"
      },
      "outputs": [
        {
          "name": "stdout",
          "output_type": "stream",
          "text": [
            "30\n",
            "2\n"
          ]
        }
      ],
      "source": [
        "#Q23 Get the 4th element from the begining of myTuple and 4th element from last\n",
        "print(newTuple[0][3])\n",
        "print(newTuple[0][8][0])"
      ]
    },
    {
      "cell_type": "code",
      "execution_count": null,
      "id": "cae30f03",
      "metadata": {
        "id": "cae30f03",
        "outputId": "a60c6fdf-2c73-45d5-df03-d6aae67d5436"
      },
      "outputs": [
        {
          "data": {
            "text/plain": [
              "2"
            ]
          },
          "execution_count": 82,
          "metadata": {},
          "output_type": "execute_result"
        }
      ],
      "source": [
        "#Q24 Find how many times 55 appeared in testTuple [Hint: Use method count()]\n",
        "testTuple.count(55)"
      ]
    },
    {
      "cell_type": "code",
      "execution_count": null,
      "id": "d3968e28",
      "metadata": {
        "id": "d3968e28"
      },
      "outputs": [],
      "source": []
    }
  ],
  "metadata": {
    "kernelspec": {
      "display_name": "Python 3",
      "language": "python",
      "name": "python3"
    },
    "language_info": {
      "codemirror_mode": {
        "name": "ipython",
        "version": 3
      },
      "file_extension": ".py",
      "mimetype": "text/x-python",
      "name": "python",
      "nbconvert_exporter": "python",
      "pygments_lexer": "ipython3",
      "version": "3.8.8"
    },
    "colab": {
      "provenance": [],
      "include_colab_link": true
    }
  },
  "nbformat": 4,
  "nbformat_minor": 5
}