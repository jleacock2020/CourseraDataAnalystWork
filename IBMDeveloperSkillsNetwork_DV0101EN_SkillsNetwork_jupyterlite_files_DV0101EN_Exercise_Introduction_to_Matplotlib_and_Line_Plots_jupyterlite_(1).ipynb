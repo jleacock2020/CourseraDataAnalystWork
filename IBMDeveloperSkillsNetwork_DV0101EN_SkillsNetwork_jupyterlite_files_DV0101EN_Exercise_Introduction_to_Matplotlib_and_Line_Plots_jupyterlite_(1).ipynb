{
  "metadata": {
    "language_info": {
      "codemirror_mode": {
        "name": "python",
        "version": 3
      },
      "file_extension": ".py",
      "mimetype": "text/x-python",
      "name": "python",
      "nbconvert_exporter": "python",
      "pygments_lexer": "ipython3",
      "version": "3.8"
    },
    "kernelspec": {
      "name": "python",
      "display_name": "Python (Pyodide)",
      "language": "python"
    },
    "colab": {
      "provenance": [],
      "include_colab_link": true
    }
  },
  "nbformat_minor": 0,
  "nbformat": 4,
  "cells": [
    {
      "cell_type": "markdown",
      "metadata": {
        "id": "view-in-github",
        "colab_type": "text"
      },
      "source": [
        "<a href=\"https://colab.research.google.com/github/jleacock2020/CourseraDataAnalystWork/blob/main/IBMDeveloperSkillsNetwork_DV0101EN_SkillsNetwork_jupyterlite_files_DV0101EN_Exercise_Introduction_to_Matplotlib_and_Line_Plots_jupyterlite_(1).ipynb\" target=\"_parent\"><img src=\"https://colab.research.google.com/assets/colab-badge.svg\" alt=\"Open In Colab\"/></a>"
      ]
    },
    {
      "cell_type": "markdown",
      "source": [
        "<center>\n",
        "    <img src=\"https://cf-courses-data.s3.us.cloud-object-storage.appdomain.cloud/IBMDeveloperSkillsNetwork-DV0101EN-SkillsNetwork/labs/Module%201/images/IDSNlogo.png\" width=\"300\" alt=\"cognitiveclass.ai logo\">\n",
        "</center>\n",
        "\n",
        "# Data Visualization\n",
        "\n",
        "Estimated time needed: **30** minutes\n",
        "\n",
        "## Objectives\n",
        "\n",
        "After completing this lab you will be able to:\n",
        "\n",
        "*   Create Data Visualization with Python\n",
        "*   Use various Python libraries for visualization\n"
      ],
      "metadata": {
        "button": false,
        "new_sheet": false,
        "run_control": {
          "read_only": false
        },
        "id": "zTvfrEsk0rdu"
      }
    },
    {
      "cell_type": "markdown",
      "source": [
        "## Introduction\n",
        "\n",
        "The aim of these labs is to introduce you to data visualization with Python as concrete and as consistent as possible.\n",
        "Speaking of consistency, because there is no *best* data visualization library available for Python - up to creating these labs - we have to introduce different libraries and show their benefits when we are discussing new visualization concepts. Doing so, we hope to make students well-rounded with visualization libraries and concepts so that they are able to judge and decide on the best visualization technique and tool for a given problem *and* audience.\n",
        "\n",
        "Please make sure that you have completed the prerequisites for this course, namely [**Python Basics for Data Science**](https://www.edx.org/course/python-basics-for-data-science-2?utm_medium=Exinfluencer&utm_source=Exinfluencer&utm_content=000026UJ&utm_term=10006555&utm_id=NA-SkillsNetwork-Channel-SkillsNetworkCoursesIBMDeveloperSkillsNetworkDV0101ENSkillsNetwork20297740-2021-01-01) and [**Analyzing Data with Python**](https://www.edx.org/course/data-analysis-with-python?utm_medium=Exinfluencer&utm_source=Exinfluencer&utm_content=000026UJ&utm_term=10006555&utm_id=NA-SkillsNetwork-Channel-SkillsNetworkCoursesIBMDeveloperSkillsNetworkDV0101ENSkillsNetwork20297740-2021-01-01).\n",
        "\n",
        "**Note**: The majority of the plots and visualizations will be generated using data stored in *pandas* dataframes. Therefore, in this lab, we provide a brief crash course on *pandas*. However, if you are interested in learning more about the *pandas* library, detailed description and explanation of how to use it and how to clean, munge, and process data stored in a *pandas* dataframe are provided in our course [**Analyzing Data with Python**](https://www.edx.org/course/data-analysis-with-python?utm_medium=Exinfluencer&utm_source=Exinfluencer&utm_content=000026UJ&utm_term=10006555&utm_id=NA-SkillsNetwork-Channel-SkillsNetworkCoursesIBMDeveloperSkillsNetworkDV0101ENSkillsNetwork20297740-2021-01-01).\n",
        "\n",
        "***\n"
      ],
      "metadata": {
        "button": false,
        "new_sheet": false,
        "run_control": {
          "read_only": false
        },
        "id": "TBrf5WmD0rd3"
      }
    },
    {
      "cell_type": "markdown",
      "source": [
        "## Table of Contents\n",
        "\n",
        "<div class=\"alert alert-block alert-info\" style=\"margin-top: 20px\">\n",
        "\n",
        "1.  [Exploring Datasets with *pandas*](#0)<br>\n",
        "\n",
        "1.1 [The Dataset: Immigration to Canada from 1980 to 2013](#2)<br>\n",
        "1.2 [*pandas* Basics](#4) <br>\n",
        "1.3 [*pandas* Intermediate: Indexing and Selection](#6) <br>\n",
        "2\\. [Visualizing Data using Matplotlib](#8) <br>\n",
        "2.1 [Matplotlib: Standard Python Visualization Library](#10) <br>\n",
        "3\\. [Line Plots](#12)\n",
        "\n",
        "</div>\n"
      ],
      "metadata": {
        "button": false,
        "new_sheet": false,
        "run_control": {
          "read_only": false
        },
        "id": "7_dG2tcH0rd3"
      }
    },
    {
      "cell_type": "markdown",
      "source": [
        "# Exploring Datasets with *pandas* <a id=\"0\"></a>\n",
        "\n",
        "*pandas* is an essential data analysis toolkit for Python. From their [website](http://pandas.pydata.org/?utm_medium=Exinfluencer&utm_source=Exinfluencer&utm_content=000026UJ&utm_term=10006555&utm_id=NA-SkillsNetwork-Channel-SkillsNetworkCoursesIBMDeveloperSkillsNetworkDV0101ENSkillsNetwork20297740-2021-01-01):\n",
        "\n",
        "> *pandas* is a Python package providing fast, flexible, and expressive data structures designed to make working with “relational” or “labeled” data both easy and intuitive. It aims to be the fundamental high-level building block for doing practical, **real world** data analysis in Python.\n",
        "\n",
        "The course heavily relies on *pandas* for data wrangling, analysis, and visualization. We encourage you to spend some time and familiarize yourself with the *pandas* API Reference: [http://pandas.pydata.org/pandas-docs/stable/api.html](http://pandas.pydata.org/pandas-docs/stable/api.html?utm_medium=Exinfluencer&utm_source=Exinfluencer&utm_content=000026UJ&utm_term=10006555&utm_id=NA-SkillsNetwork-Channel-SkillsNetworkCoursesIBMDeveloperSkillsNetworkDV0101ENSkillsNetwork20297740-2021-01-01).\n"
      ],
      "metadata": {
        "button": false,
        "new_sheet": false,
        "run_control": {
          "read_only": false
        },
        "id": "bH0Eq7d00rd4"
      }
    },
    {
      "cell_type": "markdown",
      "source": [
        "## The Dataset: Immigration to Canada from 1980 to 2013 <a id=\"2\"></a>\n"
      ],
      "metadata": {
        "button": false,
        "new_sheet": false,
        "run_control": {
          "read_only": false
        },
        "id": "Nyg-RHXO0rd4"
      }
    },
    {
      "cell_type": "markdown",
      "source": [
        "Dataset Source: [International migration flows to and from selected countries - The 2015 revision](http://www.un.org/en/development/desa/population/migration/data/empirical2/migrationflows.shtml?utm_medium=Exinfluencer&utm_source=Exinfluencer&utm_content=000026UJ&utm_term=10006555&utm_id=NA-SkillsNetwork-Channel-SkillsNetworkCoursesIBMDeveloperSkillsNetworkDV0101ENSkillsNetwork20297740-2021-01-01).\n",
        "\n",
        "The dataset contains annual data on the flows of international immigrants as recorded by the countries of destination. The data presents both inflows and outflows according to the place of birth, citizenship or place of previous / next residence both for foreigners and nationals. The current version presents data pertaining to 45 countries.\n",
        "\n",
        "In this lab, we will focus on the Canadian immigration data.\n",
        "\n",
        "![Data Preview](https://cf-courses-data.s3.us.cloud-object-storage.appdomain.cloud/IBMDeveloperSkillsNetwork-DV0101EN-SkillsNetwork/labs/Module%201/images/DataSnapshot.png)\n",
        "\n",
        "The Canada Immigration dataset can be fetched from <a href=\"https://cf-courses-data.s3.us.cloud-object-storage.appdomain.cloud/IBMDeveloperSkillsNetwork-DV0101EN-SkillsNetwork/Data%20Files/Canada.xlsx?utm_medium=Exinfluencer&utm_source=Exinfluencer&utm_content=000026UJ&utm_term=10006555&utm_id=NA-SkillsNetwork-Channel-SkillsNetworkCoursesIBMDeveloperSkillsNetworkDV0101ENSkillsNetwork20297740-2021-01-01\">here</a>.\n",
        "\n",
        "***\n"
      ],
      "metadata": {
        "button": false,
        "new_sheet": false,
        "run_control": {
          "read_only": false
        },
        "id": "QlU2kBb40rd5"
      }
    },
    {
      "cell_type": "markdown",
      "source": [
        "## *pandas* Basics<a id=\"4\"></a>\n"
      ],
      "metadata": {
        "button": false,
        "new_sheet": false,
        "run_control": {
          "read_only": false
        },
        "id": "pxU2m7EO0rd5"
      }
    },
    {
      "cell_type": "markdown",
      "source": [
        "The first thing we'll do is install **openpyxl** (formerly **xlrd**), a module that *pandas* requires to read Excel files.\n"
      ],
      "metadata": {
        "id": "rM1pysOB0rd5"
      }
    },
    {
      "cell_type": "code",
      "source": [
        "import piplite\n",
        "await piplite.install(['openpyxl==3.0.9'])"
      ],
      "metadata": {
        "trusted": true,
        "id": "UwClkffb0rd5"
      },
      "execution_count": null,
      "outputs": []
    },
    {
      "cell_type": "markdown",
      "source": [
        "Next, we'll do is import two key data analysis modules: *pandas* and *numpy*.\n"
      ],
      "metadata": {
        "button": false,
        "new_sheet": false,
        "run_control": {
          "read_only": false
        },
        "id": "LcN_hGEG0rd6"
      }
    },
    {
      "cell_type": "code",
      "source": [
        "import numpy as np  # useful for many scientific computing in Python\n",
        "import pandas as pd # primary data structure library"
      ],
      "metadata": {
        "button": false,
        "new_sheet": false,
        "run_control": {
          "read_only": false
        },
        "trusted": true,
        "id": "xCILhPeh0rd6"
      },
      "execution_count": null,
      "outputs": []
    },
    {
      "cell_type": "markdown",
      "source": [
        "Let's download and import our primary Canadian Immigration dataset using *pandas*'s `read_excel()` method.\n"
      ],
      "metadata": {
        "button": false,
        "new_sheet": false,
        "run_control": {
          "read_only": false
        },
        "id": "sfR03ixv0rd6"
      }
    },
    {
      "cell_type": "code",
      "source": [
        "from js import fetch\n",
        "import io\n",
        "\n",
        "URL = 'https://cf-courses-data.s3.us.cloud-object-storage.appdomain.cloud/IBMDeveloperSkillsNetwork-DV0101EN-SkillsNetwork/Data%20Files/Canada.xlsx'\n",
        "resp = await fetch(URL)\n",
        "text = io.BytesIO((await resp.arrayBuffer()).to_py())\n",
        "\n",
        "df_can = pd.read_excel(\n",
        "    text,\n",
        "    sheet_name='Canada by Citizenship',\n",
        "    skiprows=range(20),\n",
        "    skipfooter=2)\n",
        "print('Data downloaded and read into a dataframe!')"
      ],
      "metadata": {
        "button": false,
        "new_sheet": false,
        "run_control": {
          "read_only": false
        },
        "trusted": true,
        "id": "MwObmX2N0rd6",
        "outputId": "5407cf93-79af-4cf4-c74b-c1e0fa45cd8e"
      },
      "execution_count": null,
      "outputs": [
        {
          "name": "stdout",
          "text": "Data downloaded and read into a dataframe!\n",
          "output_type": "stream"
        }
      ]
    },
    {
      "cell_type": "markdown",
      "source": [
        "Let's view the top 5 rows of the dataset using the `head()` function.\n"
      ],
      "metadata": {
        "button": false,
        "new_sheet": false,
        "run_control": {
          "read_only": false
        },
        "id": "K8-SqSBs0rd7"
      }
    },
    {
      "cell_type": "code",
      "source": [
        "df_can.head()\n",
        "# tip: You can specify the number of rows you'd like to see as follows: df_can.head(10)"
      ],
      "metadata": {
        "button": false,
        "new_sheet": false,
        "run_control": {
          "read_only": false
        },
        "trusted": true,
        "id": "2H6aJw2Q0rd7",
        "outputId": "b98d5cf2-2179-4788-cdbd-98895b752ca6"
      },
      "execution_count": null,
      "outputs": [
        {
          "execution_count": 4,
          "output_type": "execute_result",
          "data": {
            "text/plain": "         Type    Coverage          OdName  AREA AreaName   REG  \\\n0  Immigrants  Foreigners     Afghanistan   935     Asia  5501   \n1  Immigrants  Foreigners         Albania   908   Europe   925   \n2  Immigrants  Foreigners         Algeria   903   Africa   912   \n3  Immigrants  Foreigners  American Samoa   909  Oceania   957   \n4  Immigrants  Foreigners         Andorra   908   Europe   925   \n\n           RegName  DEV             DevName  1980  ...  2004  2005  2006  \\\n0    Southern Asia  902  Developing regions    16  ...  2978  3436  3009   \n1  Southern Europe  901   Developed regions     1  ...  1450  1223   856   \n2  Northern Africa  902  Developing regions    80  ...  3616  3626  4807   \n3        Polynesia  902  Developing regions     0  ...     0     0     1   \n4  Southern Europe  901   Developed regions     0  ...     0     0     1   \n\n   2007  2008  2009  2010  2011  2012  2013  \n0  2652  2111  1746  1758  2203  2635  2004  \n1   702   560   716   561   539   620   603  \n2  3623  4005  5393  4752  4325  3774  4331  \n3     0     0     0     0     0     0     0  \n4     1     0     0     0     0     1     1  \n\n[5 rows x 43 columns]",
            "text/html": "<div>\n<style scoped>\n    .dataframe tbody tr th:only-of-type {\n        vertical-align: middle;\n    }\n\n    .dataframe tbody tr th {\n        vertical-align: top;\n    }\n\n    .dataframe thead th {\n        text-align: right;\n    }\n</style>\n<table border=\"1\" class=\"dataframe\">\n  <thead>\n    <tr style=\"text-align: right;\">\n      <th></th>\n      <th>Type</th>\n      <th>Coverage</th>\n      <th>OdName</th>\n      <th>AREA</th>\n      <th>AreaName</th>\n      <th>REG</th>\n      <th>RegName</th>\n      <th>DEV</th>\n      <th>DevName</th>\n      <th>1980</th>\n      <th>...</th>\n      <th>2004</th>\n      <th>2005</th>\n      <th>2006</th>\n      <th>2007</th>\n      <th>2008</th>\n      <th>2009</th>\n      <th>2010</th>\n      <th>2011</th>\n      <th>2012</th>\n      <th>2013</th>\n    </tr>\n  </thead>\n  <tbody>\n    <tr>\n      <th>0</th>\n      <td>Immigrants</td>\n      <td>Foreigners</td>\n      <td>Afghanistan</td>\n      <td>935</td>\n      <td>Asia</td>\n      <td>5501</td>\n      <td>Southern Asia</td>\n      <td>902</td>\n      <td>Developing regions</td>\n      <td>16</td>\n      <td>...</td>\n      <td>2978</td>\n      <td>3436</td>\n      <td>3009</td>\n      <td>2652</td>\n      <td>2111</td>\n      <td>1746</td>\n      <td>1758</td>\n      <td>2203</td>\n      <td>2635</td>\n      <td>2004</td>\n    </tr>\n    <tr>\n      <th>1</th>\n      <td>Immigrants</td>\n      <td>Foreigners</td>\n      <td>Albania</td>\n      <td>908</td>\n      <td>Europe</td>\n      <td>925</td>\n      <td>Southern Europe</td>\n      <td>901</td>\n      <td>Developed regions</td>\n      <td>1</td>\n      <td>...</td>\n      <td>1450</td>\n      <td>1223</td>\n      <td>856</td>\n      <td>702</td>\n      <td>560</td>\n      <td>716</td>\n      <td>561</td>\n      <td>539</td>\n      <td>620</td>\n      <td>603</td>\n    </tr>\n    <tr>\n      <th>2</th>\n      <td>Immigrants</td>\n      <td>Foreigners</td>\n      <td>Algeria</td>\n      <td>903</td>\n      <td>Africa</td>\n      <td>912</td>\n      <td>Northern Africa</td>\n      <td>902</td>\n      <td>Developing regions</td>\n      <td>80</td>\n      <td>...</td>\n      <td>3616</td>\n      <td>3626</td>\n      <td>4807</td>\n      <td>3623</td>\n      <td>4005</td>\n      <td>5393</td>\n      <td>4752</td>\n      <td>4325</td>\n      <td>3774</td>\n      <td>4331</td>\n    </tr>\n    <tr>\n      <th>3</th>\n      <td>Immigrants</td>\n      <td>Foreigners</td>\n      <td>American Samoa</td>\n      <td>909</td>\n      <td>Oceania</td>\n      <td>957</td>\n      <td>Polynesia</td>\n      <td>902</td>\n      <td>Developing regions</td>\n      <td>0</td>\n      <td>...</td>\n      <td>0</td>\n      <td>0</td>\n      <td>1</td>\n      <td>0</td>\n      <td>0</td>\n      <td>0</td>\n      <td>0</td>\n      <td>0</td>\n      <td>0</td>\n      <td>0</td>\n    </tr>\n    <tr>\n      <th>4</th>\n      <td>Immigrants</td>\n      <td>Foreigners</td>\n      <td>Andorra</td>\n      <td>908</td>\n      <td>Europe</td>\n      <td>925</td>\n      <td>Southern Europe</td>\n      <td>901</td>\n      <td>Developed regions</td>\n      <td>0</td>\n      <td>...</td>\n      <td>0</td>\n      <td>0</td>\n      <td>1</td>\n      <td>1</td>\n      <td>0</td>\n      <td>0</td>\n      <td>0</td>\n      <td>0</td>\n      <td>1</td>\n      <td>1</td>\n    </tr>\n  </tbody>\n</table>\n<p>5 rows × 43 columns</p>\n</div>"
          },
          "metadata": {}
        }
      ]
    },
    {
      "cell_type": "markdown",
      "source": [
        "We can also view the bottom 5 rows of the dataset using the `tail()` function.\n"
      ],
      "metadata": {
        "button": false,
        "new_sheet": false,
        "run_control": {
          "read_only": false
        },
        "id": "zCOinJvC0rd7"
      }
    },
    {
      "cell_type": "code",
      "source": [
        "df_can.tail()"
      ],
      "metadata": {
        "button": false,
        "new_sheet": false,
        "run_control": {
          "read_only": false
        },
        "trusted": true,
        "id": "LjEc4U650rd8",
        "outputId": "461c46e2-87ad-42da-db0b-ec1575389fbd"
      },
      "execution_count": null,
      "outputs": [
        {
          "execution_count": 5,
          "output_type": "execute_result",
          "data": {
            "text/plain": "           Type    Coverage          OdName  AREA AreaName  REG  \\\n190  Immigrants  Foreigners        Viet Nam   935     Asia  920   \n191  Immigrants  Foreigners  Western Sahara   903   Africa  912   \n192  Immigrants  Foreigners           Yemen   935     Asia  922   \n193  Immigrants  Foreigners          Zambia   903   Africa  910   \n194  Immigrants  Foreigners        Zimbabwe   903   Africa  910   \n\n                RegName  DEV             DevName  1980  ...  2004  2005  2006  \\\n190  South-Eastern Asia  902  Developing regions  1191  ...  1816  1852  3153   \n191     Northern Africa  902  Developing regions     0  ...     0     0     1   \n192        Western Asia  902  Developing regions     1  ...   124   161   140   \n193      Eastern Africa  902  Developing regions    11  ...    56    91    77   \n194      Eastern Africa  902  Developing regions    72  ...  1450   615   454   \n\n     2007  2008  2009  2010  2011  2012  2013  \n190  2574  1784  2171  1942  1723  1731  2112  \n191     0     0     0     0     0     0     0  \n192   122   133   128   211   160   174   217  \n193    71    64    60   102    69    46    59  \n194   663   611   508   494   434   437   407  \n\n[5 rows x 43 columns]",
            "text/html": "<div>\n<style scoped>\n    .dataframe tbody tr th:only-of-type {\n        vertical-align: middle;\n    }\n\n    .dataframe tbody tr th {\n        vertical-align: top;\n    }\n\n    .dataframe thead th {\n        text-align: right;\n    }\n</style>\n<table border=\"1\" class=\"dataframe\">\n  <thead>\n    <tr style=\"text-align: right;\">\n      <th></th>\n      <th>Type</th>\n      <th>Coverage</th>\n      <th>OdName</th>\n      <th>AREA</th>\n      <th>AreaName</th>\n      <th>REG</th>\n      <th>RegName</th>\n      <th>DEV</th>\n      <th>DevName</th>\n      <th>1980</th>\n      <th>...</th>\n      <th>2004</th>\n      <th>2005</th>\n      <th>2006</th>\n      <th>2007</th>\n      <th>2008</th>\n      <th>2009</th>\n      <th>2010</th>\n      <th>2011</th>\n      <th>2012</th>\n      <th>2013</th>\n    </tr>\n  </thead>\n  <tbody>\n    <tr>\n      <th>190</th>\n      <td>Immigrants</td>\n      <td>Foreigners</td>\n      <td>Viet Nam</td>\n      <td>935</td>\n      <td>Asia</td>\n      <td>920</td>\n      <td>South-Eastern Asia</td>\n      <td>902</td>\n      <td>Developing regions</td>\n      <td>1191</td>\n      <td>...</td>\n      <td>1816</td>\n      <td>1852</td>\n      <td>3153</td>\n      <td>2574</td>\n      <td>1784</td>\n      <td>2171</td>\n      <td>1942</td>\n      <td>1723</td>\n      <td>1731</td>\n      <td>2112</td>\n    </tr>\n    <tr>\n      <th>191</th>\n      <td>Immigrants</td>\n      <td>Foreigners</td>\n      <td>Western Sahara</td>\n      <td>903</td>\n      <td>Africa</td>\n      <td>912</td>\n      <td>Northern Africa</td>\n      <td>902</td>\n      <td>Developing regions</td>\n      <td>0</td>\n      <td>...</td>\n      <td>0</td>\n      <td>0</td>\n      <td>1</td>\n      <td>0</td>\n      <td>0</td>\n      <td>0</td>\n      <td>0</td>\n      <td>0</td>\n      <td>0</td>\n      <td>0</td>\n    </tr>\n    <tr>\n      <th>192</th>\n      <td>Immigrants</td>\n      <td>Foreigners</td>\n      <td>Yemen</td>\n      <td>935</td>\n      <td>Asia</td>\n      <td>922</td>\n      <td>Western Asia</td>\n      <td>902</td>\n      <td>Developing regions</td>\n      <td>1</td>\n      <td>...</td>\n      <td>124</td>\n      <td>161</td>\n      <td>140</td>\n      <td>122</td>\n      <td>133</td>\n      <td>128</td>\n      <td>211</td>\n      <td>160</td>\n      <td>174</td>\n      <td>217</td>\n    </tr>\n    <tr>\n      <th>193</th>\n      <td>Immigrants</td>\n      <td>Foreigners</td>\n      <td>Zambia</td>\n      <td>903</td>\n      <td>Africa</td>\n      <td>910</td>\n      <td>Eastern Africa</td>\n      <td>902</td>\n      <td>Developing regions</td>\n      <td>11</td>\n      <td>...</td>\n      <td>56</td>\n      <td>91</td>\n      <td>77</td>\n      <td>71</td>\n      <td>64</td>\n      <td>60</td>\n      <td>102</td>\n      <td>69</td>\n      <td>46</td>\n      <td>59</td>\n    </tr>\n    <tr>\n      <th>194</th>\n      <td>Immigrants</td>\n      <td>Foreigners</td>\n      <td>Zimbabwe</td>\n      <td>903</td>\n      <td>Africa</td>\n      <td>910</td>\n      <td>Eastern Africa</td>\n      <td>902</td>\n      <td>Developing regions</td>\n      <td>72</td>\n      <td>...</td>\n      <td>1450</td>\n      <td>615</td>\n      <td>454</td>\n      <td>663</td>\n      <td>611</td>\n      <td>508</td>\n      <td>494</td>\n      <td>434</td>\n      <td>437</td>\n      <td>407</td>\n    </tr>\n  </tbody>\n</table>\n<p>5 rows × 43 columns</p>\n</div>"
          },
          "metadata": {}
        }
      ]
    },
    {
      "cell_type": "markdown",
      "source": [
        "When analyzing a dataset, it's always a good idea to start by getting basic information about your dataframe. We can do this by using the `info()` method.\n",
        "\n",
        "This method can be used to get a short summary of the dataframe.\n"
      ],
      "metadata": {
        "button": false,
        "new_sheet": false,
        "run_control": {
          "read_only": false
        },
        "id": "X75gSz680rd8"
      }
    },
    {
      "cell_type": "code",
      "source": [
        "df_can.info(verbose=False)"
      ],
      "metadata": {
        "trusted": true,
        "id": "48oukYJe0rd8",
        "outputId": "432c1624-b5b2-4fe1-aa40-2bb7eedb0bc7"
      },
      "execution_count": null,
      "outputs": [
        {
          "name": "stdout",
          "text": "<class 'pandas.core.frame.DataFrame'>\nRangeIndex: 195 entries, 0 to 194\nColumns: 43 entries, Type to 2013\ndtypes: int64(37), object(6)\nmemory usage: 61.0+ KB\n",
          "output_type": "stream"
        }
      ]
    },
    {
      "cell_type": "markdown",
      "source": [
        "To get the list of column headers we can call upon the data frame's `columns` instance variable.\n"
      ],
      "metadata": {
        "button": false,
        "new_sheet": false,
        "run_control": {
          "read_only": false
        },
        "id": "97JEJc8N0rd8"
      }
    },
    {
      "cell_type": "code",
      "source": [
        "df_can.columns"
      ],
      "metadata": {
        "button": false,
        "new_sheet": false,
        "run_control": {
          "read_only": false
        },
        "trusted": true,
        "id": "ms-lS13K0rd8",
        "outputId": "b275172b-5c91-44c1-f061-412c55dd144f"
      },
      "execution_count": null,
      "outputs": [
        {
          "execution_count": 7,
          "output_type": "execute_result",
          "data": {
            "text/plain": "Index([    'Type', 'Coverage',   'OdName',     'AREA', 'AreaName',      'REG',\n        'RegName',      'DEV',  'DevName',       1980,       1981,       1982,\n             1983,       1984,       1985,       1986,       1987,       1988,\n             1989,       1990,       1991,       1992,       1993,       1994,\n             1995,       1996,       1997,       1998,       1999,       2000,\n             2001,       2002,       2003,       2004,       2005,       2006,\n             2007,       2008,       2009,       2010,       2011,       2012,\n             2013],\n      dtype='object')"
          },
          "metadata": {}
        }
      ]
    },
    {
      "cell_type": "markdown",
      "source": [
        "Similarly, to get the list of indices we use the `.index` instance variables.\n"
      ],
      "metadata": {
        "button": false,
        "new_sheet": false,
        "run_control": {
          "read_only": false
        },
        "id": "Lwoxl1Cb0rd8"
      }
    },
    {
      "cell_type": "code",
      "source": [
        "df_can.index"
      ],
      "metadata": {
        "button": false,
        "new_sheet": false,
        "run_control": {
          "read_only": false
        },
        "scrolled": true,
        "trusted": true,
        "id": "EDGaVEQT0rd8",
        "outputId": "deba0609-2fda-48af-d786-60b119ecad0b"
      },
      "execution_count": null,
      "outputs": [
        {
          "execution_count": 8,
          "output_type": "execute_result",
          "data": {
            "text/plain": "RangeIndex(start=0, stop=195, step=1)"
          },
          "metadata": {}
        }
      ]
    },
    {
      "cell_type": "markdown",
      "source": [
        "Note: The default type of intance variables `index` and `columns` are **NOT** `list`.\n"
      ],
      "metadata": {
        "button": false,
        "new_sheet": false,
        "run_control": {
          "read_only": false
        },
        "id": "mdaQzV2J0rd9"
      }
    },
    {
      "cell_type": "code",
      "source": [
        "print(type(df_can.columns))\n",
        "print(type(df_can.index))"
      ],
      "metadata": {
        "button": false,
        "new_sheet": false,
        "run_control": {
          "read_only": false
        },
        "trusted": true,
        "id": "_XuIFxDe0rd9",
        "outputId": "da0d0ef8-a126-4349-e20a-eefd4bbc0d6d"
      },
      "execution_count": null,
      "outputs": [
        {
          "name": "stdout",
          "text": "<class 'pandas.core.indexes.base.Index'>\n<class 'pandas.core.indexes.range.RangeIndex'>\n",
          "output_type": "stream"
        }
      ]
    },
    {
      "cell_type": "markdown",
      "source": [
        "To get the index and columns as lists, we can use the `tolist()` method.\n"
      ],
      "metadata": {
        "button": false,
        "new_sheet": false,
        "run_control": {
          "read_only": false
        },
        "id": "O4umCaAk0rd9"
      }
    },
    {
      "cell_type": "code",
      "source": [
        "df_can.columns.tolist()"
      ],
      "metadata": {
        "pycharm": {
          "name": "#%%\n"
        },
        "jupyter": {
          "outputs_hidden": false
        },
        "trusted": true,
        "id": "A4a3qU730rd9",
        "outputId": "49bc8f6e-7407-4192-a04f-44fe1191c9ee"
      },
      "execution_count": null,
      "outputs": [
        {
          "execution_count": 10,
          "output_type": "execute_result",
          "data": {
            "text/plain": "['Type',\n 'Coverage',\n 'OdName',\n 'AREA',\n 'AreaName',\n 'REG',\n 'RegName',\n 'DEV',\n 'DevName',\n 1980,\n 1981,\n 1982,\n 1983,\n 1984,\n 1985,\n 1986,\n 1987,\n 1988,\n 1989,\n 1990,\n 1991,\n 1992,\n 1993,\n 1994,\n 1995,\n 1996,\n 1997,\n 1998,\n 1999,\n 2000,\n 2001,\n 2002,\n 2003,\n 2004,\n 2005,\n 2006,\n 2007,\n 2008,\n 2009,\n 2010,\n 2011,\n 2012,\n 2013]"
          },
          "metadata": {}
        }
      ]
    },
    {
      "cell_type": "code",
      "source": [
        "df_can.index.tolist()"
      ],
      "metadata": {
        "pycharm": {
          "name": "#%%\n"
        },
        "jupyter": {
          "outputs_hidden": false
        },
        "trusted": true,
        "id": "FO4r89Lx0rd9",
        "outputId": "6930515c-8b7d-49d0-8416-1bda94e5e872"
      },
      "execution_count": null,
      "outputs": [
        {
          "execution_count": 11,
          "output_type": "execute_result",
          "data": {
            "text/plain": "[0,\n 1,\n 2,\n 3,\n 4,\n 5,\n 6,\n 7,\n 8,\n 9,\n 10,\n 11,\n 12,\n 13,\n 14,\n 15,\n 16,\n 17,\n 18,\n 19,\n 20,\n 21,\n 22,\n 23,\n 24,\n 25,\n 26,\n 27,\n 28,\n 29,\n 30,\n 31,\n 32,\n 33,\n 34,\n 35,\n 36,\n 37,\n 38,\n 39,\n 40,\n 41,\n 42,\n 43,\n 44,\n 45,\n 46,\n 47,\n 48,\n 49,\n 50,\n 51,\n 52,\n 53,\n 54,\n 55,\n 56,\n 57,\n 58,\n 59,\n 60,\n 61,\n 62,\n 63,\n 64,\n 65,\n 66,\n 67,\n 68,\n 69,\n 70,\n 71,\n 72,\n 73,\n 74,\n 75,\n 76,\n 77,\n 78,\n 79,\n 80,\n 81,\n 82,\n 83,\n 84,\n 85,\n 86,\n 87,\n 88,\n 89,\n 90,\n 91,\n 92,\n 93,\n 94,\n 95,\n 96,\n 97,\n 98,\n 99,\n 100,\n 101,\n 102,\n 103,\n 104,\n 105,\n 106,\n 107,\n 108,\n 109,\n 110,\n 111,\n 112,\n 113,\n 114,\n 115,\n 116,\n 117,\n 118,\n 119,\n 120,\n 121,\n 122,\n 123,\n 124,\n 125,\n 126,\n 127,\n 128,\n 129,\n 130,\n 131,\n 132,\n 133,\n 134,\n 135,\n 136,\n 137,\n 138,\n 139,\n 140,\n 141,\n 142,\n 143,\n 144,\n 145,\n 146,\n 147,\n 148,\n 149,\n 150,\n 151,\n 152,\n 153,\n 154,\n 155,\n 156,\n 157,\n 158,\n 159,\n 160,\n 161,\n 162,\n 163,\n 164,\n 165,\n 166,\n 167,\n 168,\n 169,\n 170,\n 171,\n 172,\n 173,\n 174,\n 175,\n 176,\n 177,\n 178,\n 179,\n 180,\n 181,\n 182,\n 183,\n 184,\n 185,\n 186,\n 187,\n 188,\n 189,\n 190,\n 191,\n 192,\n 193,\n 194]"
          },
          "metadata": {}
        }
      ]
    },
    {
      "cell_type": "code",
      "source": [
        "print(type(df_can.columns.tolist()))\n",
        "print(type(df_can.index.tolist()))"
      ],
      "metadata": {
        "button": false,
        "new_sheet": false,
        "run_control": {
          "read_only": false
        },
        "trusted": true,
        "id": "AzAh1Hm_0rd9",
        "outputId": "00b9dc2f-fa29-404e-b9ec-ce197d7c15b3"
      },
      "execution_count": null,
      "outputs": [
        {
          "name": "stdout",
          "text": "<class 'list'>\n<class 'list'>\n",
          "output_type": "stream"
        }
      ]
    },
    {
      "cell_type": "markdown",
      "source": [
        "To view the dimensions of the dataframe, we use the `shape` instance variable of it.\n"
      ],
      "metadata": {
        "button": false,
        "new_sheet": false,
        "run_control": {
          "read_only": false
        },
        "id": "dgTSW3I-0rd-"
      }
    },
    {
      "cell_type": "code",
      "source": [
        "# size of dataframe (rows, columns)\n",
        "df_can.shape"
      ],
      "metadata": {
        "button": false,
        "new_sheet": false,
        "run_control": {
          "read_only": false
        },
        "trusted": true,
        "id": "DAuWStaC0rd-",
        "outputId": "ba6d84ea-2adc-4356-df74-b687b1d6a935"
      },
      "execution_count": null,
      "outputs": [
        {
          "execution_count": 13,
          "output_type": "execute_result",
          "data": {
            "text/plain": "(195, 43)"
          },
          "metadata": {}
        }
      ]
    },
    {
      "cell_type": "markdown",
      "source": [
        "**Note**: The main types stored in *pandas* objects are `float`, `int`, `bool`, `datetime64[ns]`, `datetime64[ns, tz]`, `timedelta[ns]`, `category`, and `object` (string). In addition, these dtypes have item sizes, e.g. `int64` and `int32`.\n"
      ],
      "metadata": {
        "button": false,
        "new_sheet": false,
        "run_control": {
          "read_only": false
        },
        "id": "hUecoSn10rd-"
      }
    },
    {
      "cell_type": "markdown",
      "source": [
        "Let's clean the data set to remove a few unnecessary columns. We can use *pandas* `drop()` method as follows:\n"
      ],
      "metadata": {
        "button": false,
        "new_sheet": false,
        "run_control": {
          "read_only": false
        },
        "id": "GxGw6Du30rd-"
      }
    },
    {
      "cell_type": "code",
      "source": [
        "# in pandas axis=0 represents rows (default) and axis=1 represents columns.\n",
        "df_can.drop(['AREA','REG','DEV','Type','Coverage'], axis=1, inplace=True)\n",
        "df_can.head(2)"
      ],
      "metadata": {
        "button": false,
        "new_sheet": false,
        "run_control": {
          "read_only": false
        },
        "trusted": true,
        "id": "9JT7c9Kc0rd-",
        "outputId": "adef7125-970c-47fc-800a-0c5904424cde"
      },
      "execution_count": null,
      "outputs": [
        {
          "execution_count": 14,
          "output_type": "execute_result",
          "data": {
            "text/plain": "        OdName AreaName          RegName             DevName  1980  1981  \\\n0  Afghanistan     Asia    Southern Asia  Developing regions    16    39   \n1      Albania   Europe  Southern Europe   Developed regions     1     0   \n\n   1982  1983  1984  1985  ...  2004  2005  2006  2007  2008  2009  2010  \\\n0    39    47    71   340  ...  2978  3436  3009  2652  2111  1746  1758   \n1     0     0     0     0  ...  1450  1223   856   702   560   716   561   \n\n   2011  2012  2013  \n0  2203  2635  2004  \n1   539   620   603  \n\n[2 rows x 38 columns]",
            "text/html": "<div>\n<style scoped>\n    .dataframe tbody tr th:only-of-type {\n        vertical-align: middle;\n    }\n\n    .dataframe tbody tr th {\n        vertical-align: top;\n    }\n\n    .dataframe thead th {\n        text-align: right;\n    }\n</style>\n<table border=\"1\" class=\"dataframe\">\n  <thead>\n    <tr style=\"text-align: right;\">\n      <th></th>\n      <th>OdName</th>\n      <th>AreaName</th>\n      <th>RegName</th>\n      <th>DevName</th>\n      <th>1980</th>\n      <th>1981</th>\n      <th>1982</th>\n      <th>1983</th>\n      <th>1984</th>\n      <th>1985</th>\n      <th>...</th>\n      <th>2004</th>\n      <th>2005</th>\n      <th>2006</th>\n      <th>2007</th>\n      <th>2008</th>\n      <th>2009</th>\n      <th>2010</th>\n      <th>2011</th>\n      <th>2012</th>\n      <th>2013</th>\n    </tr>\n  </thead>\n  <tbody>\n    <tr>\n      <th>0</th>\n      <td>Afghanistan</td>\n      <td>Asia</td>\n      <td>Southern Asia</td>\n      <td>Developing regions</td>\n      <td>16</td>\n      <td>39</td>\n      <td>39</td>\n      <td>47</td>\n      <td>71</td>\n      <td>340</td>\n      <td>...</td>\n      <td>2978</td>\n      <td>3436</td>\n      <td>3009</td>\n      <td>2652</td>\n      <td>2111</td>\n      <td>1746</td>\n      <td>1758</td>\n      <td>2203</td>\n      <td>2635</td>\n      <td>2004</td>\n    </tr>\n    <tr>\n      <th>1</th>\n      <td>Albania</td>\n      <td>Europe</td>\n      <td>Southern Europe</td>\n      <td>Developed regions</td>\n      <td>1</td>\n      <td>0</td>\n      <td>0</td>\n      <td>0</td>\n      <td>0</td>\n      <td>0</td>\n      <td>...</td>\n      <td>1450</td>\n      <td>1223</td>\n      <td>856</td>\n      <td>702</td>\n      <td>560</td>\n      <td>716</td>\n      <td>561</td>\n      <td>539</td>\n      <td>620</td>\n      <td>603</td>\n    </tr>\n  </tbody>\n</table>\n<p>2 rows × 38 columns</p>\n</div>"
          },
          "metadata": {}
        }
      ]
    },
    {
      "cell_type": "markdown",
      "source": [
        "Let's rename the columns so that they make sense. We can use `rename()` method by passing in a dictionary of old and new names as follows:\n"
      ],
      "metadata": {
        "button": false,
        "new_sheet": false,
        "run_control": {
          "read_only": false
        },
        "id": "uyw6U-Qh0rd-"
      }
    },
    {
      "cell_type": "code",
      "source": [
        "df_can.rename(columns={'OdName':'Country', 'AreaName':'Continent', 'RegName':'Region'}, inplace=True)\n",
        "df_can.columns"
      ],
      "metadata": {
        "button": false,
        "new_sheet": false,
        "run_control": {
          "read_only": false
        },
        "trusted": true,
        "id": "0Yali26m0rd-",
        "outputId": "bf6e2033-e718-4d99-988e-fb1a38d06af5"
      },
      "execution_count": null,
      "outputs": [
        {
          "execution_count": 18,
          "output_type": "execute_result",
          "data": {
            "text/plain": "Index([  'Country', 'Continent',    'Region',   'DevName',        1980,\n              1981,        1982,        1983,        1984,        1985,\n              1986,        1987,        1988,        1989,        1990,\n              1991,        1992,        1993,        1994,        1995,\n              1996,        1997,        1998,        1999,        2000,\n              2001,        2002,        2003,        2004,        2005,\n              2006,        2007,        2008,        2009,        2010,\n              2011,        2012,        2013,     'Total'],\n      dtype='object')"
          },
          "metadata": {}
        }
      ]
    },
    {
      "cell_type": "markdown",
      "source": [
        "We will also add a 'Total' column that sums up the total immigrants by country over the entire period 1980 - 2013, as follows:\n"
      ],
      "metadata": {
        "button": false,
        "new_sheet": false,
        "run_control": {
          "read_only": false
        },
        "id": "BWua1o0M0rd-"
      }
    },
    {
      "cell_type": "code",
      "source": [
        "df_can['Total'] = df_can.sum(axis=1)"
      ],
      "metadata": {
        "button": false,
        "new_sheet": false,
        "run_control": {
          "read_only": false
        },
        "trusted": true,
        "id": "kYoIMa9Q0rd-",
        "outputId": "f983f313-323c-480b-e2f5-40d4519adaca"
      },
      "execution_count": null,
      "outputs": [
        {
          "name": "stderr",
          "text": "<ipython-input-19-8cd345a76c6e>:1: FutureWarning: Dropping of nuisance columns in DataFrame reductions (with 'numeric_only=None') is deprecated; in a future version this will raise TypeError.  Select only valid columns before calling the reduction.\n  df_can['Total'] = df_can.sum(axis=1)\n",
          "output_type": "stream"
        }
      ]
    },
    {
      "cell_type": "markdown",
      "source": [
        "We can check to see how many null objects we have in the dataset as follows:\n"
      ],
      "metadata": {
        "button": false,
        "new_sheet": false,
        "run_control": {
          "read_only": false
        },
        "id": "JhDcBtp70rd_"
      }
    },
    {
      "cell_type": "code",
      "source": [
        "df_can.isnull().sum()"
      ],
      "metadata": {
        "button": false,
        "new_sheet": false,
        "run_control": {
          "read_only": false
        },
        "scrolled": true,
        "trusted": true,
        "id": "YlVh8IcP0rd_",
        "outputId": "53533507-3624-4e1d-b9a5-7cd0913bb5d1"
      },
      "execution_count": null,
      "outputs": [
        {
          "execution_count": 20,
          "output_type": "execute_result",
          "data": {
            "text/plain": "Country      0\nContinent    0\nRegion       0\nDevName      0\n1980         0\n1981         0\n1982         0\n1983         0\n1984         0\n1985         0\n1986         0\n1987         0\n1988         0\n1989         0\n1990         0\n1991         0\n1992         0\n1993         0\n1994         0\n1995         0\n1996         0\n1997         0\n1998         0\n1999         0\n2000         0\n2001         0\n2002         0\n2003         0\n2004         0\n2005         0\n2006         0\n2007         0\n2008         0\n2009         0\n2010         0\n2011         0\n2012         0\n2013         0\nTotal        0\ndtype: int64"
          },
          "metadata": {}
        }
      ]
    },
    {
      "cell_type": "markdown",
      "source": [
        "Finally, let's view a quick summary of each column in our dataframe using the `describe()` method.\n"
      ],
      "metadata": {
        "button": false,
        "new_sheet": false,
        "run_control": {
          "read_only": false
        },
        "id": "vnjbtA9S0rd_"
      }
    },
    {
      "cell_type": "code",
      "source": [
        "df_can.describe()"
      ],
      "metadata": {
        "button": false,
        "new_sheet": false,
        "run_control": {
          "read_only": false
        },
        "trusted": true,
        "id": "u_DlmOkI0rd_",
        "outputId": "b72cb847-a932-4b56-d732-2161d7ee42d6"
      },
      "execution_count": null,
      "outputs": [
        {
          "execution_count": 21,
          "output_type": "execute_result",
          "data": {
            "text/plain": "               1980          1981          1982          1983          1984  \\\ncount    195.000000    195.000000    195.000000    195.000000    195.000000   \nmean     508.394872    566.989744    534.723077    387.435897    376.497436   \nstd     1949.588546   2152.643752   1866.997511   1204.333597   1198.246371   \nmin        0.000000      0.000000      0.000000      0.000000      0.000000   \n25%        0.000000      0.000000      0.000000      0.000000      0.000000   \n50%       13.000000     10.000000     11.000000     12.000000     13.000000   \n75%      251.500000    295.500000    275.000000    173.000000    181.000000   \nmax    22045.000000  24796.000000  20620.000000  10015.000000  10170.000000   \n\n              1985         1986          1987          1988          1989  \\\ncount   195.000000   195.000000    195.000000    195.000000    195.000000   \nmean    358.861538   441.271795    691.133333    714.389744    843.241026   \nstd    1079.309600  1225.576630   2109.205607   2443.606788   2555.048874   \nmin       0.000000     0.000000      0.000000      0.000000      0.000000   \n25%       0.000000     0.500000      0.500000      1.000000      1.000000   \n50%      17.000000    18.000000     26.000000     34.000000     44.000000   \n75%     197.000000   254.000000    434.000000    409.000000    508.500000   \nmax    9564.000000  9470.000000  21337.000000  27359.000000  23795.000000   \n\n       ...          2005          2006          2007          2008  \\\ncount  ...    195.000000    195.000000    195.000000    195.000000   \nmean   ...   1320.292308   1266.958974   1191.820513   1246.394872   \nstd    ...   4425.957828   3926.717747   3443.542409   3694.573544   \nmin    ...      0.000000      0.000000      0.000000      0.000000   \n25%    ...     28.500000     25.000000     31.000000     31.000000   \n50%    ...    210.000000    218.000000    198.000000    205.000000   \n75%    ...    832.000000    842.000000    899.000000    934.500000   \nmax    ...  42584.000000  33848.000000  28742.000000  30037.000000   \n\n               2009          2010          2011          2012          2013  \\\ncount    195.000000    195.000000    195.000000    195.000000    195.000000   \nmean    1275.733333   1420.287179   1262.533333   1313.958974   1320.702564   \nstd     3829.630424   4462.946328   4030.084313   4247.555161   4237.951988   \nmin        0.000000      0.000000      0.000000      0.000000      0.000000   \n25%       36.000000     40.500000     37.500000     42.500000     45.000000   \n50%      214.000000    211.000000    179.000000    233.000000    213.000000   \n75%      888.000000    932.000000    772.000000    783.000000    796.000000   \nmax    29622.000000  38617.000000  36765.000000  34315.000000  34129.000000   \n\n              Total  \ncount  1.950000e+02  \nmean   9.860235e+04  \nstd    2.753565e+05  \nmin    3.000000e+00  \n25%    2.856000e+03  \n50%    1.505400e+04  \n75%    6.671850e+04  \nmax    2.075712e+06  \n\n[8 rows x 35 columns]",
            "text/html": "<div>\n<style scoped>\n    .dataframe tbody tr th:only-of-type {\n        vertical-align: middle;\n    }\n\n    .dataframe tbody tr th {\n        vertical-align: top;\n    }\n\n    .dataframe thead th {\n        text-align: right;\n    }\n</style>\n<table border=\"1\" class=\"dataframe\">\n  <thead>\n    <tr style=\"text-align: right;\">\n      <th></th>\n      <th>1980</th>\n      <th>1981</th>\n      <th>1982</th>\n      <th>1983</th>\n      <th>1984</th>\n      <th>1985</th>\n      <th>1986</th>\n      <th>1987</th>\n      <th>1988</th>\n      <th>1989</th>\n      <th>...</th>\n      <th>2005</th>\n      <th>2006</th>\n      <th>2007</th>\n      <th>2008</th>\n      <th>2009</th>\n      <th>2010</th>\n      <th>2011</th>\n      <th>2012</th>\n      <th>2013</th>\n      <th>Total</th>\n    </tr>\n  </thead>\n  <tbody>\n    <tr>\n      <th>count</th>\n      <td>195.000000</td>\n      <td>195.000000</td>\n      <td>195.000000</td>\n      <td>195.000000</td>\n      <td>195.000000</td>\n      <td>195.000000</td>\n      <td>195.000000</td>\n      <td>195.000000</td>\n      <td>195.000000</td>\n      <td>195.000000</td>\n      <td>...</td>\n      <td>195.000000</td>\n      <td>195.000000</td>\n      <td>195.000000</td>\n      <td>195.000000</td>\n      <td>195.000000</td>\n      <td>195.000000</td>\n      <td>195.000000</td>\n      <td>195.000000</td>\n      <td>195.000000</td>\n      <td>1.950000e+02</td>\n    </tr>\n    <tr>\n      <th>mean</th>\n      <td>508.394872</td>\n      <td>566.989744</td>\n      <td>534.723077</td>\n      <td>387.435897</td>\n      <td>376.497436</td>\n      <td>358.861538</td>\n      <td>441.271795</td>\n      <td>691.133333</td>\n      <td>714.389744</td>\n      <td>843.241026</td>\n      <td>...</td>\n      <td>1320.292308</td>\n      <td>1266.958974</td>\n      <td>1191.820513</td>\n      <td>1246.394872</td>\n      <td>1275.733333</td>\n      <td>1420.287179</td>\n      <td>1262.533333</td>\n      <td>1313.958974</td>\n      <td>1320.702564</td>\n      <td>9.860235e+04</td>\n    </tr>\n    <tr>\n      <th>std</th>\n      <td>1949.588546</td>\n      <td>2152.643752</td>\n      <td>1866.997511</td>\n      <td>1204.333597</td>\n      <td>1198.246371</td>\n      <td>1079.309600</td>\n      <td>1225.576630</td>\n      <td>2109.205607</td>\n      <td>2443.606788</td>\n      <td>2555.048874</td>\n      <td>...</td>\n      <td>4425.957828</td>\n      <td>3926.717747</td>\n      <td>3443.542409</td>\n      <td>3694.573544</td>\n      <td>3829.630424</td>\n      <td>4462.946328</td>\n      <td>4030.084313</td>\n      <td>4247.555161</td>\n      <td>4237.951988</td>\n      <td>2.753565e+05</td>\n    </tr>\n    <tr>\n      <th>min</th>\n      <td>0.000000</td>\n      <td>0.000000</td>\n      <td>0.000000</td>\n      <td>0.000000</td>\n      <td>0.000000</td>\n      <td>0.000000</td>\n      <td>0.000000</td>\n      <td>0.000000</td>\n      <td>0.000000</td>\n      <td>0.000000</td>\n      <td>...</td>\n      <td>0.000000</td>\n      <td>0.000000</td>\n      <td>0.000000</td>\n      <td>0.000000</td>\n      <td>0.000000</td>\n      <td>0.000000</td>\n      <td>0.000000</td>\n      <td>0.000000</td>\n      <td>0.000000</td>\n      <td>3.000000e+00</td>\n    </tr>\n    <tr>\n      <th>25%</th>\n      <td>0.000000</td>\n      <td>0.000000</td>\n      <td>0.000000</td>\n      <td>0.000000</td>\n      <td>0.000000</td>\n      <td>0.000000</td>\n      <td>0.500000</td>\n      <td>0.500000</td>\n      <td>1.000000</td>\n      <td>1.000000</td>\n      <td>...</td>\n      <td>28.500000</td>\n      <td>25.000000</td>\n      <td>31.000000</td>\n      <td>31.000000</td>\n      <td>36.000000</td>\n      <td>40.500000</td>\n      <td>37.500000</td>\n      <td>42.500000</td>\n      <td>45.000000</td>\n      <td>2.856000e+03</td>\n    </tr>\n    <tr>\n      <th>50%</th>\n      <td>13.000000</td>\n      <td>10.000000</td>\n      <td>11.000000</td>\n      <td>12.000000</td>\n      <td>13.000000</td>\n      <td>17.000000</td>\n      <td>18.000000</td>\n      <td>26.000000</td>\n      <td>34.000000</td>\n      <td>44.000000</td>\n      <td>...</td>\n      <td>210.000000</td>\n      <td>218.000000</td>\n      <td>198.000000</td>\n      <td>205.000000</td>\n      <td>214.000000</td>\n      <td>211.000000</td>\n      <td>179.000000</td>\n      <td>233.000000</td>\n      <td>213.000000</td>\n      <td>1.505400e+04</td>\n    </tr>\n    <tr>\n      <th>75%</th>\n      <td>251.500000</td>\n      <td>295.500000</td>\n      <td>275.000000</td>\n      <td>173.000000</td>\n      <td>181.000000</td>\n      <td>197.000000</td>\n      <td>254.000000</td>\n      <td>434.000000</td>\n      <td>409.000000</td>\n      <td>508.500000</td>\n      <td>...</td>\n      <td>832.000000</td>\n      <td>842.000000</td>\n      <td>899.000000</td>\n      <td>934.500000</td>\n      <td>888.000000</td>\n      <td>932.000000</td>\n      <td>772.000000</td>\n      <td>783.000000</td>\n      <td>796.000000</td>\n      <td>6.671850e+04</td>\n    </tr>\n    <tr>\n      <th>max</th>\n      <td>22045.000000</td>\n      <td>24796.000000</td>\n      <td>20620.000000</td>\n      <td>10015.000000</td>\n      <td>10170.000000</td>\n      <td>9564.000000</td>\n      <td>9470.000000</td>\n      <td>21337.000000</td>\n      <td>27359.000000</td>\n      <td>23795.000000</td>\n      <td>...</td>\n      <td>42584.000000</td>\n      <td>33848.000000</td>\n      <td>28742.000000</td>\n      <td>30037.000000</td>\n      <td>29622.000000</td>\n      <td>38617.000000</td>\n      <td>36765.000000</td>\n      <td>34315.000000</td>\n      <td>34129.000000</td>\n      <td>2.075712e+06</td>\n    </tr>\n  </tbody>\n</table>\n<p>8 rows × 35 columns</p>\n</div>"
          },
          "metadata": {}
        }
      ]
    },
    {
      "cell_type": "markdown",
      "source": [
        "***\n",
        "\n",
        "## *pandas* Intermediate: Indexing and Selection (slicing)<a id=\"6\"></a>\n"
      ],
      "metadata": {
        "button": false,
        "new_sheet": false,
        "run_control": {
          "read_only": false
        },
        "id": "Xj8hOHbq0rd_"
      }
    },
    {
      "cell_type": "markdown",
      "source": [
        "### Select Column\n",
        "\n",
        "**There are two ways to filter on a column name:**\n",
        "\n",
        "Method 1: Quick and easy, but only works if the column name does NOT have spaces or special characters.\n",
        "\n",
        "```python\n",
        "    df.column_name               # returns series\n",
        "```\n",
        "\n",
        "Method 2: More robust, and can filter on multiple columns.\n",
        "\n",
        "```python\n",
        "    df['column']                  # returns series\n",
        "```\n",
        "\n",
        "```python\n",
        "    df[['column 1', 'column 2']]  # returns dataframe\n",
        "```\n",
        "\n",
        "***\n"
      ],
      "metadata": {
        "button": false,
        "new_sheet": false,
        "run_control": {
          "read_only": false
        },
        "id": "UxIXp6k00rd_"
      }
    },
    {
      "cell_type": "markdown",
      "source": [
        "Example: Let's try filtering on the list of countries ('Country').\n"
      ],
      "metadata": {
        "button": false,
        "new_sheet": false,
        "run_control": {
          "read_only": false
        },
        "id": "khhprDIQ0reA"
      }
    },
    {
      "cell_type": "code",
      "source": [
        "df_can.Country  # returns a series"
      ],
      "metadata": {
        "button": false,
        "new_sheet": false,
        "run_control": {
          "read_only": false
        },
        "scrolled": true,
        "trusted": true,
        "id": "U23enx0E0reA",
        "outputId": "864f62ec-2269-4524-9699-9a3de49106ed"
      },
      "execution_count": null,
      "outputs": [
        {
          "execution_count": 22,
          "output_type": "execute_result",
          "data": {
            "text/plain": "0         Afghanistan\n1             Albania\n2             Algeria\n3      American Samoa\n4             Andorra\n            ...      \n190          Viet Nam\n191    Western Sahara\n192             Yemen\n193            Zambia\n194          Zimbabwe\nName: Country, Length: 195, dtype: object"
          },
          "metadata": {}
        }
      ]
    },
    {
      "cell_type": "markdown",
      "source": [
        "Let's try filtering on the list of countries ('Country') and the data for years: 1980 - 1985.\n"
      ],
      "metadata": {
        "button": false,
        "new_sheet": false,
        "run_control": {
          "read_only": false
        },
        "id": "qgpymqvD0reA"
      }
    },
    {
      "cell_type": "code",
      "source": [
        "df_can[['Country', 1980, 1981, 1982, 1983, 1984, 1985]] # returns a dataframe\n",
        "# notice that 'Country' is string, and the years are integers.\n",
        "# for the sake of consistency, we will convert all column names to string later on."
      ],
      "metadata": {
        "button": false,
        "new_sheet": false,
        "run_control": {
          "read_only": false
        },
        "trusted": true,
        "id": "ZLKIjYex0reA",
        "outputId": "4cc84bad-fcf6-40a3-c278-bcf4e5f6e48f"
      },
      "execution_count": null,
      "outputs": [
        {
          "execution_count": 23,
          "output_type": "execute_result",
          "data": {
            "text/plain": "            Country  1980  1981  1982  1983  1984  1985\n0       Afghanistan    16    39    39    47    71   340\n1           Albania     1     0     0     0     0     0\n2           Algeria    80    67    71    69    63    44\n3    American Samoa     0     1     0     0     0     0\n4           Andorra     0     0     0     0     0     0\n..              ...   ...   ...   ...   ...   ...   ...\n190        Viet Nam  1191  1829  2162  3404  7583  5907\n191  Western Sahara     0     0     0     0     0     0\n192           Yemen     1     2     1     6     0    18\n193          Zambia    11    17    11     7    16     9\n194        Zimbabwe    72   114   102    44    32    29\n\n[195 rows x 7 columns]",
            "text/html": "<div>\n<style scoped>\n    .dataframe tbody tr th:only-of-type {\n        vertical-align: middle;\n    }\n\n    .dataframe tbody tr th {\n        vertical-align: top;\n    }\n\n    .dataframe thead th {\n        text-align: right;\n    }\n</style>\n<table border=\"1\" class=\"dataframe\">\n  <thead>\n    <tr style=\"text-align: right;\">\n      <th></th>\n      <th>Country</th>\n      <th>1980</th>\n      <th>1981</th>\n      <th>1982</th>\n      <th>1983</th>\n      <th>1984</th>\n      <th>1985</th>\n    </tr>\n  </thead>\n  <tbody>\n    <tr>\n      <th>0</th>\n      <td>Afghanistan</td>\n      <td>16</td>\n      <td>39</td>\n      <td>39</td>\n      <td>47</td>\n      <td>71</td>\n      <td>340</td>\n    </tr>\n    <tr>\n      <th>1</th>\n      <td>Albania</td>\n      <td>1</td>\n      <td>0</td>\n      <td>0</td>\n      <td>0</td>\n      <td>0</td>\n      <td>0</td>\n    </tr>\n    <tr>\n      <th>2</th>\n      <td>Algeria</td>\n      <td>80</td>\n      <td>67</td>\n      <td>71</td>\n      <td>69</td>\n      <td>63</td>\n      <td>44</td>\n    </tr>\n    <tr>\n      <th>3</th>\n      <td>American Samoa</td>\n      <td>0</td>\n      <td>1</td>\n      <td>0</td>\n      <td>0</td>\n      <td>0</td>\n      <td>0</td>\n    </tr>\n    <tr>\n      <th>4</th>\n      <td>Andorra</td>\n      <td>0</td>\n      <td>0</td>\n      <td>0</td>\n      <td>0</td>\n      <td>0</td>\n      <td>0</td>\n    </tr>\n    <tr>\n      <th>...</th>\n      <td>...</td>\n      <td>...</td>\n      <td>...</td>\n      <td>...</td>\n      <td>...</td>\n      <td>...</td>\n      <td>...</td>\n    </tr>\n    <tr>\n      <th>190</th>\n      <td>Viet Nam</td>\n      <td>1191</td>\n      <td>1829</td>\n      <td>2162</td>\n      <td>3404</td>\n      <td>7583</td>\n      <td>5907</td>\n    </tr>\n    <tr>\n      <th>191</th>\n      <td>Western Sahara</td>\n      <td>0</td>\n      <td>0</td>\n      <td>0</td>\n      <td>0</td>\n      <td>0</td>\n      <td>0</td>\n    </tr>\n    <tr>\n      <th>192</th>\n      <td>Yemen</td>\n      <td>1</td>\n      <td>2</td>\n      <td>1</td>\n      <td>6</td>\n      <td>0</td>\n      <td>18</td>\n    </tr>\n    <tr>\n      <th>193</th>\n      <td>Zambia</td>\n      <td>11</td>\n      <td>17</td>\n      <td>11</td>\n      <td>7</td>\n      <td>16</td>\n      <td>9</td>\n    </tr>\n    <tr>\n      <th>194</th>\n      <td>Zimbabwe</td>\n      <td>72</td>\n      <td>114</td>\n      <td>102</td>\n      <td>44</td>\n      <td>32</td>\n      <td>29</td>\n    </tr>\n  </tbody>\n</table>\n<p>195 rows × 7 columns</p>\n</div>"
          },
          "metadata": {}
        }
      ]
    },
    {
      "cell_type": "markdown",
      "source": [
        "### Select Row\n",
        "\n",
        "There are main 2 ways to select rows:\n",
        "\n",
        "```python\n",
        "    df.loc[label]    # filters by the labels of the index/column\n",
        "    df.iloc[index]   # filters by the positions of the index/column\n",
        "```\n"
      ],
      "metadata": {
        "button": false,
        "new_sheet": false,
        "run_control": {
          "read_only": false
        },
        "id": "tL4TxXhw0reA"
      }
    },
    {
      "cell_type": "markdown",
      "source": [
        "Before we proceed, notice that the default index of the dataset is a numeric range from 0 to 194. This makes it very difficult to do a query by a specific country. For example to search for data on Japan, we need to know the corresponding index value.\n",
        "\n",
        "This can be fixed very easily by setting the 'Country' column as the index using `set_index()` method.\n"
      ],
      "metadata": {
        "button": false,
        "new_sheet": false,
        "run_control": {
          "read_only": false
        },
        "id": "oagBu7X40reA"
      }
    },
    {
      "cell_type": "code",
      "source": [
        "df_can.set_index('Country', inplace=True)\n",
        "# tip: The opposite of set is reset. So to reset the index, we can use df_can.reset_index()"
      ],
      "metadata": {
        "button": false,
        "new_sheet": false,
        "run_control": {
          "read_only": false
        },
        "scrolled": true,
        "trusted": true,
        "id": "zPib89cf0reA"
      },
      "execution_count": null,
      "outputs": []
    },
    {
      "cell_type": "code",
      "source": [
        "df_can.head(3)"
      ],
      "metadata": {
        "button": false,
        "new_sheet": false,
        "run_control": {
          "read_only": false
        },
        "trusted": true,
        "id": "vZIB_3830reA",
        "outputId": "19018af5-20b0-4784-eb74-665d19f84ea4"
      },
      "execution_count": null,
      "outputs": [
        {
          "execution_count": 25,
          "output_type": "execute_result",
          "data": {
            "text/plain": "            Continent           Region             DevName  1980  1981  1982  \\\nCountry                                                                        \nAfghanistan      Asia    Southern Asia  Developing regions    16    39    39   \nAlbania        Europe  Southern Europe   Developed regions     1     0     0   \nAlgeria        Africa  Northern Africa  Developing regions    80    67    71   \n\n             1983  1984  1985  1986  ...  2005  2006  2007  2008  2009  2010  \\\nCountry                              ...                                       \nAfghanistan    47    71   340   496  ...  3436  3009  2652  2111  1746  1758   \nAlbania         0     0     0     1  ...  1223   856   702   560   716   561   \nAlgeria        69    63    44    69  ...  3626  4807  3623  4005  5393  4752   \n\n             2011  2012  2013   Total  \nCountry                                \nAfghanistan  2203  2635  2004  175917  \nAlbania       539   620   603   47097  \nAlgeria      4325  3774  4331  208317  \n\n[3 rows x 38 columns]",
            "text/html": "<div>\n<style scoped>\n    .dataframe tbody tr th:only-of-type {\n        vertical-align: middle;\n    }\n\n    .dataframe tbody tr th {\n        vertical-align: top;\n    }\n\n    .dataframe thead th {\n        text-align: right;\n    }\n</style>\n<table border=\"1\" class=\"dataframe\">\n  <thead>\n    <tr style=\"text-align: right;\">\n      <th></th>\n      <th>Continent</th>\n      <th>Region</th>\n      <th>DevName</th>\n      <th>1980</th>\n      <th>1981</th>\n      <th>1982</th>\n      <th>1983</th>\n      <th>1984</th>\n      <th>1985</th>\n      <th>1986</th>\n      <th>...</th>\n      <th>2005</th>\n      <th>2006</th>\n      <th>2007</th>\n      <th>2008</th>\n      <th>2009</th>\n      <th>2010</th>\n      <th>2011</th>\n      <th>2012</th>\n      <th>2013</th>\n      <th>Total</th>\n    </tr>\n    <tr>\n      <th>Country</th>\n      <th></th>\n      <th></th>\n      <th></th>\n      <th></th>\n      <th></th>\n      <th></th>\n      <th></th>\n      <th></th>\n      <th></th>\n      <th></th>\n      <th></th>\n      <th></th>\n      <th></th>\n      <th></th>\n      <th></th>\n      <th></th>\n      <th></th>\n      <th></th>\n      <th></th>\n      <th></th>\n      <th></th>\n    </tr>\n  </thead>\n  <tbody>\n    <tr>\n      <th>Afghanistan</th>\n      <td>Asia</td>\n      <td>Southern Asia</td>\n      <td>Developing regions</td>\n      <td>16</td>\n      <td>39</td>\n      <td>39</td>\n      <td>47</td>\n      <td>71</td>\n      <td>340</td>\n      <td>496</td>\n      <td>...</td>\n      <td>3436</td>\n      <td>3009</td>\n      <td>2652</td>\n      <td>2111</td>\n      <td>1746</td>\n      <td>1758</td>\n      <td>2203</td>\n      <td>2635</td>\n      <td>2004</td>\n      <td>175917</td>\n    </tr>\n    <tr>\n      <th>Albania</th>\n      <td>Europe</td>\n      <td>Southern Europe</td>\n      <td>Developed regions</td>\n      <td>1</td>\n      <td>0</td>\n      <td>0</td>\n      <td>0</td>\n      <td>0</td>\n      <td>0</td>\n      <td>1</td>\n      <td>...</td>\n      <td>1223</td>\n      <td>856</td>\n      <td>702</td>\n      <td>560</td>\n      <td>716</td>\n      <td>561</td>\n      <td>539</td>\n      <td>620</td>\n      <td>603</td>\n      <td>47097</td>\n    </tr>\n    <tr>\n      <th>Algeria</th>\n      <td>Africa</td>\n      <td>Northern Africa</td>\n      <td>Developing regions</td>\n      <td>80</td>\n      <td>67</td>\n      <td>71</td>\n      <td>69</td>\n      <td>63</td>\n      <td>44</td>\n      <td>69</td>\n      <td>...</td>\n      <td>3626</td>\n      <td>4807</td>\n      <td>3623</td>\n      <td>4005</td>\n      <td>5393</td>\n      <td>4752</td>\n      <td>4325</td>\n      <td>3774</td>\n      <td>4331</td>\n      <td>208317</td>\n    </tr>\n  </tbody>\n</table>\n<p>3 rows × 38 columns</p>\n</div>"
          },
          "metadata": {}
        }
      ]
    },
    {
      "cell_type": "code",
      "source": [
        "# optional: to remove the name of the index\n",
        "df_can.index.name = None"
      ],
      "metadata": {
        "button": false,
        "new_sheet": false,
        "run_control": {
          "read_only": false
        },
        "trusted": true,
        "id": "RBcOyNfE0reB"
      },
      "execution_count": null,
      "outputs": []
    },
    {
      "cell_type": "markdown",
      "source": [
        "Example: Let's view the number of immigrants from Japan (row 87) for the following scenarios:\n",
        "1\\. The full row data (all columns)\n",
        "2\\. For year 2013\n",
        "3\\. For years 1980 to 1985\n"
      ],
      "metadata": {
        "button": false,
        "new_sheet": false,
        "run_control": {
          "read_only": false
        },
        "id": "OsMXyufM0reB"
      }
    },
    {
      "cell_type": "code",
      "source": [
        "# 1. the full row data (all columns)\n",
        "df_can.loc['Japan']"
      ],
      "metadata": {
        "button": false,
        "new_sheet": false,
        "run_control": {
          "read_only": false
        },
        "scrolled": true,
        "trusted": true,
        "id": "EpyDfxRR0reB",
        "outputId": "5e7d9f1d-0e52-459f-b224-5c78b19482f0"
      },
      "execution_count": null,
      "outputs": [
        {
          "execution_count": 27,
          "output_type": "execute_result",
          "data": {
            "text/plain": "Continent                 Asia\nRegion            Eastern Asia\nDevName      Developed regions\n1980                       701\n1981                       756\n1982                       598\n1983                       309\n1984                       246\n1985                       198\n1986                       248\n1987                       422\n1988                       324\n1989                       494\n1990                       379\n1991                       506\n1992                       605\n1993                       907\n1994                       956\n1995                       826\n1996                       994\n1997                       924\n1998                       897\n1999                      1083\n2000                      1010\n2001                      1092\n2002                       806\n2003                       817\n2004                       973\n2005                      1067\n2006                      1212\n2007                      1250\n2008                      1284\n2009                      1194\n2010                      1168\n2011                      1265\n2012                      1214\n2013                       982\nTotal                    83121\nName: Japan, dtype: object"
          },
          "metadata": {}
        }
      ]
    },
    {
      "cell_type": "code",
      "source": [
        "# alternate methods\n",
        "df_can.iloc[87]"
      ],
      "metadata": {
        "pycharm": {
          "name": "#%%\n"
        },
        "jupyter": {
          "outputs_hidden": false
        },
        "trusted": true,
        "id": "-xtTWHnA0reB",
        "outputId": "3a1d3f0b-5551-4ee4-b2fd-99a023c96c44"
      },
      "execution_count": null,
      "outputs": [
        {
          "execution_count": 28,
          "output_type": "execute_result",
          "data": {
            "text/plain": "Continent                 Asia\nRegion            Eastern Asia\nDevName      Developed regions\n1980                       701\n1981                       756\n1982                       598\n1983                       309\n1984                       246\n1985                       198\n1986                       248\n1987                       422\n1988                       324\n1989                       494\n1990                       379\n1991                       506\n1992                       605\n1993                       907\n1994                       956\n1995                       826\n1996                       994\n1997                       924\n1998                       897\n1999                      1083\n2000                      1010\n2001                      1092\n2002                       806\n2003                       817\n2004                       973\n2005                      1067\n2006                      1212\n2007                      1250\n2008                      1284\n2009                      1194\n2010                      1168\n2011                      1265\n2012                      1214\n2013                       982\nTotal                    83121\nName: Japan, dtype: object"
          },
          "metadata": {}
        }
      ]
    },
    {
      "cell_type": "code",
      "source": [
        "df_can[df_can.index == 'Japan']"
      ],
      "metadata": {
        "pycharm": {
          "name": "#%%\n"
        },
        "jupyter": {
          "outputs_hidden": false
        },
        "trusted": true,
        "id": "Xe2YvtvG0reB",
        "outputId": "546d4137-ef8a-4ffb-8b43-37be9d82cfa4"
      },
      "execution_count": null,
      "outputs": [
        {
          "execution_count": 29,
          "output_type": "execute_result",
          "data": {
            "text/plain": "      Continent        Region            DevName  1980  1981  1982  1983  \\\nJapan      Asia  Eastern Asia  Developed regions   701   756   598   309   \n\n       1984  1985  1986  ...  2005  2006  2007  2008  2009  2010  2011  2012  \\\nJapan   246   198   248  ...  1067  1212  1250  1284  1194  1168  1265  1214   \n\n       2013  Total  \nJapan   982  83121  \n\n[1 rows x 38 columns]",
            "text/html": "<div>\n<style scoped>\n    .dataframe tbody tr th:only-of-type {\n        vertical-align: middle;\n    }\n\n    .dataframe tbody tr th {\n        vertical-align: top;\n    }\n\n    .dataframe thead th {\n        text-align: right;\n    }\n</style>\n<table border=\"1\" class=\"dataframe\">\n  <thead>\n    <tr style=\"text-align: right;\">\n      <th></th>\n      <th>Continent</th>\n      <th>Region</th>\n      <th>DevName</th>\n      <th>1980</th>\n      <th>1981</th>\n      <th>1982</th>\n      <th>1983</th>\n      <th>1984</th>\n      <th>1985</th>\n      <th>1986</th>\n      <th>...</th>\n      <th>2005</th>\n      <th>2006</th>\n      <th>2007</th>\n      <th>2008</th>\n      <th>2009</th>\n      <th>2010</th>\n      <th>2011</th>\n      <th>2012</th>\n      <th>2013</th>\n      <th>Total</th>\n    </tr>\n  </thead>\n  <tbody>\n    <tr>\n      <th>Japan</th>\n      <td>Asia</td>\n      <td>Eastern Asia</td>\n      <td>Developed regions</td>\n      <td>701</td>\n      <td>756</td>\n      <td>598</td>\n      <td>309</td>\n      <td>246</td>\n      <td>198</td>\n      <td>248</td>\n      <td>...</td>\n      <td>1067</td>\n      <td>1212</td>\n      <td>1250</td>\n      <td>1284</td>\n      <td>1194</td>\n      <td>1168</td>\n      <td>1265</td>\n      <td>1214</td>\n      <td>982</td>\n      <td>83121</td>\n    </tr>\n  </tbody>\n</table>\n<p>1 rows × 38 columns</p>\n</div>"
          },
          "metadata": {}
        }
      ]
    },
    {
      "cell_type": "code",
      "source": [
        "# 2. for year 2013\n",
        "df_can.loc['Japan', 2013]"
      ],
      "metadata": {
        "button": false,
        "new_sheet": false,
        "run_control": {
          "read_only": false
        },
        "scrolled": true,
        "trusted": true,
        "id": "4oxHGh8y0reB",
        "outputId": "a876bbcb-5738-48fc-94ba-d7a1cf376cf8"
      },
      "execution_count": null,
      "outputs": [
        {
          "execution_count": 30,
          "output_type": "execute_result",
          "data": {
            "text/plain": "982"
          },
          "metadata": {}
        }
      ]
    },
    {
      "cell_type": "code",
      "source": [
        "# alternate method\n",
        "# year 2013 is the last column, with a positional index of 36\n",
        "df_can.iloc[87, 36]"
      ],
      "metadata": {
        "pycharm": {
          "name": "#%%\n"
        },
        "jupyter": {
          "outputs_hidden": false
        },
        "trusted": true,
        "id": "NdzH5hg00reC",
        "outputId": "4567d8cb-73e4-46bc-b234-55f90d1afb10"
      },
      "execution_count": null,
      "outputs": [
        {
          "execution_count": 31,
          "output_type": "execute_result",
          "data": {
            "text/plain": "982"
          },
          "metadata": {}
        }
      ]
    },
    {
      "cell_type": "code",
      "source": [
        "# 3. for years 1980 to 1985\n",
        "df_can.loc['Japan', [1980, 1981, 1982, 1983, 1984, 1984]]"
      ],
      "metadata": {
        "button": false,
        "new_sheet": false,
        "run_control": {
          "read_only": false
        },
        "trusted": true,
        "id": "7caK_hdm0reC",
        "outputId": "7d9aa6de-77ee-4a64-d9fa-fa0fee7e7ff3"
      },
      "execution_count": null,
      "outputs": [
        {
          "execution_count": 32,
          "output_type": "execute_result",
          "data": {
            "text/plain": "1980    701\n1981    756\n1982    598\n1983    309\n1984    246\n1984    246\nName: Japan, dtype: object"
          },
          "metadata": {}
        }
      ]
    },
    {
      "cell_type": "code",
      "source": [
        "# Alternative Method\n",
        "df_can.iloc[87, [3, 4, 5, 6, 7, 8]]"
      ],
      "metadata": {
        "pycharm": {
          "name": "#%%\n"
        },
        "jupyter": {
          "outputs_hidden": false
        },
        "trusted": true,
        "id": "hCSgZ-9H0reC",
        "outputId": "a9f5b6f8-059d-4336-f011-99905477c552"
      },
      "execution_count": null,
      "outputs": [
        {
          "execution_count": 33,
          "output_type": "execute_result",
          "data": {
            "text/plain": "1980    701\n1981    756\n1982    598\n1983    309\n1984    246\n1985    198\nName: Japan, dtype: object"
          },
          "metadata": {}
        }
      ]
    },
    {
      "cell_type": "markdown",
      "source": [
        "Column names that are integers (such as the years) might introduce some confusion. For example, when we are referencing the year 2013, one might confuse that when the 2013th positional index.\n",
        "\n",
        "To avoid this ambuigity, let's convert the column names into strings: '1980' to '2013'.\n"
      ],
      "metadata": {
        "button": false,
        "new_sheet": false,
        "run_control": {
          "read_only": false
        },
        "id": "K9SOSCNn0reC"
      }
    },
    {
      "cell_type": "code",
      "source": [
        "df_can.columns = list(map(str, df_can.columns))\n",
        "# [print (type(x)) for x in df_can.columns.values] #<-- uncomment to check type of column headers"
      ],
      "metadata": {
        "button": false,
        "new_sheet": false,
        "run_control": {
          "read_only": false
        },
        "trusted": true,
        "id": "TLKMwSSs0reC"
      },
      "execution_count": null,
      "outputs": []
    },
    {
      "cell_type": "markdown",
      "source": [
        "Since we converted the years to string, let's declare a variable that will allow us to easily call upon the full range of years:\n"
      ],
      "metadata": {
        "button": false,
        "new_sheet": false,
        "run_control": {
          "read_only": false
        },
        "id": "sI8-aSzr0reC"
      }
    },
    {
      "cell_type": "code",
      "source": [
        "# useful for plotting later on\n",
        "years = list(map(str, range(1980, 2014)))\n",
        "years"
      ],
      "metadata": {
        "button": false,
        "new_sheet": false,
        "run_control": {
          "read_only": false
        },
        "trusted": true,
        "id": "fcHMElz20reC",
        "outputId": "0deda822-88ce-4875-bc37-4a29525ebeed"
      },
      "execution_count": null,
      "outputs": [
        {
          "execution_count": 35,
          "output_type": "execute_result",
          "data": {
            "text/plain": "['1980',\n '1981',\n '1982',\n '1983',\n '1984',\n '1985',\n '1986',\n '1987',\n '1988',\n '1989',\n '1990',\n '1991',\n '1992',\n '1993',\n '1994',\n '1995',\n '1996',\n '1997',\n '1998',\n '1999',\n '2000',\n '2001',\n '2002',\n '2003',\n '2004',\n '2005',\n '2006',\n '2007',\n '2008',\n '2009',\n '2010',\n '2011',\n '2012',\n '2013']"
          },
          "metadata": {}
        }
      ]
    },
    {
      "cell_type": "markdown",
      "source": [
        "### Filtering based on a criteria\n",
        "\n",
        "To filter the dataframe based on a condition, we simply pass the condition as a boolean vector.\n",
        "\n",
        "For example, Let's filter the dataframe to show the data on Asian countries (AreaName = Asia).\n"
      ],
      "metadata": {
        "button": false,
        "new_sheet": false,
        "run_control": {
          "read_only": false
        },
        "id": "86FVbAaz0reD"
      }
    },
    {
      "cell_type": "code",
      "source": [
        "# 1. create the condition boolean series\n",
        "condition = df_can['Continent'] == 'Asia'\n",
        "print(condition)"
      ],
      "metadata": {
        "button": false,
        "new_sheet": false,
        "run_control": {
          "read_only": false
        },
        "scrolled": true,
        "trusted": true,
        "id": "42HUdRV30reD",
        "outputId": "5d4f10e3-adea-4cd8-a63a-7c0d64f9ef0c"
      },
      "execution_count": null,
      "outputs": [
        {
          "name": "stdout",
          "text": "Afghanistan        True\nAlbania           False\nAlgeria           False\nAmerican Samoa    False\nAndorra           False\n                  ...  \nViet Nam           True\nWestern Sahara    False\nYemen              True\nZambia            False\nZimbabwe          False\nName: Continent, Length: 195, dtype: bool\n",
          "output_type": "stream"
        }
      ]
    },
    {
      "cell_type": "code",
      "source": [
        "# 2. pass this condition into the dataFrame\n",
        "df_can[condition]"
      ],
      "metadata": {
        "button": false,
        "new_sheet": false,
        "run_control": {
          "read_only": false
        },
        "trusted": true,
        "id": "709NE9b_0reD",
        "outputId": "ecbe7bc8-7434-4675-9314-d74c426e8718"
      },
      "execution_count": null,
      "outputs": [
        {
          "execution_count": 37,
          "output_type": "execute_result",
          "data": {
            "text/plain": "                                               Continent              Region  \\\nAfghanistan                                         Asia       Southern Asia   \nArmenia                                             Asia        Western Asia   \nAzerbaijan                                          Asia        Western Asia   \nBahrain                                             Asia        Western Asia   \nBangladesh                                          Asia       Southern Asia   \nBhutan                                              Asia       Southern Asia   \nBrunei Darussalam                                   Asia  South-Eastern Asia   \nCambodia                                            Asia  South-Eastern Asia   \nChina                                               Asia        Eastern Asia   \nChina, Hong Kong Special Administrative Region      Asia        Eastern Asia   \nChina, Macao Special Administrative Region          Asia        Eastern Asia   \nCyprus                                              Asia        Western Asia   \nDemocratic People's Republic of Korea               Asia        Eastern Asia   \nGeorgia                                             Asia        Western Asia   \nIndia                                               Asia       Southern Asia   \nIndonesia                                           Asia  South-Eastern Asia   \nIran (Islamic Republic of)                          Asia       Southern Asia   \nIraq                                                Asia        Western Asia   \nIsrael                                              Asia        Western Asia   \nJapan                                               Asia        Eastern Asia   \nJordan                                              Asia        Western Asia   \nKazakhstan                                          Asia        Central Asia   \nKuwait                                              Asia        Western Asia   \nKyrgyzstan                                          Asia        Central Asia   \nLao People's Democratic Republic                    Asia  South-Eastern Asia   \nLebanon                                             Asia        Western Asia   \nMalaysia                                            Asia  South-Eastern Asia   \nMaldives                                            Asia       Southern Asia   \nMongolia                                            Asia        Eastern Asia   \nMyanmar                                             Asia  South-Eastern Asia   \nNepal                                               Asia       Southern Asia   \nOman                                                Asia        Western Asia   \nPakistan                                            Asia       Southern Asia   \nPhilippines                                         Asia  South-Eastern Asia   \nQatar                                               Asia        Western Asia   \nRepublic of Korea                                   Asia        Eastern Asia   \nSaudi Arabia                                        Asia        Western Asia   \nSingapore                                           Asia  South-Eastern Asia   \nSri Lanka                                           Asia       Southern Asia   \nState of Palestine                                  Asia        Western Asia   \nSyrian Arab Republic                                Asia        Western Asia   \nTajikistan                                          Asia        Central Asia   \nThailand                                            Asia  South-Eastern Asia   \nTurkey                                              Asia        Western Asia   \nTurkmenistan                                        Asia        Central Asia   \nUnited Arab Emirates                                Asia        Western Asia   \nUzbekistan                                          Asia        Central Asia   \nViet Nam                                            Asia  South-Eastern Asia   \nYemen                                               Asia        Western Asia   \n\n                                                           DevName  1980  \\\nAfghanistan                                     Developing regions    16   \nArmenia                                         Developing regions     0   \nAzerbaijan                                      Developing regions     0   \nBahrain                                         Developing regions     0   \nBangladesh                                      Developing regions    83   \nBhutan                                          Developing regions     0   \nBrunei Darussalam                               Developing regions    79   \nCambodia                                        Developing regions    12   \nChina                                           Developing regions  5123   \nChina, Hong Kong Special Administrative Region  Developing regions     0   \nChina, Macao Special Administrative Region      Developing regions     0   \nCyprus                                          Developing regions   132   \nDemocratic People's Republic of Korea           Developing regions     1   \nGeorgia                                         Developing regions     0   \nIndia                                           Developing regions  8880   \nIndonesia                                       Developing regions   186   \nIran (Islamic Republic of)                      Developing regions  1172   \nIraq                                            Developing regions   262   \nIsrael                                          Developing regions  1403   \nJapan                                            Developed regions   701   \nJordan                                          Developing regions   177   \nKazakhstan                                      Developing regions     0   \nKuwait                                          Developing regions     1   \nKyrgyzstan                                      Developing regions     0   \nLao People's Democratic Republic                Developing regions    11   \nLebanon                                         Developing regions  1409   \nMalaysia                                        Developing regions   786   \nMaldives                                        Developing regions     0   \nMongolia                                        Developing regions     0   \nMyanmar                                         Developing regions    80   \nNepal                                           Developing regions     1   \nOman                                            Developing regions     0   \nPakistan                                        Developing regions   978   \nPhilippines                                     Developing regions  6051   \nQatar                                           Developing regions     0   \nRepublic of Korea                               Developing regions  1011   \nSaudi Arabia                                    Developing regions     0   \nSingapore                                       Developing regions   241   \nSri Lanka                                       Developing regions   185   \nState of Palestine                              Developing regions     0   \nSyrian Arab Republic                            Developing regions   315   \nTajikistan                                      Developing regions     0   \nThailand                                        Developing regions    56   \nTurkey                                          Developing regions   481   \nTurkmenistan                                    Developing regions     0   \nUnited Arab Emirates                            Developing regions     0   \nUzbekistan                                      Developing regions     0   \nViet Nam                                        Developing regions  1191   \nYemen                                           Developing regions     1   \n\n                                                1981  1982  1983  1984  1985  \\\nAfghanistan                                       39    39    47    71   340   \nArmenia                                            0     0     0     0     0   \nAzerbaijan                                         0     0     0     0     0   \nBahrain                                            2     1     1     1     3   \nBangladesh                                        84    86    81    98    92   \nBhutan                                             0     0     0     1     0   \nBrunei Darussalam                                  6     8     2     2     4   \nCambodia                                          19    26    33    10     7   \nChina                                           6682  3308  1863  1527  1816   \nChina, Hong Kong Special Administrative Region     0     0     0     0     0   \nChina, Macao Special Administrative Region         0     0     0     0     0   \nCyprus                                           128    84    46    46    43   \nDemocratic People's Republic of Korea              1     3     1     4     3   \nGeorgia                                            0     0     0     0     0   \nIndia                                           8670  8147  7338  5704  4211   \nIndonesia                                        178   252   115   123   100   \nIran (Islamic Republic of)                      1429  1822  1592  1977  1648   \nIraq                                             245   260   380   428   231   \nIsrael                                          1711  1334   541   446   680   \nJapan                                            756   598   309   246   198   \nJordan                                           160   155   113   102   179   \nKazakhstan                                         0     0     0     0     0   \nKuwait                                             0     8     2     1     4   \nKyrgyzstan                                         0     0     0     0     0   \nLao People's Democratic Republic                   6    16    16     7    17   \nLebanon                                         1119  1159   789  1253  1683   \nMalaysia                                         816   813   448   384   374   \nMaldives                                           0     0     1     0     0   \nMongolia                                           0     0     0     0     0   \nMyanmar                                           62    46    31    41    23   \nNepal                                              1     6     1     2     4   \nOman                                               0     0     8     0     0   \nPakistan                                         972  1201   900   668   514   \nPhilippines                                     5921  5249  4562  3801  3150   \nQatar                                              0     0     0     0     0   \nRepublic of Korea                               1456  1572  1081   847   962   \nSaudi Arabia                                       0     1     4     1     2   \nSingapore                                        301   337   169   128   139   \nSri Lanka                                        371   290   197  1086   845   \nState of Palestine                                 0     0     0     0     0   \nSyrian Arab Republic                             419   409   269   264   385   \nTajikistan                                         0     0     0     0     0   \nThailand                                          53   113    65    82    66   \nTurkey                                           874   706   280   338   202   \nTurkmenistan                                       0     0     0     0     0   \nUnited Arab Emirates                               2     2     1     2     0   \nUzbekistan                                         0     0     0     0     0   \nViet Nam                                        1829  2162  3404  7583  5907   \nYemen                                              2     1     6     0    18   \n\n                                                1986  ...   2005   2006  \\\nAfghanistan                                      496  ...   3436   3009   \nArmenia                                            0  ...    224    218   \nAzerbaijan                                         0  ...    359    236   \nBahrain                                            0  ...     12     12   \nBangladesh                                       486  ...   4171   4014   \nBhutan                                             0  ...      5     10   \nBrunei Darussalam                                 12  ...      4      5   \nCambodia                                           8  ...    370    529   \nChina                                           1960  ...  42584  33518   \nChina, Hong Kong Special Administrative Region     0  ...    729    712   \nChina, Macao Special Administrative Region         0  ...     21     32   \nCyprus                                            48  ...      7      9   \nDemocratic People's Republic of Korea              0  ...     14     10   \nGeorgia                                            0  ...    114    125   \nIndia                                           7150  ...  36210  33848   \nIndonesia                                        127  ...    632    613   \nIran (Islamic Republic of)                      1794  ...   5837   7480   \nIraq                                             265  ...   2226   1788   \nIsrael                                          1212  ...   2446   2625   \nJapan                                            248  ...   1067   1212   \nJordan                                           181  ...   1940   1827   \nKazakhstan                                         0  ...    506    408   \nKuwait                                             4  ...     66     35   \nKyrgyzstan                                         0  ...    173    161   \nLao People's Democratic Republic                  21  ...     42     74   \nLebanon                                         2576  ...   3709   3802   \nMalaysia                                         425  ...    593    580   \nMaldives                                           0  ...      0      0   \nMongolia                                           0  ...     59     64   \nMyanmar                                           18  ...    210    953   \nNepal                                             13  ...    607    540   \nOman                                               0  ...     14     18   \nPakistan                                         691  ...  14314  13127   \nPhilippines                                     4166  ...  18139  18400   \nQatar                                              1  ...     11      2   \nRepublic of Korea                               1208  ...   5832   6215   \nSaudi Arabia                                       5  ...    198    252   \nSingapore                                        205  ...    392    298   \nSri Lanka                                       1838  ...   4930   4714   \nState of Palestine                                 0  ...    453    627   \nSyrian Arab Republic                             493  ...   1458   1145   \nTajikistan                                         0  ...     85     46   \nThailand                                          78  ...    575    500   \nTurkey                                           257  ...   2065   1638   \nTurkmenistan                                       0  ...     40     26   \nUnited Arab Emirates                               5  ...     31     42   \nUzbekistan                                         0  ...    330    262   \nViet Nam                                        2741  ...   1852   3153   \nYemen                                              7  ...    161    140   \n\n                                                 2007   2008   2009   2010  \\\nAfghanistan                                      2652   2111   1746   1758   \nArmenia                                           198    205    267    252   \nAzerbaijan                                        203    125    165    209   \nBahrain                                            22      9     35     28   \nBangladesh                                       2897   2939   2104   4721   \nBhutan                                              7     36    865   1464   \nBrunei Darussalam                                  11     10      5     12   \nCambodia                                          460    354    203    200   \nChina                                           27642  30037  29622  30391   \nChina, Hong Kong Special Administrative Region    674    897    657    623   \nChina, Macao Special Administrative Region         16     12     21     21   \nCyprus                                              4      7      6     18   \nDemocratic People's Republic of Korea               7     19     11     45   \nGeorgia                                           132    112    128    126   \nIndia                                           28742  28261  29456  34235   \nIndonesia                                         657    661    504    712   \nIran (Islamic Republic of)                       6974   6475   6580   7477   \nIraq                                             2406   3543   5450   5941   \nIsrael                                           2401   2562   2316   2755   \nJapan                                            1250   1284   1194   1168   \nJordan                                           1421   1581   1235   1831   \nKazakhstan                                        436    394    431    377   \nKuwait                                             62     53     68     67   \nKyrgyzstan                                        135    168    173    157   \nLao People's Democratic Republic                   53     32     39     54   \nLebanon                                          3467   3566   3077   3432   \nMalaysia                                          600    658    640    802   \nMaldives                                            2      1      7      4   \nMongolia                                           82     59    118    169   \nMyanmar                                          1887    975   1153    556   \nNepal                                             511    581    561   1392   \nOman                                               16     10      7     14   \nPakistan                                        10124   8994   7217   6811   \nPhilippines                                     19837  24887  28573  38617   \nQatar                                               5      9      6     18   \nRepublic of Korea                                5920   7294   5874   5537   \nSaudi Arabia                                      188    249    246    330   \nSingapore                                         690    734    366    805   \nSri Lanka                                        4123   4756   4547   4422   \nState of Palestine                                441    481    400    654   \nSyrian Arab Republic                             1056    919    917   1039   \nTajikistan                                         44     15     50     52   \nThailand                                          487    519    512    499   \nTurkey                                           1463   1122   1238   1492   \nTurkmenistan                                       37     13     20     30   \nUnited Arab Emirates                               37     33     37     86   \nUzbekistan                                        284    215    288    289   \nViet Nam                                         2574   1784   2171   1942   \nYemen                                             122    133    128    211   \n\n                                                 2011   2012   2013    Total  \nAfghanistan                                      2203   2635   2004   175917  \nArmenia                                           236    258    207     9930  \nAzerbaijan                                        138    161     57     7947  \nBahrain                                            21     39     32     1425  \nBangladesh                                       2694   2640   3789   196704  \nBhutan                                           1879   1075    487    17628  \nBrunei Darussalam                                   6      3      6     1800  \nCambodia                                          196    233    288    19614  \nChina                                           28502  33024  34129  1979886  \nChina, Hong Kong Special Administrative Region    591    728    774    27981  \nChina, Macao Special Administrative Region         13     33     29      852  \nCyprus                                              6     12     16     3378  \nDemocratic People's Republic of Korea              97     66     17     1164  \nGeorgia                                           139    147    125     6204  \nIndia                                           27509  30933  33087  2075712  \nIndonesia                                         390    395    387    39450  \nIran (Islamic Republic of)                       7479   7534  11291   527769  \nIraq                                             6196   4041   4918   209367  \nIsrael                                           1970   2134   1945   199524  \nJapan                                            1265   1214    982    83121  \nJordan                                           1635   1206   1255   106218  \nKazakhstan                                        381    462    348    25470  \nKuwait                                             58     73     48     6075  \nKyrgyzstan                                        159    278    123     7059  \nLao People's Democratic Republic                   22     25     15     3267  \nLebanon                                          3072   1614   2172   346077  \nMalaysia                                          409    358    204    73251  \nMaldives                                            3      1      1       90  \nMongolia                                          103     68     99     2856  \nMyanmar                                           368    193    262    27735  \nNepal                                            1129   1185   1308    30666  \nOman                                               10     13     11      672  \nPakistan                                         7468  11227  12603   724800  \nPhilippines                                     36765  34315  29544  1534173  \nQatar                                               3     14      6      471  \nRepublic of Korea                                4588   5316   4509   427743  \nSaudi Arabia                                      278    286    267    10275  \nSingapore                                         219    146    141    43737  \nSri Lanka                                        3309   3338   2394   445074  \nState of Palestine                                555    533    462    19536  \nSyrian Arab Republic                             1005    650   1009    94455  \nTajikistan                                         47     34     39     1509  \nThailand                                          396    296    400    27522  \nTurkey                                           1257   1068    729    95343  \nTurkmenistan                                       20     20     14      930  \nUnited Arab Emirates                               60     54     46     2508  \nUzbekistan                                        162    235    167    10104  \nViet Nam                                         1723   1731   2112   291438  \nYemen                                             160    174    217     8955  \n\n[49 rows x 38 columns]",
            "text/html": "<div>\n<style scoped>\n    .dataframe tbody tr th:only-of-type {\n        vertical-align: middle;\n    }\n\n    .dataframe tbody tr th {\n        vertical-align: top;\n    }\n\n    .dataframe thead th {\n        text-align: right;\n    }\n</style>\n<table border=\"1\" class=\"dataframe\">\n  <thead>\n    <tr style=\"text-align: right;\">\n      <th></th>\n      <th>Continent</th>\n      <th>Region</th>\n      <th>DevName</th>\n      <th>1980</th>\n      <th>1981</th>\n      <th>1982</th>\n      <th>1983</th>\n      <th>1984</th>\n      <th>1985</th>\n      <th>1986</th>\n      <th>...</th>\n      <th>2005</th>\n      <th>2006</th>\n      <th>2007</th>\n      <th>2008</th>\n      <th>2009</th>\n      <th>2010</th>\n      <th>2011</th>\n      <th>2012</th>\n      <th>2013</th>\n      <th>Total</th>\n    </tr>\n  </thead>\n  <tbody>\n    <tr>\n      <th>Afghanistan</th>\n      <td>Asia</td>\n      <td>Southern Asia</td>\n      <td>Developing regions</td>\n      <td>16</td>\n      <td>39</td>\n      <td>39</td>\n      <td>47</td>\n      <td>71</td>\n      <td>340</td>\n      <td>496</td>\n      <td>...</td>\n      <td>3436</td>\n      <td>3009</td>\n      <td>2652</td>\n      <td>2111</td>\n      <td>1746</td>\n      <td>1758</td>\n      <td>2203</td>\n      <td>2635</td>\n      <td>2004</td>\n      <td>175917</td>\n    </tr>\n    <tr>\n      <th>Armenia</th>\n      <td>Asia</td>\n      <td>Western Asia</td>\n      <td>Developing regions</td>\n      <td>0</td>\n      <td>0</td>\n      <td>0</td>\n      <td>0</td>\n      <td>0</td>\n      <td>0</td>\n      <td>0</td>\n      <td>...</td>\n      <td>224</td>\n      <td>218</td>\n      <td>198</td>\n      <td>205</td>\n      <td>267</td>\n      <td>252</td>\n      <td>236</td>\n      <td>258</td>\n      <td>207</td>\n      <td>9930</td>\n    </tr>\n    <tr>\n      <th>Azerbaijan</th>\n      <td>Asia</td>\n      <td>Western Asia</td>\n      <td>Developing regions</td>\n      <td>0</td>\n      <td>0</td>\n      <td>0</td>\n      <td>0</td>\n      <td>0</td>\n      <td>0</td>\n      <td>0</td>\n      <td>...</td>\n      <td>359</td>\n      <td>236</td>\n      <td>203</td>\n      <td>125</td>\n      <td>165</td>\n      <td>209</td>\n      <td>138</td>\n      <td>161</td>\n      <td>57</td>\n      <td>7947</td>\n    </tr>\n    <tr>\n      <th>Bahrain</th>\n      <td>Asia</td>\n      <td>Western Asia</td>\n      <td>Developing regions</td>\n      <td>0</td>\n      <td>2</td>\n      <td>1</td>\n      <td>1</td>\n      <td>1</td>\n      <td>3</td>\n      <td>0</td>\n      <td>...</td>\n      <td>12</td>\n      <td>12</td>\n      <td>22</td>\n      <td>9</td>\n      <td>35</td>\n      <td>28</td>\n      <td>21</td>\n      <td>39</td>\n      <td>32</td>\n      <td>1425</td>\n    </tr>\n    <tr>\n      <th>Bangladesh</th>\n      <td>Asia</td>\n      <td>Southern Asia</td>\n      <td>Developing regions</td>\n      <td>83</td>\n      <td>84</td>\n      <td>86</td>\n      <td>81</td>\n      <td>98</td>\n      <td>92</td>\n      <td>486</td>\n      <td>...</td>\n      <td>4171</td>\n      <td>4014</td>\n      <td>2897</td>\n      <td>2939</td>\n      <td>2104</td>\n      <td>4721</td>\n      <td>2694</td>\n      <td>2640</td>\n      <td>3789</td>\n      <td>196704</td>\n    </tr>\n    <tr>\n      <th>Bhutan</th>\n      <td>Asia</td>\n      <td>Southern Asia</td>\n      <td>Developing regions</td>\n      <td>0</td>\n      <td>0</td>\n      <td>0</td>\n      <td>0</td>\n      <td>1</td>\n      <td>0</td>\n      <td>0</td>\n      <td>...</td>\n      <td>5</td>\n      <td>10</td>\n      <td>7</td>\n      <td>36</td>\n      <td>865</td>\n      <td>1464</td>\n      <td>1879</td>\n      <td>1075</td>\n      <td>487</td>\n      <td>17628</td>\n    </tr>\n    <tr>\n      <th>Brunei Darussalam</th>\n      <td>Asia</td>\n      <td>South-Eastern Asia</td>\n      <td>Developing regions</td>\n      <td>79</td>\n      <td>6</td>\n      <td>8</td>\n      <td>2</td>\n      <td>2</td>\n      <td>4</td>\n      <td>12</td>\n      <td>...</td>\n      <td>4</td>\n      <td>5</td>\n      <td>11</td>\n      <td>10</td>\n      <td>5</td>\n      <td>12</td>\n      <td>6</td>\n      <td>3</td>\n      <td>6</td>\n      <td>1800</td>\n    </tr>\n    <tr>\n      <th>Cambodia</th>\n      <td>Asia</td>\n      <td>South-Eastern Asia</td>\n      <td>Developing regions</td>\n      <td>12</td>\n      <td>19</td>\n      <td>26</td>\n      <td>33</td>\n      <td>10</td>\n      <td>7</td>\n      <td>8</td>\n      <td>...</td>\n      <td>370</td>\n      <td>529</td>\n      <td>460</td>\n      <td>354</td>\n      <td>203</td>\n      <td>200</td>\n      <td>196</td>\n      <td>233</td>\n      <td>288</td>\n      <td>19614</td>\n    </tr>\n    <tr>\n      <th>China</th>\n      <td>Asia</td>\n      <td>Eastern Asia</td>\n      <td>Developing regions</td>\n      <td>5123</td>\n      <td>6682</td>\n      <td>3308</td>\n      <td>1863</td>\n      <td>1527</td>\n      <td>1816</td>\n      <td>1960</td>\n      <td>...</td>\n      <td>42584</td>\n      <td>33518</td>\n      <td>27642</td>\n      <td>30037</td>\n      <td>29622</td>\n      <td>30391</td>\n      <td>28502</td>\n      <td>33024</td>\n      <td>34129</td>\n      <td>1979886</td>\n    </tr>\n    <tr>\n      <th>China, Hong Kong Special Administrative Region</th>\n      <td>Asia</td>\n      <td>Eastern Asia</td>\n      <td>Developing regions</td>\n      <td>0</td>\n      <td>0</td>\n      <td>0</td>\n      <td>0</td>\n      <td>0</td>\n      <td>0</td>\n      <td>0</td>\n      <td>...</td>\n      <td>729</td>\n      <td>712</td>\n      <td>674</td>\n      <td>897</td>\n      <td>657</td>\n      <td>623</td>\n      <td>591</td>\n      <td>728</td>\n      <td>774</td>\n      <td>27981</td>\n    </tr>\n    <tr>\n      <th>China, Macao Special Administrative Region</th>\n      <td>Asia</td>\n      <td>Eastern Asia</td>\n      <td>Developing regions</td>\n      <td>0</td>\n      <td>0</td>\n      <td>0</td>\n      <td>0</td>\n      <td>0</td>\n      <td>0</td>\n      <td>0</td>\n      <td>...</td>\n      <td>21</td>\n      <td>32</td>\n      <td>16</td>\n      <td>12</td>\n      <td>21</td>\n      <td>21</td>\n      <td>13</td>\n      <td>33</td>\n      <td>29</td>\n      <td>852</td>\n    </tr>\n    <tr>\n      <th>Cyprus</th>\n      <td>Asia</td>\n      <td>Western Asia</td>\n      <td>Developing regions</td>\n      <td>132</td>\n      <td>128</td>\n      <td>84</td>\n      <td>46</td>\n      <td>46</td>\n      <td>43</td>\n      <td>48</td>\n      <td>...</td>\n      <td>7</td>\n      <td>9</td>\n      <td>4</td>\n      <td>7</td>\n      <td>6</td>\n      <td>18</td>\n      <td>6</td>\n      <td>12</td>\n      <td>16</td>\n      <td>3378</td>\n    </tr>\n    <tr>\n      <th>Democratic People's Republic of Korea</th>\n      <td>Asia</td>\n      <td>Eastern Asia</td>\n      <td>Developing regions</td>\n      <td>1</td>\n      <td>1</td>\n      <td>3</td>\n      <td>1</td>\n      <td>4</td>\n      <td>3</td>\n      <td>0</td>\n      <td>...</td>\n      <td>14</td>\n      <td>10</td>\n      <td>7</td>\n      <td>19</td>\n      <td>11</td>\n      <td>45</td>\n      <td>97</td>\n      <td>66</td>\n      <td>17</td>\n      <td>1164</td>\n    </tr>\n    <tr>\n      <th>Georgia</th>\n      <td>Asia</td>\n      <td>Western Asia</td>\n      <td>Developing regions</td>\n      <td>0</td>\n      <td>0</td>\n      <td>0</td>\n      <td>0</td>\n      <td>0</td>\n      <td>0</td>\n      <td>0</td>\n      <td>...</td>\n      <td>114</td>\n      <td>125</td>\n      <td>132</td>\n      <td>112</td>\n      <td>128</td>\n      <td>126</td>\n      <td>139</td>\n      <td>147</td>\n      <td>125</td>\n      <td>6204</td>\n    </tr>\n    <tr>\n      <th>India</th>\n      <td>Asia</td>\n      <td>Southern Asia</td>\n      <td>Developing regions</td>\n      <td>8880</td>\n      <td>8670</td>\n      <td>8147</td>\n      <td>7338</td>\n      <td>5704</td>\n      <td>4211</td>\n      <td>7150</td>\n      <td>...</td>\n      <td>36210</td>\n      <td>33848</td>\n      <td>28742</td>\n      <td>28261</td>\n      <td>29456</td>\n      <td>34235</td>\n      <td>27509</td>\n      <td>30933</td>\n      <td>33087</td>\n      <td>2075712</td>\n    </tr>\n    <tr>\n      <th>Indonesia</th>\n      <td>Asia</td>\n      <td>South-Eastern Asia</td>\n      <td>Developing regions</td>\n      <td>186</td>\n      <td>178</td>\n      <td>252</td>\n      <td>115</td>\n      <td>123</td>\n      <td>100</td>\n      <td>127</td>\n      <td>...</td>\n      <td>632</td>\n      <td>613</td>\n      <td>657</td>\n      <td>661</td>\n      <td>504</td>\n      <td>712</td>\n      <td>390</td>\n      <td>395</td>\n      <td>387</td>\n      <td>39450</td>\n    </tr>\n    <tr>\n      <th>Iran (Islamic Republic of)</th>\n      <td>Asia</td>\n      <td>Southern Asia</td>\n      <td>Developing regions</td>\n      <td>1172</td>\n      <td>1429</td>\n      <td>1822</td>\n      <td>1592</td>\n      <td>1977</td>\n      <td>1648</td>\n      <td>1794</td>\n      <td>...</td>\n      <td>5837</td>\n      <td>7480</td>\n      <td>6974</td>\n      <td>6475</td>\n      <td>6580</td>\n      <td>7477</td>\n      <td>7479</td>\n      <td>7534</td>\n      <td>11291</td>\n      <td>527769</td>\n    </tr>\n    <tr>\n      <th>Iraq</th>\n      <td>Asia</td>\n      <td>Western Asia</td>\n      <td>Developing regions</td>\n      <td>262</td>\n      <td>245</td>\n      <td>260</td>\n      <td>380</td>\n      <td>428</td>\n      <td>231</td>\n      <td>265</td>\n      <td>...</td>\n      <td>2226</td>\n      <td>1788</td>\n      <td>2406</td>\n      <td>3543</td>\n      <td>5450</td>\n      <td>5941</td>\n      <td>6196</td>\n      <td>4041</td>\n      <td>4918</td>\n      <td>209367</td>\n    </tr>\n    <tr>\n      <th>Israel</th>\n      <td>Asia</td>\n      <td>Western Asia</td>\n      <td>Developing regions</td>\n      <td>1403</td>\n      <td>1711</td>\n      <td>1334</td>\n      <td>541</td>\n      <td>446</td>\n      <td>680</td>\n      <td>1212</td>\n      <td>...</td>\n      <td>2446</td>\n      <td>2625</td>\n      <td>2401</td>\n      <td>2562</td>\n      <td>2316</td>\n      <td>2755</td>\n      <td>1970</td>\n      <td>2134</td>\n      <td>1945</td>\n      <td>199524</td>\n    </tr>\n    <tr>\n      <th>Japan</th>\n      <td>Asia</td>\n      <td>Eastern Asia</td>\n      <td>Developed regions</td>\n      <td>701</td>\n      <td>756</td>\n      <td>598</td>\n      <td>309</td>\n      <td>246</td>\n      <td>198</td>\n      <td>248</td>\n      <td>...</td>\n      <td>1067</td>\n      <td>1212</td>\n      <td>1250</td>\n      <td>1284</td>\n      <td>1194</td>\n      <td>1168</td>\n      <td>1265</td>\n      <td>1214</td>\n      <td>982</td>\n      <td>83121</td>\n    </tr>\n    <tr>\n      <th>Jordan</th>\n      <td>Asia</td>\n      <td>Western Asia</td>\n      <td>Developing regions</td>\n      <td>177</td>\n      <td>160</td>\n      <td>155</td>\n      <td>113</td>\n      <td>102</td>\n      <td>179</td>\n      <td>181</td>\n      <td>...</td>\n      <td>1940</td>\n      <td>1827</td>\n      <td>1421</td>\n      <td>1581</td>\n      <td>1235</td>\n      <td>1831</td>\n      <td>1635</td>\n      <td>1206</td>\n      <td>1255</td>\n      <td>106218</td>\n    </tr>\n    <tr>\n      <th>Kazakhstan</th>\n      <td>Asia</td>\n      <td>Central Asia</td>\n      <td>Developing regions</td>\n      <td>0</td>\n      <td>0</td>\n      <td>0</td>\n      <td>0</td>\n      <td>0</td>\n      <td>0</td>\n      <td>0</td>\n      <td>...</td>\n      <td>506</td>\n      <td>408</td>\n      <td>436</td>\n      <td>394</td>\n      <td>431</td>\n      <td>377</td>\n      <td>381</td>\n      <td>462</td>\n      <td>348</td>\n      <td>25470</td>\n    </tr>\n    <tr>\n      <th>Kuwait</th>\n      <td>Asia</td>\n      <td>Western Asia</td>\n      <td>Developing regions</td>\n      <td>1</td>\n      <td>0</td>\n      <td>8</td>\n      <td>2</td>\n      <td>1</td>\n      <td>4</td>\n      <td>4</td>\n      <td>...</td>\n      <td>66</td>\n      <td>35</td>\n      <td>62</td>\n      <td>53</td>\n      <td>68</td>\n      <td>67</td>\n      <td>58</td>\n      <td>73</td>\n      <td>48</td>\n      <td>6075</td>\n    </tr>\n    <tr>\n      <th>Kyrgyzstan</th>\n      <td>Asia</td>\n      <td>Central Asia</td>\n      <td>Developing regions</td>\n      <td>0</td>\n      <td>0</td>\n      <td>0</td>\n      <td>0</td>\n      <td>0</td>\n      <td>0</td>\n      <td>0</td>\n      <td>...</td>\n      <td>173</td>\n      <td>161</td>\n      <td>135</td>\n      <td>168</td>\n      <td>173</td>\n      <td>157</td>\n      <td>159</td>\n      <td>278</td>\n      <td>123</td>\n      <td>7059</td>\n    </tr>\n    <tr>\n      <th>Lao People's Democratic Republic</th>\n      <td>Asia</td>\n      <td>South-Eastern Asia</td>\n      <td>Developing regions</td>\n      <td>11</td>\n      <td>6</td>\n      <td>16</td>\n      <td>16</td>\n      <td>7</td>\n      <td>17</td>\n      <td>21</td>\n      <td>...</td>\n      <td>42</td>\n      <td>74</td>\n      <td>53</td>\n      <td>32</td>\n      <td>39</td>\n      <td>54</td>\n      <td>22</td>\n      <td>25</td>\n      <td>15</td>\n      <td>3267</td>\n    </tr>\n    <tr>\n      <th>Lebanon</th>\n      <td>Asia</td>\n      <td>Western Asia</td>\n      <td>Developing regions</td>\n      <td>1409</td>\n      <td>1119</td>\n      <td>1159</td>\n      <td>789</td>\n      <td>1253</td>\n      <td>1683</td>\n      <td>2576</td>\n      <td>...</td>\n      <td>3709</td>\n      <td>3802</td>\n      <td>3467</td>\n      <td>3566</td>\n      <td>3077</td>\n      <td>3432</td>\n      <td>3072</td>\n      <td>1614</td>\n      <td>2172</td>\n      <td>346077</td>\n    </tr>\n    <tr>\n      <th>Malaysia</th>\n      <td>Asia</td>\n      <td>South-Eastern Asia</td>\n      <td>Developing regions</td>\n      <td>786</td>\n      <td>816</td>\n      <td>813</td>\n      <td>448</td>\n      <td>384</td>\n      <td>374</td>\n      <td>425</td>\n      <td>...</td>\n      <td>593</td>\n      <td>580</td>\n      <td>600</td>\n      <td>658</td>\n      <td>640</td>\n      <td>802</td>\n      <td>409</td>\n      <td>358</td>\n      <td>204</td>\n      <td>73251</td>\n    </tr>\n    <tr>\n      <th>Maldives</th>\n      <td>Asia</td>\n      <td>Southern Asia</td>\n      <td>Developing regions</td>\n      <td>0</td>\n      <td>0</td>\n      <td>0</td>\n      <td>1</td>\n      <td>0</td>\n      <td>0</td>\n      <td>0</td>\n      <td>...</td>\n      <td>0</td>\n      <td>0</td>\n      <td>2</td>\n      <td>1</td>\n      <td>7</td>\n      <td>4</td>\n      <td>3</td>\n      <td>1</td>\n      <td>1</td>\n      <td>90</td>\n    </tr>\n    <tr>\n      <th>Mongolia</th>\n      <td>Asia</td>\n      <td>Eastern Asia</td>\n      <td>Developing regions</td>\n      <td>0</td>\n      <td>0</td>\n      <td>0</td>\n      <td>0</td>\n      <td>0</td>\n      <td>0</td>\n      <td>0</td>\n      <td>...</td>\n      <td>59</td>\n      <td>64</td>\n      <td>82</td>\n      <td>59</td>\n      <td>118</td>\n      <td>169</td>\n      <td>103</td>\n      <td>68</td>\n      <td>99</td>\n      <td>2856</td>\n    </tr>\n    <tr>\n      <th>Myanmar</th>\n      <td>Asia</td>\n      <td>South-Eastern Asia</td>\n      <td>Developing regions</td>\n      <td>80</td>\n      <td>62</td>\n      <td>46</td>\n      <td>31</td>\n      <td>41</td>\n      <td>23</td>\n      <td>18</td>\n      <td>...</td>\n      <td>210</td>\n      <td>953</td>\n      <td>1887</td>\n      <td>975</td>\n      <td>1153</td>\n      <td>556</td>\n      <td>368</td>\n      <td>193</td>\n      <td>262</td>\n      <td>27735</td>\n    </tr>\n    <tr>\n      <th>Nepal</th>\n      <td>Asia</td>\n      <td>Southern Asia</td>\n      <td>Developing regions</td>\n      <td>1</td>\n      <td>1</td>\n      <td>6</td>\n      <td>1</td>\n      <td>2</td>\n      <td>4</td>\n      <td>13</td>\n      <td>...</td>\n      <td>607</td>\n      <td>540</td>\n      <td>511</td>\n      <td>581</td>\n      <td>561</td>\n      <td>1392</td>\n      <td>1129</td>\n      <td>1185</td>\n      <td>1308</td>\n      <td>30666</td>\n    </tr>\n    <tr>\n      <th>Oman</th>\n      <td>Asia</td>\n      <td>Western Asia</td>\n      <td>Developing regions</td>\n      <td>0</td>\n      <td>0</td>\n      <td>0</td>\n      <td>8</td>\n      <td>0</td>\n      <td>0</td>\n      <td>0</td>\n      <td>...</td>\n      <td>14</td>\n      <td>18</td>\n      <td>16</td>\n      <td>10</td>\n      <td>7</td>\n      <td>14</td>\n      <td>10</td>\n      <td>13</td>\n      <td>11</td>\n      <td>672</td>\n    </tr>\n    <tr>\n      <th>Pakistan</th>\n      <td>Asia</td>\n      <td>Southern Asia</td>\n      <td>Developing regions</td>\n      <td>978</td>\n      <td>972</td>\n      <td>1201</td>\n      <td>900</td>\n      <td>668</td>\n      <td>514</td>\n      <td>691</td>\n      <td>...</td>\n      <td>14314</td>\n      <td>13127</td>\n      <td>10124</td>\n      <td>8994</td>\n      <td>7217</td>\n      <td>6811</td>\n      <td>7468</td>\n      <td>11227</td>\n      <td>12603</td>\n      <td>724800</td>\n    </tr>\n    <tr>\n      <th>Philippines</th>\n      <td>Asia</td>\n      <td>South-Eastern Asia</td>\n      <td>Developing regions</td>\n      <td>6051</td>\n      <td>5921</td>\n      <td>5249</td>\n      <td>4562</td>\n      <td>3801</td>\n      <td>3150</td>\n      <td>4166</td>\n      <td>...</td>\n      <td>18139</td>\n      <td>18400</td>\n      <td>19837</td>\n      <td>24887</td>\n      <td>28573</td>\n      <td>38617</td>\n      <td>36765</td>\n      <td>34315</td>\n      <td>29544</td>\n      <td>1534173</td>\n    </tr>\n    <tr>\n      <th>Qatar</th>\n      <td>Asia</td>\n      <td>Western Asia</td>\n      <td>Developing regions</td>\n      <td>0</td>\n      <td>0</td>\n      <td>0</td>\n      <td>0</td>\n      <td>0</td>\n      <td>0</td>\n      <td>1</td>\n      <td>...</td>\n      <td>11</td>\n      <td>2</td>\n      <td>5</td>\n      <td>9</td>\n      <td>6</td>\n      <td>18</td>\n      <td>3</td>\n      <td>14</td>\n      <td>6</td>\n      <td>471</td>\n    </tr>\n    <tr>\n      <th>Republic of Korea</th>\n      <td>Asia</td>\n      <td>Eastern Asia</td>\n      <td>Developing regions</td>\n      <td>1011</td>\n      <td>1456</td>\n      <td>1572</td>\n      <td>1081</td>\n      <td>847</td>\n      <td>962</td>\n      <td>1208</td>\n      <td>...</td>\n      <td>5832</td>\n      <td>6215</td>\n      <td>5920</td>\n      <td>7294</td>\n      <td>5874</td>\n      <td>5537</td>\n      <td>4588</td>\n      <td>5316</td>\n      <td>4509</td>\n      <td>427743</td>\n    </tr>\n    <tr>\n      <th>Saudi Arabia</th>\n      <td>Asia</td>\n      <td>Western Asia</td>\n      <td>Developing regions</td>\n      <td>0</td>\n      <td>0</td>\n      <td>1</td>\n      <td>4</td>\n      <td>1</td>\n      <td>2</td>\n      <td>5</td>\n      <td>...</td>\n      <td>198</td>\n      <td>252</td>\n      <td>188</td>\n      <td>249</td>\n      <td>246</td>\n      <td>330</td>\n      <td>278</td>\n      <td>286</td>\n      <td>267</td>\n      <td>10275</td>\n    </tr>\n    <tr>\n      <th>Singapore</th>\n      <td>Asia</td>\n      <td>South-Eastern Asia</td>\n      <td>Developing regions</td>\n      <td>241</td>\n      <td>301</td>\n      <td>337</td>\n      <td>169</td>\n      <td>128</td>\n      <td>139</td>\n      <td>205</td>\n      <td>...</td>\n      <td>392</td>\n      <td>298</td>\n      <td>690</td>\n      <td>734</td>\n      <td>366</td>\n      <td>805</td>\n      <td>219</td>\n      <td>146</td>\n      <td>141</td>\n      <td>43737</td>\n    </tr>\n    <tr>\n      <th>Sri Lanka</th>\n      <td>Asia</td>\n      <td>Southern Asia</td>\n      <td>Developing regions</td>\n      <td>185</td>\n      <td>371</td>\n      <td>290</td>\n      <td>197</td>\n      <td>1086</td>\n      <td>845</td>\n      <td>1838</td>\n      <td>...</td>\n      <td>4930</td>\n      <td>4714</td>\n      <td>4123</td>\n      <td>4756</td>\n      <td>4547</td>\n      <td>4422</td>\n      <td>3309</td>\n      <td>3338</td>\n      <td>2394</td>\n      <td>445074</td>\n    </tr>\n    <tr>\n      <th>State of Palestine</th>\n      <td>Asia</td>\n      <td>Western Asia</td>\n      <td>Developing regions</td>\n      <td>0</td>\n      <td>0</td>\n      <td>0</td>\n      <td>0</td>\n      <td>0</td>\n      <td>0</td>\n      <td>0</td>\n      <td>...</td>\n      <td>453</td>\n      <td>627</td>\n      <td>441</td>\n      <td>481</td>\n      <td>400</td>\n      <td>654</td>\n      <td>555</td>\n      <td>533</td>\n      <td>462</td>\n      <td>19536</td>\n    </tr>\n    <tr>\n      <th>Syrian Arab Republic</th>\n      <td>Asia</td>\n      <td>Western Asia</td>\n      <td>Developing regions</td>\n      <td>315</td>\n      <td>419</td>\n      <td>409</td>\n      <td>269</td>\n      <td>264</td>\n      <td>385</td>\n      <td>493</td>\n      <td>...</td>\n      <td>1458</td>\n      <td>1145</td>\n      <td>1056</td>\n      <td>919</td>\n      <td>917</td>\n      <td>1039</td>\n      <td>1005</td>\n      <td>650</td>\n      <td>1009</td>\n      <td>94455</td>\n    </tr>\n    <tr>\n      <th>Tajikistan</th>\n      <td>Asia</td>\n      <td>Central Asia</td>\n      <td>Developing regions</td>\n      <td>0</td>\n      <td>0</td>\n      <td>0</td>\n      <td>0</td>\n      <td>0</td>\n      <td>0</td>\n      <td>0</td>\n      <td>...</td>\n      <td>85</td>\n      <td>46</td>\n      <td>44</td>\n      <td>15</td>\n      <td>50</td>\n      <td>52</td>\n      <td>47</td>\n      <td>34</td>\n      <td>39</td>\n      <td>1509</td>\n    </tr>\n    <tr>\n      <th>Thailand</th>\n      <td>Asia</td>\n      <td>South-Eastern Asia</td>\n      <td>Developing regions</td>\n      <td>56</td>\n      <td>53</td>\n      <td>113</td>\n      <td>65</td>\n      <td>82</td>\n      <td>66</td>\n      <td>78</td>\n      <td>...</td>\n      <td>575</td>\n      <td>500</td>\n      <td>487</td>\n      <td>519</td>\n      <td>512</td>\n      <td>499</td>\n      <td>396</td>\n      <td>296</td>\n      <td>400</td>\n      <td>27522</td>\n    </tr>\n    <tr>\n      <th>Turkey</th>\n      <td>Asia</td>\n      <td>Western Asia</td>\n      <td>Developing regions</td>\n      <td>481</td>\n      <td>874</td>\n      <td>706</td>\n      <td>280</td>\n      <td>338</td>\n      <td>202</td>\n      <td>257</td>\n      <td>...</td>\n      <td>2065</td>\n      <td>1638</td>\n      <td>1463</td>\n      <td>1122</td>\n      <td>1238</td>\n      <td>1492</td>\n      <td>1257</td>\n      <td>1068</td>\n      <td>729</td>\n      <td>95343</td>\n    </tr>\n    <tr>\n      <th>Turkmenistan</th>\n      <td>Asia</td>\n      <td>Central Asia</td>\n      <td>Developing regions</td>\n      <td>0</td>\n      <td>0</td>\n      <td>0</td>\n      <td>0</td>\n      <td>0</td>\n      <td>0</td>\n      <td>0</td>\n      <td>...</td>\n      <td>40</td>\n      <td>26</td>\n      <td>37</td>\n      <td>13</td>\n      <td>20</td>\n      <td>30</td>\n      <td>20</td>\n      <td>20</td>\n      <td>14</td>\n      <td>930</td>\n    </tr>\n    <tr>\n      <th>United Arab Emirates</th>\n      <td>Asia</td>\n      <td>Western Asia</td>\n      <td>Developing regions</td>\n      <td>0</td>\n      <td>2</td>\n      <td>2</td>\n      <td>1</td>\n      <td>2</td>\n      <td>0</td>\n      <td>5</td>\n      <td>...</td>\n      <td>31</td>\n      <td>42</td>\n      <td>37</td>\n      <td>33</td>\n      <td>37</td>\n      <td>86</td>\n      <td>60</td>\n      <td>54</td>\n      <td>46</td>\n      <td>2508</td>\n    </tr>\n    <tr>\n      <th>Uzbekistan</th>\n      <td>Asia</td>\n      <td>Central Asia</td>\n      <td>Developing regions</td>\n      <td>0</td>\n      <td>0</td>\n      <td>0</td>\n      <td>0</td>\n      <td>0</td>\n      <td>0</td>\n      <td>0</td>\n      <td>...</td>\n      <td>330</td>\n      <td>262</td>\n      <td>284</td>\n      <td>215</td>\n      <td>288</td>\n      <td>289</td>\n      <td>162</td>\n      <td>235</td>\n      <td>167</td>\n      <td>10104</td>\n    </tr>\n    <tr>\n      <th>Viet Nam</th>\n      <td>Asia</td>\n      <td>South-Eastern Asia</td>\n      <td>Developing regions</td>\n      <td>1191</td>\n      <td>1829</td>\n      <td>2162</td>\n      <td>3404</td>\n      <td>7583</td>\n      <td>5907</td>\n      <td>2741</td>\n      <td>...</td>\n      <td>1852</td>\n      <td>3153</td>\n      <td>2574</td>\n      <td>1784</td>\n      <td>2171</td>\n      <td>1942</td>\n      <td>1723</td>\n      <td>1731</td>\n      <td>2112</td>\n      <td>291438</td>\n    </tr>\n    <tr>\n      <th>Yemen</th>\n      <td>Asia</td>\n      <td>Western Asia</td>\n      <td>Developing regions</td>\n      <td>1</td>\n      <td>2</td>\n      <td>1</td>\n      <td>6</td>\n      <td>0</td>\n      <td>18</td>\n      <td>7</td>\n      <td>...</td>\n      <td>161</td>\n      <td>140</td>\n      <td>122</td>\n      <td>133</td>\n      <td>128</td>\n      <td>211</td>\n      <td>160</td>\n      <td>174</td>\n      <td>217</td>\n      <td>8955</td>\n    </tr>\n  </tbody>\n</table>\n<p>49 rows × 38 columns</p>\n</div>"
          },
          "metadata": {}
        }
      ]
    },
    {
      "cell_type": "code",
      "source": [
        "# we can pass multiple criteria in the same line.\n",
        "# let's filter for AreaNAme = Asia and RegName = Southern Asia\n",
        "\n",
        "df_can[(df_can['Continent']=='Asia') & (df_can['Region']=='Southern Asia')]\n",
        "\n",
        "# note: When using 'and' and 'or' operators, pandas requires we use '&' and '|' instead of 'and' and 'or'\n",
        "# don't forget to enclose the two conditions in parentheses"
      ],
      "metadata": {
        "button": false,
        "new_sheet": false,
        "run_control": {
          "read_only": false
        },
        "trusted": true,
        "id": "0aUUBp4s0reD",
        "outputId": "d82cde01-2fc1-4b5e-f1b2-2f5da9f04326"
      },
      "execution_count": null,
      "outputs": [
        {
          "execution_count": 38,
          "output_type": "execute_result",
          "data": {
            "text/plain": "                           Continent         Region             DevName  1980  \\\nAfghanistan                     Asia  Southern Asia  Developing regions    16   \nBangladesh                      Asia  Southern Asia  Developing regions    83   \nBhutan                          Asia  Southern Asia  Developing regions     0   \nIndia                           Asia  Southern Asia  Developing regions  8880   \nIran (Islamic Republic of)      Asia  Southern Asia  Developing regions  1172   \nMaldives                        Asia  Southern Asia  Developing regions     0   \nNepal                           Asia  Southern Asia  Developing regions     1   \nPakistan                        Asia  Southern Asia  Developing regions   978   \nSri Lanka                       Asia  Southern Asia  Developing regions   185   \n\n                            1981  1982  1983  1984  1985  1986  ...   2005  \\\nAfghanistan                   39    39    47    71   340   496  ...   3436   \nBangladesh                    84    86    81    98    92   486  ...   4171   \nBhutan                         0     0     0     1     0     0  ...      5   \nIndia                       8670  8147  7338  5704  4211  7150  ...  36210   \nIran (Islamic Republic of)  1429  1822  1592  1977  1648  1794  ...   5837   \nMaldives                       0     0     1     0     0     0  ...      0   \nNepal                          1     6     1     2     4    13  ...    607   \nPakistan                     972  1201   900   668   514   691  ...  14314   \nSri Lanka                    371   290   197  1086   845  1838  ...   4930   \n\n                             2006   2007   2008   2009   2010   2011   2012  \\\nAfghanistan                  3009   2652   2111   1746   1758   2203   2635   \nBangladesh                   4014   2897   2939   2104   4721   2694   2640   \nBhutan                         10      7     36    865   1464   1879   1075   \nIndia                       33848  28742  28261  29456  34235  27509  30933   \nIran (Islamic Republic of)   7480   6974   6475   6580   7477   7479   7534   \nMaldives                        0      2      1      7      4      3      1   \nNepal                         540    511    581    561   1392   1129   1185   \nPakistan                    13127  10124   8994   7217   6811   7468  11227   \nSri Lanka                    4714   4123   4756   4547   4422   3309   3338   \n\n                             2013    Total  \nAfghanistan                  2004   175917  \nBangladesh                   3789   196704  \nBhutan                        487    17628  \nIndia                       33087  2075712  \nIran (Islamic Republic of)  11291   527769  \nMaldives                        1       90  \nNepal                        1308    30666  \nPakistan                    12603   724800  \nSri Lanka                    2394   445074  \n\n[9 rows x 38 columns]",
            "text/html": "<div>\n<style scoped>\n    .dataframe tbody tr th:only-of-type {\n        vertical-align: middle;\n    }\n\n    .dataframe tbody tr th {\n        vertical-align: top;\n    }\n\n    .dataframe thead th {\n        text-align: right;\n    }\n</style>\n<table border=\"1\" class=\"dataframe\">\n  <thead>\n    <tr style=\"text-align: right;\">\n      <th></th>\n      <th>Continent</th>\n      <th>Region</th>\n      <th>DevName</th>\n      <th>1980</th>\n      <th>1981</th>\n      <th>1982</th>\n      <th>1983</th>\n      <th>1984</th>\n      <th>1985</th>\n      <th>1986</th>\n      <th>...</th>\n      <th>2005</th>\n      <th>2006</th>\n      <th>2007</th>\n      <th>2008</th>\n      <th>2009</th>\n      <th>2010</th>\n      <th>2011</th>\n      <th>2012</th>\n      <th>2013</th>\n      <th>Total</th>\n    </tr>\n  </thead>\n  <tbody>\n    <tr>\n      <th>Afghanistan</th>\n      <td>Asia</td>\n      <td>Southern Asia</td>\n      <td>Developing regions</td>\n      <td>16</td>\n      <td>39</td>\n      <td>39</td>\n      <td>47</td>\n      <td>71</td>\n      <td>340</td>\n      <td>496</td>\n      <td>...</td>\n      <td>3436</td>\n      <td>3009</td>\n      <td>2652</td>\n      <td>2111</td>\n      <td>1746</td>\n      <td>1758</td>\n      <td>2203</td>\n      <td>2635</td>\n      <td>2004</td>\n      <td>175917</td>\n    </tr>\n    <tr>\n      <th>Bangladesh</th>\n      <td>Asia</td>\n      <td>Southern Asia</td>\n      <td>Developing regions</td>\n      <td>83</td>\n      <td>84</td>\n      <td>86</td>\n      <td>81</td>\n      <td>98</td>\n      <td>92</td>\n      <td>486</td>\n      <td>...</td>\n      <td>4171</td>\n      <td>4014</td>\n      <td>2897</td>\n      <td>2939</td>\n      <td>2104</td>\n      <td>4721</td>\n      <td>2694</td>\n      <td>2640</td>\n      <td>3789</td>\n      <td>196704</td>\n    </tr>\n    <tr>\n      <th>Bhutan</th>\n      <td>Asia</td>\n      <td>Southern Asia</td>\n      <td>Developing regions</td>\n      <td>0</td>\n      <td>0</td>\n      <td>0</td>\n      <td>0</td>\n      <td>1</td>\n      <td>0</td>\n      <td>0</td>\n      <td>...</td>\n      <td>5</td>\n      <td>10</td>\n      <td>7</td>\n      <td>36</td>\n      <td>865</td>\n      <td>1464</td>\n      <td>1879</td>\n      <td>1075</td>\n      <td>487</td>\n      <td>17628</td>\n    </tr>\n    <tr>\n      <th>India</th>\n      <td>Asia</td>\n      <td>Southern Asia</td>\n      <td>Developing regions</td>\n      <td>8880</td>\n      <td>8670</td>\n      <td>8147</td>\n      <td>7338</td>\n      <td>5704</td>\n      <td>4211</td>\n      <td>7150</td>\n      <td>...</td>\n      <td>36210</td>\n      <td>33848</td>\n      <td>28742</td>\n      <td>28261</td>\n      <td>29456</td>\n      <td>34235</td>\n      <td>27509</td>\n      <td>30933</td>\n      <td>33087</td>\n      <td>2075712</td>\n    </tr>\n    <tr>\n      <th>Iran (Islamic Republic of)</th>\n      <td>Asia</td>\n      <td>Southern Asia</td>\n      <td>Developing regions</td>\n      <td>1172</td>\n      <td>1429</td>\n      <td>1822</td>\n      <td>1592</td>\n      <td>1977</td>\n      <td>1648</td>\n      <td>1794</td>\n      <td>...</td>\n      <td>5837</td>\n      <td>7480</td>\n      <td>6974</td>\n      <td>6475</td>\n      <td>6580</td>\n      <td>7477</td>\n      <td>7479</td>\n      <td>7534</td>\n      <td>11291</td>\n      <td>527769</td>\n    </tr>\n    <tr>\n      <th>Maldives</th>\n      <td>Asia</td>\n      <td>Southern Asia</td>\n      <td>Developing regions</td>\n      <td>0</td>\n      <td>0</td>\n      <td>0</td>\n      <td>1</td>\n      <td>0</td>\n      <td>0</td>\n      <td>0</td>\n      <td>...</td>\n      <td>0</td>\n      <td>0</td>\n      <td>2</td>\n      <td>1</td>\n      <td>7</td>\n      <td>4</td>\n      <td>3</td>\n      <td>1</td>\n      <td>1</td>\n      <td>90</td>\n    </tr>\n    <tr>\n      <th>Nepal</th>\n      <td>Asia</td>\n      <td>Southern Asia</td>\n      <td>Developing regions</td>\n      <td>1</td>\n      <td>1</td>\n      <td>6</td>\n      <td>1</td>\n      <td>2</td>\n      <td>4</td>\n      <td>13</td>\n      <td>...</td>\n      <td>607</td>\n      <td>540</td>\n      <td>511</td>\n      <td>581</td>\n      <td>561</td>\n      <td>1392</td>\n      <td>1129</td>\n      <td>1185</td>\n      <td>1308</td>\n      <td>30666</td>\n    </tr>\n    <tr>\n      <th>Pakistan</th>\n      <td>Asia</td>\n      <td>Southern Asia</td>\n      <td>Developing regions</td>\n      <td>978</td>\n      <td>972</td>\n      <td>1201</td>\n      <td>900</td>\n      <td>668</td>\n      <td>514</td>\n      <td>691</td>\n      <td>...</td>\n      <td>14314</td>\n      <td>13127</td>\n      <td>10124</td>\n      <td>8994</td>\n      <td>7217</td>\n      <td>6811</td>\n      <td>7468</td>\n      <td>11227</td>\n      <td>12603</td>\n      <td>724800</td>\n    </tr>\n    <tr>\n      <th>Sri Lanka</th>\n      <td>Asia</td>\n      <td>Southern Asia</td>\n      <td>Developing regions</td>\n      <td>185</td>\n      <td>371</td>\n      <td>290</td>\n      <td>197</td>\n      <td>1086</td>\n      <td>845</td>\n      <td>1838</td>\n      <td>...</td>\n      <td>4930</td>\n      <td>4714</td>\n      <td>4123</td>\n      <td>4756</td>\n      <td>4547</td>\n      <td>4422</td>\n      <td>3309</td>\n      <td>3338</td>\n      <td>2394</td>\n      <td>445074</td>\n    </tr>\n  </tbody>\n</table>\n<p>9 rows × 38 columns</p>\n</div>"
          },
          "metadata": {}
        }
      ]
    },
    {
      "cell_type": "markdown",
      "source": [
        "Before we proceed: let's review the changes we have made to our dataframe.\n"
      ],
      "metadata": {
        "button": false,
        "new_sheet": false,
        "run_control": {
          "read_only": false
        },
        "id": "VRfRcr_U0reD"
      }
    },
    {
      "cell_type": "code",
      "source": [
        "print('data dimensions:', df_can.shape)\n",
        "print(df_can.columns)\n",
        "df_can.head(2)"
      ],
      "metadata": {
        "button": false,
        "new_sheet": false,
        "run_control": {
          "read_only": false
        },
        "scrolled": true,
        "trusted": true,
        "id": "Xi2I3Evp0reD",
        "outputId": "c135e46d-5029-472f-d2b3-11ad6517421f"
      },
      "execution_count": null,
      "outputs": [
        {
          "name": "stdout",
          "text": "data dimensions: (195, 38)\nIndex(['Continent', 'Region', 'DevName', '1980', '1981', '1982', '1983',\n       '1984', '1985', '1986', '1987', '1988', '1989', '1990', '1991', '1992',\n       '1993', '1994', '1995', '1996', '1997', '1998', '1999', '2000', '2001',\n       '2002', '2003', '2004', '2005', '2006', '2007', '2008', '2009', '2010',\n       '2011', '2012', '2013', 'Total'],\n      dtype='object')\n",
          "output_type": "stream"
        },
        {
          "execution_count": 39,
          "output_type": "execute_result",
          "data": {
            "text/plain": "            Continent           Region             DevName  1980  1981  1982  \\\nAfghanistan      Asia    Southern Asia  Developing regions    16    39    39   \nAlbania        Europe  Southern Europe   Developed regions     1     0     0   \n\n             1983  1984  1985  1986  ...  2005  2006  2007  2008  2009  2010  \\\nAfghanistan    47    71   340   496  ...  3436  3009  2652  2111  1746  1758   \nAlbania         0     0     0     1  ...  1223   856   702   560   716   561   \n\n             2011  2012  2013   Total  \nAfghanistan  2203  2635  2004  175917  \nAlbania       539   620   603   47097  \n\n[2 rows x 38 columns]",
            "text/html": "<div>\n<style scoped>\n    .dataframe tbody tr th:only-of-type {\n        vertical-align: middle;\n    }\n\n    .dataframe tbody tr th {\n        vertical-align: top;\n    }\n\n    .dataframe thead th {\n        text-align: right;\n    }\n</style>\n<table border=\"1\" class=\"dataframe\">\n  <thead>\n    <tr style=\"text-align: right;\">\n      <th></th>\n      <th>Continent</th>\n      <th>Region</th>\n      <th>DevName</th>\n      <th>1980</th>\n      <th>1981</th>\n      <th>1982</th>\n      <th>1983</th>\n      <th>1984</th>\n      <th>1985</th>\n      <th>1986</th>\n      <th>...</th>\n      <th>2005</th>\n      <th>2006</th>\n      <th>2007</th>\n      <th>2008</th>\n      <th>2009</th>\n      <th>2010</th>\n      <th>2011</th>\n      <th>2012</th>\n      <th>2013</th>\n      <th>Total</th>\n    </tr>\n  </thead>\n  <tbody>\n    <tr>\n      <th>Afghanistan</th>\n      <td>Asia</td>\n      <td>Southern Asia</td>\n      <td>Developing regions</td>\n      <td>16</td>\n      <td>39</td>\n      <td>39</td>\n      <td>47</td>\n      <td>71</td>\n      <td>340</td>\n      <td>496</td>\n      <td>...</td>\n      <td>3436</td>\n      <td>3009</td>\n      <td>2652</td>\n      <td>2111</td>\n      <td>1746</td>\n      <td>1758</td>\n      <td>2203</td>\n      <td>2635</td>\n      <td>2004</td>\n      <td>175917</td>\n    </tr>\n    <tr>\n      <th>Albania</th>\n      <td>Europe</td>\n      <td>Southern Europe</td>\n      <td>Developed regions</td>\n      <td>1</td>\n      <td>0</td>\n      <td>0</td>\n      <td>0</td>\n      <td>0</td>\n      <td>0</td>\n      <td>1</td>\n      <td>...</td>\n      <td>1223</td>\n      <td>856</td>\n      <td>702</td>\n      <td>560</td>\n      <td>716</td>\n      <td>561</td>\n      <td>539</td>\n      <td>620</td>\n      <td>603</td>\n      <td>47097</td>\n    </tr>\n  </tbody>\n</table>\n<p>2 rows × 38 columns</p>\n</div>"
          },
          "metadata": {}
        }
      ]
    },
    {
      "cell_type": "markdown",
      "source": [
        "***\n",
        "\n",
        "# Visualizing Data using Matplotlib<a id=\"8\"></a>\n"
      ],
      "metadata": {
        "button": false,
        "new_sheet": false,
        "run_control": {
          "read_only": false
        },
        "id": "1JcisQpP0reD"
      }
    },
    {
      "cell_type": "markdown",
      "source": [
        "## Matplotlib: Standard Python Visualization Library<a id=\"10\"></a>\n",
        "\n",
        "The primary plotting library we will explore in the course is [Matplotlib](http://matplotlib.org/?utm_medium=Exinfluencer&utm_source=Exinfluencer&utm_content=000026UJ&utm_term=10006555&utm_id=NA-SkillsNetwork-Channel-SkillsNetworkCoursesIBMDeveloperSkillsNetworkDV0101ENSkillsNetwork20297740-2021-01-01).  As mentioned on their website:\n",
        "\n",
        "> Matplotlib is a Python 2D plotting library which produces publication quality figures in a variety of hardcopy formats and interactive environments across platforms. Matplotlib can be used in Python scripts, the Python and IPython shell, the jupyter notebook, web application servers, and four graphical user interface toolkits.\n",
        "\n",
        "If you are aspiring to create impactful visualization with python, Matplotlib is an essential tool to have at your disposal.\n"
      ],
      "metadata": {
        "button": false,
        "new_sheet": false,
        "run_control": {
          "read_only": false
        },
        "id": "MIwkn0jp0reE"
      }
    },
    {
      "cell_type": "markdown",
      "source": [
        "### Matplotlib.Pyplot\n",
        "\n",
        "One of the core aspects of Matplotlib is `matplotlib.pyplot`. It is Matplotlib's scripting layer which we studied in details in the videos about Matplotlib. Recall that it is a collection of command style functions that make Matplotlib work like MATLAB. Each `pyplot` function makes some change to a figure: e.g., creates a figure, creates a plotting area in a figure, plots some lines in a plotting area, decorates the plot with labels, etc. In this lab, we will work with the scripting layer to learn how to generate line plots. In future labs, we will get to work with the Artist layer as well to experiment first hand how it differs from the scripting layer.\n"
      ],
      "metadata": {
        "button": false,
        "new_sheet": false,
        "run_control": {
          "read_only": false
        },
        "id": "iv-kMt0C0reE"
      }
    },
    {
      "cell_type": "markdown",
      "source": [
        "Let's start by importing `matplotlib` and `matplotlib.pyplot` as follows:\n"
      ],
      "metadata": {
        "button": false,
        "new_sheet": false,
        "run_control": {
          "read_only": false
        },
        "id": "xClyPHuq0reE"
      }
    },
    {
      "cell_type": "code",
      "source": [
        "# we are using the inline backend\n",
        "%matplotlib inline\n",
        "\n",
        "import matplotlib as mpl\n",
        "import matplotlib.pyplot as plt"
      ],
      "metadata": {
        "button": false,
        "new_sheet": false,
        "run_control": {
          "read_only": false
        },
        "trusted": true,
        "id": "jl9GLLxq0reE"
      },
      "execution_count": null,
      "outputs": []
    },
    {
      "cell_type": "markdown",
      "source": [
        "\\*optional: check if Matplotlib is loaded.\n"
      ],
      "metadata": {
        "button": false,
        "new_sheet": false,
        "run_control": {
          "read_only": false
        },
        "id": "z13msX-B0reE"
      }
    },
    {
      "cell_type": "code",
      "source": [
        "print('Matplotlib version: ', mpl.__version__)  # >= 2.0.0"
      ],
      "metadata": {
        "button": false,
        "new_sheet": false,
        "run_control": {
          "read_only": false
        },
        "trusted": true,
        "id": "UmB5zCdX0reE",
        "outputId": "111c3457-e7d6-4d95-bee9-8a902f845c68"
      },
      "execution_count": null,
      "outputs": [
        {
          "name": "stdout",
          "text": "Matplotlib version:  3.5.2\n",
          "output_type": "stream"
        }
      ]
    },
    {
      "cell_type": "markdown",
      "source": [
        "\\*optional: apply a style to Matplotlib.\n"
      ],
      "metadata": {
        "button": false,
        "new_sheet": false,
        "run_control": {
          "read_only": false
        },
        "id": "g6dkyqzI0reE"
      }
    },
    {
      "cell_type": "code",
      "source": [
        "print(plt.style.available)\n",
        "mpl.style.use(['ggplot']) # optional: for ggplot-like style"
      ],
      "metadata": {
        "button": false,
        "new_sheet": false,
        "run_control": {
          "read_only": false
        },
        "trusted": true,
        "id": "iOoTSanT0reF",
        "outputId": "e31266d0-eab8-4c3a-e594-5ce4fead74c6"
      },
      "execution_count": null,
      "outputs": [
        {
          "name": "stdout",
          "text": "['Solarize_Light2', '_classic_test_patch', '_mpl-gallery', '_mpl-gallery-nogrid', 'bmh', 'classic', 'dark_background', 'fast', 'fivethirtyeight', 'ggplot', 'grayscale', 'seaborn', 'seaborn-bright', 'seaborn-colorblind', 'seaborn-dark', 'seaborn-dark-palette', 'seaborn-darkgrid', 'seaborn-deep', 'seaborn-muted', 'seaborn-notebook', 'seaborn-paper', 'seaborn-pastel', 'seaborn-poster', 'seaborn-talk', 'seaborn-ticks', 'seaborn-white', 'seaborn-whitegrid', 'tableau-colorblind10']\n",
          "output_type": "stream"
        }
      ]
    },
    {
      "cell_type": "markdown",
      "source": [
        "### Plotting in *pandas*\n",
        "\n",
        "Fortunately, pandas has a built-in implementation of Matplotlib that we can use. Plotting in *pandas* is as simple as appending a `.plot()` method to a series or dataframe.\n",
        "\n",
        "Documentation:\n",
        "\n",
        "*   [Plotting with Series](http://pandas.pydata.org/pandas-docs/stable/api.html?utm_medium=Exinfluencer&utm_source=Exinfluencer&utm_content=000026UJ&utm_term=10006555&utm_id=NA-SkillsNetwork-Channel-SkillsNetworkCoursesIBMDeveloperSkillsNetworkDV0101ENSkillsNetwork20297740-2021-01-01#plotting)<br>\n",
        "*   [Plotting with Dataframes](http://pandas.pydata.org/pandas-docs/stable/api.html?utm_medium=Exinfluencer&utm_source=Exinfluencer&utm_content=000026UJ&utm_term=10006555&utm_id=NA-SkillsNetwork-Channel-SkillsNetworkCoursesIBMDeveloperSkillsNetworkDV0101ENSkillsNetwork20297740-2021-01-01#api-dataframe-plotting)\n"
      ],
      "metadata": {
        "button": false,
        "new_sheet": false,
        "run_control": {
          "read_only": false
        },
        "id": "5sKJmdkR0reF"
      }
    },
    {
      "cell_type": "markdown",
      "source": [
        "# Line Pots (Series/Dataframe) <a id=\"12\"></a>\n"
      ],
      "metadata": {
        "button": false,
        "new_sheet": false,
        "run_control": {
          "read_only": false
        },
        "id": "aNDlkK160reF"
      }
    },
    {
      "cell_type": "markdown",
      "source": [
        "**What is a line plot and why use it?**\n",
        "\n",
        "A line chart or line plot is a type of plot which displays information as a series of data points called 'markers' connected by straight line segments. It is a basic type of chart common in many fields.\n",
        "Use line plot when you have a continuous data set. These are best suited for trend-based visualizations of data over a period of time.\n"
      ],
      "metadata": {
        "button": false,
        "new_sheet": false,
        "run_control": {
          "read_only": false
        },
        "id": "ScHhfBrq0reF"
      }
    },
    {
      "cell_type": "markdown",
      "source": [
        "**Let's start with a case study:**\n",
        "\n",
        "In 2010, Haiti suffered a catastrophic magnitude 7.0 earthquake. The quake caused widespread devastation and loss of life and aout three million people were affected by this natural disaster. As part of Canada's humanitarian effort, the Government of Canada stepped up its effort in accepting refugees from Haiti. We can quickly visualize this effort using a `Line` plot:\n",
        "\n",
        "**Question:** Plot a line graph of immigration from Haiti using `df.plot()`.\n"
      ],
      "metadata": {
        "button": false,
        "new_sheet": false,
        "run_control": {
          "read_only": false
        },
        "id": "MdJUq63E0reF"
      }
    },
    {
      "cell_type": "markdown",
      "source": [
        "First, we will extract the data series for Haiti.\n"
      ],
      "metadata": {
        "button": false,
        "new_sheet": false,
        "run_control": {
          "read_only": false
        },
        "id": "fORwxgCJ0reF"
      }
    },
    {
      "cell_type": "code",
      "source": [
        "haiti = df_can.loc['Haiti', years] # passing in years 1980 - 2013 to exclude the 'total' column\n",
        "haiti.head()"
      ],
      "metadata": {
        "button": false,
        "new_sheet": false,
        "run_control": {
          "read_only": false
        },
        "trusted": true,
        "id": "pXxdUqTq0reF",
        "outputId": "04030773-b5e3-4fed-e644-3f035cf0000a"
      },
      "execution_count": null,
      "outputs": [
        {
          "execution_count": 43,
          "output_type": "execute_result",
          "data": {
            "text/plain": "1980    1666\n1981    3692\n1982    3498\n1983    2860\n1984    1418\nName: Haiti, dtype: object"
          },
          "metadata": {}
        }
      ]
    },
    {
      "cell_type": "markdown",
      "source": [
        "Next, we will plot a line plot by appending `.plot()` to the `haiti` dataframe.\n"
      ],
      "metadata": {
        "button": false,
        "new_sheet": false,
        "run_control": {
          "read_only": false
        },
        "id": "pH_md1cN0reG"
      }
    },
    {
      "cell_type": "code",
      "source": [
        "haiti.plot()"
      ],
      "metadata": {
        "button": false,
        "new_sheet": false,
        "run_control": {
          "read_only": false
        },
        "trusted": true,
        "id": "XowvsEI60reG",
        "outputId": "8836115f-296d-464c-d522-ce76624473f6"
      },
      "execution_count": null,
      "outputs": [
        {
          "execution_count": 44,
          "output_type": "execute_result",
          "data": {
            "text/plain": "<AxesSubplot:>"
          },
          "metadata": {}
        },
        {
          "output_type": "display_data",
          "data": {
            "text/plain": "<Figure size 640x480 with 1 Axes>",
            "image/png": "[encoded data removed]"
          },
          "metadata": {}
        }
      ]
    },
    {
      "cell_type": "markdown",
      "source": [
        "*pandas* automatically populated the x-axis with the index values (years), and the y-axis with the column values (population). However, notice how the years were not displayed because they are of type *string*. Therefore, let's change the type of the index values to *integer* for plotting.\n",
        "\n",
        "Also, let's label the x and y axis using `plt.title()`, `plt.ylabel()`, and `plt.xlabel()` as follows:\n"
      ],
      "metadata": {
        "button": false,
        "new_sheet": false,
        "run_control": {
          "read_only": false
        },
        "id": "X37Y1Hbb0reG"
      }
    },
    {
      "cell_type": "code",
      "source": [
        "haiti.index = haiti.index.map(int) # let's change the index values of Haiti to type integer for plotting\n",
        "haiti.plot(kind='line')\n",
        "\n",
        "plt.title('Immigration from Haiti')\n",
        "plt.ylabel('Number of immigrants')\n",
        "plt.xlabel('Years')\n",
        "\n",
        "plt.show() # need this line to show the updates made to the figure"
      ],
      "metadata": {
        "button": false,
        "new_sheet": false,
        "run_control": {
          "read_only": false
        },
        "scrolled": true,
        "trusted": true,
        "id": "g_EO9_gW0reG",
        "outputId": "ae4f43d7-9458-42d0-afae-c098336e3fd1"
      },
      "execution_count": null,
      "outputs": [
        {
          "output_type": "display_data",
          "data": {
            "text/plain": "<Figure size 640x480 with 1 Axes>",
            "image/png": "[encoded data removed]"
          },
          "metadata": {}
        }
      ]
    },
    {
      "cell_type": "markdown",
      "source": [
        "We can clearly notice how number of immigrants from Haiti spiked up from 2010 as Canada stepped up its efforts to accept refugees from Haiti. Let's annotate this spike in the plot by using the `plt.text()` method.\n"
      ],
      "metadata": {
        "button": false,
        "new_sheet": false,
        "run_control": {
          "read_only": false
        },
        "id": "rLo8Rbte0reJ"
      }
    },
    {
      "cell_type": "code",
      "source": [
        "haiti.plot(kind='line')\n",
        "\n",
        "plt.title('Immigration from Haiti')\n",
        "plt.ylabel('Number of Immigrants')\n",
        "plt.xlabel('Years')\n",
        "\n",
        "# annotate the 2010 Earthquake.\n",
        "# syntax: plt.text(x, y, label)\n",
        "plt.text(2000, 6000, '2010 Earthquake') # see note below\n",
        "\n",
        "plt.show()"
      ],
      "metadata": {
        "button": false,
        "new_sheet": false,
        "run_control": {
          "read_only": false
        },
        "trusted": true,
        "id": "iIhK5w3B0reK",
        "outputId": "25169829-1671-4900-de7e-15593403e778"
      },
      "execution_count": null,
      "outputs": [
        {
          "output_type": "display_data",
          "data": {
            "text/plain": "<Figure size 640x480 with 1 Axes>",
            "image/png": "[encoded data removed]"
          },
          "metadata": {}
        }
      ]
    },
    {
      "cell_type": "markdown",
      "source": [
        "With just a few lines of code, you were able to quickly identify and visualize the spike in immigration!\n",
        "\n",
        "Quick note on x and y values in `plt.text(x, y, label)`:\n",
        "\n",
        "```\n",
        " Since the x-axis (years) is type 'integer', we specified x as a year. The y axis (number of immigrants) is type 'integer', so we can just specify the value y = 6000.\n",
        "```\n",
        "\n",
        "```python\n",
        "    plt.text(2000, 6000, '2010 Earthquake') # years stored as type int\n",
        "```\n",
        "\n",
        "```\n",
        "If the years were stored as type 'string', we would need to specify x as the index position of the year. Eg 20th index is year 2000 since it is the 20th year with a base year of 1980.\n",
        "```\n",
        "\n",
        "```python\n",
        "    plt.text(20, 6000, '2010 Earthquake') # years stored as type int\n",
        "```\n",
        "\n",
        "```\n",
        "We will cover advanced annotation methods in later modules.\n",
        "```\n"
      ],
      "metadata": {
        "button": false,
        "new_sheet": false,
        "run_control": {
          "read_only": false
        },
        "id": "azqbkZh40reL"
      }
    },
    {
      "cell_type": "markdown",
      "source": [
        "We can easily add more countries to line plot to make meaningful comparisons immigration from different countries.\n",
        "\n",
        "**Question:** Let's compare the number of immigrants from India and China from 1980 to 2013.\n"
      ],
      "metadata": {
        "button": false,
        "new_sheet": false,
        "run_control": {
          "read_only": false
        },
        "id": "9qOpHL_s0reM"
      }
    },
    {
      "cell_type": "markdown",
      "source": [
        "Step 1: Get the data set for China and India, and display the dataframe.\n"
      ],
      "metadata": {
        "button": false,
        "new_sheet": false,
        "run_control": {
          "read_only": false
        },
        "id": "280JstbE0reM"
      }
    },
    {
      "cell_type": "code",
      "source": [
        "### type your answer here\n",
        "# df_CI = ...\n",
        "# df_CI\n",
        "\n",
        "df_CI = df_can.loc[['India', 'China'], years]\n",
        "df_CI"
      ],
      "metadata": {
        "button": false,
        "new_sheet": false,
        "run_control": {
          "read_only": false
        },
        "scrolled": true,
        "trusted": true,
        "id": "OMrteaM_0reM",
        "outputId": "2e60806e-6116-4c99-dc4a-3b0002da476f"
      },
      "execution_count": null,
      "outputs": [
        {
          "execution_count": 49,
          "output_type": "execute_result",
          "data": {
            "text/plain": "       1980  1981  1982  1983  1984  1985  1986   1987   1988   1989  ...  \\\nIndia  8880  8670  8147  7338  5704  4211  7150  10189  11522  10343  ...   \nChina  5123  6682  3308  1863  1527  1816  1960   2643   2758   4323  ...   \n\n        2004   2005   2006   2007   2008   2009   2010   2011   2012   2013  \nIndia  28235  36210  33848  28742  28261  29456  34235  27509  30933  33087  \nChina  36619  42584  33518  27642  30037  29622  30391  28502  33024  34129  \n\n[2 rows x 34 columns]",
            "text/html": "<div>\n<style scoped>\n    .dataframe tbody tr th:only-of-type {\n        vertical-align: middle;\n    }\n\n    .dataframe tbody tr th {\n        vertical-align: top;\n    }\n\n    .dataframe thead th {\n        text-align: right;\n    }\n</style>\n<table border=\"1\" class=\"dataframe\">\n  <thead>\n    <tr style=\"text-align: right;\">\n      <th></th>\n      <th>1980</th>\n      <th>1981</th>\n      <th>1982</th>\n      <th>1983</th>\n      <th>1984</th>\n      <th>1985</th>\n      <th>1986</th>\n      <th>1987</th>\n      <th>1988</th>\n      <th>1989</th>\n      <th>...</th>\n      <th>2004</th>\n      <th>2005</th>\n      <th>2006</th>\n      <th>2007</th>\n      <th>2008</th>\n      <th>2009</th>\n      <th>2010</th>\n      <th>2011</th>\n      <th>2012</th>\n      <th>2013</th>\n    </tr>\n  </thead>\n  <tbody>\n    <tr>\n      <th>India</th>\n      <td>8880</td>\n      <td>8670</td>\n      <td>8147</td>\n      <td>7338</td>\n      <td>5704</td>\n      <td>4211</td>\n      <td>7150</td>\n      <td>10189</td>\n      <td>11522</td>\n      <td>10343</td>\n      <td>...</td>\n      <td>28235</td>\n      <td>36210</td>\n      <td>33848</td>\n      <td>28742</td>\n      <td>28261</td>\n      <td>29456</td>\n      <td>34235</td>\n      <td>27509</td>\n      <td>30933</td>\n      <td>33087</td>\n    </tr>\n    <tr>\n      <th>China</th>\n      <td>5123</td>\n      <td>6682</td>\n      <td>3308</td>\n      <td>1863</td>\n      <td>1527</td>\n      <td>1816</td>\n      <td>1960</td>\n      <td>2643</td>\n      <td>2758</td>\n      <td>4323</td>\n      <td>...</td>\n      <td>36619</td>\n      <td>42584</td>\n      <td>33518</td>\n      <td>27642</td>\n      <td>30037</td>\n      <td>29622</td>\n      <td>30391</td>\n      <td>28502</td>\n      <td>33024</td>\n      <td>34129</td>\n    </tr>\n  </tbody>\n</table>\n<p>2 rows × 34 columns</p>\n</div>"
          },
          "metadata": {}
        }
      ]
    },
    {
      "cell_type": "markdown",
      "source": [
        "<details><summary>Click here for a sample python solution</summary>\n",
        "\n",
        "```python\n",
        "    #The correct answer is:\n",
        "    df_CI = df_can.loc[['India', 'China'], years]\n",
        "    df_CI\n",
        "```\n",
        "\n",
        "</details>\n"
      ],
      "metadata": {
        "button": false,
        "new_sheet": false,
        "run_control": {
          "read_only": false
        },
        "id": "CH5PZ3xR0reN"
      }
    },
    {
      "cell_type": "markdown",
      "source": [
        "Step 2: Plot graph. We will explicitly specify line plot by passing in `kind` parameter to `plot()`.\n"
      ],
      "metadata": {
        "button": false,
        "new_sheet": false,
        "run_control": {
          "read_only": false
        },
        "id": "p3Bxa-2r0reN"
      }
    },
    {
      "cell_type": "code",
      "source": [
        "### type your answer here\n",
        "# df_CI. ...\n",
        "df_CI.plot(kind='line')"
      ],
      "metadata": {
        "button": false,
        "new_sheet": false,
        "run_control": {
          "read_only": false
        },
        "scrolled": true,
        "trusted": true,
        "id": "ZPndoRsr0reN",
        "outputId": "5b2c3c41-ccc5-4eac-a99a-b2840e8661eb"
      },
      "execution_count": null,
      "outputs": [
        {
          "execution_count": 53,
          "output_type": "execute_result",
          "data": {
            "text/plain": "<AxesSubplot:>"
          },
          "metadata": {}
        },
        {
          "output_type": "display_data",
          "data": {
            "text/plain": "<Figure size 640x480 with 1 Axes>",
            "image/png": "[encoded data removed]"
          },
          "metadata": {}
        }
      ]
    },
    {
      "cell_type": "markdown",
      "source": [
        "<details><summary>Click here for a sample python solution</summary>\n",
        "\n",
        "```python\n",
        "    #The correct answer is:\n",
        "    df_CI.plot(kind='line')\n",
        "```\n",
        "\n",
        "</details>\n"
      ],
      "metadata": {
        "button": false,
        "new_sheet": false,
        "run_control": {
          "read_only": false
        },
        "id": "Lo8lSgCP0reO"
      }
    },
    {
      "cell_type": "markdown",
      "source": [
        "That doesn't look right...\n",
        "\n",
        "Recall that *pandas* plots the indices on the x-axis and the columns as individual lines on the y-axis. Since `df_CI` is a dataframe with the `country` as the index and `years` as the columns, we must first transpose the dataframe using `transpose()` method to swap the row and columns.\n"
      ],
      "metadata": {
        "button": false,
        "new_sheet": false,
        "run_control": {
          "read_only": false
        },
        "id": "W27FiAUg0reO"
      }
    },
    {
      "cell_type": "code",
      "source": [
        "df_CI = df_CI.transpose()\n",
        "df_CI.head()"
      ],
      "metadata": {
        "button": false,
        "new_sheet": false,
        "run_control": {
          "read_only": false
        },
        "trusted": true,
        "id": "D_5DYyHr0reO",
        "outputId": "86be9104-2ae8-4b79-d083-12edd877c803"
      },
      "execution_count": null,
      "outputs": [
        {
          "execution_count": 54,
          "output_type": "execute_result",
          "data": {
            "text/plain": "      India  China\n1980   8880   5123\n1981   8670   6682\n1982   8147   3308\n1983   7338   1863\n1984   5704   1527",
            "text/html": "<div>\n<style scoped>\n    .dataframe tbody tr th:only-of-type {\n        vertical-align: middle;\n    }\n\n    .dataframe tbody tr th {\n        vertical-align: top;\n    }\n\n    .dataframe thead th {\n        text-align: right;\n    }\n</style>\n<table border=\"1\" class=\"dataframe\">\n  <thead>\n    <tr style=\"text-align: right;\">\n      <th></th>\n      <th>India</th>\n      <th>China</th>\n    </tr>\n  </thead>\n  <tbody>\n    <tr>\n      <th>1980</th>\n      <td>8880</td>\n      <td>5123</td>\n    </tr>\n    <tr>\n      <th>1981</th>\n      <td>8670</td>\n      <td>6682</td>\n    </tr>\n    <tr>\n      <th>1982</th>\n      <td>8147</td>\n      <td>3308</td>\n    </tr>\n    <tr>\n      <th>1983</th>\n      <td>7338</td>\n      <td>1863</td>\n    </tr>\n    <tr>\n      <th>1984</th>\n      <td>5704</td>\n      <td>1527</td>\n    </tr>\n  </tbody>\n</table>\n</div>"
          },
          "metadata": {}
        }
      ]
    },
    {
      "cell_type": "markdown",
      "source": [
        "*pandas* will auomatically graph the two countries on the same graph. Go ahead and plot the new transposed dataframe. Make sure to add a title to the plot and label the axes.\n"
      ],
      "metadata": {
        "button": false,
        "new_sheet": false,
        "run_control": {
          "read_only": false
        },
        "id": "hwlZ2e4h0reP"
      }
    },
    {
      "cell_type": "code",
      "source": [
        "### type your answer here\n",
        "df_CI.index= df_CI.index.map(int)\n",
        "df_CI.plot(kind='line')\n",
        "\n",
        "plt.title('Immigrants from China and India')\n",
        "plt.ylabel('# of Immigrants')\n",
        "plt.xlabel('Years')\n",
        "plt.show()\n",
        "\n",
        "\n"
      ],
      "metadata": {
        "button": false,
        "new_sheet": false,
        "run_control": {
          "read_only": false
        },
        "trusted": true,
        "id": "sFkNks1I0reQ",
        "outputId": "74cd6b1b-21ee-4f63-d97e-1190355f2998"
      },
      "execution_count": null,
      "outputs": [
        {
          "output_type": "display_data",
          "data": {
            "text/plain": "<Figure size 640x480 with 1 Axes>",
            "image/png": "[encoded data removed]"
          },
          "metadata": {}
        }
      ]
    },
    {
      "cell_type": "markdown",
      "source": [
        "<details><summary>Click here for a sample python solution</summary>\n",
        "\n",
        "```python\n",
        "    #The correct answer is:\n",
        "    df_CI.index = df_CI.index.map(int) # let's change the index values of df_CI to type integer for plotting\n",
        "    df_CI.plot(kind='line')\n",
        "\n",
        "    plt.title('Immigrants from China and India')\n",
        "    plt.ylabel('Number of Immigrants')\n",
        "    plt.xlabel('Years')\n",
        "\n",
        "    plt.show()\n",
        "```\n",
        "\n",
        "</details>\n"
      ],
      "metadata": {
        "button": false,
        "new_sheet": false,
        "run_control": {
          "read_only": false
        },
        "id": "JapfJc_o0reR"
      }
    },
    {
      "cell_type": "markdown",
      "source": [
        "<br>From the above plot, we can observe that the China and India have very similar immigration trends through the years.\n"
      ],
      "metadata": {
        "button": false,
        "new_sheet": false,
        "run_control": {
          "read_only": false
        },
        "id": "ZQvJvHfB0reS"
      }
    },
    {
      "cell_type": "markdown",
      "source": [
        "*Note*: How come we didn't need to transpose Haiti's dataframe before plotting (like we did for df_CI)?\n",
        "\n",
        "That's because `haiti` is a series as opposed to a dataframe, and has the years as its indices as shown below.\n",
        "\n",
        "```python\n",
        "print(type(haiti))\n",
        "print(haiti.head(5))\n",
        "```\n",
        "\n",
        "> class 'pandas.core.series.Series' <br>\n",
        "> 1980    1666 <br>\n",
        "> 1981    3692 <br>\n",
        "> 1982    3498 <br>\n",
        "> 1983    2860 <br>\n",
        "> 1984    1418 <br>\n",
        "> Name: Haiti, dtype: int64 <br>\n"
      ],
      "metadata": {
        "button": false,
        "new_sheet": false,
        "run_control": {
          "read_only": false
        },
        "id": "f5HFX1DT0reS"
      }
    },
    {
      "cell_type": "markdown",
      "source": [
        "Line plot is a handy tool to display several dependent variables against one independent variable. However, it is recommended that no more than 5-10 lines on a single graph; any more than that and it becomes difficult to interpret.\n"
      ],
      "metadata": {
        "button": false,
        "new_sheet": false,
        "run_control": {
          "read_only": false
        },
        "id": "8LEvcGVC0reS"
      }
    },
    {
      "cell_type": "markdown",
      "source": [
        "**Question:** Compare the trend of top 5 countries that contributed the most to immigration to Canada.\n"
      ],
      "metadata": {
        "button": false,
        "new_sheet": false,
        "run_control": {
          "read_only": false
        },
        "id": "XnRFhlAc0reS"
      }
    },
    {
      "cell_type": "code",
      "source": [
        "### type your answer here\n",
        "inplace = True\n",
        "df_can.sort_values(by='Total', ascending=False, axis=0, inplace=True)\n",
        "df_top5 = df_can.head(5)\n",
        "df_top5 = df_top5[years].transpose()\n",
        "print(df_top5)\n",
        "\n"
      ],
      "metadata": {
        "button": false,
        "new_sheet": false,
        "run_control": {
          "read_only": false
        },
        "trusted": true,
        "id": "DKhlOGx40reT",
        "outputId": "1a8ed620-e831-4557-e09a-15521d74dd35"
      },
      "execution_count": null,
      "outputs": [
        {
          "name": "stdout",
          "text": "      India  China  United Kingdom of Great Britain and Northern Ireland  \\\n1980   8880   5123                                              22045      \n1981   8670   6682                                              24796      \n1982   8147   3308                                              20620      \n1983   7338   1863                                              10015      \n1984   5704   1527                                              10170      \n1985   4211   1816                                               9564      \n1986   7150   1960                                               9470      \n1987  10189   2643                                              21337      \n1988  11522   2758                                              27359      \n1989  10343   4323                                              23795      \n1990  12041   8076                                              31668      \n1991  13734  14255                                              23380      \n1992  13673  10846                                              34123      \n1993  21496   9817                                              33720      \n1994  18620  13128                                              39231      \n1995  18489  14398                                              30145      \n1996  23859  19415                                              29322      \n1997  22268  20475                                              22965      \n1998  17241  21049                                              10367      \n1999  18974  30069                                               7045      \n2000  28572  35529                                               8840      \n2001  31223  36434                                              11728      \n2002  31889  31961                                               8046      \n2003  27155  36439                                               6797      \n2004  28235  36619                                               7533      \n2005  36210  42584                                               7258      \n2006  33848  33518                                               7140      \n2007  28742  27642                                               8216      \n2008  28261  30037                                               8979      \n2009  29456  29622                                               8876      \n2010  34235  30391                                               8724      \n2011  27509  28502                                               6204      \n2012  30933  33024                                               6195      \n2013  33087  34129                                               5827      \n\n      Philippines  Pakistan  \n1980         6051       978  \n1981         5921       972  \n1982         5249      1201  \n1983         4562       900  \n1984         3801       668  \n1985         3150       514  \n1986         4166       691  \n1987         7360      1072  \n1988         8639      1334  \n1989        11865      2261  \n1990        12509      2470  \n1991        12718      3079  \n1992        13670      4071  \n1993        20479      4777  \n1994        19532      4666  \n1995        15864      4994  \n1996        13692      9125  \n1997        11549     13073  \n1998         8735      9068  \n1999         9734      9979  \n2000        10763     15400  \n2001        13836     16708  \n2002        11707     15110  \n2003        12758     13205  \n2004        14004     13399  \n2005        18139     14314  \n2006        18400     13127  \n2007        19837     10124  \n2008        24887      8994  \n2009        28573      7217  \n2010        38617      6811  \n2011        36765      7468  \n2012        34315     11227  \n2013        29544     12603  \n",
          "output_type": "stream"
        }
      ]
    },
    {
      "cell_type": "markdown",
      "source": [
        "<details><summary>Click here for a sample python solution</summary>\n",
        "\n",
        "```python\n",
        "    #The correct answer is:    \n",
        "    #Step 1: Get the dataset. Recall that we created a Total column that calculates cumulative immigration by country.\n",
        "    #We will sort on this column to get our top 5 countries using pandas sort_values() method.\n",
        "    \n",
        "    inplace = True # paramemter saves the changes to the original df_can dataframe\n",
        "    df_can.sort_values(by='Total', ascending=False, axis=0, inplace=True)\n",
        "\n",
        "    # get the top 5 entries\n",
        "    df_top5 = df_can.head(5)\n",
        "\n",
        "    # transpose the dataframe\n",
        "    df_top5 = df_top5[years].transpose()\n",
        "\n",
        "    print(df_top5)\n",
        "\n",
        "\n",
        "    #Step 2: Plot the dataframe. To make the plot more readeable, we will change the size using the `figsize` parameter.\n",
        "    df_top5.index = df_top5.index.map(int) # let's change the index values of df_top5 to type integer for plotting\n",
        "    df_top5.plot(kind='line', figsize=(14, 8)) # pass a tuple (x, y) size\n",
        "\n",
        "\n",
        "\n",
        "    plt.title('Immigration Trend of Top 5 Countries')\n",
        "    plt.ylabel('Number of Immigrants')\n",
        "    plt.xlabel('Years')\n",
        "\n",
        "\n",
        "    plt.show()\n",
        "\n",
        "```\n",
        "\n",
        "</details>\n"
      ],
      "metadata": {
        "button": false,
        "new_sheet": false,
        "run_control": {
          "read_only": false
        },
        "id": "-y7VA4LG0reT"
      }
    },
    {
      "cell_type": "markdown",
      "source": [
        "### Other Plots\n",
        "\n",
        "Congratulations! you have learned how to wrangle data with python and create a line plot with Matplotlib. There are many other plotting styles available other than the default Line plot, all of which can be accessed by passing `kind` keyword to `plot()`. The full list of available plots are as follows:\n",
        "\n",
        "*   `bar` for vertical bar plots\n",
        "*   `barh` for horizontal bar plots\n",
        "*   `hist` for histogram\n",
        "*   `box` for boxplot\n",
        "*   `kde` or `density` for density plots\n",
        "*   `area` for area plots\n",
        "*   `pie` for pie plots\n",
        "*   `scatter` for scatter plots\n",
        "*   `hexbin` for hexbin plot\n"
      ],
      "metadata": {
        "button": false,
        "new_sheet": false,
        "run_control": {
          "read_only": false
        },
        "id": "N6awowfW0reW"
      }
    },
    {
      "cell_type": "markdown",
      "source": [
        "### Thank you for completing this lab!\n",
        "\n",
        "## Author\n",
        "\n",
        "<a href=\"https://www.linkedin.com/in/aklson/?utm_medium=Exinfluencer&utm_source=Exinfluencer&utm_content=000026UJ&utm_term=10006555&utm_id=NA-SkillsNetwork-Channel-SkillsNetworkCoursesIBMDeveloperSkillsNetworkDV0101ENSkillsNetwork20297740-2021-01-01\">Alex Aklson</a>\n",
        "\n",
        "### Other Contributors\n",
        "\n",
        "[Jay Rajasekharan](https://www.linkedin.com/in/jayrajasekharan?utm_medium=Exinfluencer&utm_source=Exinfluencer&utm_content=000026UJ&utm_term=10006555&utm_id=NA-SkillsNetwork-Channel-SkillsNetworkCoursesIBMDeveloperSkillsNetworkDV0101ENSkillsNetwork20297740-2021-01-01),\n",
        "[Ehsan M. Kermani](https://www.linkedin.com/in/ehsanmkermani?utm_medium=Exinfluencer&utm_source=Exinfluencer&utm_content=000026UJ&utm_term=10006555&utm_id=NA-SkillsNetwork-Channel-SkillsNetworkCoursesIBMDeveloperSkillsNetworkDV0101ENSkillsNetwork20297740-2021-01-01),\n",
        "[Slobodan Markovic](https://www.linkedin.com/in/slobodan-markovic?utm_medium=Exinfluencer&utm_source=Exinfluencer&utm_content=000026UJ&utm_term=10006555&utm_id=NA-SkillsNetwork-Channel-SkillsNetworkCoursesIBMDeveloperSkillsNetworkDV0101ENSkillsNetwork20297740-2021-01-01),\n",
        "[Weiqing Wang](https://www.linkedin.com/in/weiqing-wang-641640133/?utm_medium=Exinfluencer&utm_source=Exinfluencer&utm_content=000026UJ&utm_term=10006555&utm_id=NA-SkillsNetwork-Channel-SkillsNetworkCoursesIBMDeveloperSkillsNetworkDV0101ENSkillsNetwork20297740-2021-01-01)\n",
        "\n",
        "## Change Log\n",
        "\n",
        "| Date (YYYY-MM-DD) | Version | Changed By    | Change Description                 |\n",
        "| ----------------- | ------- | ------------- | ---------------------------------- |\n",
        "| 2021-05-29        | 2.4     | Weiqing Wang  | Fixed typos and code smells.       |\n",
        "| 2021-01-20        | 2.3     | Lakshmi Holla | Changed TOC cell markdown          |\n",
        "| 2020-11-20        | 2.2     | Lakshmi Holla | Changed IBM box URL                |\n",
        "| 2020-11-03        | 2.1     | Lakshmi Holla | Changed URL and info method        |\n",
        "| 2020-08-27        | 2.0     | Lavanya       | Moved Lab to course repo in GitLab |\n",
        "\n",
        "## <h3 align=\"center\"> © IBM Corporation 2020. All rights reserved. <h3/>\n"
      ],
      "metadata": {
        "button": false,
        "new_sheet": false,
        "run_control": {
          "read_only": false
        },
        "id": "wVjsw3cO0reW"
      }
    }
  ]
}