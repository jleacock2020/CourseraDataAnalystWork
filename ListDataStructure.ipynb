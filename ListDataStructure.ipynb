{
  "nbformat": 4,
  "nbformat_minor": 0,
  "metadata": {
    "colab": {
      "provenance": [],
      "include_colab_link": true
    },
    "kernelspec": {
      "name": "python3",
      "display_name": "Python 3"
    },
    "language_info": {
      "name": "python"
    }
  },
  "cells": [
    {
      "cell_type": "markdown",
      "metadata": {
        "id": "view-in-github",
        "colab_type": "text"
      },
      "source": [
        "<a href=\"https://colab.research.google.com/github/jleacock2020/CourseraDataAnalystWork/blob/main/ListDataStructure.ipynb\" target=\"_parent\"><img src=\"https://colab.research.google.com/assets/colab-badge.svg\" alt=\"Open In Colab\"/></a>"
      ]
    },
    {
      "cell_type": "markdown",
      "source": [
        "**What data structure is a list in Python?**\n",
        "Lists in Python are implemented as dynamic mutable arrays which hold an ordered collection of items. First, in many programming languages, arrays are data structures that contain a collection of elements of the same data types (for instance, all elements are integers)"
      ],
      "metadata": {
        "id": "enY1Zk4DSiwt"
      }
    },
    {
      "cell_type": "code",
      "source": [
        "L=[1,2,3,4]\n",
        "print(L[2])\n",
        "print(L[-2])"
      ],
      "metadata": {
        "colab": {
          "base_uri": "https://localhost:8080/"
        },
        "id": "jjv9VE6OSzI3",
        "outputId": "b4d0dec2-2995-40c7-ceb9-4f12866b3ddc"
      },
      "execution_count": null,
      "outputs": [
        {
          "output_type": "stream",
          "name": "stdout",
          "text": [
            "3\n",
            "3\n"
          ]
        }
      ]
    },
    {
      "cell_type": "code",
      "source": [
        "fruits=['Apple','Banana','cherry','Orange']\n",
        "print(L[2])"
      ],
      "metadata": {
        "colab": {
          "base_uri": "https://localhost:8080/"
        },
        "id": "6tgrVe8nTpVa",
        "outputId": "e4873823-c548-40f9-b4a1-fefec1fb8e1a"
      },
      "execution_count": null,
      "outputs": [
        {
          "output_type": "stream",
          "name": "stdout",
          "text": [
            "3\n"
          ]
        }
      ]
    },
    {
      "cell_type": "code",
      "source": [
        "studentdata=[12,'Joy',12,'9789363332',34.5]\n",
        "print(studentdata[1])"
      ],
      "metadata": {
        "colab": {
          "base_uri": "https://localhost:8080/"
        },
        "id": "BxTx3azTT3V4",
        "outputId": "60feccc2-736d-4033-bd64-7b439479f445"
      },
      "execution_count": null,
      "outputs": [
        {
          "output_type": "stream",
          "name": "stdout",
          "text": [
            "Joy\n"
          ]
        }
      ]
    },
    {
      "cell_type": "code",
      "source": [
        "thislist = [\"apple\", \"banana\", \"cherry\"]\n",
        "\n",
        "print(len(thislist))\n",
        "\n",
        "# print(len(thislist))"
      ],
      "metadata": {
        "colab": {
          "base_uri": "https://localhost:8080/"
        },
        "id": "Ykb_Z2tPbD0K",
        "outputId": "7496973b-f2aa-4f77-d350-c7f7d9abdb7d"
      },
      "execution_count": null,
      "outputs": [
        {
          "output_type": "stream",
          "name": "stdout",
          "text": [
            "3\n"
          ]
        }
      ]
    },
    {
      "cell_type": "code",
      "source": [
        "list1 = [\"apple\", \"banana\", \"cherry\"]\n",
        "list2 = [1, 5, 7, 9, 3]\n",
        "list3 = [True, False, False]"
      ],
      "metadata": {
        "id": "nkUtRokjbJ4B"
      },
      "execution_count": null,
      "outputs": []
    },
    {
      "cell_type": "code",
      "source": [
        "list1 = [\"abc\", 34, True, 40, \"male\"]"
      ],
      "metadata": {
        "id": "OpFuRZnJbMCF"
      },
      "execution_count": null,
      "outputs": []
    },
    {
      "cell_type": "code",
      "source": [
        "#Access list items\n",
        "\n",
        "thislist = [\"apple\", \"banana\", \"cherry\"]\n",
        "print(thislist[1])"
      ],
      "metadata": {
        "id": "X-axNLFlbRFw"
      },
      "execution_count": null,
      "outputs": []
    },
    {
      "cell_type": "code",
      "source": [
        "#Negative indexing\n",
        "\n",
        "thislist = [\"apple\", \"banana\", \"cherry\"]\n",
        "print(thislist[-1])"
      ],
      "metadata": {
        "id": "v4od6ezgbT8u"
      },
      "execution_count": null,
      "outputs": []
    },
    {
      "cell_type": "markdown",
      "source": [
        "**List Slicing**"
      ],
      "metadata": {
        "id": "aseZNyxiVGVQ"
      }
    },
    {
      "cell_type": "code",
      "source": [
        "#Range of Indexing\n",
        "thislist = [\"apple\", \"banana\", \"cherry\", \"orange\", \"kiwi\", \"melon\", \"mango\"]\n",
        "\n",
        "print(thislist[4:])\n",
        "print(thislist[-1:-4:-1])\n",
        "print(thislist[::2])\n",
        "print(thislist[::-1])\n",
        "print(thislist[0:5:2])"
      ],
      "metadata": {
        "colab": {
          "base_uri": "https://localhost:8080/"
        },
        "id": "pAU9Jkw1bXzh",
        "outputId": "24d2163e-2ec4-4056-9780-af36c1105134"
      },
      "execution_count": null,
      "outputs": [
        {
          "output_type": "stream",
          "name": "stdout",
          "text": [
            "['kiwi', 'melon', 'mango']\n",
            "['mango', 'melon', 'kiwi']\n",
            "['apple', 'cherry', 'kiwi', 'mango']\n",
            "['mango', 'melon', 'kiwi', 'orange', 'cherry', 'banana', 'apple']\n",
            "['apple', 'cherry', 'kiwi']\n"
          ]
        }
      ]
    },
    {
      "cell_type": "code",
      "source": [
        "thislist = [\"apple\", \"banana\", \"cherry\", \"orange\", \"kiwi\", \"melon\", \"mango\"]\n",
        "print(thislist[:4])"
      ],
      "metadata": {
        "colab": {
          "base_uri": "https://localhost:8080/"
        },
        "id": "qMAUjs7fbbfw",
        "outputId": "2bd43729-214d-4845-cf8d-467f0f875052"
      },
      "execution_count": null,
      "outputs": [
        {
          "output_type": "stream",
          "name": "stdout",
          "text": [
            "['apple', 'banana', 'cherry', 'orange']\n"
          ]
        }
      ]
    },
    {
      "cell_type": "code",
      "source": [
        "thislist = [\"apple\", \"banana\", \"cherry\", \"orange\", \"kiwi\", \"melon\", \"mango\"]\n",
        "print(thislist[2:])"
      ],
      "metadata": {
        "colab": {
          "base_uri": "https://localhost:8080/"
        },
        "id": "PYN_RfjgbfTD",
        "outputId": "9be40301-c448-408b-ab1f-24fd01e7b268"
      },
      "execution_count": null,
      "outputs": [
        {
          "output_type": "stream",
          "name": "stdout",
          "text": [
            "['cherry', 'orange', 'kiwi', 'melon', 'mango']\n"
          ]
        }
      ]
    },
    {
      "cell_type": "code",
      "source": [
        "thislist = [\"apple\", \"banana\", \"cherry\", \"orange\", \"kiwi\", \"melon\", \"mango\"]\n",
        "print(thislist[-1:-4:-1])"
      ],
      "metadata": {
        "colab": {
          "base_uri": "https://localhost:8080/"
        },
        "id": "2D3MHKEybjaY",
        "outputId": "ec14a98c-bd51-402e-bd49-98ac5d779630"
      },
      "execution_count": null,
      "outputs": [
        {
          "output_type": "stream",
          "name": "stdout",
          "text": [
            "['mango', 'melon', 'kiwi']\n"
          ]
        }
      ]
    },
    {
      "cell_type": "code",
      "source": [
        "#check if the item exist\n",
        "\n",
        "thislist = [\"apple\", \"banana\", \"cherry\"]\n",
        "X=input(\"Enter the furit name:\")\n",
        "X=X.lower()\n",
        "\n",
        "if X in thislist:\n",
        "  print(\"Yes, 'apple' is in the fruits list\")\n",
        "else:\n",
        "  print(\"Not in the list\")\n"
      ],
      "metadata": {
        "colab": {
          "base_uri": "https://localhost:8080/"
        },
        "id": "RgJhNNm8bluJ",
        "outputId": "ee1277e0-c44f-4cba-997f-076c987e5cc9"
      },
      "execution_count": null,
      "outputs": [
        {
          "output_type": "stream",
          "name": "stdout",
          "text": [
            "Enter the furit name:APPLE\n",
            "Yes, 'apple' is in the fruits list\n"
          ]
        }
      ]
    },
    {
      "cell_type": "code",
      "source": [
        "L=[12,34,56,78]\n",
        "if 12 in L:\n",
        "  print(\"yes\")"
      ],
      "metadata": {
        "colab": {
          "base_uri": "https://localhost:8080/"
        },
        "id": "IwJpRgQmW6pX",
        "outputId": "fd822954-a9f4-4add-954e-9b43ccdeb5b8"
      },
      "execution_count": null,
      "outputs": [
        {
          "output_type": "stream",
          "name": "stdout",
          "text": [
            "yes\n"
          ]
        }
      ]
    },
    {
      "cell_type": "code",
      "source": [
        "#change item value\n",
        "thislist = [\"apple\", \"banana\", \"cherry\"]\n",
        "thislist[2] = \"blackcurrant\"\n",
        "print(thislist)"
      ],
      "metadata": {
        "colab": {
          "base_uri": "https://localhost:8080/"
        },
        "id": "0NK_eTF8bqZs",
        "outputId": "84c9415c-f41d-4d75-d47e-23903b7adc5f"
      },
      "execution_count": null,
      "outputs": [
        {
          "output_type": "stream",
          "name": "stdout",
          "text": [
            "['apple', 'banana', 'blackcurrant']\n"
          ]
        }
      ]
    },
    {
      "cell_type": "code",
      "source": [
        "#Change a range item values\n",
        "thislist = [\"apple\", \"banana\", \"cherry\", \"orange\", \"kiwi\", \"mango\"]\n",
        "thislist[1:3] = [\"blackcurrant\", \"watermelon\"]\n",
        "print(thislist)"
      ],
      "metadata": {
        "colab": {
          "base_uri": "https://localhost:8080/"
        },
        "id": "BPpzz72abuyx",
        "outputId": "fca549c5-cd10-4a47-9ac9-de1dca15d7d1"
      },
      "execution_count": null,
      "outputs": [
        {
          "output_type": "stream",
          "name": "stdout",
          "text": [
            "['apple', 'blackcurrant', 'watermelon', 'orange', 'kiwi', 'mango']\n"
          ]
        }
      ]
    },
    {
      "cell_type": "markdown",
      "source": [
        "# 3 different ways of adding new elements to the list\n",
        "1) insert()\n",
        "2) extend()\n",
        "3) append()"
      ],
      "metadata": {
        "id": "edeAMdPbXWTw"
      }
    },
    {
      "cell_type": "code",
      "source": [
        "thislist = [\"apple\", \"banana\", \"cherry\", \"orange\", \"kiwi\", \"mango\"]\n",
        "\n",
        "thislist.insert(3,\"WaterMelon\")\n",
        "\n",
        "print(thislist)\n"
      ],
      "metadata": {
        "colab": {
          "base_uri": "https://localhost:8080/"
        },
        "id": "LA068CUm1POz",
        "outputId": "d37d13e1-e78e-4876-8710-c633926d0b42"
      },
      "execution_count": null,
      "outputs": [
        {
          "output_type": "stream",
          "name": "stdout",
          "text": [
            "['apple', 'banana', 'cherry', 'WaterMelon', 'orange', 'kiwi', 'mango']\n"
          ]
        }
      ]
    },
    {
      "cell_type": "code",
      "source": [
        "thislist.extend([\"Orange\", \"Strawberry\"])\n",
        "print(thislist)\n",
        "\n"
      ],
      "metadata": {
        "colab": {
          "base_uri": "https://localhost:8080/"
        },
        "id": "1U_CctcL17YZ",
        "outputId": "fc1c850e-ee2f-4001-84a8-48c132e396e9"
      },
      "execution_count": null,
      "outputs": [
        {
          "output_type": "stream",
          "name": "stdout",
          "text": [
            "['apple', 'banana', 'cherry', 'WaterMelon', 'orange', 'kiwi', 'mango', 'Orange', 'Orange', 'Strawberry']\n"
          ]
        }
      ]
    },
    {
      "cell_type": "code",
      "source": [
        "thislist.append([\"Pear\",\"Jackfruit\"])\n",
        "print(thislist)"
      ],
      "metadata": {
        "colab": {
          "base_uri": "https://localhost:8080/"
        },
        "id": "RhVo62Op2vtN",
        "outputId": "ac218084-3519-48fd-bed7-53725c384a52"
      },
      "execution_count": null,
      "outputs": [
        {
          "output_type": "stream",
          "name": "stdout",
          "text": [
            "['apple', 'banana', 'cherry', 'WaterMelon', 'orange', 'kiwi', 'mango', 'Orange', 'Orange', 'Strawberry', ['Pear', 'Jackfruit'], 'Pear', ['Pear', 'Plum'], 'Pear', ['Pear', 'Jackfruit']]\n"
          ]
        }
      ]
    },
    {
      "cell_type": "code",
      "source": [
        "print(thislist[10][0])"
      ],
      "metadata": {
        "colab": {
          "base_uri": "https://localhost:8080/"
        },
        "id": "qK4XbVlc3No0",
        "outputId": "2b006a1b-f026-4b98-822d-d46fe29b41d3"
      },
      "execution_count": null,
      "outputs": [
        {
          "output_type": "stream",
          "name": "stdout",
          "text": [
            "Pear\n"
          ]
        }
      ]
    },
    {
      "cell_type": "code",
      "source": [
        "L=[]\n",
        "x=1\n",
        "while x<=5:\n",
        "  name=input(\"Enter the name:\")\n",
        "  L.append(name)\n",
        "  x=x+1\n",
        "\n",
        "print(L)"
      ],
      "metadata": {
        "colab": {
          "base_uri": "https://localhost:8080/"
        },
        "id": "H8jqS2E1fWb3",
        "outputId": "503f86f2-3a37-432b-f471-8b82321e94f1"
      },
      "execution_count": null,
      "outputs": [
        {
          "output_type": "stream",
          "name": "stdout",
          "text": [
            "Enter the name:Geetu\n",
            "Enter the name:Jasmine\n",
            "Enter the name:Nancy\n",
            "Enter the name:Arti\n",
            "Enter the name:Samantha\n",
            "['Geetu', 'Jasmine', 'Nancy', 'Arti', 'Samantha']\n"
          ]
        }
      ]
    },
    {
      "cell_type": "code",
      "source": [
        "#Dynamic List created using while loop and append() function\n",
        "\n",
        "L=[]\n",
        "choice=\"y\"\n",
        "while choice.lower()==\"y\":\n",
        "  name=input(\"Enter the name of a student:\")\n",
        "  L.append(name)\n",
        "  choice=input(\"Continue?(y/n):\")\n",
        "\n",
        "print(L)\n",
        "\n"
      ],
      "metadata": {
        "colab": {
          "base_uri": "https://localhost:8080/"
        },
        "id": "xMeHh5FA3nuF",
        "outputId": "7dbbbb74-4870-46e5-8ad7-343e2693f7ec"
      },
      "execution_count": null,
      "outputs": [
        {
          "output_type": "stream",
          "name": "stdout",
          "text": [
            "Enter the name of a student:Geetu\n",
            "Continue?(y/n):y\n",
            "Enter the name of a student:Nancy\n",
            "Continue?(y/n):y\n",
            "Enter the name of a student:Guri\n",
            "Continue?(y/n):y\n",
            "Enter the name of a student:John\n",
            "Continue?(y/n):n\n",
            "['Geetu', 'Nancy', 'Guri', 'John']\n"
          ]
        }
      ]
    },
    {
      "cell_type": "code",
      "source": [
        "#insert()\n",
        "thislist = [\"apple\", \"banana\", \"cherry\"]\n",
        "thislist.insert(2, \"watermelon\")\n",
        "print(thislist)"
      ],
      "metadata": {
        "colab": {
          "base_uri": "https://localhost:8080/"
        },
        "id": "RH5cN7_hb5A7",
        "outputId": "6aae804c-73c2-453e-805e-a2a07a08ac61"
      },
      "execution_count": null,
      "outputs": [
        {
          "output_type": "stream",
          "name": "stdout",
          "text": [
            "['apple', 'banana', 'watermelon', 'cherry']\n"
          ]
        }
      ]
    },
    {
      "cell_type": "code",
      "source": [],
      "metadata": {
        "id": "a9kheeDl1OVe"
      },
      "execution_count": null,
      "outputs": []
    },
    {
      "cell_type": "code",
      "source": [
        "#append()\n",
        "thislist = [\"apple\", \"banana\", \"cherry\"]\n",
        "thislist.append([\"orange\",'Guava'])\n",
        "print(thislist)"
      ],
      "metadata": {
        "colab": {
          "base_uri": "https://localhost:8080/"
        },
        "id": "is-kYqlAb9TR",
        "outputId": "cf04e67c-b6bd-4b40-934a-288ceae9f90c"
      },
      "execution_count": null,
      "outputs": [
        {
          "output_type": "stream",
          "name": "stdout",
          "text": [
            "['apple', 'banana', 'cherry', ['orange', 'Guava']]\n"
          ]
        }
      ]
    },
    {
      "cell_type": "code",
      "source": [
        "#extend()\n",
        "thislist = [\"apple\", \"banana\", \"cherry\"]\n",
        "thistuple = (\"kiwi\", \"orange\")\n",
        "thislist.extend(thistuple)\n",
        "print(thislist)"
      ],
      "metadata": {
        "colab": {
          "base_uri": "https://localhost:8080/"
        },
        "id": "snkWqQs7cDIb",
        "outputId": "e425a6da-6ae9-4d55-eb25-88f62af12ce8"
      },
      "execution_count": null,
      "outputs": [
        {
          "output_type": "stream",
          "name": "stdout",
          "text": [
            "['apple', 'banana', 'cherry', 'kiwi', 'orange']\n"
          ]
        }
      ]
    },
    {
      "cell_type": "markdown",
      "source": [
        "# 3 different ways of removing elements from a list"
      ],
      "metadata": {
        "id": "9pTQXuvcamZW"
      }
    },
    {
      "cell_type": "code",
      "source": [
        "#remove()\n",
        "thislist = [\"apple\", \"banana\", \"cherry\"]\n",
        "thislist.remove(\"banana\")\n",
        "print(thislist)"
      ],
      "metadata": {
        "colab": {
          "base_uri": "https://localhost:8080/"
        },
        "id": "JiAKTxvFcG5_",
        "outputId": "f51e055e-cad9-4840-9d25-8ee899816d5e"
      },
      "execution_count": null,
      "outputs": [
        {
          "output_type": "stream",
          "name": "stdout",
          "text": [
            "['apple', 'cherry']\n"
          ]
        }
      ]
    },
    {
      "cell_type": "code",
      "source": [
        "#pop()\n",
        "thislist = [\"apple\", \"banana\", \"cherry\"]\n",
        "thislist.pop(-1)\n",
        "print(thislist)\n"
      ],
      "metadata": {
        "colab": {
          "base_uri": "https://localhost:8080/"
        },
        "id": "pH8WZpFKcJk1",
        "outputId": "6bd39356-4352-441c-bf7b-ce9ea92eaead"
      },
      "execution_count": null,
      "outputs": [
        {
          "output_type": "stream",
          "name": "stdout",
          "text": [
            "['apple', 'banana']\n"
          ]
        }
      ]
    },
    {
      "cell_type": "code",
      "source": [
        "thislist = [\"apple\", \"banana\", \"cherry\"]"
      ],
      "metadata": {
        "id": "IypKsWNSgjgW"
      },
      "execution_count": null,
      "outputs": []
    },
    {
      "cell_type": "code",
      "source": [
        "\n",
        "thislist.pop()\n",
        "print(thislist)"
      ],
      "metadata": {
        "colab": {
          "base_uri": "https://localhost:8080/"
        },
        "id": "1wtTatTua4jU",
        "outputId": "c7011c02-3ad7-4093-d280-7b18c1946290"
      },
      "execution_count": null,
      "outputs": [
        {
          "output_type": "stream",
          "name": "stdout",
          "text": [
            "[]\n"
          ]
        }
      ]
    },
    {
      "cell_type": "code",
      "source": [
        "thislist = [\"apple\", \"banana\", \"cherry\"]\n",
        "del thislist[0]\n",
        "print(thislist)"
      ],
      "metadata": {
        "colab": {
          "base_uri": "https://localhost:8080/"
        },
        "id": "J-YYC3ZIcRPy",
        "outputId": "615bbeaf-eac2-45b4-9410-506ce3b3b681"
      },
      "execution_count": null,
      "outputs": [
        {
          "output_type": "stream",
          "name": "stdout",
          "text": [
            "['banana', 'cherry']\n"
          ]
        }
      ]
    },
    {
      "cell_type": "code",
      "source": [
        "#delete the entire list\n",
        "thislist = [\"apple\", \"banana\", \"cherry\"]\n",
        "del thislist   #deleted the entire list with its structure\n",
        "\n",
        "print(thislist)\n"
      ],
      "metadata": {
        "id": "cTz5ya52cUCc",
        "colab": {
          "base_uri": "https://localhost:8080/",
          "height": 200
        },
        "outputId": "a9c3175b-9926-4e20-a19a-3e6971baab5e"
      },
      "execution_count": null,
      "outputs": [
        {
          "output_type": "error",
          "ename": "NameError",
          "evalue": "ignored",
          "traceback": [
            "\u001b[0;31m---------------------------------------------------------------------------\u001b[0m",
            "\u001b[0;31mNameError\u001b[0m                                 Traceback (most recent call last)",
            "\u001b[0;32m<ipython-input-53-ab9ac9f87e5b>\u001b[0m in \u001b[0;36m<cell line: 4>\u001b[0;34m()\u001b[0m\n\u001b[1;32m      2\u001b[0m \u001b[0mthislist\u001b[0m \u001b[0;34m=\u001b[0m \u001b[0;34m[\u001b[0m\u001b[0;34m\"apple\"\u001b[0m\u001b[0;34m,\u001b[0m \u001b[0;34m\"banana\"\u001b[0m\u001b[0;34m,\u001b[0m \u001b[0;34m\"cherry\"\u001b[0m\u001b[0;34m]\u001b[0m\u001b[0;34m\u001b[0m\u001b[0;34m\u001b[0m\u001b[0m\n\u001b[1;32m      3\u001b[0m \u001b[0;32mdel\u001b[0m \u001b[0mthislist\u001b[0m\u001b[0;34m\u001b[0m\u001b[0;34m\u001b[0m\u001b[0m\n\u001b[0;32m----> 4\u001b[0;31m \u001b[0mprint\u001b[0m\u001b[0;34m(\u001b[0m\u001b[0mthislist\u001b[0m\u001b[0;34m)\u001b[0m\u001b[0;34m\u001b[0m\u001b[0;34m\u001b[0m\u001b[0m\n\u001b[0m",
            "\u001b[0;31mNameError\u001b[0m: name 'thislist' is not defined"
          ]
        }
      ]
    },
    {
      "cell_type": "code",
      "source": [
        "thislist = [\"apple\", \"banana\", \"cherry\"]\n",
        "thislist.clear()\n",
        "print(thislist)"
      ],
      "metadata": {
        "colab": {
          "base_uri": "https://localhost:8080/"
        },
        "id": "xSzBdqqucWQw",
        "outputId": "a66ac3ba-77bc-4b57-b99c-1c68cbaec93e"
      },
      "execution_count": null,
      "outputs": [
        {
          "output_type": "stream",
          "name": "stdout",
          "text": [
            "[]\n"
          ]
        }
      ]
    },
    {
      "cell_type": "code",
      "source": [
        "L=[23,34,56,44,56,99]\n",
        "print(max(L))\n",
        "print(min(L))\n",
        "print(sum(L))"
      ],
      "metadata": {
        "colab": {
          "base_uri": "https://localhost:8080/"
        },
        "id": "XDQd2Hz8hGnh",
        "outputId": "a0e41845-5949-43a4-93d5-885e3875ce82"
      },
      "execution_count": null,
      "outputs": [
        {
          "output_type": "stream",
          "name": "stdout",
          "text": [
            "99\n",
            "23\n",
            "312\n"
          ]
        }
      ]
    },
    {
      "cell_type": "code",
      "source": [
        "L=[23,34,56,44,56,99]\n",
        "L2=[34,34,56,56,77,55]\n",
        "\n",
        "print(L+L2) #concatenating"
      ],
      "metadata": {
        "colab": {
          "base_uri": "https://localhost:8080/"
        },
        "id": "oC2zbxuOhXUr",
        "outputId": "e4af7f36-68ad-4b4d-eb52-8e378702851f"
      },
      "execution_count": null,
      "outputs": [
        {
          "output_type": "stream",
          "name": "stdout",
          "text": [
            "[23, 34, 56, 44, 56, 99, 34, 34, 56, 56, 77, 55]\n"
          ]
        }
      ]
    },
    {
      "cell_type": "code",
      "source": [
        "print(L*3)  #Replicate your list"
      ],
      "metadata": {
        "colab": {
          "base_uri": "https://localhost:8080/"
        },
        "id": "86vLFR6GhoCC",
        "outputId": "2e045038-a262-4fd4-a381-d9e1fb60b795"
      },
      "execution_count": null,
      "outputs": [
        {
          "output_type": "stream",
          "name": "stdout",
          "text": [
            "[23, 34, 56, 44, 56, 99, 23, 34, 56, 44, 56, 99, 23, 34, 56, 44, 56, 99]\n"
          ]
        }
      ]
    },
    {
      "cell_type": "markdown",
      "source": [
        "**Sorting**"
      ],
      "metadata": {
        "id": "7BwvemLSU_Qa"
      }
    },
    {
      "cell_type": "code",
      "source": [
        "#Sorting\n",
        "\n",
        "L=[102,45,68,33,990,35]\n",
        "L.sort(reverse=True)\n",
        "print(L)\n"
      ],
      "metadata": {
        "colab": {
          "base_uri": "https://localhost:8080/"
        },
        "id": "ee83FXWg8Y_R",
        "outputId": "8a444c17-2969-4ccf-e90d-b9cffc87c541"
      },
      "execution_count": null,
      "outputs": [
        {
          "output_type": "stream",
          "name": "stdout",
          "text": [
            "[990, 102, 68, 45, 35, 33]\n"
          ]
        }
      ]
    },
    {
      "cell_type": "code",
      "source": [
        "L=[102,45,68,33,990,35]\n",
        "L.sort()\n",
        "# sorted(L)\n",
        "print(L)\n",
        "\n"
      ],
      "metadata": {
        "colab": {
          "base_uri": "https://localhost:8080/"
        },
        "id": "nVHCCBMo88Q1",
        "outputId": "881f42d2-ba63-4ea0-e8dc-9d761fb3314b"
      },
      "execution_count": null,
      "outputs": [
        {
          "output_type": "stream",
          "name": "stdout",
          "text": [
            "[33, 35, 45, 68, 102, 990]\n"
          ]
        }
      ]
    },
    {
      "cell_type": "code",
      "source": [
        "#sort list\n",
        "thislist = [\"orange\", \"mango\", \"kiwi\", \"pineapple\", \"banana\"]\n",
        "thislist.sort()\n",
        "print(thislist)"
      ],
      "metadata": {
        "id": "UcZkr-X_ciKg",
        "colab": {
          "base_uri": "https://localhost:8080/"
        },
        "outputId": "d38b2610-dc07-40fb-8e1e-0d3b2502539d"
      },
      "execution_count": null,
      "outputs": [
        {
          "output_type": "stream",
          "name": "stdout",
          "text": [
            "['banana', 'kiwi', 'mango', 'orange', 'pineapple']\n"
          ]
        }
      ]
    },
    {
      "cell_type": "code",
      "source": [
        "thislist = [\"apple\", \"banana\", \"cherry\"]\n",
        "newlist=thislist.copy()\n",
        "print(newlist)\n"
      ],
      "metadata": {
        "colab": {
          "base_uri": "https://localhost:8080/"
        },
        "id": "HOHhcu1I9Lnk",
        "outputId": "66400cee-df7a-4111-da7d-fe910710dc8e"
      },
      "execution_count": null,
      "outputs": [
        {
          "output_type": "stream",
          "name": "stdout",
          "text": [
            "['apple', 'banana', 'cherry']\n"
          ]
        }
      ]
    },
    {
      "cell_type": "code",
      "source": [
        "# In operator\n",
        "thislist = [\"orange\", \"mango\", \"kiwi\", \"pineapple\", \"banana\"]\n",
        "name=input(\"Enter your fav fruit:\")\n",
        "\n",
        "if name.lower() in thislist:\n",
        "  print(\"Available\")\n",
        "else:\n",
        "  print(\"Not Available\")\n",
        "\n"
      ],
      "metadata": {
        "colab": {
          "base_uri": "https://localhost:8080/"
        },
        "id": "q5s73dIF9n2B",
        "outputId": "0c049188-323b-425c-af3f-45b34a3cb9fa"
      },
      "execution_count": null,
      "outputs": [
        {
          "output_type": "stream",
          "name": "stdout",
          "text": [
            "Enter your fav fruit:Mango\n",
            "Available\n"
          ]
        }
      ]
    },
    {
      "cell_type": "code",
      "source": [
        "#Calculating average and sum of all the elements in the list.\n",
        "L=[23,45,33,33,67,45,23,78,33,99,12,33,45,6,7,78,78,23]\n",
        "sum=0\n",
        "for i in L:\n",
        "  sum=sum+i\n",
        "print(sum)\n",
        "avg=sum/len(L)\n",
        "print(avg)\n",
        "\n",
        "\n"
      ],
      "metadata": {
        "colab": {
          "base_uri": "https://localhost:8080/"
        },
        "id": "jB0JgM0p-3gv",
        "outputId": "0ef376ae-6064-4677-d01f-24702f23273f"
      },
      "execution_count": null,
      "outputs": [
        {
          "output_type": "stream",
          "name": "stdout",
          "text": [
            "761\n",
            "42.27777777777778\n"
          ]
        }
      ]
    },
    {
      "cell_type": "code",
      "source": [
        "#Calculate sum of all the even numbers in a list.\n",
        "\n"
      ],
      "metadata": {
        "id": "qJvSSoz_A7FP"
      },
      "execution_count": null,
      "outputs": []
    },
    {
      "cell_type": "code",
      "source": [
        "L = [\"orange\", \"mango\", \"kiwi\", \"pineapple\",\"mango\", \"banana\"]\n",
        "name=input(\"Enter the name that needs to be replaced:\")\n",
        "newname=input(\"Enter the new name:\")\n",
        "\n",
        "for  i in range(0,len(L)):\n",
        "    if L[i]==name:   #comparing every element of a list with the name given by user\n",
        "      L[i]=newname   #once found replacing every element with the new name\n",
        "\n",
        "\n",
        "print(L)\n"
      ],
      "metadata": {
        "colab": {
          "base_uri": "https://localhost:8080/"
        },
        "id": "g_BgRQadAYcc",
        "outputId": "0b0ee156-cfc9-4c43-95b7-97ea82e1a49e"
      },
      "execution_count": null,
      "outputs": [
        {
          "output_type": "stream",
          "name": "stdout",
          "text": [
            "Enter the name that needs to be replaced:mango\n",
            "Enter the new name:Guava\n",
            "['orange', 'Guava', 'kiwi', 'pineapple', 'Guava', 'banana']\n"
          ]
        }
      ]
    },
    {
      "cell_type": "code",
      "source": [
        "thislist = [\"apple\", \"banana\", \"cherry\"]\n",
        "mylist = thislist.copy()\n",
        "print(mylist)\n",
        "\n",
        "thislist = [\"apple\", \"banana\", \"cherry\"]\n",
        "mylist = list(thislist)\n",
        "print(mylist)"
      ],
      "metadata": {
        "id": "gmp6NEtycooY"
      },
      "execution_count": null,
      "outputs": []
    },
    {
      "cell_type": "code",
      "source": [],
      "metadata": {
        "id": "lPlFCSDO9nCs"
      },
      "execution_count": null,
      "outputs": []
    },
    {
      "cell_type": "code",
      "source": [
        "#concatenate list\n",
        "list1 = [\"a\", \"b\", \"c\"]\n",
        "list2 = [1, 2, 3]\n",
        "\n",
        "list3 = list1 + list2\n",
        "print(list3)"
      ],
      "metadata": {
        "id": "Xh005Jdzctzy"
      },
      "execution_count": null,
      "outputs": []
    },
    {
      "cell_type": "markdown",
      "source": [
        "**Ignore**"
      ],
      "metadata": {
        "id": "W6Bu30K_jHuc"
      }
    },
    {
      "cell_type": "code",
      "execution_count": null,
      "metadata": {
        "colab": {
          "base_uri": "https://localhost:8080/"
        },
        "id": "OUKrBym8aKoq",
        "outputId": "32febf2c-017f-4508-e2d9-5417a248748f"
      },
      "outputs": [
        {
          "output_type": "stream",
          "name": "stdout",
          "text": [
            "Apple\n",
            "Mango\n",
            "Banana\n",
            "Peach\n"
          ]
        }
      ],
      "source": [
        "fruits = [\"Apple\", \"Mango\", \"Banana\", \"Peach\"]\n",
        "for i in fruits:\n",
        "  print(i)"
      ]
    },
    {
      "cell_type": "code",
      "source": [
        "fruits = [\"Apple\", \"Mango\", \"Banana\", \"Peach\"]\n",
        "\n",
        "# Constructs range object containing elements from 0 to 3\n",
        "for i in range(len(fruits)):\n",
        "  print(\"The list at index\", i, \"contains a\", fruits[i])"
      ],
      "metadata": {
        "colab": {
          "base_uri": "https://localhost:8080/"
        },
        "id": "JsvtcMjcalev",
        "outputId": "5e2b7eee-d828-4c32-b00f-67feaec8eba6"
      },
      "execution_count": null,
      "outputs": [
        {
          "output_type": "stream",
          "name": "stdout",
          "text": [
            "The list at index 0 contains a Apple\n",
            "The list at index 1 contains a Mango\n",
            "The list at index 2 contains a Banana\n",
            "The list at index 3 contains a Peach\n"
          ]
        }
      ]
    },
    {
      "cell_type": "markdown",
      "source": [
        "# Ignore the part below:"
      ],
      "metadata": {
        "id": "FQcw97i3Zf07"
      }
    },
    {
      "cell_type": "code",
      "source": [
        "#List comprehnsion\n",
        "\n",
        "fruits = [\"Apple\", \"Mango\", \"Banana\", \"Peach\"]\n",
        "x=[(fruit + \" juice\") for fruit in fruits]\n",
        "print(x)"
      ],
      "metadata": {
        "colab": {
          "base_uri": "https://localhost:8080/"
        },
        "id": "Kjb8BfvSaSOq",
        "outputId": "0a082a4a-e822-40e1-e9e3-0602b4d1a6a9"
      },
      "execution_count": null,
      "outputs": [
        {
          "output_type": "stream",
          "name": "stdout",
          "text": [
            "['Apple juice', 'Mango juice', 'Banana juice', 'Peach juice']\n"
          ]
        }
      ]
    },
    {
      "cell_type": "code",
      "source": [
        "lst1 = [1, 2, 3, 4, 5]\n",
        "lst2 = []\n",
        "\n",
        "# Lambda function to square number\n",
        "temp = lambda i:i**2\n",
        "\n",
        "for i in lst1:\n",
        "\n",
        "    # Add to lst2\n",
        "    lst2.append(temp(i))\n",
        "\n",
        "print(lst2)"
      ],
      "metadata": {
        "colab": {
          "base_uri": "https://localhost:8080/"
        },
        "id": "na-9x1rPauKL",
        "outputId": "0abac313-3024-4cdd-e5ff-c6e9f0d1a341"
      },
      "execution_count": null,
      "outputs": [
        {
          "output_type": "stream",
          "name": "stdout",
          "text": [
            "[1, 4, 9, 16, 25]\n"
          ]
        }
      ]
    },
    {
      "cell_type": "code",
      "source": [
        "# We use lambda to iterate through the list and find the square of each value. To iterate through lst1, a for loop is used.\n",
        "#Each integer is passed in a single iteration; the append() function saves it to lst2.\n",
        "\n",
        "# We can make this code even more efficient using the map() function:\n",
        "\n",
        "lst1 = [1, 2, 3, 4, 5]\n",
        "\n",
        "lst1 = list(map(lambda v: v ** 2, lst1))\n",
        "\n",
        "print(lst1)"
      ],
      "metadata": {
        "id": "PoZxfuTza1jl"
      },
      "execution_count": null,
      "outputs": []
    },
    {
      "cell_type": "code",
      "source": [
        "fruits = [\"Apple\", \"Mango\",  \"Banana\", \"Peach\"]\n",
        "\n",
        "i = 0\n",
        "while i < len(fruits):\n",
        "  print(fruits[i])\n",
        "  i = i + 1"
      ],
      "metadata": {
        "id": "yPTRh4NSa6_J"
      },
      "execution_count": null,
      "outputs": []
    }
  ]
}