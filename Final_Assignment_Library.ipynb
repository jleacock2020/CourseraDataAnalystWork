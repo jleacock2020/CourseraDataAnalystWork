{
  "cells": [
    {
      "cell_type": "markdown",
      "metadata": {
        "id": "view-in-github",
        "colab_type": "text"
      },
      "source": [
        "<a href=\"https://colab.research.google.com/github/jleacock2020/CourseraDataAnalystWork/blob/main/Final_Assignment_Library.ipynb\" target=\"_parent\"><img src=\"https://colab.research.google.com/assets/colab-badge.svg\" alt=\"Open In Colab\"/></a>"
      ]
    },
    {
      "cell_type": "markdown",
      "metadata": {
        "id": "buHEaJSHCgic"
      },
      "source": [
        "<center>\n",
        "    <img src=\"https://cf-courses-data.s3.us.cloud-object-storage.appdomain.cloud/IBMDeveloperSkillsNetwork-PY0220EN-SkillsNetwork/labs/project/Images/SN_logo.png\" width=\"300\" alt=\"cognitiveclass.ai logo\">\n",
        "</center>\n"
      ]
    },
    {
      "cell_type": "markdown",
      "metadata": {
        "id": "6YLzxWilCgik"
      },
      "source": [
        "<h1>Extracting Stock Data Using a Python Library</h1>\n"
      ]
    },
    {
      "cell_type": "markdown",
      "metadata": {
        "id": "s8mwrPeBCgil"
      },
      "source": [
        "A company's stock share is a piece of the company more precisely:\n",
        "<p><b>A stock (also known as equity) is a security that represents the ownership of a fraction of a corporation. This\n",
        "entitles the owner of the stock to a proportion of the corporation's assets and profits equal to how much stock they own. Units of stock are called \"shares.\" [1]</p></b>\n",
        "\n",
        "An investor can buy a stock and sell it later. If the stock price increases, the investor profits, If it decreases,the investor with incur a loss.  Determining the stock price is complex; it depends on the number of outstanding shares, the size of the company's future profits, and much more. People trade stocks throughout the day the stock ticker is a report of the price of a certain stock, updated continuously throughout the trading session by the various stock market exchanges.\n",
        "<p>You are a data scientist working for a hedge fund; it's your job to determine any suspicious stock activity. In this lab you will extract stock data using a Python library. We will use the <coode>yfinance</code> library, it allows us to extract data for stocks returning data in a pandas dataframe. You will use the lab to extract.</p>\n"
      ]
    },
    {
      "cell_type": "markdown",
      "metadata": {
        "id": "O91JWfc1Cgil"
      },
      "source": [
        "<h2>Table of Contents</h2>\n",
        "<div class=\"alert alert-block alert-info\" style=\"margin-top: 20px\">\n",
        "    <ul>\n",
        "        <li>Using yfinance to Extract Stock Info</li>\n",
        "        <li>Using yfinance to Extract Historical Share Price Data</li>\n",
        "        <li>Using yfinance to Extract Historical Dividends Data</li>\n",
        "        <li>Exercise</li>\n",
        "    </ul>\n",
        "<p>\n",
        "    Estimated Time Needed: <strong>30 min</strong></p>\n",
        "</div>\n",
        "\n",
        "<hr>\n"
      ]
    },
    {
      "cell_type": "code",
      "execution_count": null,
      "metadata": {
        "tags": [],
        "id": "9Y0M-D3sCgim",
        "outputId": "63014815-2630-4f90-9e92-a0af9bed9246"
      },
      "outputs": [
        {
          "name": "stdout",
          "output_type": "stream",
          "text": [
            "Requirement already satisfied: yfinance==0.2.4 in /home/jupyterlab/conda/envs/python/lib/python3.7/site-packages (0.2.4)\n",
            "Requirement already satisfied: pandas>=1.3.0 in /home/jupyterlab/conda/envs/python/lib/python3.7/site-packages (from yfinance==0.2.4) (1.3.5)\n",
            "Requirement already satisfied: numpy>=1.16.5 in /home/jupyterlab/conda/envs/python/lib/python3.7/site-packages (from yfinance==0.2.4) (1.21.6)\n",
            "Requirement already satisfied: requests>=2.26 in /home/jupyterlab/conda/envs/python/lib/python3.7/site-packages (from yfinance==0.2.4) (2.29.0)\n",
            "Requirement already satisfied: multitasking>=0.0.7 in /home/jupyterlab/conda/envs/python/lib/python3.7/site-packages (from yfinance==0.2.4) (0.0.11)\n",
            "Requirement already satisfied: lxml>=4.9.1 in /home/jupyterlab/conda/envs/python/lib/python3.7/site-packages (from yfinance==0.2.4) (4.9.2)\n",
            "Requirement already satisfied: appdirs>=1.4.4 in /home/jupyterlab/conda/envs/python/lib/python3.7/site-packages (from yfinance==0.2.4) (1.4.4)\n",
            "Requirement already satisfied: pytz>=2022.5 in /home/jupyterlab/conda/envs/python/lib/python3.7/site-packages (from yfinance==0.2.4) (2023.3)\n",
            "Requirement already satisfied: frozendict>=2.3.4 in /home/jupyterlab/conda/envs/python/lib/python3.7/site-packages (from yfinance==0.2.4) (2.3.8)\n",
            "Requirement already satisfied: cryptography>=3.3.2 in /home/jupyterlab/conda/envs/python/lib/python3.7/site-packages (from yfinance==0.2.4) (38.0.2)\n",
            "Requirement already satisfied: beautifulsoup4>=4.11.1 in /home/jupyterlab/conda/envs/python/lib/python3.7/site-packages (from yfinance==0.2.4) (4.11.1)\n",
            "Requirement already satisfied: html5lib>=1.1 in /home/jupyterlab/conda/envs/python/lib/python3.7/site-packages (from yfinance==0.2.4) (1.1)\n",
            "Requirement already satisfied: soupsieve>1.2 in /home/jupyterlab/conda/envs/python/lib/python3.7/site-packages (from beautifulsoup4>=4.11.1->yfinance==0.2.4) (2.3.2.post1)\n",
            "Requirement already satisfied: cffi>=1.12 in /home/jupyterlab/conda/envs/python/lib/python3.7/site-packages (from cryptography>=3.3.2->yfinance==0.2.4) (1.15.1)\n",
            "Requirement already satisfied: six>=1.9 in /home/jupyterlab/conda/envs/python/lib/python3.7/site-packages (from html5lib>=1.1->yfinance==0.2.4) (1.16.0)\n",
            "Requirement already satisfied: webencodings in /home/jupyterlab/conda/envs/python/lib/python3.7/site-packages (from html5lib>=1.1->yfinance==0.2.4) (0.5.1)\n",
            "Requirement already satisfied: python-dateutil>=2.7.3 in /home/jupyterlab/conda/envs/python/lib/python3.7/site-packages (from pandas>=1.3.0->yfinance==0.2.4) (2.8.2)\n",
            "Requirement already satisfied: charset-normalizer<4,>=2 in /home/jupyterlab/conda/envs/python/lib/python3.7/site-packages (from requests>=2.26->yfinance==0.2.4) (3.1.0)\n",
            "Requirement already satisfied: idna<4,>=2.5 in /home/jupyterlab/conda/envs/python/lib/python3.7/site-packages (from requests>=2.26->yfinance==0.2.4) (3.4)\n",
            "Requirement already satisfied: urllib3<1.27,>=1.21.1 in /home/jupyterlab/conda/envs/python/lib/python3.7/site-packages (from requests>=2.26->yfinance==0.2.4) (1.26.15)\n",
            "Requirement already satisfied: certifi>=2017.4.17 in /home/jupyterlab/conda/envs/python/lib/python3.7/site-packages (from requests>=2.26->yfinance==0.2.4) (2023.5.7)\n",
            "Requirement already satisfied: pycparser in /home/jupyterlab/conda/envs/python/lib/python3.7/site-packages (from cffi>=1.12->cryptography>=3.3.2->yfinance==0.2.4) (2.21)\n"
          ]
        }
      ],
      "source": [
        "!pip install yfinance==0.2.4\n",
        "#!pip install pandas==1.3.3"
      ]
    },
    {
      "cell_type": "code",
      "execution_count": null,
      "metadata": {
        "tags": [],
        "id": "Hf6XAGP7Cgin"
      },
      "outputs": [],
      "source": [
        "import yfinance as yf\n",
        "import pandas as pd"
      ]
    },
    {
      "cell_type": "markdown",
      "metadata": {
        "id": "wcEGIkmUCgin"
      },
      "source": [
        "## Using the yfinance Library to Extract Stock Data\n"
      ]
    },
    {
      "cell_type": "markdown",
      "metadata": {
        "id": "S6XdpKGaCgin"
      },
      "source": [
        "Using the `Ticker` module we can create an object that will allow us to access functions to extract data. To do this we need to provide the ticker symbol for the stock, here the company is Apple and the ticker symbol is `AAPL`.\n"
      ]
    },
    {
      "cell_type": "code",
      "execution_count": null,
      "metadata": {
        "tags": [],
        "id": "k2kBQm1KCgin"
      },
      "outputs": [],
      "source": [
        "apple = yf.Ticker(\"AAPL\")"
      ]
    },
    {
      "cell_type": "markdown",
      "metadata": {
        "id": "4GJrc2G3Cgio"
      },
      "source": [
        "Now we can access functions and variables to extract the type of data we need. You can view them and what they represent here https://aroussi.com/post/python-yahoo-finance.\n"
      ]
    },
    {
      "cell_type": "code",
      "execution_count": null,
      "metadata": {
        "tags": [],
        "id": "nMWL0V2lCgio",
        "outputId": "74b79a61-f01f-478d-f4ad-9dc0af092b97"
      },
      "outputs": [
        {
          "name": "stdout",
          "output_type": "stream",
          "text": [
            "--2023-06-23 00:25:55--  https://cf-courses-data.s3.us.cloud-object-storage.appdomain.cloud/IBMDeveloperSkillsNetwork-PY0220EN-SkillsNetwork/data/apple.json\n",
            "Resolving cf-courses-data.s3.us.cloud-object-storage.appdomain.cloud (cf-courses-data.s3.us.cloud-object-storage.appdomain.cloud)... 169.63.118.104\n",
            "Connecting to cf-courses-data.s3.us.cloud-object-storage.appdomain.cloud (cf-courses-data.s3.us.cloud-object-storage.appdomain.cloud)|169.63.118.104|:443... connected.\n",
            "HTTP request sent, awaiting response... 200 OK\n",
            "Length: 5699 (5.6K) [application/json]\n",
            "Saving to: ‘apple.json.2’\n",
            "\n",
            "apple.json.2        100%[===================>]   5.57K  --.-KB/s    in 0s      \n",
            "\n",
            "2023-06-23 00:25:55 (33.6 MB/s) - ‘apple.json.2’ saved [5699/5699]\n",
            "\n"
          ]
        }
      ],
      "source": [
        "!wget https://cf-courses-data.s3.us.cloud-object-storage.appdomain.cloud/IBMDeveloperSkillsNetwork-PY0220EN-SkillsNetwork/data/apple.json"
      ]
    },
    {
      "cell_type": "markdown",
      "metadata": {
        "id": "7vAAuRhTCgio"
      },
      "source": [
        "### Stock Info\n"
      ]
    },
    {
      "cell_type": "markdown",
      "metadata": {
        "id": "YgzyuC5vCgio"
      },
      "source": [
        "Using the attribute  <code>info</code> we can extract information about the stock as a Python dictionary.\n"
      ]
    },
    {
      "cell_type": "code",
      "execution_count": null,
      "metadata": {
        "tags": [],
        "id": "9r1tHMc7Cgio",
        "outputId": "799b8cf7-6c89-4026-afb8-1898ab59caee"
      },
      "outputs": [
        {
          "data": {
            "text/plain": [
              "{'zip': '95014',\n",
              " 'sector': 'Technology',\n",
              " 'fullTimeEmployees': 100000,\n",
              " 'longBusinessSummary': 'Apple Inc. designs, manufactures, and markets smartphones, personal computers, tablets, wearables, and accessories worldwide. It also sells various related services. In addition, the company offers iPhone, a line of smartphones; Mac, a line of personal computers; iPad, a line of multi-purpose tablets; AirPods Max, an over-ear wireless headphone; and wearables, home, and accessories comprising AirPods, Apple TV, Apple Watch, Beats products, HomePod, and iPod touch. Further, it provides AppleCare support services; cloud services store services; and operates various platforms, including the App Store that allow customers to discover and download applications and digital content, such as books, music, video, games, and podcasts. Additionally, the company offers various services, such as Apple Arcade, a game subscription service; Apple Music, which offers users a curated listening experience with on-demand radio stations; Apple News+, a subscription news and magazine service; Apple TV+, which offers exclusive original content; Apple Card, a co-branded credit card; and Apple Pay, a cashless payment service, as well as licenses its intellectual property. The company serves consumers, and small and mid-sized businesses; and the education, enterprise, and government markets. It distributes third-party applications for its products through the App Store. The company also sells its products through its retail and online stores, and direct sales force; and third-party cellular network carriers, wholesalers, retailers, and resellers. Apple Inc. was incorporated in 1977 and is headquartered in Cupertino, California.',\n",
              " 'city': 'Cupertino',\n",
              " 'phone': '408 996 1010',\n",
              " 'state': 'CA',\n",
              " 'country': 'United States',\n",
              " 'companyOfficers': [],\n",
              " 'website': 'https://www.apple.com',\n",
              " 'maxAge': 1,\n",
              " 'address1': 'One Apple Park Way',\n",
              " 'industry': 'Consumer Electronics',\n",
              " 'ebitdaMargins': 0.33890998,\n",
              " 'profitMargins': 0.26579002,\n",
              " 'grossMargins': 0.43019,\n",
              " 'operatingCashflow': 112241000448,\n",
              " 'revenueGrowth': 0.112,\n",
              " 'operatingMargins': 0.309,\n",
              " 'ebitda': 128217997312,\n",
              " 'targetLowPrice': 160,\n",
              " 'recommendationKey': 'buy',\n",
              " 'grossProfits': 152836000000,\n",
              " 'freeCashflow': 80153247744,\n",
              " 'targetMedianPrice': 199.5,\n",
              " 'currentPrice': 177.77,\n",
              " 'earningsGrowth': 0.25,\n",
              " 'currentRatio': 1.038,\n",
              " 'returnOnAssets': 0.19875,\n",
              " 'numberOfAnalystOpinions': 44,\n",
              " 'targetMeanPrice': 193.53,\n",
              " 'debtToEquity': 170.714,\n",
              " 'returnOnEquity': 1.45567,\n",
              " 'targetHighPrice': 215,\n",
              " 'totalCash': 63913000960,\n",
              " 'totalDebt': 122797998080,\n",
              " 'totalRevenue': 378323009536,\n",
              " 'totalCashPerShare': 3.916,\n",
              " 'financialCurrency': 'USD',\n",
              " 'revenuePerShare': 22.838,\n",
              " 'quickRatio': 0.875,\n",
              " 'recommendationMean': 1.8,\n",
              " 'exchange': 'NMS',\n",
              " 'shortName': 'Apple Inc.',\n",
              " 'longName': 'Apple Inc.',\n",
              " 'exchangeTimezoneName': 'America/New_York',\n",
              " 'exchangeTimezoneShortName': 'EDT',\n",
              " 'isEsgPopulated': False,\n",
              " 'gmtOffSetMilliseconds': '-14400000',\n",
              " 'quoteType': 'EQUITY',\n",
              " 'symbol': 'AAPL',\n",
              " 'messageBoardId': 'finmb_24937',\n",
              " 'market': 'us_market',\n",
              " 'annualHoldingsTurnover': None,\n",
              " 'enterpriseToRevenue': 7.824,\n",
              " 'beta3Year': None,\n",
              " 'enterpriseToEbitda': 23.086,\n",
              " '52WeekChange': 0.4549594,\n",
              " 'morningStarRiskRating': None,\n",
              " 'forwardEps': 6.56,\n",
              " 'revenueQuarterlyGrowth': None,\n",
              " 'sharesOutstanding': 16319399936,\n",
              " 'fundInceptionDate': None,\n",
              " 'annualReportExpenseRatio': None,\n",
              " 'totalAssets': None,\n",
              " 'bookValue': 4.402,\n",
              " 'sharesShort': 111286790,\n",
              " 'sharesPercentSharesOut': 0.0068,\n",
              " 'fundFamily': None,\n",
              " 'lastFiscalYearEnd': 1632528000,\n",
              " 'heldPercentInstitutions': 0.59397,\n",
              " 'netIncomeToCommon': 100554997760,\n",
              " 'trailingEps': 6.015,\n",
              " 'lastDividendValue': 0.22,\n",
              " 'SandP52WeekChange': 0.15217662,\n",
              " 'priceToBook': 40.38392,\n",
              " 'heldPercentInsiders': 0.0007,\n",
              " 'nextFiscalYearEnd': 1695600000,\n",
              " 'yield': None,\n",
              " 'mostRecentQuarter': 1640390400,\n",
              " 'shortRatio': 1.21,\n",
              " 'sharesShortPreviousMonthDate': 1644883200,\n",
              " 'floatShares': 16302795170,\n",
              " 'beta': 1.185531,\n",
              " 'enterpriseValue': 2959991898112,\n",
              " 'priceHint': 2,\n",
              " 'threeYearAverageReturn': None,\n",
              " 'lastSplitDate': 1598832000,\n",
              " 'lastSplitFactor': '4:1',\n",
              " 'legalType': None,\n",
              " 'lastDividendDate': 1643932800,\n",
              " 'morningStarOverallRating': None,\n",
              " 'earningsQuarterlyGrowth': 0.204,\n",
              " 'priceToSalesTrailing12Months': 7.668314,\n",
              " 'dateShortInterest': 1647302400,\n",
              " 'pegRatio': 1.94,\n",
              " 'ytdReturn': None,\n",
              " 'forwardPE': 27.099087,\n",
              " 'lastCapGain': None,\n",
              " 'shortPercentOfFloat': 0.0068,\n",
              " 'sharesShortPriorMonth': 108944701,\n",
              " 'impliedSharesOutstanding': 0,\n",
              " 'category': None,\n",
              " 'fiveYearAverageReturn': None,\n",
              " 'previousClose': 178.96,\n",
              " 'regularMarketOpen': 178.55,\n",
              " 'twoHundredDayAverage': 156.03505,\n",
              " 'trailingAnnualDividendYield': 0.004833482,\n",
              " 'payoutRatio': 0.1434,\n",
              " 'volume24Hr': None,\n",
              " 'regularMarketDayHigh': 179.61,\n",
              " 'navPrice': None,\n",
              " 'averageDailyVolume10Day': 93823630,\n",
              " 'regularMarketPreviousClose': 178.96,\n",
              " 'fiftyDayAverage': 166.498,\n",
              " 'trailingAnnualDividendRate': 0.865,\n",
              " 'open': 178.55,\n",
              " 'toCurrency': None,\n",
              " 'averageVolume10days': 93823630,\n",
              " 'expireDate': None,\n",
              " 'algorithm': None,\n",
              " 'dividendRate': 0.88,\n",
              " 'exDividendDate': 1643932800,\n",
              " 'circulatingSupply': None,\n",
              " 'startDate': None,\n",
              " 'regularMarketDayLow': 176.7,\n",
              " 'currency': 'USD',\n",
              " 'trailingPE': 29.55445,\n",
              " 'regularMarketVolume': 92633154,\n",
              " 'lastMarket': None,\n",
              " 'maxSupply': None,\n",
              " 'openInterest': None,\n",
              " 'marketCap': 2901099675648,\n",
              " 'volumeAllCurrencies': None,\n",
              " 'strikePrice': None,\n",
              " 'averageVolume': 95342043,\n",
              " 'dayLow': 176.7,\n",
              " 'ask': 178.53,\n",
              " 'askSize': 800,\n",
              " 'volume': 92633154,\n",
              " 'fiftyTwoWeekHigh': 182.94,\n",
              " 'fromCurrency': None,\n",
              " 'fiveYearAvgDividendYield': 1.13,\n",
              " 'fiftyTwoWeekLow': 122.25,\n",
              " 'bid': 178.4,\n",
              " 'tradeable': False,\n",
              " 'dividendYield': 0.005,\n",
              " 'bidSize': 3200,\n",
              " 'dayHigh': 179.61,\n",
              " 'regularMarketPrice': 177.77,\n",
              " 'preMarketPrice': 178.38,\n",
              " 'logo_url': 'https://logo.clearbit.com/apple.com'}"
            ]
          },
          "execution_count": 31,
          "metadata": {},
          "output_type": "execute_result"
        }
      ],
      "source": [
        "import json\n",
        "with open('apple.json') as json_file:\n",
        "    apple_info = json.load(json_file)\n",
        "    # Print the type of data variable\n",
        "    #print(\"Type:\", type(apple_info))\n",
        "apple_info"
      ]
    },
    {
      "cell_type": "markdown",
      "metadata": {
        "id": "sC-1xvfiCgio"
      },
      "source": [
        "We can get the <code>'country'</code> using the key country\n"
      ]
    },
    {
      "cell_type": "code",
      "execution_count": null,
      "metadata": {
        "tags": [],
        "id": "4lC_YBSHCgio",
        "outputId": "9ba60c9c-ddad-4a33-b66e-0326e8eada68"
      },
      "outputs": [
        {
          "data": {
            "text/plain": [
              "'United States'"
            ]
          },
          "execution_count": 32,
          "metadata": {},
          "output_type": "execute_result"
        }
      ],
      "source": [
        "apple_info['country']"
      ]
    },
    {
      "cell_type": "markdown",
      "metadata": {
        "id": "ipN0y35oCgip"
      },
      "source": [
        "### Extracting Share Price\n"
      ]
    },
    {
      "cell_type": "markdown",
      "metadata": {
        "id": "DQDq7M-yCgip"
      },
      "source": [
        "A share is the single smallest part of a company's stock  that you can buy, the prices of these shares fluctuate over time. Using the <code>history()</code> method we can get the share price of the stock over a certain period of time. Using the `period` parameter we can set how far back from the present to get data. The options for `period` are 1 day (1d), 5d, 1 month (1mo) , 3mo, 6mo, 1 year (1y), 2y, 5y, 10y, ytd, and max.\n"
      ]
    },
    {
      "cell_type": "code",
      "execution_count": null,
      "metadata": {
        "tags": [],
        "id": "WeSDBHJ4Cgip"
      },
      "outputs": [],
      "source": [
        "apple_share_price_data = apple.history(period=\"max\")"
      ]
    },
    {
      "cell_type": "markdown",
      "metadata": {
        "id": "Jd4djXhpCgip"
      },
      "source": [
        "The format that the data is returned in is a Pandas DataFrame. With the `Date` as the index the share `Open`, `High`, `Low`, `Close`, `Volume`, and `Stock Splits` are given for each day.\n"
      ]
    },
    {
      "cell_type": "code",
      "execution_count": null,
      "metadata": {
        "id": "iTxzOkIuCgip",
        "outputId": "d6c1c353-cd48-437b-cd32-c8773135ec13"
      },
      "outputs": [
        {
          "data": {
            "text/html": [
              "<div>\n",
              "<style scoped>\n",
              "    .dataframe tbody tr th:only-of-type {\n",
              "        vertical-align: middle;\n",
              "    }\n",
              "\n",
              "    .dataframe tbody tr th {\n",
              "        vertical-align: top;\n",
              "    }\n",
              "\n",
              "    .dataframe thead th {\n",
              "        text-align: right;\n",
              "    }\n",
              "</style>\n",
              "<table border=\"1\" class=\"dataframe\">\n",
              "  <thead>\n",
              "    <tr style=\"text-align: right;\">\n",
              "      <th></th>\n",
              "      <th>Open</th>\n",
              "      <th>High</th>\n",
              "      <th>Low</th>\n",
              "      <th>Close</th>\n",
              "      <th>Volume</th>\n",
              "      <th>Dividends</th>\n",
              "      <th>Stock Splits</th>\n",
              "    </tr>\n",
              "    <tr>\n",
              "      <th>Date</th>\n",
              "      <th></th>\n",
              "      <th></th>\n",
              "      <th></th>\n",
              "      <th></th>\n",
              "      <th></th>\n",
              "      <th></th>\n",
              "      <th></th>\n",
              "    </tr>\n",
              "  </thead>\n",
              "  <tbody>\n",
              "    <tr>\n",
              "      <th>1980-12-12 00:00:00-05:00</th>\n",
              "      <td>0.099584</td>\n",
              "      <td>0.100017</td>\n",
              "      <td>0.099584</td>\n",
              "      <td>0.099584</td>\n",
              "      <td>469033600</td>\n",
              "      <td>0.0</td>\n",
              "      <td>0.0</td>\n",
              "    </tr>\n",
              "    <tr>\n",
              "      <th>1980-12-15 00:00:00-05:00</th>\n",
              "      <td>0.094821</td>\n",
              "      <td>0.094821</td>\n",
              "      <td>0.094388</td>\n",
              "      <td>0.094388</td>\n",
              "      <td>175884800</td>\n",
              "      <td>0.0</td>\n",
              "      <td>0.0</td>\n",
              "    </tr>\n",
              "    <tr>\n",
              "      <th>1980-12-16 00:00:00-05:00</th>\n",
              "      <td>0.087893</td>\n",
              "      <td>0.087893</td>\n",
              "      <td>0.087461</td>\n",
              "      <td>0.087461</td>\n",
              "      <td>105728000</td>\n",
              "      <td>0.0</td>\n",
              "      <td>0.0</td>\n",
              "    </tr>\n",
              "    <tr>\n",
              "      <th>1980-12-17 00:00:00-05:00</th>\n",
              "      <td>0.089625</td>\n",
              "      <td>0.090058</td>\n",
              "      <td>0.089625</td>\n",
              "      <td>0.089625</td>\n",
              "      <td>86441600</td>\n",
              "      <td>0.0</td>\n",
              "      <td>0.0</td>\n",
              "    </tr>\n",
              "    <tr>\n",
              "      <th>1980-12-18 00:00:00-05:00</th>\n",
              "      <td>0.092224</td>\n",
              "      <td>0.092657</td>\n",
              "      <td>0.092224</td>\n",
              "      <td>0.092224</td>\n",
              "      <td>73449600</td>\n",
              "      <td>0.0</td>\n",
              "      <td>0.0</td>\n",
              "    </tr>\n",
              "  </tbody>\n",
              "</table>\n",
              "</div>"
            ],
            "text/plain": [
              "                               Open      High       Low     Close     Volume  \\\n",
              "Date                                                                           \n",
              "1980-12-12 00:00:00-05:00  0.099584  0.100017  0.099584  0.099584  469033600   \n",
              "1980-12-15 00:00:00-05:00  0.094821  0.094821  0.094388  0.094388  175884800   \n",
              "1980-12-16 00:00:00-05:00  0.087893  0.087893  0.087461  0.087461  105728000   \n",
              "1980-12-17 00:00:00-05:00  0.089625  0.090058  0.089625  0.089625   86441600   \n",
              "1980-12-18 00:00:00-05:00  0.092224  0.092657  0.092224  0.092224   73449600   \n",
              "\n",
              "                           Dividends  Stock Splits  \n",
              "Date                                                \n",
              "1980-12-12 00:00:00-05:00        0.0           0.0  \n",
              "1980-12-15 00:00:00-05:00        0.0           0.0  \n",
              "1980-12-16 00:00:00-05:00        0.0           0.0  \n",
              "1980-12-17 00:00:00-05:00        0.0           0.0  \n",
              "1980-12-18 00:00:00-05:00        0.0           0.0  "
            ]
          },
          "execution_count": 37,
          "metadata": {},
          "output_type": "execute_result"
        }
      ],
      "source": [
        "apple_share_price_data.head()"
      ]
    },
    {
      "cell_type": "markdown",
      "metadata": {
        "id": "4o3HPtIGCgip"
      },
      "source": [
        "We can reset the index of the DataFrame with the `reset_index` function. We also set the `inplace` paramter to `True` so the change takes place to the DataFrame itself.\n"
      ]
    },
    {
      "cell_type": "code",
      "execution_count": null,
      "metadata": {
        "id": "iVZQujUVCgip"
      },
      "outputs": [],
      "source": [
        "apple_share_price_data.reset_index(inplace=True)"
      ]
    },
    {
      "cell_type": "markdown",
      "metadata": {
        "id": "qqGZf6XpCgip"
      },
      "source": [
        "We can plot the `Open` price against the `Date`:\n"
      ]
    },
    {
      "cell_type": "code",
      "execution_count": null,
      "metadata": {
        "id": "sxke0TS1Cgiq",
        "outputId": "7213920d-5c0b-4b60-c58e-7df0a8adbb9c"
      },
      "outputs": [
        {
          "data": {
            "text/plain": [
              "<AxesSubplot:xlabel='Date'>"
            ]
          },
          "execution_count": 40,
          "metadata": {},
          "output_type": "execute_result"
        },
        {
          "data": {
            "image/png": "[encoded data removed]",
            "text/plain": [
              "<Figure size 640x480 with 1 Axes>"
            ]
          },
          "metadata": {},
          "output_type": "display_data"
        }
      ],
      "source": [
        "apple_share_price_data.plot(x=\"Date\", y=\"Open\")"
      ]
    },
    {
      "cell_type": "markdown",
      "metadata": {
        "id": "zPnJy9L8Cgiq"
      },
      "source": [
        "### Extracting Dividends\n"
      ]
    },
    {
      "cell_type": "markdown",
      "metadata": {
        "id": "KP3iFjcbCgiq"
      },
      "source": [
        "Dividends are the distribution of a companys profits to shareholders. In this case they are defined as an amount of money returned per share an investor owns. Using the variable `dividends` we can get a dataframe of the data. The period of the data is given by the period defined in the 'history` function.\n"
      ]
    },
    {
      "cell_type": "code",
      "execution_count": null,
      "metadata": {
        "id": "o2M8OXVtCgiq",
        "outputId": "cac11354-b74e-462f-c64e-a4eba8b32b46"
      },
      "outputs": [
        {
          "data": {
            "text/plain": [
              "Date\n",
              "1987-05-11 00:00:00-04:00    0.000536\n",
              "1987-08-10 00:00:00-04:00    0.000536\n",
              "1987-11-17 00:00:00-05:00    0.000714\n",
              "1988-02-12 00:00:00-05:00    0.000714\n",
              "1988-05-16 00:00:00-04:00    0.000714\n",
              "                               ...   \n",
              "2022-05-06 00:00:00-04:00    0.230000\n",
              "2022-08-05 00:00:00-04:00    0.230000\n",
              "2022-11-04 00:00:00-04:00    0.230000\n",
              "2023-02-10 00:00:00-05:00    0.230000\n",
              "2023-05-12 00:00:00-04:00    0.240000\n",
              "Name: Dividends, Length: 79, dtype: float64"
            ]
          },
          "execution_count": 41,
          "metadata": {},
          "output_type": "execute_result"
        }
      ],
      "source": [
        "apple.dividends"
      ]
    },
    {
      "cell_type": "markdown",
      "metadata": {
        "id": "2GsdtzGdCgiq"
      },
      "source": [
        "We can plot the dividends overtime:\n"
      ]
    },
    {
      "cell_type": "code",
      "execution_count": null,
      "metadata": {
        "id": "KYZYciH1Cgiq",
        "outputId": "2fde5eec-22f7-46af-8272-db141c791f2d"
      },
      "outputs": [
        {
          "data": {
            "text/plain": [
              "<AxesSubplot:xlabel='Date'>"
            ]
          },
          "execution_count": 42,
          "metadata": {},
          "output_type": "execute_result"
        },
        {
          "data": {
            "image/png": "[encoded data removed]",
            "text/plain": [
              "<Figure size 640x480 with 1 Axes>"
            ]
          },
          "metadata": {},
          "output_type": "display_data"
        }
      ],
      "source": [
        "apple.dividends.plot()"
      ]
    },
    {
      "cell_type": "markdown",
      "metadata": {
        "id": "URloCwEDCgiq"
      },
      "source": [
        "## Exercise\n"
      ]
    },
    {
      "cell_type": "markdown",
      "metadata": {
        "id": "CFls7PKvCgiq"
      },
      "source": [
        "Now using the `Ticker` module create an object for AMD (Advanced Micro Devices) with the ticker symbol is `AMD` called; name the object <code>amd</code>.\n"
      ]
    },
    {
      "cell_type": "code",
      "execution_count": null,
      "metadata": {
        "id": "q_SZ_OItCgir"
      },
      "outputs": [],
      "source": [
        "amd = yf.Ticker(\"AMD\")"
      ]
    },
    {
      "cell_type": "code",
      "execution_count": null,
      "metadata": {
        "id": "u13K4UQXCgir",
        "outputId": "29649666-77b5-49b9-c371-18458c51ce9d"
      },
      "outputs": [
        {
          "name": "stdout",
          "output_type": "stream",
          "text": [
            "--2023-06-23 00:30:22--  https://cf-courses-data.s3.us.cloud-object-storage.appdomain.cloud/IBMDeveloperSkillsNetwork-PY0220EN-SkillsNetwork/data/amd.json\n",
            "Resolving cf-courses-data.s3.us.cloud-object-storage.appdomain.cloud (cf-courses-data.s3.us.cloud-object-storage.appdomain.cloud)... 169.63.118.104\n",
            "Connecting to cf-courses-data.s3.us.cloud-object-storage.appdomain.cloud (cf-courses-data.s3.us.cloud-object-storage.appdomain.cloud)|169.63.118.104|:443... connected.\n",
            "HTTP request sent, awaiting response... 200 OK\n",
            "Length: 5838 (5.7K) [application/json]\n",
            "Saving to: ‘amd.json’\n",
            "\n",
            "amd.json            100%[===================>]   5.70K  --.-KB/s    in 0s      \n",
            "\n",
            "2023-06-23 00:30:22 (45.4 MB/s) - ‘amd.json’ saved [5838/5838]\n",
            "\n"
          ]
        }
      ],
      "source": [
        "!wget https://cf-courses-data.s3.us.cloud-object-storage.appdomain.cloud/IBMDeveloperSkillsNetwork-PY0220EN-SkillsNetwork/data/amd.json"
      ]
    },
    {
      "cell_type": "code",
      "execution_count": null,
      "metadata": {
        "id": "dYzP_5POCgir",
        "outputId": "1eee4d84-08be-4beb-bef8-75bac1a6c981"
      },
      "outputs": [
        {
          "data": {
            "text/plain": [
              "{'zip': '95054',\n",
              " 'sector': 'Technology',\n",
              " 'fullTimeEmployees': 15500,\n",
              " 'longBusinessSummary': 'Advanced Micro Devices, Inc. operates as a semiconductor company worldwide. The company operates in two segments, Computing and Graphics; and Enterprise, Embedded and Semi-Custom. Its products include x86 microprocessors as an accelerated processing unit, chipsets, discrete and integrated graphics processing units (GPUs), data center and professional GPUs, and development services; and server and embedded processors, and semi-custom System-on-Chip (SoC) products, development services, and technology for game consoles. The company provides processors for desktop and notebook personal computers under the AMD Ryzen, AMD Ryzen PRO, Ryzen Threadripper, Ryzen Threadripper PRO, AMD Athlon, AMD Athlon PRO, AMD FX, AMD A-Series, and AMD PRO A-Series processors brands; discrete GPUs for desktop and notebook PCs under the AMD Radeon graphics, AMD Embedded Radeon graphics brands; and professional graphics products under the AMD Radeon Pro and AMD FirePro graphics brands. It also offers Radeon Instinct, Radeon PRO V-series, and AMD Instinct accelerators for servers; chipsets under the AMD trademark; microprocessors for servers under the AMD EPYC; embedded processor solutions under the AMD Athlon, AMD Geode, AMD Ryzen, AMD EPYC, AMD R-Series, and G-Series processors brands; and customer-specific solutions based on AMD CPU, GPU, and multi-media technologies, as well as semi-custom SoC products. It serves original equipment manufacturers, public cloud service providers, original design manufacturers, system integrators, independent distributors, online retailers, and add-in-board manufacturers through its direct sales force, independent distributors, and sales representatives. The company was incorporated in 1969 and is headquartered in Santa Clara, California.',\n",
              " 'city': 'Santa Clara',\n",
              " 'phone': '408 749 4000',\n",
              " 'state': 'CA',\n",
              " 'country': 'United States',\n",
              " 'companyOfficers': [],\n",
              " 'website': 'https://www.amd.com',\n",
              " 'maxAge': 1,\n",
              " 'address1': '2485 Augustine Drive',\n",
              " 'industry': 'Semiconductors',\n",
              " 'ebitdaMargins': 0.24674,\n",
              " 'profitMargins': 0.19240999,\n",
              " 'grossMargins': 0.48248002,\n",
              " 'operatingCashflow': 3520999936,\n",
              " 'revenueGrowth': 0.488,\n",
              " 'operatingMargins': 0.22198,\n",
              " 'ebitda': 4055000064,\n",
              " 'targetLowPrice': 107,\n",
              " 'recommendationKey': 'buy',\n",
              " 'grossProfits': 7929000000,\n",
              " 'freeCashflow': 3122749952,\n",
              " 'targetMedianPrice': 150,\n",
              " 'currentPrice': 119.22,\n",
              " 'earningsGrowth': -0.454,\n",
              " 'currentRatio': 2.024,\n",
              " 'returnOnAssets': 0.21327,\n",
              " 'numberOfAnalystOpinions': 38,\n",
              " 'targetMeanPrice': 152.02,\n",
              " 'debtToEquity': 9.764,\n",
              " 'returnOnEquity': 0.47428,\n",
              " 'targetHighPrice': 200,\n",
              " 'totalCash': 3608000000,\n",
              " 'totalDebt': 732000000,\n",
              " 'totalRevenue': 16433999872,\n",
              " 'totalCashPerShare': 3.008,\n",
              " 'financialCurrency': 'USD',\n",
              " 'revenuePerShare': 13.548,\n",
              " 'quickRatio': 1.49,\n",
              " 'recommendationMean': 2.2,\n",
              " 'exchange': 'NMS',\n",
              " 'shortName': 'Advanced Micro Devices, Inc.',\n",
              " 'longName': 'Advanced Micro Devices, Inc.',\n",
              " 'exchangeTimezoneName': 'America/New_York',\n",
              " 'exchangeTimezoneShortName': 'EDT',\n",
              " 'isEsgPopulated': False,\n",
              " 'gmtOffSetMilliseconds': '-14400000',\n",
              " 'quoteType': 'EQUITY',\n",
              " 'symbol': 'AMD',\n",
              " 'messageBoardId': 'finmb_168864',\n",
              " 'market': 'us_market',\n",
              " 'annualHoldingsTurnover': None,\n",
              " 'enterpriseToRevenue': 8.525,\n",
              " 'beta3Year': None,\n",
              " 'enterpriseToEbitda': 34.551,\n",
              " '52WeekChange': 0.51966953,\n",
              " 'morningStarRiskRating': None,\n",
              " 'forwardEps': 4.72,\n",
              " 'revenueQuarterlyGrowth': None,\n",
              " 'sharesOutstanding': 1627360000,\n",
              " 'fundInceptionDate': None,\n",
              " 'annualReportExpenseRatio': None,\n",
              " 'totalAssets': None,\n",
              " 'bookValue': 6.211,\n",
              " 'sharesShort': 27776129,\n",
              " 'sharesPercentSharesOut': 0.0171,\n",
              " 'fundFamily': None,\n",
              " 'lastFiscalYearEnd': 1640390400,\n",
              " 'heldPercentInstitutions': 0.52896,\n",
              " 'netIncomeToCommon': 3161999872,\n",
              " 'trailingEps': 2.57,\n",
              " 'lastDividendValue': 0.005,\n",
              " 'SandP52WeekChange': 0.15217662,\n",
              " 'priceToBook': 19.194977,\n",
              " 'heldPercentInsiders': 0.00328,\n",
              " 'nextFiscalYearEnd': 1703462400,\n",
              " 'yield': None,\n",
              " 'mostRecentQuarter': 1640390400,\n",
              " 'shortRatio': 0.24,\n",
              " 'sharesShortPreviousMonthDate': 1644883200,\n",
              " 'floatShares': 1193798619,\n",
              " 'beta': 1.848425,\n",
              " 'enterpriseValue': 140104957952,\n",
              " 'priceHint': 2,\n",
              " 'threeYearAverageReturn': None,\n",
              " 'lastSplitDate': 966902400,\n",
              " 'lastSplitFactor': '2:1',\n",
              " 'legalType': None,\n",
              " 'lastDividendDate': 798940800,\n",
              " 'morningStarOverallRating': None,\n",
              " 'earningsQuarterlyGrowth': -0.453,\n",
              " 'priceToSalesTrailing12Months': 11.805638,\n",
              " 'dateShortInterest': 1647302400,\n",
              " 'pegRatio': 0.99,\n",
              " 'ytdReturn': None,\n",
              " 'forwardPE': 25.258476,\n",
              " 'lastCapGain': None,\n",
              " 'shortPercentOfFloat': 0.0171,\n",
              " 'sharesShortPriorMonth': 88709340,\n",
              " 'impliedSharesOutstanding': 0,\n",
              " 'category': None,\n",
              " 'fiveYearAverageReturn': None,\n",
              " 'previousClose': 123.23,\n",
              " 'regularMarketOpen': 123.04,\n",
              " 'twoHundredDayAverage': 116.6998,\n",
              " 'trailingAnnualDividendYield': 0,\n",
              " 'payoutRatio': 0,\n",
              " 'volume24Hr': None,\n",
              " 'regularMarketDayHigh': 125.66,\n",
              " 'navPrice': None,\n",
              " 'averageDailyVolume10Day': 102167370,\n",
              " 'regularMarketPreviousClose': 123.23,\n",
              " 'fiftyDayAverage': 115.95,\n",
              " 'trailingAnnualDividendRate': 0,\n",
              " 'open': 123.04,\n",
              " 'toCurrency': None,\n",
              " 'averageVolume10days': 102167370,\n",
              " 'expireDate': None,\n",
              " 'algorithm': None,\n",
              " 'dividendRate': None,\n",
              " 'exDividendDate': 798940800,\n",
              " 'circulatingSupply': None,\n",
              " 'startDate': None,\n",
              " 'regularMarketDayLow': 118.59,\n",
              " 'currency': 'USD',\n",
              " 'trailingPE': 46.389107,\n",
              " 'regularMarketVolume': 99476946,\n",
              " 'lastMarket': None,\n",
              " 'maxSupply': None,\n",
              " 'openInterest': None,\n",
              " 'marketCap': 194013855744,\n",
              " 'volumeAllCurrencies': None,\n",
              " 'strikePrice': None,\n",
              " 'averageVolume': 102428813,\n",
              " 'dayLow': 118.59,\n",
              " 'ask': 117.24,\n",
              " 'askSize': 1100,\n",
              " 'volume': 99476946,\n",
              " 'fiftyTwoWeekHigh': 164.46,\n",
              " 'fromCurrency': None,\n",
              " 'fiveYearAvgDividendYield': None,\n",
              " 'fiftyTwoWeekLow': 72.5,\n",
              " 'bid': 117.24,\n",
              " 'tradeable': False,\n",
              " 'dividendYield': None,\n",
              " 'bidSize': 900,\n",
              " 'dayHigh': 125.66,\n",
              " 'regularMarketPrice': 119.22,\n",
              " 'preMarketPrice': 116.98,\n",
              " 'logo_url': 'https://logo.clearbit.com/amd.com'}"
            ]
          },
          "execution_count": 47,
          "metadata": {},
          "output_type": "execute_result"
        }
      ],
      "source": [
        "import json\n",
        "with open('amd.json') as json_file:\n",
        "    amd_info = json.load(json_file)\n",
        "    # Print the type of data variable\n",
        "    #print(\"Type:\", type(apple_info))\n",
        "amd_info"
      ]
    },
    {
      "cell_type": "markdown",
      "metadata": {
        "id": "j_sTn6zXCgir"
      },
      "source": [
        "<b>Question 1</b> Use the key  <code>'country'</code> to find the country the stock belongs to, remember it as it will be a quiz question.\n"
      ]
    },
    {
      "cell_type": "code",
      "execution_count": null,
      "metadata": {
        "id": "n6dB6ToPCgir",
        "outputId": "812c78fc-2eeb-4bf8-8f9d-abbd1362f2f0"
      },
      "outputs": [
        {
          "data": {
            "text/plain": [
              "'United States'"
            ]
          },
          "execution_count": 48,
          "metadata": {},
          "output_type": "execute_result"
        }
      ],
      "source": [
        "amd_info['country']"
      ]
    },
    {
      "cell_type": "markdown",
      "metadata": {
        "id": "CyTlae9jCgir"
      },
      "source": [
        "<b>Question 2</b> Use the key  <code>'sector'</code> to find the sector the stock belongs to, remember it as it will be a quiz question.\n"
      ]
    },
    {
      "cell_type": "code",
      "execution_count": null,
      "metadata": {
        "id": "q2Nx_FgyCgir",
        "outputId": "7e310301-90d7-4a30-894b-22f65e509a9f"
      },
      "outputs": [
        {
          "data": {
            "text/plain": [
              "'Technology'"
            ]
          },
          "execution_count": 49,
          "metadata": {},
          "output_type": "execute_result"
        }
      ],
      "source": [
        "amd_info['sector']"
      ]
    },
    {
      "cell_type": "markdown",
      "metadata": {
        "id": "yF3JSAFZCgis"
      },
      "source": [
        "<b>Question 3</b> Obtain stock data for AMD using the `history` function, set the `period` to max. Find the `Volume` traded on the first day (first row).\n"
      ]
    },
    {
      "cell_type": "code",
      "execution_count": null,
      "metadata": {
        "id": "RA64DAG6Cgis"
      },
      "outputs": [],
      "source": [
        "amd_share_price_data = amd.history(period=\"max\")\n"
      ]
    },
    {
      "cell_type": "code",
      "execution_count": null,
      "metadata": {
        "tags": [],
        "id": "aZDjhtKXCgis",
        "outputId": "39ac83ae-12b9-4817-f554-34ffdd56e98a"
      },
      "outputs": [
        {
          "data": {
            "text/html": [
              "<div>\n",
              "<style scoped>\n",
              "    .dataframe tbody tr th:only-of-type {\n",
              "        vertical-align: middle;\n",
              "    }\n",
              "\n",
              "    .dataframe tbody tr th {\n",
              "        vertical-align: top;\n",
              "    }\n",
              "\n",
              "    .dataframe thead th {\n",
              "        text-align: right;\n",
              "    }\n",
              "</style>\n",
              "<table border=\"1\" class=\"dataframe\">\n",
              "  <thead>\n",
              "    <tr style=\"text-align: right;\">\n",
              "      <th></th>\n",
              "      <th>Open</th>\n",
              "      <th>High</th>\n",
              "      <th>Low</th>\n",
              "      <th>Close</th>\n",
              "      <th>Volume</th>\n",
              "      <th>Dividends</th>\n",
              "      <th>Stock Splits</th>\n",
              "    </tr>\n",
              "    <tr>\n",
              "      <th>Date</th>\n",
              "      <th></th>\n",
              "      <th></th>\n",
              "      <th></th>\n",
              "      <th></th>\n",
              "      <th></th>\n",
              "      <th></th>\n",
              "      <th></th>\n",
              "    </tr>\n",
              "  </thead>\n",
              "  <tbody>\n",
              "    <tr>\n",
              "      <th>1980-03-17 00:00:00-05:00</th>\n",
              "      <td>0.0</td>\n",
              "      <td>3.302083</td>\n",
              "      <td>3.125000</td>\n",
              "      <td>3.145833</td>\n",
              "      <td>219600</td>\n",
              "      <td>0.0</td>\n",
              "      <td>0.0</td>\n",
              "    </tr>\n",
              "    <tr>\n",
              "      <th>1980-03-18 00:00:00-05:00</th>\n",
              "      <td>0.0</td>\n",
              "      <td>3.125000</td>\n",
              "      <td>2.937500</td>\n",
              "      <td>3.031250</td>\n",
              "      <td>727200</td>\n",
              "      <td>0.0</td>\n",
              "      <td>0.0</td>\n",
              "    </tr>\n",
              "    <tr>\n",
              "      <th>1980-03-19 00:00:00-05:00</th>\n",
              "      <td>0.0</td>\n",
              "      <td>3.083333</td>\n",
              "      <td>3.020833</td>\n",
              "      <td>3.041667</td>\n",
              "      <td>295200</td>\n",
              "      <td>0.0</td>\n",
              "      <td>0.0</td>\n",
              "    </tr>\n",
              "    <tr>\n",
              "      <th>1980-03-20 00:00:00-05:00</th>\n",
              "      <td>0.0</td>\n",
              "      <td>3.062500</td>\n",
              "      <td>3.010417</td>\n",
              "      <td>3.010417</td>\n",
              "      <td>159600</td>\n",
              "      <td>0.0</td>\n",
              "      <td>0.0</td>\n",
              "    </tr>\n",
              "    <tr>\n",
              "      <th>1980-03-21 00:00:00-05:00</th>\n",
              "      <td>0.0</td>\n",
              "      <td>3.020833</td>\n",
              "      <td>2.906250</td>\n",
              "      <td>2.916667</td>\n",
              "      <td>130800</td>\n",
              "      <td>0.0</td>\n",
              "      <td>0.0</td>\n",
              "    </tr>\n",
              "  </tbody>\n",
              "</table>\n",
              "</div>"
            ],
            "text/plain": [
              "                           Open      High       Low     Close  Volume  \\\n",
              "Date                                                                    \n",
              "1980-03-17 00:00:00-05:00   0.0  3.302083  3.125000  3.145833  219600   \n",
              "1980-03-18 00:00:00-05:00   0.0  3.125000  2.937500  3.031250  727200   \n",
              "1980-03-19 00:00:00-05:00   0.0  3.083333  3.020833  3.041667  295200   \n",
              "1980-03-20 00:00:00-05:00   0.0  3.062500  3.010417  3.010417  159600   \n",
              "1980-03-21 00:00:00-05:00   0.0  3.020833  2.906250  2.916667  130800   \n",
              "\n",
              "                           Dividends  Stock Splits  \n",
              "Date                                                \n",
              "1980-03-17 00:00:00-05:00        0.0           0.0  \n",
              "1980-03-18 00:00:00-05:00        0.0           0.0  \n",
              "1980-03-19 00:00:00-05:00        0.0           0.0  \n",
              "1980-03-20 00:00:00-05:00        0.0           0.0  \n",
              "1980-03-21 00:00:00-05:00        0.0           0.0  "
            ]
          },
          "execution_count": 56,
          "metadata": {},
          "output_type": "execute_result"
        }
      ],
      "source": [
        "amd_share_price_data.head()"
      ]
    },
    {
      "cell_type": "markdown",
      "metadata": {
        "id": "LvMf1XwHCgis"
      },
      "source": [
        "<h2>About the Authors:</h2>\n",
        "\n",
        "<a href=\"https://www.linkedin.com/in/joseph-s-50398b136/?utm_medium=Exinfluencer&utm_source=Exinfluencer&utm_content=000026UJ&utm_term=10006555&utm_id=NA-SkillsNetwork-Channel-SkillsNetworkCoursesIBMDeveloperSkillsNetworkPY0220ENSkillsNetwork900-2022-01-01\">Joseph Santarcangelo</a> has a PhD in Electrical Engineering, his research focused on using machine learning, signal processing, and computer vision to determine how videos impact human cognition. Joseph has been working for IBM since he completed his PhD.\n",
        "\n",
        "Azim Hirjani\n"
      ]
    },
    {
      "cell_type": "markdown",
      "metadata": {
        "id": "6e29O5JnCgis"
      },
      "source": [
        "## Change Log\n",
        "\n",
        "| Date (YYYY-MM-DD) | Version | Changed By    | Change Description        |\n",
        "| ----------------- | ------- | ------------- | ------------------------- |\n",
        "| 2020-11-10        | 1.1     | Malika Singla | Deleted the Optional part |\n",
        "| 2020-08-27        | 1.0     | Malika Singla | Added lab to GitLab       |\n",
        "\n",
        "<hr>\n",
        "\n",
        "## <h3 align=\"center\"> © IBM Corporation 2020. All rights reserved. <h3/>\n",
        "\n",
        "<p>\n"
      ]
    }
  ],
  "metadata": {
    "kernelspec": {
      "display_name": "Python",
      "language": "python",
      "name": "conda-env-python-py"
    },
    "language_info": {
      "codemirror_mode": {
        "name": "ipython",
        "version": 3
      },
      "file_extension": ".py",
      "mimetype": "text/x-python",
      "name": "python",
      "nbconvert_exporter": "python",
      "pygments_lexer": "ipython3",
      "version": "3.7.12"
    },
    "colab": {
      "provenance": [],
      "include_colab_link": true
    }
  },
  "nbformat": 4,
  "nbformat_minor": 0
}