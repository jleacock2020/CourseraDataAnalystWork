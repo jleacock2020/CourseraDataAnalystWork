{
  "nbformat": 4,
  "nbformat_minor": 0,
  "metadata": {
    "colab": {
      "provenance": [],
      "include_colab_link": true
    },
    "kernelspec": {
      "name": "python3",
      "display_name": "Python 3"
    },
    "language_info": {
      "name": "python"
    }
  },
  "cells": [
    {
      "cell_type": "markdown",
      "metadata": {
        "id": "view-in-github",
        "colab_type": "text"
      },
      "source": [
        "<a href=\"https://colab.research.google.com/github/jleacock2020/CourseraDataAnalystWork/blob/main/Python%20Concepts.ipynb\" target=\"_parent\"><img src=\"https://colab.research.google.com/assets/colab-badge.svg\" alt=\"Open In Colab\"/></a>"
      ]
    },
    {
      "cell_type": "markdown",
      "source": [
        "**DATATYPES & VARIABLES**"
      ],
      "metadata": {
        "id": "il3YeT6pAbtp"
      }
    },
    {
      "cell_type": "code",
      "execution_count": null,
      "metadata": {
        "colab": {
          "base_uri": "https://localhost:8080/"
        },
        "id": "mSBqLpDqARre",
        "outputId": "88994956-2f97-4ab7-f529-4300e815a8c3"
      },
      "outputs": [
        {
          "output_type": "stream",
          "name": "stdout",
          "text": [
            "Geetu\n",
            "Welcome to my class Geetu See your again\n"
          ]
        }
      ],
      "source": [
        "name=\"Geetu\" #string\n",
        "print(name)\n",
        "print(\"Welcome to my class\", name, \"See your again\")"
      ]
    },
    {
      "cell_type": "code",
      "source": [
        "full_name='Geetu'\n",
        "num1=45 #integer\n",
        "num1=\"23\" #string\n",
        "num3=34.5 #float"
      ],
      "metadata": {
        "id": "PsndEk8-A58g"
      },
      "execution_count": null,
      "outputs": []
    },
    {
      "cell_type": "markdown",
      "source": [
        "**INPUT()**"
      ],
      "metadata": {
        "id": "FXUNodJoBLC4"
      }
    },
    {
      "cell_type": "code",
      "source": [
        "name=input(\"Enter your name:\")\n",
        "print(name)"
      ],
      "metadata": {
        "colab": {
          "base_uri": "https://localhost:8080/"
        },
        "id": "Cr_pTLD0BNE4",
        "outputId": "e84850a4-3eed-4fee-a302-92e9dd032eac"
      },
      "execution_count": null,
      "outputs": [
        {
          "output_type": "stream",
          "name": "stdout",
          "text": [
            "Enter your name:Geetu\n",
            "Geetu\n"
          ]
        }
      ]
    },
    {
      "cell_type": "code",
      "source": [
        "num1=int(input(\"Enter number:\"))  #typecasting\n",
        "num2=float(input(\"Enter number2:\")) #expecting a decimal value\n",
        "print(num1+num2)"
      ],
      "metadata": {
        "colab": {
          "base_uri": "https://localhost:8080/"
        },
        "id": "161PPzzHBTCg",
        "outputId": "3a6b87c6-2592-461c-986b-203d0616e0fc"
      },
      "execution_count": null,
      "outputs": [
        {
          "output_type": "stream",
          "name": "stdout",
          "text": [
            "Enter number23\n",
            "Enter number223\n",
            "46.0\n"
          ]
        }
      ]
    },
    {
      "cell_type": "markdown",
      "source": [
        "**ARITHMETIC OPERATORS**"
      ],
      "metadata": {
        "id": "9bEcCpeEBlml"
      }
    },
    {
      "cell_type": "code",
      "source": [
        "# +, - , *, /\n",
        "# % - remainder/modulus operator\n",
        "# -//\n",
        "\n",
        "a=20\n",
        "b=3\n",
        "print(a%b)\n"
      ],
      "metadata": {
        "colab": {
          "base_uri": "https://localhost:8080/"
        },
        "id": "7P7iEM7cBn1N",
        "outputId": "ace59732-f582-471d-ce8b-0dc822275caa"
      },
      "execution_count": null,
      "outputs": [
        {
          "output_type": "stream",
          "name": "stdout",
          "text": [
            "2\n"
          ]
        }
      ]
    },
    {
      "cell_type": "code",
      "source": [
        "a=345566\n",
        "print(a%2)\n",
        "\n",
        "if a%2==0:\n",
        "  print(\"Even number\")\n",
        "else:\n",
        "  print(\"Odd number\")"
      ],
      "metadata": {
        "colab": {
          "base_uri": "https://localhost:8080/"
        },
        "id": "5-YQzwznClOI",
        "outputId": "4dabdba6-cc3f-4c47-804e-e322241436c4"
      },
      "execution_count": null,
      "outputs": [
        {
          "output_type": "stream",
          "name": "stdout",
          "text": [
            "0\n",
            "Even number\n"
          ]
        }
      ]
    },
    {
      "cell_type": "code",
      "source": [
        "x=1/1\n",
        "print(x)"
      ],
      "metadata": {
        "colab": {
          "base_uri": "https://localhost:8080/"
        },
        "id": "C6PCRgPGDH-J",
        "outputId": "96dc6272-a1bb-4ac4-84bd-69f4a4b10aed"
      },
      "execution_count": null,
      "outputs": [
        {
          "output_type": "stream",
          "name": "stdout",
          "text": [
            "1.0\n"
          ]
        }
      ]
    },
    {
      "cell_type": "code",
      "source": [
        "x=20/3\n",
        "print(x)"
      ],
      "metadata": {
        "colab": {
          "base_uri": "https://localhost:8080/"
        },
        "id": "fgewSyLADPkU",
        "outputId": "8811f07d-5d60-4a62-cf81-5589e6b6bdba"
      },
      "execution_count": null,
      "outputs": [
        {
          "output_type": "stream",
          "name": "stdout",
          "text": [
            "6.666666666666667\n"
          ]
        }
      ]
    },
    {
      "cell_type": "code",
      "source": [
        "a=12345\n",
        "print(a%10)\n",
        "b=a//10\n",
        "print(b)\n",
        "print(b%10)"
      ],
      "metadata": {
        "colab": {
          "base_uri": "https://localhost:8080/"
        },
        "id": "JMri52hQC3Gq",
        "outputId": "44c1fb37-8f33-4c72-870d-b00941c442e6"
      },
      "execution_count": null,
      "outputs": [
        {
          "output_type": "stream",
          "name": "stdout",
          "text": [
            "5\n",
            "1234\n",
            "4\n"
          ]
        }
      ]
    },
    {
      "cell_type": "markdown",
      "source": [
        "**SELECTION STATEMENTS**\n",
        "\n",
        "if <> :"
      ],
      "metadata": {
        "id": "hDc7zMAhDwoR"
      }
    },
    {
      "cell_type": "code",
      "source": [
        "a=20\n",
        "if a>5:\n",
        "  print(\"hello\")  #indentation\n",
        "  print(\"Bye\")\n",
        "else:\n",
        "  print(\"That was better\")\n",
        "print(\"See you again!\")\n"
      ],
      "metadata": {
        "colab": {
          "base_uri": "https://localhost:8080/"
        },
        "id": "6cNL-BupD5Um",
        "outputId": "d8291d89-faa6-4045-9c8e-fc56366e3c5e"
      },
      "execution_count": null,
      "outputs": [
        {
          "output_type": "stream",
          "name": "stdout",
          "text": [
            "hello\n",
            "Bye\n",
            "See you again!\n"
          ]
        }
      ]
    },
    {
      "cell_type": "markdown",
      "source": [
        "**logical operators**  -** AND, OR ,NOT**"
      ],
      "metadata": {
        "id": "MhmBWLZvEeQJ"
      }
    },
    {
      "cell_type": "code",
      "source": [
        "#Take input of an age and score. If user is 18 and above and they have scored above 90, they will get scholarship.\n",
        "\n",
        "age=int(input(\"Enter your age:\"))\n",
        "score=float(input(\"Enter your total score:\"))\n",
        "if age>=18 and score>90:\n",
        "  print(\"Eligible\")\n",
        "else:\n",
        "  print(\"Not eligible\")\n"
      ],
      "metadata": {
        "colab": {
          "base_uri": "https://localhost:8080/"
        },
        "id": "kluMykMFEkPv",
        "outputId": "1ffede9d-57f2-4002-e816-39cd9ec6adfc"
      },
      "execution_count": null,
      "outputs": [
        {
          "output_type": "stream",
          "name": "stdout",
          "text": [
            "Enter your age:16\n",
            "Enter your total score:100\n",
            "Not eligible\n"
          ]
        }
      ]
    },
    {
      "cell_type": "code",
      "source": [
        "age=int(input(\"Enter your age:\"))\n",
        "score=float(input(\"Enter your total score:\"))\n",
        "if age>=18 or score>90:\n",
        "  print(\"Eligible\")\n",
        "else:\n",
        "  print(\"Not eligible\")"
      ],
      "metadata": {
        "colab": {
          "base_uri": "https://localhost:8080/"
        },
        "id": "CZOeSwGZFBIw",
        "outputId": "9e586a32-3104-4c84-a5c5-1c9ed5074f8e"
      },
      "execution_count": null,
      "outputs": [
        {
          "output_type": "stream",
          "name": "stdout",
          "text": [
            "Enter your age:16\n",
            "Enter your total score:100\n",
            "Not eligible\n"
          ]
        }
      ]
    },
    {
      "cell_type": "code",
      "source": [
        "a=5\n",
        "b=3\n",
        "print(not(a>b))"
      ],
      "metadata": {
        "colab": {
          "base_uri": "https://localhost:8080/"
        },
        "id": "tQbm12OQFO1G",
        "outputId": "08ceba03-d027-47ce-9e92-5f21fa02d6be"
      },
      "execution_count": null,
      "outputs": [
        {
          "output_type": "stream",
          "name": "stdout",
          "text": [
            "False\n"
          ]
        }
      ]
    },
    {
      "cell_type": "markdown",
      "source": [
        "**Relational operators -  > , < ,>=, <=, <>, !=, ==**"
      ],
      "metadata": {
        "id": "5OKiP4rZFdbO"
      }
    },
    {
      "cell_type": "code",
      "source": [
        "#take input of total score, print Grade A ( >=90) B, >=60 and <90, C, (>40-60) otherwise Fail\n",
        "\n",
        "total=float(input(\"Enter your total score:\"))\n",
        "if total>=90:\n",
        "  print(\"Grade A\")\n",
        "elif total>=60 and total<90:\n",
        "  print(\"Grade B\")\n",
        "elif total>=40 and total<60:\n",
        "  print(\"Grade C\")\n",
        "else:\n",
        "  print(\"Fail\")\n",
        "\n"
      ],
      "metadata": {
        "colab": {
          "base_uri": "https://localhost:8080/"
        },
        "id": "fFjxbL9KFmoU",
        "outputId": "54c23fe0-ddf0-4236-da13-3b9d7477bdfe"
      },
      "execution_count": null,
      "outputs": [
        {
          "output_type": "stream",
          "name": "stdout",
          "text": [
            "Enter your total score:67.8\n",
            "Grade B\n"
          ]
        }
      ]
    },
    {
      "cell_type": "markdown",
      "source": [
        "**NESTED IF**"
      ],
      "metadata": {
        "id": "O_It1dp4GJ31"
      }
    },
    {
      "cell_type": "code",
      "source": [
        "a=30\n",
        "b=5\n",
        "if a>40:\n",
        "  if b>10:\n",
        "    print(\"Hello\")\n",
        "  else:\n",
        "    print(\"Bye\")\n",
        "elif a>20:\n",
        "  if b>10:\n",
        "    print(\"See you again!\")\n",
        "  else:\n",
        "    print(\"tata\")\n",
        "else:\n",
        "  print(\"Nothing works\")"
      ],
      "metadata": {
        "colab": {
          "base_uri": "https://localhost:8080/"
        },
        "id": "5nCv92KOGPUS",
        "outputId": "c21e225d-9610-43ca-ca8e-460015073995"
      },
      "execution_count": null,
      "outputs": [
        {
          "output_type": "stream",
          "name": "stdout",
          "text": [
            "tata\n"
          ]
        }
      ]
    },
    {
      "cell_type": "markdown",
      "source": [
        "**LOOPS**\n",
        "\n",
        "**WHILE AND FOR LOOP**"
      ],
      "metadata": {
        "id": "hTugw40PG9lj"
      }
    },
    {
      "cell_type": "code",
      "source": [
        "#pRINT FIRST 10 NATURAL NUMBERS -- 1-10\n",
        "\n",
        "x=1  #beg\n",
        "while x<=10: #end\n",
        "    print(\"Hello\")\n",
        "    x=x+1 #jump\n",
        "\n",
        "#loop will execute 5 times"
      ],
      "metadata": {
        "colab": {
          "base_uri": "https://localhost:8080/"
        },
        "id": "AA27rqS1HD97",
        "outputId": "e879b9e6-1bd2-4939-be06-e78195293e5a"
      },
      "execution_count": null,
      "outputs": [
        {
          "output_type": "stream",
          "name": "stdout",
          "text": [
            "Hello\n",
            "Hello\n",
            "Hello\n",
            "Hello\n",
            "Hello\n",
            "Hello\n",
            "Hello\n",
            "Hello\n",
            "Hello\n",
            "Hello\n"
          ]
        }
      ]
    },
    {
      "cell_type": "code",
      "source": [
        "#Range(beg,end,jump)\n",
        "for i in range(11):\n",
        "  print(i, \"Hello\")"
      ],
      "metadata": {
        "colab": {
          "base_uri": "https://localhost:8080/"
        },
        "id": "ALv2v3hrIJTW",
        "outputId": "f9c424ca-83f6-48a6-f8c8-dacc77a13b52"
      },
      "execution_count": null,
      "outputs": [
        {
          "output_type": "stream",
          "name": "stdout",
          "text": [
            "0 Hello\n",
            "1 Hello\n",
            "2 Hello\n",
            "3 Hello\n",
            "4 Hello\n",
            "5 Hello\n",
            "6 Hello\n",
            "7 Hello\n",
            "8 Hello\n",
            "9 Hello\n",
            "10 Hello\n"
          ]
        }
      ]
    },
    {
      "cell_type": "code",
      "source": [
        "for i in range(20,0,-5):\n",
        "  print(\"Hello\")"
      ],
      "metadata": {
        "colab": {
          "base_uri": "https://localhost:8080/"
        },
        "id": "U4LJsVwaIfLG",
        "outputId": "b7daddec-568e-4532-8f78-8ee6da28d9f7"
      },
      "execution_count": null,
      "outputs": [
        {
          "output_type": "stream",
          "name": "stdout",
          "text": [
            "Hello\n",
            "Hello\n",
            "Hello\n",
            "Hello\n"
          ]
        }
      ]
    },
    {
      "cell_type": "code",
      "source": [
        "#Print all the even numbers between 20-30\n",
        "for i in range(20,31):\n",
        "  if i%2==0:\n",
        "    print(i,\"is an even number\")\n",
        "  else:\n",
        "    print(i,\"is an odd number\")\n"
      ],
      "metadata": {
        "colab": {
          "base_uri": "https://localhost:8080/"
        },
        "id": "KQGk1VIKIz0N",
        "outputId": "2117675f-1866-428f-f44f-e32e11f29f85"
      },
      "execution_count": null,
      "outputs": [
        {
          "output_type": "stream",
          "name": "stdout",
          "text": [
            "20 is an even number\n",
            "21 is an odd number\n",
            "22 is an even number\n",
            "23 is an odd number\n",
            "24 is an even number\n",
            "25 is an odd number\n",
            "26 is an even number\n",
            "27 is an odd number\n",
            "28 is an even number\n",
            "29 is an odd number\n",
            "30 is an even number\n"
          ]
        }
      ]
    },
    {
      "cell_type": "code",
      "source": [
        "for i in range(20,31,2):\n",
        "  print(i)"
      ],
      "metadata": {
        "colab": {
          "base_uri": "https://localhost:8080/"
        },
        "id": "SLRwD_7FJu55",
        "outputId": "504263da-499e-45d5-b651-86f427fed6f2"
      },
      "execution_count": null,
      "outputs": [
        {
          "output_type": "stream",
          "name": "stdout",
          "text": [
            "20\n",
            "22\n",
            "24\n",
            "26\n",
            "28\n",
            "30\n"
          ]
        }
      ]
    },
    {
      "cell_type": "code",
      "source": [
        "#take input of beg and enging from a user and print all the even numbers between them.\n",
        "num=int(input(\"Enter a number:\"))\n",
        "num2=int(input(\"Enter the ending number:\"))\n",
        "for i in range(num,num2,1):\n",
        "  if i%2==0:\n",
        "    print(i)"
      ],
      "metadata": {
        "colab": {
          "base_uri": "https://localhost:8080/"
        },
        "id": "VSrQ4rL6JzmC",
        "outputId": "7f68ce09-f002-4cb5-b703-1c53888e7c83"
      },
      "execution_count": null,
      "outputs": [
        {
          "output_type": "stream",
          "name": "stdout",
          "text": [
            "Enter a number:31\n",
            "Enter the ending number:41\n",
            "32\n",
            "34\n",
            "36\n",
            "38\n",
            "40\n"
          ]
        }
      ]
    },
    {
      "cell_type": "code",
      "source": [
        "#print all the  numbers which are multiples of both 5 and 7 between the range of 2000-2500\n",
        "\n",
        "for i in range(2000,2501):\n",
        "  if i%5==0 and i%7==0:\n",
        "    print(i)\n"
      ],
      "metadata": {
        "colab": {
          "base_uri": "https://localhost:8080/"
        },
        "id": "Fq1gZw5kKVE8",
        "outputId": "46b52df3-94f9-4852-f21e-a9def12f1d58"
      },
      "execution_count": null,
      "outputs": [
        {
          "output_type": "stream",
          "name": "stdout",
          "text": [
            "2030\n",
            "2065\n",
            "2100\n",
            "2135\n",
            "2170\n",
            "2205\n",
            "2240\n",
            "2275\n",
            "2310\n",
            "2345\n",
            "2380\n",
            "2415\n",
            "2450\n",
            "2485\n"
          ]
        }
      ]
    },
    {
      "cell_type": "markdown",
      "source": [
        "**FUNCTIONS-  BUILT IN AND USER DEFINED**"
      ],
      "metadata": {
        "id": "LRF1rPrhLh7U"
      }
    },
    {
      "cell_type": "code",
      "source": [
        "#print(), input(), int(), float(), max(), min(), sum()\n",
        "\n",
        "def area(a,b):\n",
        "  ar=a*b\n",
        "  return ar\n",
        "\n",
        "\n",
        "\n",
        "print(\"Area of Rectangle\")\n",
        "x=int(input(\"Enter the length of a rectangle:\"))\n",
        "y=int(input(\"Enter the breadth of a rectabgle:\"))\n",
        "result=area(x,y)  #calling\n",
        "print(result)\n",
        "result=area(20,2)\n",
        "print(result)\n",
        "\n",
        "area(23,23)"
      ],
      "metadata": {
        "colab": {
          "base_uri": "https://localhost:8080/",
          "height": 287
        },
        "id": "USwVegNvJvTg",
        "outputId": "1e4a8522-c943-44e5-a264-1a5bd97be599"
      },
      "execution_count": null,
      "outputs": [
        {
          "output_type": "stream",
          "name": "stdout",
          "text": [
            "Area of Rectangle\n",
            "Enter the length of a rectangle:23\n",
            "Enter the breadth of a rectabgle:2\n",
            "46\n"
          ]
        },
        {
          "output_type": "error",
          "ename": "TypeError",
          "evalue": "ignored",
          "traceback": [
            "\u001b[0;31m---------------------------------------------------------------------------\u001b[0m",
            "\u001b[0;31mTypeError\u001b[0m                                 Traceback (most recent call last)",
            "\u001b[0;32m<ipython-input-63-8f7b159b5a34>\u001b[0m in \u001b[0;36m<cell line: 14>\u001b[0;34m()\u001b[0m\n\u001b[1;32m     12\u001b[0m \u001b[0mresult\u001b[0m\u001b[0;34m=\u001b[0m\u001b[0marea\u001b[0m\u001b[0;34m(\u001b[0m\u001b[0mx\u001b[0m\u001b[0;34m,\u001b[0m\u001b[0my\u001b[0m\u001b[0;34m)\u001b[0m\u001b[0;34m\u001b[0m\u001b[0;34m\u001b[0m\u001b[0m\n\u001b[1;32m     13\u001b[0m \u001b[0mprint\u001b[0m\u001b[0;34m(\u001b[0m\u001b[0mresult\u001b[0m\u001b[0;34m)\u001b[0m\u001b[0;34m\u001b[0m\u001b[0;34m\u001b[0m\u001b[0m\n\u001b[0;32m---> 14\u001b[0;31m \u001b[0mresult\u001b[0m\u001b[0;34m=\u001b[0m\u001b[0marea\u001b[0m\u001b[0;34m(\u001b[0m\u001b[0;36m20\u001b[0m\u001b[0;34m)\u001b[0m\u001b[0;34m\u001b[0m\u001b[0;34m\u001b[0m\u001b[0m\n\u001b[0m\u001b[1;32m     15\u001b[0m \u001b[0mprint\u001b[0m\u001b[0;34m(\u001b[0m\u001b[0mresult\u001b[0m\u001b[0;34m)\u001b[0m\u001b[0;34m\u001b[0m\u001b[0;34m\u001b[0m\u001b[0m\n",
            "\u001b[0;31mTypeError\u001b[0m: area() missing 1 required positional argument: 'b'"
          ]
        }
      ]
    }
  ]
}