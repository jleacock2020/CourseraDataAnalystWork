{
  "cells": [
    {
      "cell_type": "markdown",
      "metadata": {
        "id": "view-in-github",
        "colab_type": "text"
      },
      "source": [
        "<a href=\"https://colab.research.google.com/github/jleacock2020/CourseraDataAnalystWork/blob/main/NUMPY.ipynb\" target=\"_parent\"><img src=\"https://colab.research.google.com/assets/colab-badge.svg\" alt=\"Open In Colab\"/></a>"
      ]
    },
    {
      "cell_type": "markdown",
      "id": "2a4550df",
      "metadata": {
        "id": "2a4550df"
      },
      "source": [
        "# NUMPY"
      ]
    },
    {
      "cell_type": "markdown",
      "id": "40b13f19",
      "metadata": {
        "id": "40b13f19"
      },
      "source": [
        "![](numpy1.png)"
      ]
    },
    {
      "cell_type": "markdown",
      "id": "f324dc9b",
      "metadata": {
        "id": "f324dc9b"
      },
      "source": [
        "### Numpy is the core library for scientific computing in Python. It provides a high-performance multidimensional array object, and tools for working with these arrays."
      ]
    },
    {
      "cell_type": "code",
      "source": [],
      "metadata": {
        "id": "6VehySXQ_eee"
      },
      "id": "6VehySXQ_eee",
      "execution_count": null,
      "outputs": []
    },
    {
      "cell_type": "markdown",
      "id": "0f3a1036",
      "metadata": {
        "id": "0f3a1036"
      },
      "source": [
        "#### A numpy array is a grid of values, all of the same type.\n",
        "#### The number of dimensions is the rank of the array;\n",
        "#### The shape of an array is a tuple of integers giving the size of the array along each dimension."
      ]
    },
    {
      "cell_type": "markdown",
      "id": "08ff5c5a",
      "metadata": {
        "id": "08ff5c5a"
      },
      "source": [
        "![](numpy.png)"
      ]
    },
    {
      "cell_type": "code",
      "source": [
        "L=[2,3,4,5,6]\n",
        "L2=[3,4,5,6,7]\n",
        "\n",
        "# print(L+L2)\n",
        "# print(L+2)\n",
        "\n",
        "# L=[5,7,....]"
      ],
      "metadata": {
        "id": "zDiWvWnBMa4Z"
      },
      "id": "zDiWvWnBMa4Z",
      "execution_count": null,
      "outputs": []
    },
    {
      "cell_type": "code",
      "source": [
        "import numpy as np\n",
        "arr=np.array([2,3,4,5])\n",
        "arr2=np.array([2,3,4,5])\n",
        "print(arr)\n",
        "print(arr2)\n",
        "print(arr-arr2)\n",
        "\n"
      ],
      "metadata": {
        "colab": {
          "base_uri": "https://localhost:8080/"
        },
        "id": "Ym7xQjFWM0BT",
        "outputId": "117a2089-0677-400a-f54d-f95f1c9866ea"
      },
      "id": "Ym7xQjFWM0BT",
      "execution_count": null,
      "outputs": [
        {
          "output_type": "stream",
          "name": "stdout",
          "text": [
            "[2 3 4 5]\n",
            "[2 3 4 5]\n",
            "[0 0 0 0]\n"
          ]
        }
      ]
    },
    {
      "cell_type": "code",
      "execution_count": null,
      "id": "45a82e53",
      "metadata": {
        "id": "45a82e53"
      },
      "outputs": [],
      "source": [
        "import numpy as np"
      ]
    },
    {
      "cell_type": "code",
      "execution_count": null,
      "id": "90d8c993",
      "metadata": {
        "id": "90d8c993",
        "outputId": "8f000d89-3687-4e27-f0b1-72e44b6d8349",
        "colab": {
          "base_uri": "https://localhost:8080/"
        }
      },
      "outputs": [
        {
          "output_type": "stream",
          "name": "stdout",
          "text": [
            "3\n",
            "<class 'numpy.ndarray'>\n",
            "(2, 2, 3)\n"
          ]
        }
      ],
      "source": [
        "a = np.array(42) #one element\n",
        "b = np.array([1, 2, 3, 4, 5]) #one dimensional\n",
        "c = np.array([[1, 2, 3], [4, 5, 6]])\n",
        "d = np.array([[[1, 2, 3], [4, 5, 6]], [[1, 2, 3], [4, 5, 6]]])\n",
        "\n",
        "# print(a)\n",
        "# print(a.ndim)\n",
        "#print(b.ndim)\n",
        "#print(c.ndim)\n",
        "print(d.ndim)\n",
        "# print(d)\n",
        "print(type(a))\n",
        "# print(c)\n",
        "print(d.shape)"
      ]
    },
    {
      "cell_type": "markdown",
      "id": "eeb608fd",
      "metadata": {
        "id": "eeb608fd"
      },
      "source": [
        "##### Creating 1D array"
      ]
    },
    {
      "cell_type": "code",
      "execution_count": null,
      "id": "990d2ade",
      "metadata": {
        "id": "990d2ade",
        "outputId": "73008a3a-7a5c-444b-b635-84884f0fd039",
        "colab": {
          "base_uri": "https://localhost:8080/"
        }
      },
      "outputs": [
        {
          "output_type": "execute_result",
          "data": {
            "text/plain": [
              "array([1, 2, 3])"
            ]
          },
          "metadata": {},
          "execution_count": 3
        }
      ],
      "source": [
        "import numpy as np\n",
        "a = np.array([1, 2, 3])\n",
        "a"
      ]
    },
    {
      "cell_type": "code",
      "source": [
        "print(a+2)"
      ],
      "metadata": {
        "colab": {
          "base_uri": "https://localhost:8080/"
        },
        "id": "W6W9q3gSKzKa",
        "outputId": "1eee9702-0fc2-4286-aa8d-d42967e7aa63"
      },
      "id": "W6W9q3gSKzKa",
      "execution_count": null,
      "outputs": [
        {
          "output_type": "stream",
          "name": "stdout",
          "text": [
            "[3 4 5]\n"
          ]
        }
      ]
    },
    {
      "cell_type": "markdown",
      "id": "d970bdb2",
      "metadata": {
        "id": "d970bdb2"
      },
      "source": [
        "##### Type & Shape"
      ]
    },
    {
      "cell_type": "code",
      "execution_count": null,
      "id": "b0378415",
      "metadata": {
        "id": "b0378415",
        "outputId": "f4d73723-ac2c-4cab-ec3d-ced1d4172af3"
      },
      "outputs": [
        {
          "name": "stdout",
          "output_type": "stream",
          "text": [
            "<class 'numpy.ndarray'>\n",
            "(3,)\n"
          ]
        }
      ],
      "source": [
        "print(type(a))\n",
        "print(a.shape)"
      ]
    },
    {
      "cell_type": "code",
      "execution_count": null,
      "id": "5af16e4b",
      "metadata": {
        "id": "5af16e4b",
        "outputId": "703383b2-04e4-46cb-f523-18bae6d499c2"
      },
      "outputs": [
        {
          "name": "stdout",
          "output_type": "stream",
          "text": [
            "1 3\n"
          ]
        }
      ],
      "source": [
        "print(a[0], a[2])"
      ]
    },
    {
      "cell_type": "markdown",
      "id": "ad247ce9",
      "metadata": {
        "id": "ad247ce9"
      },
      "source": [
        "##### Changing array element"
      ]
    },
    {
      "cell_type": "code",
      "execution_count": null,
      "id": "71f7352b",
      "metadata": {
        "id": "71f7352b",
        "outputId": "af378e70-1c2d-401a-ab6b-f972dbeecea3"
      },
      "outputs": [
        {
          "name": "stdout",
          "output_type": "stream",
          "text": [
            "5\n"
          ]
        }
      ],
      "source": [
        "a[0] = 5\n",
        "print(a[0])"
      ]
    },
    {
      "cell_type": "code",
      "source": [
        "import numpy as np\n",
        "arr=np.arange(1,20,4)\n",
        "arr2=np.array([1,2,3,4,5,6,7])\n",
        "print(arr)\n",
        "print(arr2)"
      ],
      "metadata": {
        "colab": {
          "base_uri": "https://localhost:8080/"
        },
        "id": "DiOuUVZ2OiKo",
        "outputId": "92e0c79b-c46a-4f56-efca-80fa378c220b"
      },
      "id": "DiOuUVZ2OiKo",
      "execution_count": null,
      "outputs": [
        {
          "output_type": "stream",
          "name": "stdout",
          "text": [
            "[ 1  5  9 13 17]\n",
            "[1 2 3 4 5 6 7]\n"
          ]
        }
      ]
    },
    {
      "cell_type": "markdown",
      "id": "b469c790",
      "metadata": {
        "id": "b469c790"
      },
      "source": [
        "##### Creating 2D array"
      ]
    },
    {
      "cell_type": "code",
      "execution_count": null,
      "id": "4fd80492",
      "metadata": {
        "id": "4fd80492",
        "outputId": "4cad22bb-fc32-47a5-d9e4-68acf466b9cb"
      },
      "outputs": [
        {
          "name": "stdout",
          "output_type": "stream",
          "text": [
            "(2, 3)\n",
            "1 2 4\n",
            "[[1 2 3]\n",
            " [4 5 6]]\n"
          ]
        }
      ],
      "source": [
        "b = np.array([[1,2,3],[4,5,6]])\n",
        "print(b.shape)\n",
        "print(b[0, 0], b[0, 1], b[1, 0])\n",
        "print(b)"
      ]
    },
    {
      "cell_type": "code",
      "source": [
        "import numpy as np\n",
        "\n",
        "array = np.array([1, 2, 3, 4, 5])\n",
        "\n",
        "sum_result = np.sum(array)\n",
        "mean_result = np.mean(array)\n",
        "std_result = np.std(array)\n",
        "\n",
        "print(\"Sum:\", sum_result)\n",
        "print(\"Mean:\", mean_result)\n",
        "print(\"Standard Deviation:\", std_result)"
      ],
      "metadata": {
        "colab": {
          "base_uri": "https://localhost:8080/"
        },
        "id": "dUKro4oiPAJV",
        "outputId": "dd71b21d-37bd-4aac-aa98-2d556b0bf4bb"
      },
      "id": "dUKro4oiPAJV",
      "execution_count": null,
      "outputs": [
        {
          "output_type": "stream",
          "name": "stdout",
          "text": [
            "Sum: 15\n",
            "Mean: 3.0\n",
            "Standard Deviation: 1.4142135623730951\n"
          ]
        }
      ]
    },
    {
      "cell_type": "markdown",
      "id": "6c0757c0",
      "metadata": {
        "id": "6c0757c0"
      },
      "source": [
        "##### Create an array of all zeros"
      ]
    },
    {
      "cell_type": "code",
      "execution_count": null,
      "id": "404fd296",
      "metadata": {
        "id": "404fd296",
        "outputId": "46cb75ac-6c2c-4603-9f70-0713619c45e1"
      },
      "outputs": [
        {
          "name": "stdout",
          "output_type": "stream",
          "text": [
            "[[0. 0. 0. 0.]\n",
            " [0. 0. 0. 0.]\n",
            " [0. 0. 0. 0.]]\n",
            "float64\n"
          ]
        }
      ],
      "source": [
        "a = np.zeros((3,4))\n",
        "print(a)\n",
        "print(a.dtype)"
      ]
    },
    {
      "cell_type": "markdown",
      "id": "5337e9a3",
      "metadata": {
        "id": "5337e9a3"
      },
      "source": [
        "##### Create an array of all ones"
      ]
    },
    {
      "cell_type": "code",
      "execution_count": null,
      "id": "3a8e09c6",
      "metadata": {
        "id": "3a8e09c6",
        "outputId": "42339236-f1c1-4bea-ff9e-b019aaee9de3"
      },
      "outputs": [
        {
          "name": "stdout",
          "output_type": "stream",
          "text": [
            "[[1. 1.]]\n"
          ]
        }
      ],
      "source": [
        "b = np.ones((1,2))\n",
        "print(b)"
      ]
    },
    {
      "cell_type": "markdown",
      "id": "592eeabb",
      "metadata": {
        "id": "592eeabb"
      },
      "source": [
        "##### Create a constant array"
      ]
    },
    {
      "cell_type": "code",
      "execution_count": null,
      "id": "fde3e1f4",
      "metadata": {
        "id": "fde3e1f4",
        "outputId": "04953056-0c3f-4ae0-d5b8-f92a25e3df69"
      },
      "outputs": [
        {
          "name": "stdout",
          "output_type": "stream",
          "text": [
            "[[7 7]\n",
            " [7 7]]\n",
            "int32\n"
          ]
        }
      ],
      "source": [
        "c = np.full((2,2), 7)\n",
        "print(c)\n",
        "print(c.dtype)"
      ]
    },
    {
      "cell_type": "markdown",
      "id": "fd8b944b",
      "metadata": {
        "id": "fd8b944b"
      },
      "source": [
        "##### Create a 2x2 identity matrix"
      ]
    },
    {
      "cell_type": "code",
      "execution_count": null,
      "id": "9e051170",
      "metadata": {
        "id": "9e051170",
        "outputId": "3496243f-2407-4c03-b9f6-927f0e57bdbe"
      },
      "outputs": [
        {
          "name": "stdout",
          "output_type": "stream",
          "text": [
            "[[1. 0. 0. 0.]\n",
            " [0. 1. 0. 0.]\n",
            " [0. 0. 1. 0.]\n",
            " [0. 0. 0. 1.]]\n",
            "float64\n"
          ]
        }
      ],
      "source": [
        "d = np.eye(4)\n",
        "print(d)\n",
        "print(d.dtype)"
      ]
    },
    {
      "cell_type": "markdown",
      "id": "473b0cdb",
      "metadata": {
        "id": "473b0cdb"
      },
      "source": [
        "##### Create an array filled with random values"
      ]
    },
    {
      "cell_type": "code",
      "execution_count": null,
      "id": "277890b6",
      "metadata": {
        "id": "277890b6",
        "outputId": "ea413ee4-fa3a-46cd-9362-cdad3528b4c9",
        "colab": {
          "base_uri": "https://localhost:8080/"
        }
      },
      "outputs": [
        {
          "output_type": "stream",
          "name": "stdout",
          "text": [
            "[[0.64033068 0.49774927]\n",
            " [0.64720931 0.01970816]]\n"
          ]
        }
      ],
      "source": [
        "e = np.random.random((2,2))\n",
        "print(e)"
      ]
    },
    {
      "cell_type": "markdown",
      "id": "1daa49ce",
      "metadata": {
        "id": "1daa49ce"
      },
      "source": [
        "### Array indexing"
      ]
    },
    {
      "cell_type": "markdown",
      "id": "e615ef33",
      "metadata": {
        "id": "e615ef33"
      },
      "source": [
        "#### Numpy offers several ways to index into arrays.\n",
        "\n",
        "#### Slicing: Similar to Python lists, numpy arrays can be sliced. Since arrays may be multidimensional, you must specify a slice for each dimension of the array:"
      ]
    },
    {
      "cell_type": "markdown",
      "id": "1f2b7627",
      "metadata": {
        "id": "1f2b7627"
      },
      "source": [
        "##### Create the following rank 2 array with shape (3, 4)"
      ]
    },
    {
      "cell_type": "code",
      "execution_count": null,
      "id": "52259ae2",
      "metadata": {
        "id": "52259ae2"
      },
      "outputs": [],
      "source": [
        "a = np.array([[1,2,3,4], [5,6,7,8], [9,10,11,12]])\n",
        "a"
      ]
    },
    {
      "cell_type": "code",
      "execution_count": null,
      "id": "f253044c",
      "metadata": {
        "id": "f253044c"
      },
      "outputs": [],
      "source": [
        "# Use slicing to pull out the subarray consisting of the first 2 rows\n",
        "# and columns 1 and 2; b is the following array of shape (2, 2):\n",
        "b = a[:2, 1:3]\n",
        "print(b)\n"
      ]
    },
    {
      "cell_type": "code",
      "execution_count": null,
      "id": "7caf898d",
      "metadata": {
        "id": "7caf898d"
      },
      "outputs": [],
      "source": [
        "# A slice of an array is a view into the same data, so modifying it\n",
        "# will modify the original array.\n",
        "a = np.array([[1,2,3,4], [5,6,7,8], [9,10,11,12]])\n",
        "c = a[:2, 1:3]\n",
        "print(c)\n",
        "c[0, 0] = 77\n",
        "print(c[0, 0])"
      ]
    },
    {
      "cell_type": "code",
      "execution_count": null,
      "id": "f41efc3a",
      "metadata": {
        "id": "f41efc3a"
      },
      "outputs": [],
      "source": [
        "# Create the following rank 2 array with shape (3, 4)\n",
        "a = np.array([[1,2,3,4], [5,6,7,8], [9,10,11,12]])\n",
        "a"
      ]
    },
    {
      "cell_type": "code",
      "execution_count": null,
      "id": "d829ab53",
      "metadata": {
        "id": "d829ab53"
      },
      "outputs": [],
      "source": [
        "# Two ways of accessing the data in the middle row of the array.\n",
        "# Mixing integer indexing with slices yields an array of lower rank,\n",
        "# while using only slices yields an array of the same rank as the\n",
        "# original array:\n",
        "row_r1 = a[1, :]    # Rank 1 view of the second row of a\n",
        "row_r2 = a[1:2, :]  # Rank 2 view of the second row of a\n",
        "print(row_r1, row_r1.shape)\n",
        "print(row_r2, row_r2.shape)"
      ]
    },
    {
      "cell_type": "code",
      "execution_count": null,
      "id": "276e4ece",
      "metadata": {
        "id": "276e4ece"
      },
      "outputs": [],
      "source": [
        "# We can make the same distinction when accessing columns of an array:\n",
        "col_r1 = a[:, 1]\n",
        "col_r2 = a[:, 1:2]\n",
        "print(col_r1, col_r1.shape)\n",
        "print(col_r2, col_r2.shape)"
      ]
    },
    {
      "cell_type": "markdown",
      "id": "921a4166",
      "metadata": {
        "id": "921a4166"
      },
      "source": [
        "### Datatypes"
      ]
    },
    {
      "cell_type": "markdown",
      "id": "1f9e5747",
      "metadata": {
        "id": "1f9e5747"
      },
      "source": [
        "#### Every numpy array is a grid of elements of the same type.\n",
        "#### Numpy provides a large set of numeric datatypes that you can use to construct arrays.\n",
        "#### Numpy tries to guess a datatype when you create an array, but functions that construct arrays usually also include an optional argument to explicitly specify the datatype."
      ]
    },
    {
      "cell_type": "code",
      "execution_count": null,
      "id": "160e0ba9",
      "metadata": {
        "id": "160e0ba9"
      },
      "outputs": [],
      "source": [
        "x = np.array([1, 2.0])\n",
        "print(x.dtype)\n",
        "\n",
        "x = np.array([1.0, 2.0])\n",
        "print(x.dtype)\n",
        "\n",
        "x = np.array([True, 2.5], dtype=np.int64)\n",
        "print(x.dtype)\n",
        "print(x)"
      ]
    },
    {
      "cell_type": "markdown",
      "id": "9584c813",
      "metadata": {
        "id": "9584c813"
      },
      "source": [
        "### Array math"
      ]
    },
    {
      "cell_type": "code",
      "execution_count": null,
      "id": "2a0f0794",
      "metadata": {
        "id": "2a0f0794",
        "outputId": "714d4545-91e6-4931-98d7-97715ecaf3cd"
      },
      "outputs": [
        {
          "name": "stdout",
          "output_type": "stream",
          "text": [
            "[[ 6.  8.]\n",
            " [10. 12.]]\n",
            "[[ 6.  8.]\n",
            " [10. 12.]]\n"
          ]
        }
      ],
      "source": [
        "x = np.array([[1,2],[3,4]], dtype=np.float64)\n",
        "y = np.array([[5,6],[7,8]], dtype=np.float64)\n",
        "#x = np.array([[1,2],[3,4]])\n",
        "#y = np.array([[5,6],[7,8]])\n",
        "# Elementwise sum; both produce the array\n",
        "#print(x)\n",
        "print(x + y)\n",
        "\n",
        "print(np.add(x, y))"
      ]
    },
    {
      "cell_type": "code",
      "execution_count": null,
      "id": "f4c9539a",
      "metadata": {
        "id": "f4c9539a",
        "outputId": "adf3032a-ac1a-481d-bd81-1f7f349b723c"
      },
      "outputs": [
        {
          "name": "stdout",
          "output_type": "stream",
          "text": [
            "[[-4. -4.]\n",
            " [-4. -4.]]\n",
            "[[-4. -4.]\n",
            " [-4. -4.]]\n"
          ]
        }
      ],
      "source": [
        "# Elementwise difference; both produce the array\n",
        "\n",
        "print(x - y)\n",
        "print(np.subtract(x, y))"
      ]
    },
    {
      "cell_type": "markdown",
      "id": "fed4b5cb",
      "metadata": {
        "id": "fed4b5cb"
      },
      "source": [
        "![](numpy-matrix-product.png)"
      ]
    },
    {
      "cell_type": "code",
      "execution_count": null,
      "id": "e79ff51c",
      "metadata": {
        "id": "e79ff51c",
        "outputId": "6534c1cc-eeb0-495c-e06f-3fd3ac2dc8ba"
      },
      "outputs": [
        {
          "name": "stdout",
          "output_type": "stream",
          "text": [
            "[[ 5. 12.]\n",
            " [21. 32.]]\n",
            "[[ 5. 12.]\n",
            " [21. 32.]]\n",
            "[[19. 22.]\n",
            " [43. 50.]]\n"
          ]
        }
      ],
      "source": [
        "# Elementwise product; both produce the array\n",
        "x = np.array([[1,2],[3,4]], dtype=np.float64)\n",
        "y = np.array([[5,6],[7,8]], dtype=np.float64)\n",
        "\n",
        "print(x * y)\n",
        "print(np.multiply(x, y))\n",
        "\n",
        "#print(np.dot(x,y))\n",
        "print(np.matmul(x,y))"
      ]
    },
    {
      "cell_type": "code",
      "execution_count": null,
      "id": "055f73a5",
      "metadata": {
        "id": "055f73a5",
        "outputId": "69783efe-0b05-4634-e1a3-10b4c256c0b8"
      },
      "outputs": [
        {
          "name": "stdout",
          "output_type": "stream",
          "text": [
            "[[0.2        0.33333333]\n",
            " [0.42857143 0.5       ]]\n",
            "[[0.2        0.33333333]\n",
            " [0.42857143 0.5       ]]\n"
          ]
        }
      ],
      "source": [
        "# Elementwise division; both produce the array\n",
        "\n",
        "print(x / y)\n",
        "print(np.divide(x, y))"
      ]
    },
    {
      "cell_type": "code",
      "execution_count": null,
      "id": "97a66dac",
      "metadata": {
        "id": "97a66dac",
        "outputId": "96146b45-0515-420e-9254-0ad534684cb8"
      },
      "outputs": [
        {
          "name": "stdout",
          "output_type": "stream",
          "text": [
            "[[1.         1.41421356]\n",
            " [1.73205081 2.        ]]\n"
          ]
        }
      ],
      "source": [
        "# Elementwise square root; produces the array\n",
        "x = np.array([[1,2],[3,4]], dtype=np.float64)\n",
        "print(np.sqrt(x))"
      ]
    },
    {
      "cell_type": "markdown",
      "id": "4250952b",
      "metadata": {
        "id": "4250952b"
      },
      "source": [
        "##### Assigning x,y,v&w"
      ]
    },
    {
      "cell_type": "code",
      "execution_count": null,
      "id": "7bd915e8",
      "metadata": {
        "id": "7bd915e8"
      },
      "outputs": [],
      "source": [
        "x = np.array([[1,2],[3,4]])\n",
        "y = np.array([[5,6],[7,8]])\n",
        "\n",
        "v = np.array([5,10])\n",
        "w = np.array([11, 4])"
      ]
    },
    {
      "cell_type": "code",
      "execution_count": null,
      "id": "1c5fb0f0",
      "metadata": {
        "id": "1c5fb0f0"
      },
      "outputs": [],
      "source": [
        "# Inner product of vectors\n",
        "print(v.dot(w))\n",
        "print(np.dot(v, w))"
      ]
    },
    {
      "cell_type": "code",
      "execution_count": null,
      "id": "200c44fb",
      "metadata": {
        "id": "200c44fb"
      },
      "outputs": [],
      "source": [
        "# Matrix / vector product; both produce the 1D array [29 67]\n",
        "print(x.dot(v))\n",
        "print(np.dot(x, v))"
      ]
    },
    {
      "cell_type": "code",
      "execution_count": null,
      "id": "426f4b3f",
      "metadata": {
        "id": "426f4b3f"
      },
      "outputs": [],
      "source": [
        "# Matrix / matrix product; both produce the 2D array\n",
        "\n",
        "print(x.dot(y))\n",
        "print(np.dot(x, y))"
      ]
    },
    {
      "cell_type": "markdown",
      "id": "e2cb7d76",
      "metadata": {
        "id": "e2cb7d76"
      },
      "source": [
        "### SUM FUNCTION"
      ]
    },
    {
      "cell_type": "code",
      "execution_count": null,
      "id": "ecbabd9e",
      "metadata": {
        "id": "ecbabd9e",
        "colab": {
          "base_uri": "https://localhost:8080/"
        },
        "outputId": "cbd28767-ea0e-47d2-b43e-50141720c9cb"
      },
      "outputs": [
        {
          "output_type": "stream",
          "name": "stdout",
          "text": [
            "[[1 2]\n",
            " [3 4]]\n",
            "10\n",
            "[4 6]\n",
            "[3 7]\n"
          ]
        }
      ],
      "source": [
        "x = np.array([[1,2],[3,4]])\n",
        "print(x)\n",
        "\n",
        "print(np.sum(x))  # Compute sum of all elements;\n",
        "print(np.sum(x, axis=0))  # Compute sum of each column;\n",
        "print(np.sum(x, axis=1))  # Compute sum of each row;"
      ]
    },
    {
      "cell_type": "markdown",
      "id": "38716b7d",
      "metadata": {
        "id": "38716b7d"
      },
      "source": [
        "## Arithmetic Operations:"
      ]
    },
    {
      "cell_type": "markdown",
      "id": "632a5118",
      "metadata": {
        "id": "632a5118"
      },
      "source": [
        "#### Addition: np.add(a,b)\n",
        "#### Subtraction:np.subtract(a,b)\n",
        "#### Multiplication: np.multiply(a,b)\n",
        "#### Division: np.divide(a,b)\n",
        "#### Exponentiation: np.exp(a)\n",
        "#### Square Root: np.sqrt(b)\n"
      ]
    },
    {
      "cell_type": "markdown",
      "id": "fc0be485",
      "metadata": {
        "id": "fc0be485"
      },
      "source": [
        "### Comparison\n",
        "#### Element-wise: a==b\n",
        "#### Array-wise: np.array_equal(a,b)"
      ]
    },
    {
      "cell_type": "markdown",
      "id": "ffb6f001",
      "metadata": {
        "id": "ffb6f001"
      },
      "source": [
        "### Copying:\n",
        "#### np.copy(array) – Copies array to new memory array.\n",
        "#### view(dtype) – Creates view of array elements with typedtype"
      ]
    },
    {
      "cell_type": "markdown",
      "id": "9c03932d",
      "metadata": {
        "id": "9c03932d"
      },
      "source": [
        "### Sorting:\n",
        "#### array.sort() – Sorts array\n",
        "#### array.sort(axis=0) – Sorts specific axis of array\n",
        "#### array.reshape(2,3) – Reshapes array to 2 rows, 3 columns without changing data."
      ]
    },
    {
      "cell_type": "code",
      "source": [
        "arr=np.arange(5,20)\n",
        "print(arr.shape)\n",
        "print(arr.reshape(3,5))"
      ],
      "metadata": {
        "colab": {
          "base_uri": "https://localhost:8080/"
        },
        "id": "r0k_Ix3RREbC",
        "outputId": "b8c9f7a7-501e-48e6-ca1d-9fe84621ec6a"
      },
      "id": "r0k_Ix3RREbC",
      "execution_count": null,
      "outputs": [
        {
          "output_type": "stream",
          "name": "stdout",
          "text": [
            "(15,)\n",
            "[[ 5  6  7  8  9]\n",
            " [10 11 12 13 14]\n",
            " [15 16 17 18 19]]\n"
          ]
        }
      ]
    },
    {
      "cell_type": "markdown",
      "id": "159f2973",
      "metadata": {
        "id": "159f2973"
      },
      "source": [
        "### Adding:\n",
        "#### np.append(array,values) – Appends values to end of array\n",
        "#### np.insert(array,4,values) – Inserts values into array before index 4"
      ]
    },
    {
      "cell_type": "markdown",
      "id": "49709b07",
      "metadata": {
        "id": "49709b07"
      },
      "source": [
        "### Removing:\n",
        "#### np.delete(array,2,axis=0) – Deletes row on index 2 of array\n",
        "#### np.delete(array,3,axis=1) – Deletes column on index 3 of array"
      ]
    },
    {
      "cell_type": "markdown",
      "id": "f923d9fa",
      "metadata": {
        "id": "f923d9fa"
      },
      "source": [
        "### Combining:\n",
        "#### np.concatenate((array1,array2),axis=0) – Adds array2 as rows to the end of array1\n",
        "#### np.concatenate((array1,array2),axis=1) – Adds array2 as columns to end of array1"
      ]
    },
    {
      "cell_type": "markdown",
      "id": "fe6997a0",
      "metadata": {
        "id": "fe6997a0"
      },
      "source": [
        "### Splitting:\n",
        "#### np.split(array,3) – Splits array into 3sub-arrays"
      ]
    },
    {
      "cell_type": "markdown",
      "id": "3940c57f",
      "metadata": {
        "id": "3940c57f"
      },
      "source": [
        "### Indexing:\n",
        "#### a[0]=5 – Assigns array element on index 0 the value 5\n",
        "#### a[2,3]=1 – Assigns array element on index [2][3] the value 1"
      ]
    },
    {
      "cell_type": "markdown",
      "id": "babca13f",
      "metadata": {
        "id": "babca13f"
      },
      "source": [
        "### Subsetting:\n",
        "#### a[2]: Returns the element of index 2 in array a.\n",
        "#### a[3,5] – Returns the 2D array element on index [3][5]"
      ]
    },
    {
      "cell_type": "markdown",
      "id": "ec6eb6ff",
      "metadata": {
        "id": "ec6eb6ff"
      },
      "source": [
        "### Slicing:\n",
        "#### a[0:4] – Returns the elements at indices 0,1,2,3\n",
        "#### a[0:4,3] – Returns the elements on rows 0,1,2,3 at column 3\n",
        "#### a[:2] – Returns the elements at indices 0,1\n",
        "#### a[:,1] – Returns the elements at index 1 on all rows"
      ]
    },
    {
      "cell_type": "code",
      "execution_count": null,
      "id": "8bfa82ca",
      "metadata": {
        "id": "8bfa82ca"
      },
      "outputs": [],
      "source": [
        "#https://github.com/rougier/numpy-100/blob/master/100_Numpy_exercises_with_solutions.md"
      ]
    },
    {
      "cell_type": "code",
      "execution_count": null,
      "id": "45447e18",
      "metadata": {
        "id": "45447e18",
        "colab": {
          "base_uri": "https://localhost:8080/"
        },
        "outputId": "085f02f4-3b4a-4a52-b3bd-edecc0bfd5ee"
      },
      "outputs": [
        {
          "output_type": "stream",
          "name": "stdout",
          "text": [
            "[1.         1.14285714 1.28571429 1.42857143 1.57142857 1.71428571\n",
            " 1.85714286 2.        ]\n"
          ]
        }
      ],
      "source": [
        "import numpy as np\n",
        "T=np.linspace(1,2,8)\n",
        "print(T)"
      ]
    },
    {
      "cell_type": "markdown",
      "source": [
        "**PANDAS LIBRARY**"
      ],
      "metadata": {
        "id": "cJx36T5DSbix"
      },
      "id": "cJx36T5DSbix"
    },
    {
      "cell_type": "code",
      "source": [
        "import pandas as pd\n",
        "\n",
        "df=pd.read_csv(\"Chicago_Public_School.csv\")\n",
        "df.head()\n"
      ],
      "metadata": {
        "colab": {
          "base_uri": "https://localhost:8080/",
          "height": 560
        },
        "id": "WbpODemiSbO8",
        "outputId": "a38c9f7c-1630-4e52-f1cd-dcc8f475a41a"
      },
      "id": "WbpODemiSbO8",
      "execution_count": null,
      "outputs": [
        {
          "output_type": "execute_result",
          "data": {
            "text/plain": [
              "   School ID                                     NAME_OF_SCHOOL  \\\n",
              "0     610038                  Abraham Lincoln Elementary School   \n",
              "1     610281  Adam Clayton Powell Paideia Community Academy ...   \n",
              "2     610185                Adlai E Stevenson Elementary School   \n",
              "3     609993                    Agustin Lara Elementary Academy   \n",
              "4     610513                      Air Force Academy High School   \n",
              "\n",
              "  Elementary, Middle, or High School          Street Address     City State  \\\n",
              "0                                 ES        615 W Kemper Pl   Chicago    IL   \n",
              "1                                 ES  7511 S South Shore Dr   Chicago    IL   \n",
              "2                                 ES     8010 S Kostner Ave   Chicago    IL   \n",
              "3                                 ES     4619 S Wolcott Ave   Chicago    IL   \n",
              "4                                 HS        3630 S Wells St   Chicago    IL   \n",
              "\n",
              "   ZIP Code    Phone Number  \\\n",
              "0     60614  (773) 534-5720   \n",
              "1     60649  (773) 535-6650   \n",
              "2     60652  (773) 535-2280   \n",
              "3     60609  (773) 535-4389   \n",
              "4     60609  (773) 535-1590   \n",
              "\n",
              "                                               Link   \\\n",
              "0  http://schoolreports.cps.edu/SchoolProgressRep...   \n",
              "1  http://schoolreports.cps.edu/SchoolProgressRep...   \n",
              "2  http://schoolreports.cps.edu/SchoolProgressRep...   \n",
              "3  http://schoolreports.cps.edu/SchoolProgressRep...   \n",
              "4  http://schoolreports.cps.edu/SchoolProgressRep...   \n",
              "\n",
              "                      Network Manager  ... Freshman on Track Rate %  \\\n",
              "0        Fullerton Elementary Network  ...                      NDA   \n",
              "1           Skyway Elementary Network  ...                      NDA   \n",
              "2           Midway Elementary Network  ...                      NDA   \n",
              "3         Pershing Elementary Network  ...                      NDA   \n",
              "4  Southwest Side High School Network  ...                     91.8   \n",
              "\n",
              "  X_COORDINATE Y_COORDINATE   Latitude  Longitude COMMUNITY_AREA_NUMBER  \\\n",
              "0  1171699.458  1915829.428  41.924497 -87.644522                     7   \n",
              "1  1196129.985  1856209.466  41.760324 -87.556736                    43   \n",
              "2  1148427.165  1851012.215  41.747111 -87.731702                    70   \n",
              "3  1164504.290  1873959.199  41.809757 -87.672145                    61   \n",
              "4  1175177.622  1880745.126  41.828146 -87.632794                    34   \n",
              "\n",
              "  COMMUNITY_AREA_NAME  Ward Police District                     Location  \n",
              "0        LINCOLN PARK    43              18  (41.92449696, -87.64452163)  \n",
              "1         SOUTH SHORE     7               4  (41.76032435, -87.55673627)  \n",
              "2             ASHBURN    13               8  (41.74711093, -87.73170248)  \n",
              "3            NEW CITY    20               9    (41.8097569, -87.6721446)  \n",
              "4       ARMOUR SQUARE    11               9  (41.82814609, -87.63279369)  \n",
              "\n",
              "[5 rows x 78 columns]"
            ],
            "text/html": [
              "\n",
              "  <div id=\"df-d69d9045-4f20-4762-aa7a-c18a66c9a12a\">\n",
              "    <div class=\"colab-df-container\">\n",
              "      <div>\n",
              "<style scoped>\n",
              "    .dataframe tbody tr th:only-of-type {\n",
              "        vertical-align: middle;\n",
              "    }\n",
              "\n",
              "    .dataframe tbody tr th {\n",
              "        vertical-align: top;\n",
              "    }\n",
              "\n",
              "    .dataframe thead th {\n",
              "        text-align: right;\n",
              "    }\n",
              "</style>\n",
              "<table border=\"1\" class=\"dataframe\">\n",
              "  <thead>\n",
              "    <tr style=\"text-align: right;\">\n",
              "      <th></th>\n",
              "      <th>School ID</th>\n",
              "      <th>NAME_OF_SCHOOL</th>\n",
              "      <th>Elementary, Middle, or High School</th>\n",
              "      <th>Street Address</th>\n",
              "      <th>City</th>\n",
              "      <th>State</th>\n",
              "      <th>ZIP Code</th>\n",
              "      <th>Phone Number</th>\n",
              "      <th>Link</th>\n",
              "      <th>Network Manager</th>\n",
              "      <th>...</th>\n",
              "      <th>Freshman on Track Rate %</th>\n",
              "      <th>X_COORDINATE</th>\n",
              "      <th>Y_COORDINATE</th>\n",
              "      <th>Latitude</th>\n",
              "      <th>Longitude</th>\n",
              "      <th>COMMUNITY_AREA_NUMBER</th>\n",
              "      <th>COMMUNITY_AREA_NAME</th>\n",
              "      <th>Ward</th>\n",
              "      <th>Police District</th>\n",
              "      <th>Location</th>\n",
              "    </tr>\n",
              "  </thead>\n",
              "  <tbody>\n",
              "    <tr>\n",
              "      <th>0</th>\n",
              "      <td>610038</td>\n",
              "      <td>Abraham Lincoln Elementary School</td>\n",
              "      <td>ES</td>\n",
              "      <td>615 W Kemper Pl</td>\n",
              "      <td>Chicago</td>\n",
              "      <td>IL</td>\n",
              "      <td>60614</td>\n",
              "      <td>(773) 534-5720</td>\n",
              "      <td>http://schoolreports.cps.edu/SchoolProgressRep...</td>\n",
              "      <td>Fullerton Elementary Network</td>\n",
              "      <td>...</td>\n",
              "      <td>NDA</td>\n",
              "      <td>1171699.458</td>\n",
              "      <td>1915829.428</td>\n",
              "      <td>41.924497</td>\n",
              "      <td>-87.644522</td>\n",
              "      <td>7</td>\n",
              "      <td>LINCOLN PARK</td>\n",
              "      <td>43</td>\n",
              "      <td>18</td>\n",
              "      <td>(41.92449696, -87.64452163)</td>\n",
              "    </tr>\n",
              "    <tr>\n",
              "      <th>1</th>\n",
              "      <td>610281</td>\n",
              "      <td>Adam Clayton Powell Paideia Community Academy ...</td>\n",
              "      <td>ES</td>\n",
              "      <td>7511 S South Shore Dr</td>\n",
              "      <td>Chicago</td>\n",
              "      <td>IL</td>\n",
              "      <td>60649</td>\n",
              "      <td>(773) 535-6650</td>\n",
              "      <td>http://schoolreports.cps.edu/SchoolProgressRep...</td>\n",
              "      <td>Skyway Elementary Network</td>\n",
              "      <td>...</td>\n",
              "      <td>NDA</td>\n",
              "      <td>1196129.985</td>\n",
              "      <td>1856209.466</td>\n",
              "      <td>41.760324</td>\n",
              "      <td>-87.556736</td>\n",
              "      <td>43</td>\n",
              "      <td>SOUTH SHORE</td>\n",
              "      <td>7</td>\n",
              "      <td>4</td>\n",
              "      <td>(41.76032435, -87.55673627)</td>\n",
              "    </tr>\n",
              "    <tr>\n",
              "      <th>2</th>\n",
              "      <td>610185</td>\n",
              "      <td>Adlai E Stevenson Elementary School</td>\n",
              "      <td>ES</td>\n",
              "      <td>8010 S Kostner Ave</td>\n",
              "      <td>Chicago</td>\n",
              "      <td>IL</td>\n",
              "      <td>60652</td>\n",
              "      <td>(773) 535-2280</td>\n",
              "      <td>http://schoolreports.cps.edu/SchoolProgressRep...</td>\n",
              "      <td>Midway Elementary Network</td>\n",
              "      <td>...</td>\n",
              "      <td>NDA</td>\n",
              "      <td>1148427.165</td>\n",
              "      <td>1851012.215</td>\n",
              "      <td>41.747111</td>\n",
              "      <td>-87.731702</td>\n",
              "      <td>70</td>\n",
              "      <td>ASHBURN</td>\n",
              "      <td>13</td>\n",
              "      <td>8</td>\n",
              "      <td>(41.74711093, -87.73170248)</td>\n",
              "    </tr>\n",
              "    <tr>\n",
              "      <th>3</th>\n",
              "      <td>609993</td>\n",
              "      <td>Agustin Lara Elementary Academy</td>\n",
              "      <td>ES</td>\n",
              "      <td>4619 S Wolcott Ave</td>\n",
              "      <td>Chicago</td>\n",
              "      <td>IL</td>\n",
              "      <td>60609</td>\n",
              "      <td>(773) 535-4389</td>\n",
              "      <td>http://schoolreports.cps.edu/SchoolProgressRep...</td>\n",
              "      <td>Pershing Elementary Network</td>\n",
              "      <td>...</td>\n",
              "      <td>NDA</td>\n",
              "      <td>1164504.290</td>\n",
              "      <td>1873959.199</td>\n",
              "      <td>41.809757</td>\n",
              "      <td>-87.672145</td>\n",
              "      <td>61</td>\n",
              "      <td>NEW CITY</td>\n",
              "      <td>20</td>\n",
              "      <td>9</td>\n",
              "      <td>(41.8097569, -87.6721446)</td>\n",
              "    </tr>\n",
              "    <tr>\n",
              "      <th>4</th>\n",
              "      <td>610513</td>\n",
              "      <td>Air Force Academy High School</td>\n",
              "      <td>HS</td>\n",
              "      <td>3630 S Wells St</td>\n",
              "      <td>Chicago</td>\n",
              "      <td>IL</td>\n",
              "      <td>60609</td>\n",
              "      <td>(773) 535-1590</td>\n",
              "      <td>http://schoolreports.cps.edu/SchoolProgressRep...</td>\n",
              "      <td>Southwest Side High School Network</td>\n",
              "      <td>...</td>\n",
              "      <td>91.8</td>\n",
              "      <td>1175177.622</td>\n",
              "      <td>1880745.126</td>\n",
              "      <td>41.828146</td>\n",
              "      <td>-87.632794</td>\n",
              "      <td>34</td>\n",
              "      <td>ARMOUR SQUARE</td>\n",
              "      <td>11</td>\n",
              "      <td>9</td>\n",
              "      <td>(41.82814609, -87.63279369)</td>\n",
              "    </tr>\n",
              "  </tbody>\n",
              "</table>\n",
              "<p>5 rows × 78 columns</p>\n",
              "</div>\n",
              "      <button class=\"colab-df-convert\" onclick=\"convertToInteractive('df-d69d9045-4f20-4762-aa7a-c18a66c9a12a')\"\n",
              "              title=\"Convert this dataframe to an interactive table.\"\n",
              "              style=\"display:none;\">\n",
              "        \n",
              "  <svg xmlns=\"http://www.w3.org/2000/svg\" height=\"24px\"viewBox=\"0 0 24 24\"\n",
              "       width=\"24px\">\n",
              "    <path d=\"M0 0h24v24H0V0z\" fill=\"none\"/>\n",
              "    <path d=\"M18.56 5.44l.94 2.06.94-2.06 2.06-.94-2.06-.94-.94-2.06-.94 2.06-2.06.94zm-11 1L8.5 8.5l.94-2.06 2.06-.94-2.06-.94L8.5 2.5l-.94 2.06-2.06.94zm10 10l.94 2.06.94-2.06 2.06-.94-2.06-.94-.94-2.06-.94 2.06-2.06.94z\"/><path d=\"M17.41 7.96l-1.37-1.37c-.4-.4-.92-.59-1.43-.59-.52 0-1.04.2-1.43.59L10.3 9.45l-7.72 7.72c-.78.78-.78 2.05 0 2.83L4 21.41c.39.39.9.59 1.41.59.51 0 1.02-.2 1.41-.59l7.78-7.78 2.81-2.81c.8-.78.8-2.07 0-2.86zM5.41 20L4 18.59l7.72-7.72 1.47 1.35L5.41 20z\"/>\n",
              "  </svg>\n",
              "      </button>\n",
              "      \n",
              "  <style>\n",
              "    .colab-df-container {\n",
              "      display:flex;\n",
              "      flex-wrap:wrap;\n",
              "      gap: 12px;\n",
              "    }\n",
              "\n",
              "    .colab-df-convert {\n",
              "      background-color: #E8F0FE;\n",
              "      border: none;\n",
              "      border-radius: 50%;\n",
              "      cursor: pointer;\n",
              "      display: none;\n",
              "      fill: #1967D2;\n",
              "      height: 32px;\n",
              "      padding: 0 0 0 0;\n",
              "      width: 32px;\n",
              "    }\n",
              "\n",
              "    .colab-df-convert:hover {\n",
              "      background-color: #E2EBFA;\n",
              "      box-shadow: 0px 1px 2px rgba(60, 64, 67, 0.3), 0px 1px 3px 1px rgba(60, 64, 67, 0.15);\n",
              "      fill: #174EA6;\n",
              "    }\n",
              "\n",
              "    [theme=dark] .colab-df-convert {\n",
              "      background-color: #3B4455;\n",
              "      fill: #D2E3FC;\n",
              "    }\n",
              "\n",
              "    [theme=dark] .colab-df-convert:hover {\n",
              "      background-color: #434B5C;\n",
              "      box-shadow: 0px 1px 3px 1px rgba(0, 0, 0, 0.15);\n",
              "      filter: drop-shadow(0px 1px 2px rgba(0, 0, 0, 0.3));\n",
              "      fill: #FFFFFF;\n",
              "    }\n",
              "  </style>\n",
              "\n",
              "      <script>\n",
              "        const buttonEl =\n",
              "          document.querySelector('#df-d69d9045-4f20-4762-aa7a-c18a66c9a12a button.colab-df-convert');\n",
              "        buttonEl.style.display =\n",
              "          google.colab.kernel.accessAllowed ? 'block' : 'none';\n",
              "\n",
              "        async function convertToInteractive(key) {\n",
              "          const element = document.querySelector('#df-d69d9045-4f20-4762-aa7a-c18a66c9a12a');\n",
              "          const dataTable =\n",
              "            await google.colab.kernel.invokeFunction('convertToInteractive',\n",
              "                                                     [key], {});\n",
              "          if (!dataTable) return;\n",
              "\n",
              "          const docLinkHtml = 'Like what you see? Visit the ' +\n",
              "            '<a target=\"_blank\" href=https://colab.research.google.com/notebooks/data_table.ipynb>data table notebook</a>'\n",
              "            + ' to learn more about interactive tables.';\n",
              "          element.innerHTML = '';\n",
              "          dataTable['output_type'] = 'display_data';\n",
              "          await google.colab.output.renderOutput(dataTable, element);\n",
              "          const docLink = document.createElement('div');\n",
              "          docLink.innerHTML = docLinkHtml;\n",
              "          element.appendChild(docLink);\n",
              "        }\n",
              "      </script>\n",
              "    </div>\n",
              "  </div>\n",
              "  "
            ]
          },
          "metadata": {},
          "execution_count": 41
        }
      ]
    },
    {
      "cell_type": "code",
      "execution_count": null,
      "id": "048aaf36",
      "metadata": {
        "id": "048aaf36"
      },
      "outputs": [],
      "source": []
    },
    {
      "cell_type": "code",
      "execution_count": null,
      "id": "678ec352",
      "metadata": {
        "id": "678ec352"
      },
      "outputs": [],
      "source": []
    }
  ],
  "metadata": {
    "kernelspec": {
      "display_name": "Python 3 (ipykernel)",
      "language": "python",
      "name": "python3"
    },
    "language_info": {
      "codemirror_mode": {
        "name": "ipython",
        "version": 3
      },
      "file_extension": ".py",
      "mimetype": "text/x-python",
      "name": "python",
      "nbconvert_exporter": "python",
      "pygments_lexer": "ipython3",
      "version": "3.9.12"
    },
    "colab": {
      "provenance": [],
      "collapsed_sections": [
        "e615ef33",
        "1f9e5747",
        "632a5118"
      ],
      "include_colab_link": true
    }
  },
  "nbformat": 4,
  "nbformat_minor": 5
}