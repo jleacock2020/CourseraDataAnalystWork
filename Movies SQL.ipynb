{
  "nbformat": 4,
  "nbformat_minor": 0,
  "metadata": {
    "colab": {
      "provenance": [],
      "include_colab_link": true
    },
    "kernelspec": {
      "name": "python3",
      "display_name": "Python 3"
    },
    "language_info": {
      "name": "python"
    }
  },
  "cells": [
    {
      "cell_type": "markdown",
      "metadata": {
        "id": "view-in-github",
        "colab_type": "text"
      },
      "source": [
        "<a href=\"https://colab.research.google.com/github/jleacock2020/CourseraDataAnalystWork/blob/main/Movies%20SQL.ipynb\" target=\"_parent\"><img src=\"https://colab.research.google.com/assets/colab-badge.svg\" alt=\"Open In Colab\"/></a>"
      ]
    },
    {
      "cell_type": "code",
      "execution_count": null,
      "metadata": {
        "id": "5Svnsrc4auPO"
      },
      "outputs": [],
      "source": [
        "import sqlite3\n",
        "conn = sqlite3.connect('Moviess.db')"
      ]
    },
    {
      "cell_type": "code",
      "source": [
        "# cursor object\n",
        "cursor_obj = conn.cursor()"
      ],
      "metadata": {
        "id": "mJRlPaQwb9kQ"
      },
      "execution_count": null,
      "outputs": []
    },
    {
      "cell_type": "code",
      "source": [
        "statement = '''SELECT * FROM Movies'''\n",
        "cursor_obj.execute(statement)\n",
        "\n"
      ],
      "metadata": {
        "colab": {
          "base_uri": "https://localhost:8080/"
        },
        "id": "dxq-BfAdcFpt",
        "outputId": "5248f85a-5aed-428e-df42-f950c006b46e"
      },
      "execution_count": null,
      "outputs": [
        {
          "output_type": "execute_result",
          "data": {
            "text/plain": [
              "<sqlite3.Cursor at 0x7f78546b2540>"
            ]
          },
          "metadata": {},
          "execution_count": 35
        }
      ]
    },
    {
      "cell_type": "code",
      "source": [
        "print(\"All the data\")\n",
        "output_all = cursor_obj.fetchall()\n",
        "print(output_all)"
      ],
      "metadata": {
        "colab": {
          "base_uri": "https://localhost:8080/"
        },
        "id": "zEAEpq7QLMHM",
        "outputId": "4f7d4856-0574-4345-b261-8e6c8cae8898"
      },
      "execution_count": null,
      "outputs": [
        {
          "output_type": "stream",
          "name": "stdout",
          "text": [
            "All the data\n",
            "[(901, 'Vertigo', 1958, 128, 'English', '1958-08-24', 'UK', 'Righty Sock', 9001, '8.4', '263575', None, None, None, None, None), (902, 'The Innocents', 1961, 100, 'English', '1962-02-19', 'SW', 'Jack Malvern', 9002, '7.9', '20207', None, None, None, None, None), (903, 'Lawrence of Arabia', 1962, 216, 'English', '1962-12-11', 'UK', 'Flagrant Baronessa', 9003, '8.3', '202778', None, None, None, None, None), (904, 'The Deer Hunter', 1978, 183, 'English', '1979-03-08', 'UK', 'Alec Shaw', 9005, '8.2', '484746', None, None, None, None, None), (905, 'Amadeus', 1984, 160, 'English', '1985-01-07', 'UK', 'Francois Truffaut', 9006, '7.3', None, None, None, None, None, None), (906, 'Blade Runner', 1982, 117, 'English', '1982-09-09', 'UK', 'Victor Woeltjen', 9007, '8.6', '779489', None, None, None, None, None), (907, 'Eyes Wide Shut', 1999, 159, 'English', None, 'UK', 'Simon Wright', 9008, None, '227235', None, None, None, None, None), (908, 'The Usual Suspects', 1995, 106, 'English', '1995-08-25', 'UK', 'Neal Wruck', 9009, '3', '195961', None, None, None, None, None), (909, 'Chinatown', 1974, 130, 'English', '1974-08-09', 'UK', 'Paul Monks', 9010, '8.1', '203875', None, None, None, None, None), (910, 'Boogie Nights', 1997, 155, 'English', '1998-02-16', 'UK', 'Mike Salvati', 9011, '8.4', None, None, None, None, None, None), (911, 'Annie Hall', 1977, 93, 'English', '1977-04-20', 'USA', 'Armond White', 9013, '7', '862618', None, None, None, None, None), (912, 'Princess Mononoke', 1997, 134, 'Japanese', '2001-10-19', 'UK', 'Wesley S. Walker', 9001, '7.7', '830095', None, None, None, None, None), (913, 'The Shawshank Redemption', 1994, 142, 'English', '1995-02-17', 'UK', 'Sasha Goldshtein', 9014, '4', '642132', None, None, None, None, None), (914, 'American Beauty', 1999, 122, 'English', None, 'UK', 'Josh Cates', 9015, '7.7', '81328', None, None, None, None, None), (915, 'Titanic', 1997, 194, 'English', '1998-01-23', 'UK', 'Krug Stillo', 9016, None, '580301', None, None, None, None, None), (916, 'Good Will Hunting', 1997, 126, 'English', '1998-06-03', 'UK', 'Scott LeBrun', 9017, '8.1', '609451', None, None, None, None, None), (917, 'Deliverance', 1972, 109, 'English', '1982-10-05', 'UK', 'Hannah Steele', 9018, '8', '667758', None, None, None, None, None), (918, 'Trainspotting', 1996, 94, 'English', '1996-02-23', 'UK', 'Vincent Cadena', 9019, '8.4', '511613', None, None, None, None, None), (919, 'The Prestige', 2006, 130, 'English', '2006-11-10', 'UK', 'Brandt Sponseller', 9020, '6.7', '13091', None, None, None, None, None), (920, 'Donnie Darko', 2001, 113, 'English', None, 'UK', 'Richard Adams', 9021, '7.0', '544452', None, None, None, None, None), (921, 'Slumdog Millionaire', 2008, 120, 'English', '2009-01-09', 'UK', 'Andre Bazin', 9022, '7.0', '557054', None, None, None, None, None), (922, 'Aliens', 1986, 137, 'English', '1986-08-29', 'UK', 'Judith Christ', 9023, '7.0', '569657', None, None, None, None, None), (923, 'Beyond the Sea', 2004, 118, 'English', '2004-11-26', 'UK', 'Peter Travers', 9024, '6.9', '582260', None, None, None, None, None), (924, 'Avatar', 2009, 162, 'English', '2009-12-17', 'UK', 'Roger Ebert', 9025, '6.9', '594862', None, None, None, None, None), (926, 'Seven Samurai', 1954, 207, 'Japanese', '1954-04-26', 'JP', 'Pauline Kael', 9026, '6.9', '607465', None, None, None, None, None), (927, 'Spirited Away', 2001, 125, 'Japanese', '2003-09-12', 'UK', 'Leonard Martin', 9027, '6.8', '620067', None, None, None, None, None), (928, 'Back to the Future', 1985, 116, 'English', '1985-12-04', 'UK', 'Andrew Sarris', 9028, '6.8', '632670', None, None, None, None, None), (925, 'Braveheart', 1995, 178, 'English', '1995-09-08', 'UK', 'Gene Shalit', 9029, '6.8', '645273', None, None, None, None, None)]\n"
          ]
        }
      ]
    },
    {
      "cell_type": "code",
      "source": [
        "for i in output_all:\n",
        "  print(i)"
      ],
      "metadata": {
        "colab": {
          "base_uri": "https://localhost:8080/"
        },
        "id": "5M5lcaEULYE9",
        "outputId": "4cce9d0d-cabe-413c-f1e8-df53f3f9c132"
      },
      "execution_count": null,
      "outputs": [
        {
          "output_type": "stream",
          "name": "stdout",
          "text": [
            "(901, 'Vertigo', 1958, 128, 'English', '1958-08-24', 'UK', 'Righty Sock', 9001, '8.4', '263575', None, None, None, None, None)\n",
            "(902, 'The Innocents', 1961, 100, 'English', '1962-02-19', 'SW', 'Jack Malvern', 9002, '7.9', '20207', None, None, None, None, None)\n",
            "(903, 'Lawrence of Arabia', 1962, 216, 'English', '1962-12-11', 'UK', 'Flagrant Baronessa', 9003, '8.3', '202778', None, None, None, None, None)\n",
            "(904, 'The Deer Hunter', 1978, 183, 'English', '1979-03-08', 'UK', 'Alec Shaw', 9005, '8.2', '484746', None, None, None, None, None)\n",
            "(905, 'Amadeus', 1984, 160, 'English', '1985-01-07', 'UK', 'Francois Truffaut', 9006, '7.3', None, None, None, None, None, None)\n",
            "(906, 'Blade Runner', 1982, 117, 'English', '1982-09-09', 'UK', 'Victor Woeltjen', 9007, '8.6', '779489', None, None, None, None, None)\n",
            "(907, 'Eyes Wide Shut', 1999, 159, 'English', None, 'UK', 'Simon Wright', 9008, None, '227235', None, None, None, None, None)\n",
            "(908, 'The Usual Suspects', 1995, 106, 'English', '1995-08-25', 'UK', 'Neal Wruck', 9009, '3', '195961', None, None, None, None, None)\n",
            "(909, 'Chinatown', 1974, 130, 'English', '1974-08-09', 'UK', 'Paul Monks', 9010, '8.1', '203875', None, None, None, None, None)\n",
            "(910, 'Boogie Nights', 1997, 155, 'English', '1998-02-16', 'UK', 'Mike Salvati', 9011, '8.4', None, None, None, None, None, None)\n",
            "(911, 'Annie Hall', 1977, 93, 'English', '1977-04-20', 'USA', 'Armond White', 9013, '7', '862618', None, None, None, None, None)\n",
            "(912, 'Princess Mononoke', 1997, 134, 'Japanese', '2001-10-19', 'UK', 'Wesley S. Walker', 9001, '7.7', '830095', None, None, None, None, None)\n",
            "(913, 'The Shawshank Redemption', 1994, 142, 'English', '1995-02-17', 'UK', 'Sasha Goldshtein', 9014, '4', '642132', None, None, None, None, None)\n",
            "(914, 'American Beauty', 1999, 122, 'English', None, 'UK', 'Josh Cates', 9015, '7.7', '81328', None, None, None, None, None)\n",
            "(915, 'Titanic', 1997, 194, 'English', '1998-01-23', 'UK', 'Krug Stillo', 9016, None, '580301', None, None, None, None, None)\n",
            "(916, 'Good Will Hunting', 1997, 126, 'English', '1998-06-03', 'UK', 'Scott LeBrun', 9017, '8.1', '609451', None, None, None, None, None)\n",
            "(917, 'Deliverance', 1972, 109, 'English', '1982-10-05', 'UK', 'Hannah Steele', 9018, '8', '667758', None, None, None, None, None)\n",
            "(918, 'Trainspotting', 1996, 94, 'English', '1996-02-23', 'UK', 'Vincent Cadena', 9019, '8.4', '511613', None, None, None, None, None)\n",
            "(919, 'The Prestige', 2006, 130, 'English', '2006-11-10', 'UK', 'Brandt Sponseller', 9020, '6.7', '13091', None, None, None, None, None)\n",
            "(920, 'Donnie Darko', 2001, 113, 'English', None, 'UK', 'Richard Adams', 9021, '7.0', '544452', None, None, None, None, None)\n",
            "(921, 'Slumdog Millionaire', 2008, 120, 'English', '2009-01-09', 'UK', 'Andre Bazin', 9022, '7.0', '557054', None, None, None, None, None)\n",
            "(922, 'Aliens', 1986, 137, 'English', '1986-08-29', 'UK', 'Judith Christ', 9023, '7.0', '569657', None, None, None, None, None)\n",
            "(923, 'Beyond the Sea', 2004, 118, 'English', '2004-11-26', 'UK', 'Peter Travers', 9024, '6.9', '582260', None, None, None, None, None)\n",
            "(924, 'Avatar', 2009, 162, 'English', '2009-12-17', 'UK', 'Roger Ebert', 9025, '6.9', '594862', None, None, None, None, None)\n",
            "(926, 'Seven Samurai', 1954, 207, 'Japanese', '1954-04-26', 'JP', 'Pauline Kael', 9026, '6.9', '607465', None, None, None, None, None)\n",
            "(927, 'Spirited Away', 2001, 125, 'Japanese', '2003-09-12', 'UK', 'Leonard Martin', 9027, '6.8', '620067', None, None, None, None, None)\n",
            "(928, 'Back to the Future', 1985, 116, 'English', '1985-12-04', 'UK', 'Andrew Sarris', 9028, '6.8', '632670', None, None, None, None, None)\n",
            "(925, 'Braveheart', 1995, 178, 'English', '1995-09-08', 'UK', 'Gene Shalit', 9029, '6.8', '645273', None, None, None, None, None)\n"
          ]
        }
      ]
    },
    {
      "cell_type": "code",
      "source": [
        "## Fetch few rows from the table\n",
        "statement = '''SELECT * FROM Movies'''\n",
        "cursor_obj.execute(statement)\n",
        "\n",
        "print(\"All the data\")\n",
        "# If you want to fetch few rows from the table we use fetchmany(numberofrows) and mention the number how many rows you want to fetch\n",
        "output_many = cursor_obj.fetchmany(2)\n",
        "for row_many in output_many:\n",
        "  print(row_many)"
      ],
      "metadata": {
        "colab": {
          "base_uri": "https://localhost:8080/"
        },
        "id": "gfN8QgvBcQ5O",
        "outputId": "f9f4e5bf-bee0-46bb-d009-93bb897eb0be"
      },
      "execution_count": null,
      "outputs": [
        {
          "output_type": "stream",
          "name": "stdout",
          "text": [
            "All the data\n",
            "(901, 'Vertigo', 1958, 128, 'English', '1958-08-24', 'UK', 'Righty Sock', 9001, '8.4', '263575', None, None, None, None, None)\n",
            "(902, 'The Innocents', 1961, 100, 'English', '1962-02-19', 'SW', 'Jack Malvern', 9002, '7.9', '20207', None, None, None, None, None)\n"
          ]
        }
      ]
    },
    {
      "cell_type": "code",
      "source": [
        "# Fetch only mov_id from the table\n",
        "statement = '''SELECT mov_id FROM movies'''\n",
        "cursor_obj.execute(statement)\n",
        "\n",
        "print(\"All the data\")\n",
        "output_column = cursor_obj.fetchall()\n",
        "for fetch in output_column:\n",
        "  print(fetch)"
      ],
      "metadata": {
        "colab": {
          "base_uri": "https://localhost:8080/"
        },
        "id": "Se768q3kcUyU",
        "outputId": "60cc8135-9ba3-4e4d-93fe-788be5963de4"
      },
      "execution_count": null,
      "outputs": [
        {
          "output_type": "stream",
          "name": "stdout",
          "text": [
            "All the data\n",
            "(901,)\n",
            "(902,)\n",
            "(903,)\n",
            "(904,)\n",
            "(905,)\n",
            "(906,)\n",
            "(907,)\n",
            "(908,)\n",
            "(909,)\n",
            "(910,)\n",
            "(911,)\n",
            "(912,)\n",
            "(913,)\n",
            "(914,)\n",
            "(915,)\n",
            "(916,)\n",
            "(917,)\n",
            "(918,)\n",
            "(919,)\n",
            "(920,)\n",
            "(921,)\n",
            "(922,)\n",
            "(923,)\n",
            "(924,)\n",
            "(926,)\n",
            "(927,)\n",
            "(928,)\n",
            "(925,)\n"
          ]
        }
      ]
    },
    {
      "cell_type": "code",
      "source": [
        "query_update='''update movies set mov_lang='Hindi' where mov_name=\"Vertigo\"'''\n",
        "cursor_obj.execute(query_update)"
      ],
      "metadata": {
        "colab": {
          "base_uri": "https://localhost:8080/"
        },
        "id": "TERmxjWFdry2",
        "outputId": "0bae808a-0d67-45a2-a3dc-2197d836d5e3"
      },
      "execution_count": null,
      "outputs": [
        {
          "output_type": "execute_result",
          "data": {
            "text/plain": [
              "<sqlite3.Cursor at 0x7f78546b2540>"
            ]
          },
          "metadata": {},
          "execution_count": 36
        }
      ]
    },
    {
      "cell_type": "code",
      "source": [
        "statement = '''SELECT * FROM Movies'''\n",
        "cursor_obj.execute(statement)\n",
        "\n",
        "print(\"All the data\")\n",
        "output1 = cursor_obj.fetchmany(2)\n",
        "for row in output1:\n",
        "  print(row)"
      ],
      "metadata": {
        "colab": {
          "base_uri": "https://localhost:8080/"
        },
        "id": "YysToveQ93zM",
        "outputId": "b61952bc-9d42-4ecb-de1c-93baca4c898d"
      },
      "execution_count": null,
      "outputs": [
        {
          "output_type": "stream",
          "name": "stdout",
          "text": [
            "All the data\n",
            "(901, 'Vertigo', 1958, 128, 'Hindi', '1958-08-24', 'UK', 'Righty Sock', 9001, '8.4', '263575', None, None, None, None, None)\n",
            "(902, 'The Innocents', 1961, 100, 'English', '1962-02-19', 'SW', 'Jack Malvern', 9002, '7.9', '20207', None, None, None, None, None)\n"
          ]
        }
      ]
    },
    {
      "cell_type": "code",
      "source": [
        "import pandas as pd\n",
        "#retrieve the query results into a pandas dataframe\n",
        "df = pd.read_sql_query(\"select * from movies;\", conn)\n",
        "\n",
        "#print the dataframe\n",
        "df.head()"
      ],
      "metadata": {
        "colab": {
          "base_uri": "https://localhost:8080/",
          "height": 357
        },
        "id": "fUZMmzYTCy-U",
        "outputId": "9d3c0503-c334-4115-f8e5-909df9547fc1"
      },
      "execution_count": null,
      "outputs": [
        {
          "output_type": "execute_result",
          "data": {
            "text/plain": [
              "   mov_id            mov_name  mov_year  mov_time mov_lang  mov_dt_rel  \\\n",
              "0     901             Vertigo      1958       128    Hindi  1958-08-24   \n",
              "1     902       The Innocents      1961       100  English  1962-02-19   \n",
              "2     903  Lawrence of Arabia      1962       216  English  1962-12-11   \n",
              "3     904     The Deer Hunter      1978       183  English  1979-03-08   \n",
              "4     905             Amadeus      1984       160  English  1985-01-07   \n",
              "\n",
              "  mov_rel_country            rev_name  rev_id rev_stars num_o_ratings field12  \\\n",
              "0              UK         Righty Sock    9001       8.4        263575    None   \n",
              "1              SW        Jack Malvern    9002       7.9         20207    None   \n",
              "2              UK  Flagrant Baronessa    9003       8.3        202778    None   \n",
              "3              UK           Alec Shaw    9005       8.2        484746    None   \n",
              "4              UK   Francois Truffaut    9006       7.3          None    None   \n",
              "\n",
              "  field13 field14 field15 field16  \n",
              "0    None    None    None    None  \n",
              "1    None    None    None    None  \n",
              "2    None    None    None    None  \n",
              "3    None    None    None    None  \n",
              "4    None    None    None    None  "
            ],
            "text/html": [
              "\n",
              "  <div id=\"df-fcb0eea7-f9ae-4eb3-b39b-ec208fa9d2d9\">\n",
              "    <div class=\"colab-df-container\">\n",
              "      <div>\n",
              "<style scoped>\n",
              "    .dataframe tbody tr th:only-of-type {\n",
              "        vertical-align: middle;\n",
              "    }\n",
              "\n",
              "    .dataframe tbody tr th {\n",
              "        vertical-align: top;\n",
              "    }\n",
              "\n",
              "    .dataframe thead th {\n",
              "        text-align: right;\n",
              "    }\n",
              "</style>\n",
              "<table border=\"1\" class=\"dataframe\">\n",
              "  <thead>\n",
              "    <tr style=\"text-align: right;\">\n",
              "      <th></th>\n",
              "      <th>mov_id</th>\n",
              "      <th>mov_name</th>\n",
              "      <th>mov_year</th>\n",
              "      <th>mov_time</th>\n",
              "      <th>mov_lang</th>\n",
              "      <th>mov_dt_rel</th>\n",
              "      <th>mov_rel_country</th>\n",
              "      <th>rev_name</th>\n",
              "      <th>rev_id</th>\n",
              "      <th>rev_stars</th>\n",
              "      <th>num_o_ratings</th>\n",
              "      <th>field12</th>\n",
              "      <th>field13</th>\n",
              "      <th>field14</th>\n",
              "      <th>field15</th>\n",
              "      <th>field16</th>\n",
              "    </tr>\n",
              "  </thead>\n",
              "  <tbody>\n",
              "    <tr>\n",
              "      <th>0</th>\n",
              "      <td>901</td>\n",
              "      <td>Vertigo</td>\n",
              "      <td>1958</td>\n",
              "      <td>128</td>\n",
              "      <td>Hindi</td>\n",
              "      <td>1958-08-24</td>\n",
              "      <td>UK</td>\n",
              "      <td>Righty Sock</td>\n",
              "      <td>9001</td>\n",
              "      <td>8.4</td>\n",
              "      <td>263575</td>\n",
              "      <td>None</td>\n",
              "      <td>None</td>\n",
              "      <td>None</td>\n",
              "      <td>None</td>\n",
              "      <td>None</td>\n",
              "    </tr>\n",
              "    <tr>\n",
              "      <th>1</th>\n",
              "      <td>902</td>\n",
              "      <td>The Innocents</td>\n",
              "      <td>1961</td>\n",
              "      <td>100</td>\n",
              "      <td>English</td>\n",
              "      <td>1962-02-19</td>\n",
              "      <td>SW</td>\n",
              "      <td>Jack Malvern</td>\n",
              "      <td>9002</td>\n",
              "      <td>7.9</td>\n",
              "      <td>20207</td>\n",
              "      <td>None</td>\n",
              "      <td>None</td>\n",
              "      <td>None</td>\n",
              "      <td>None</td>\n",
              "      <td>None</td>\n",
              "    </tr>\n",
              "    <tr>\n",
              "      <th>2</th>\n",
              "      <td>903</td>\n",
              "      <td>Lawrence of Arabia</td>\n",
              "      <td>1962</td>\n",
              "      <td>216</td>\n",
              "      <td>English</td>\n",
              "      <td>1962-12-11</td>\n",
              "      <td>UK</td>\n",
              "      <td>Flagrant Baronessa</td>\n",
              "      <td>9003</td>\n",
              "      <td>8.3</td>\n",
              "      <td>202778</td>\n",
              "      <td>None</td>\n",
              "      <td>None</td>\n",
              "      <td>None</td>\n",
              "      <td>None</td>\n",
              "      <td>None</td>\n",
              "    </tr>\n",
              "    <tr>\n",
              "      <th>3</th>\n",
              "      <td>904</td>\n",
              "      <td>The Deer Hunter</td>\n",
              "      <td>1978</td>\n",
              "      <td>183</td>\n",
              "      <td>English</td>\n",
              "      <td>1979-03-08</td>\n",
              "      <td>UK</td>\n",
              "      <td>Alec Shaw</td>\n",
              "      <td>9005</td>\n",
              "      <td>8.2</td>\n",
              "      <td>484746</td>\n",
              "      <td>None</td>\n",
              "      <td>None</td>\n",
              "      <td>None</td>\n",
              "      <td>None</td>\n",
              "      <td>None</td>\n",
              "    </tr>\n",
              "    <tr>\n",
              "      <th>4</th>\n",
              "      <td>905</td>\n",
              "      <td>Amadeus</td>\n",
              "      <td>1984</td>\n",
              "      <td>160</td>\n",
              "      <td>English</td>\n",
              "      <td>1985-01-07</td>\n",
              "      <td>UK</td>\n",
              "      <td>Francois Truffaut</td>\n",
              "      <td>9006</td>\n",
              "      <td>7.3</td>\n",
              "      <td>None</td>\n",
              "      <td>None</td>\n",
              "      <td>None</td>\n",
              "      <td>None</td>\n",
              "      <td>None</td>\n",
              "      <td>None</td>\n",
              "    </tr>\n",
              "  </tbody>\n",
              "</table>\n",
              "</div>\n",
              "      <button class=\"colab-df-convert\" onclick=\"convertToInteractive('df-fcb0eea7-f9ae-4eb3-b39b-ec208fa9d2d9')\"\n",
              "              title=\"Convert this dataframe to an interactive table.\"\n",
              "              style=\"display:none;\">\n",
              "        \n",
              "  <svg xmlns=\"http://www.w3.org/2000/svg\" height=\"24px\"viewBox=\"0 0 24 24\"\n",
              "       width=\"24px\">\n",
              "    <path d=\"M0 0h24v24H0V0z\" fill=\"none\"/>\n",
              "    <path d=\"M18.56 5.44l.94 2.06.94-2.06 2.06-.94-2.06-.94-.94-2.06-.94 2.06-2.06.94zm-11 1L8.5 8.5l.94-2.06 2.06-.94-2.06-.94L8.5 2.5l-.94 2.06-2.06.94zm10 10l.94 2.06.94-2.06 2.06-.94-2.06-.94-.94-2.06-.94 2.06-2.06.94z\"/><path d=\"M17.41 7.96l-1.37-1.37c-.4-.4-.92-.59-1.43-.59-.52 0-1.04.2-1.43.59L10.3 9.45l-7.72 7.72c-.78.78-.78 2.05 0 2.83L4 21.41c.39.39.9.59 1.41.59.51 0 1.02-.2 1.41-.59l7.78-7.78 2.81-2.81c.8-.78.8-2.07 0-2.86zM5.41 20L4 18.59l7.72-7.72 1.47 1.35L5.41 20z\"/>\n",
              "  </svg>\n",
              "      </button>\n",
              "      \n",
              "  <style>\n",
              "    .colab-df-container {\n",
              "      display:flex;\n",
              "      flex-wrap:wrap;\n",
              "      gap: 12px;\n",
              "    }\n",
              "\n",
              "    .colab-df-convert {\n",
              "      background-color: #E8F0FE;\n",
              "      border: none;\n",
              "      border-radius: 50%;\n",
              "      cursor: pointer;\n",
              "      display: none;\n",
              "      fill: #1967D2;\n",
              "      height: 32px;\n",
              "      padding: 0 0 0 0;\n",
              "      width: 32px;\n",
              "    }\n",
              "\n",
              "    .colab-df-convert:hover {\n",
              "      background-color: #E2EBFA;\n",
              "      box-shadow: 0px 1px 2px rgba(60, 64, 67, 0.3), 0px 1px 3px 1px rgba(60, 64, 67, 0.15);\n",
              "      fill: #174EA6;\n",
              "    }\n",
              "\n",
              "    [theme=dark] .colab-df-convert {\n",
              "      background-color: #3B4455;\n",
              "      fill: #D2E3FC;\n",
              "    }\n",
              "\n",
              "    [theme=dark] .colab-df-convert:hover {\n",
              "      background-color: #434B5C;\n",
              "      box-shadow: 0px 1px 3px 1px rgba(0, 0, 0, 0.15);\n",
              "      filter: drop-shadow(0px 1px 2px rgba(0, 0, 0, 0.3));\n",
              "      fill: #FFFFFF;\n",
              "    }\n",
              "  </style>\n",
              "\n",
              "      <script>\n",
              "        const buttonEl =\n",
              "          document.querySelector('#df-fcb0eea7-f9ae-4eb3-b39b-ec208fa9d2d9 button.colab-df-convert');\n",
              "        buttonEl.style.display =\n",
              "          google.colab.kernel.accessAllowed ? 'block' : 'none';\n",
              "\n",
              "        async function convertToInteractive(key) {\n",
              "          const element = document.querySelector('#df-fcb0eea7-f9ae-4eb3-b39b-ec208fa9d2d9');\n",
              "          const dataTable =\n",
              "            await google.colab.kernel.invokeFunction('convertToInteractive',\n",
              "                                                     [key], {});\n",
              "          if (!dataTable) return;\n",
              "\n",
              "          const docLinkHtml = 'Like what you see? Visit the ' +\n",
              "            '<a target=\"_blank\" href=https://colab.research.google.com/notebooks/data_table.ipynb>data table notebook</a>'\n",
              "            + ' to learn more about interactive tables.';\n",
              "          element.innerHTML = '';\n",
              "          dataTable['output_type'] = 'display_data';\n",
              "          await google.colab.output.renderOutput(dataTable, element);\n",
              "          const docLink = document.createElement('div');\n",
              "          docLink.innerHTML = docLinkHtml;\n",
              "          element.appendChild(docLink);\n",
              "        }\n",
              "      </script>\n",
              "    </div>\n",
              "  </div>\n",
              "  "
            ]
          },
          "metadata": {},
          "execution_count": 39
        }
      ]
    },
    {
      "cell_type": "code",
      "source": [
        "df[df['mov_year']==1962]"
      ],
      "metadata": {
        "colab": {
          "base_uri": "https://localhost:8080/",
          "height": 162
        },
        "id": "j7pc2VeeQWl9",
        "outputId": "626b414f-8ed9-4630-bea3-e050bd249eaf"
      },
      "execution_count": null,
      "outputs": [
        {
          "output_type": "execute_result",
          "data": {
            "text/plain": [
              "   mov_id            mov_name  mov_year  mov_time mov_lang  mov_dt_rel  \\\n",
              "2     903  Lawrence of Arabia      1962       216  English  1962-12-11   \n",
              "\n",
              "  mov_rel_country            rev_name  rev_id rev_stars num_o_ratings field12  \\\n",
              "2              UK  Flagrant Baronessa    9003       8.3        202778    None   \n",
              "\n",
              "  field13 field14 field15 field16  \n",
              "2    None    None    None    None  "
            ],
            "text/html": [
              "\n",
              "  <div id=\"df-02e267e0-369e-403c-bf1b-1c6f0a25bfe7\">\n",
              "    <div class=\"colab-df-container\">\n",
              "      <div>\n",
              "<style scoped>\n",
              "    .dataframe tbody tr th:only-of-type {\n",
              "        vertical-align: middle;\n",
              "    }\n",
              "\n",
              "    .dataframe tbody tr th {\n",
              "        vertical-align: top;\n",
              "    }\n",
              "\n",
              "    .dataframe thead th {\n",
              "        text-align: right;\n",
              "    }\n",
              "</style>\n",
              "<table border=\"1\" class=\"dataframe\">\n",
              "  <thead>\n",
              "    <tr style=\"text-align: right;\">\n",
              "      <th></th>\n",
              "      <th>mov_id</th>\n",
              "      <th>mov_name</th>\n",
              "      <th>mov_year</th>\n",
              "      <th>mov_time</th>\n",
              "      <th>mov_lang</th>\n",
              "      <th>mov_dt_rel</th>\n",
              "      <th>mov_rel_country</th>\n",
              "      <th>rev_name</th>\n",
              "      <th>rev_id</th>\n",
              "      <th>rev_stars</th>\n",
              "      <th>num_o_ratings</th>\n",
              "      <th>field12</th>\n",
              "      <th>field13</th>\n",
              "      <th>field14</th>\n",
              "      <th>field15</th>\n",
              "      <th>field16</th>\n",
              "    </tr>\n",
              "  </thead>\n",
              "  <tbody>\n",
              "    <tr>\n",
              "      <th>2</th>\n",
              "      <td>903</td>\n",
              "      <td>Lawrence of Arabia</td>\n",
              "      <td>1962</td>\n",
              "      <td>216</td>\n",
              "      <td>English</td>\n",
              "      <td>1962-12-11</td>\n",
              "      <td>UK</td>\n",
              "      <td>Flagrant Baronessa</td>\n",
              "      <td>9003</td>\n",
              "      <td>8.3</td>\n",
              "      <td>202778</td>\n",
              "      <td>None</td>\n",
              "      <td>None</td>\n",
              "      <td>None</td>\n",
              "      <td>None</td>\n",
              "      <td>None</td>\n",
              "    </tr>\n",
              "  </tbody>\n",
              "</table>\n",
              "</div>\n",
              "      <button class=\"colab-df-convert\" onclick=\"convertToInteractive('df-02e267e0-369e-403c-bf1b-1c6f0a25bfe7')\"\n",
              "              title=\"Convert this dataframe to an interactive table.\"\n",
              "              style=\"display:none;\">\n",
              "        \n",
              "  <svg xmlns=\"http://www.w3.org/2000/svg\" height=\"24px\"viewBox=\"0 0 24 24\"\n",
              "       width=\"24px\">\n",
              "    <path d=\"M0 0h24v24H0V0z\" fill=\"none\"/>\n",
              "    <path d=\"M18.56 5.44l.94 2.06.94-2.06 2.06-.94-2.06-.94-.94-2.06-.94 2.06-2.06.94zm-11 1L8.5 8.5l.94-2.06 2.06-.94-2.06-.94L8.5 2.5l-.94 2.06-2.06.94zm10 10l.94 2.06.94-2.06 2.06-.94-2.06-.94-.94-2.06-.94 2.06-2.06.94z\"/><path d=\"M17.41 7.96l-1.37-1.37c-.4-.4-.92-.59-1.43-.59-.52 0-1.04.2-1.43.59L10.3 9.45l-7.72 7.72c-.78.78-.78 2.05 0 2.83L4 21.41c.39.39.9.59 1.41.59.51 0 1.02-.2 1.41-.59l7.78-7.78 2.81-2.81c.8-.78.8-2.07 0-2.86zM5.41 20L4 18.59l7.72-7.72 1.47 1.35L5.41 20z\"/>\n",
              "  </svg>\n",
              "      </button>\n",
              "      \n",
              "  <style>\n",
              "    .colab-df-container {\n",
              "      display:flex;\n",
              "      flex-wrap:wrap;\n",
              "      gap: 12px;\n",
              "    }\n",
              "\n",
              "    .colab-df-convert {\n",
              "      background-color: #E8F0FE;\n",
              "      border: none;\n",
              "      border-radius: 50%;\n",
              "      cursor: pointer;\n",
              "      display: none;\n",
              "      fill: #1967D2;\n",
              "      height: 32px;\n",
              "      padding: 0 0 0 0;\n",
              "      width: 32px;\n",
              "    }\n",
              "\n",
              "    .colab-df-convert:hover {\n",
              "      background-color: #E2EBFA;\n",
              "      box-shadow: 0px 1px 2px rgba(60, 64, 67, 0.3), 0px 1px 3px 1px rgba(60, 64, 67, 0.15);\n",
              "      fill: #174EA6;\n",
              "    }\n",
              "\n",
              "    [theme=dark] .colab-df-convert {\n",
              "      background-color: #3B4455;\n",
              "      fill: #D2E3FC;\n",
              "    }\n",
              "\n",
              "    [theme=dark] .colab-df-convert:hover {\n",
              "      background-color: #434B5C;\n",
              "      box-shadow: 0px 1px 3px 1px rgba(0, 0, 0, 0.15);\n",
              "      filter: drop-shadow(0px 1px 2px rgba(0, 0, 0, 0.3));\n",
              "      fill: #FFFFFF;\n",
              "    }\n",
              "  </style>\n",
              "\n",
              "      <script>\n",
              "        const buttonEl =\n",
              "          document.querySelector('#df-02e267e0-369e-403c-bf1b-1c6f0a25bfe7 button.colab-df-convert');\n",
              "        buttonEl.style.display =\n",
              "          google.colab.kernel.accessAllowed ? 'block' : 'none';\n",
              "\n",
              "        async function convertToInteractive(key) {\n",
              "          const element = document.querySelector('#df-02e267e0-369e-403c-bf1b-1c6f0a25bfe7');\n",
              "          const dataTable =\n",
              "            await google.colab.kernel.invokeFunction('convertToInteractive',\n",
              "                                                     [key], {});\n",
              "          if (!dataTable) return;\n",
              "\n",
              "          const docLinkHtml = 'Like what you see? Visit the ' +\n",
              "            '<a target=\"_blank\" href=https://colab.research.google.com/notebooks/data_table.ipynb>data table notebook</a>'\n",
              "            + ' to learn more about interactive tables.';\n",
              "          element.innerHTML = '';\n",
              "          dataTable['output_type'] = 'display_data';\n",
              "          await google.colab.output.renderOutput(dataTable, element);\n",
              "          const docLink = document.createElement('div');\n",
              "          docLink.innerHTML = docLinkHtml;\n",
              "          element.appendChild(docLink);\n",
              "        }\n",
              "      </script>\n",
              "    </div>\n",
              "  </div>\n",
              "  "
            ]
          },
          "metadata": {},
          "execution_count": 41
        }
      ]
    },
    {
      "cell_type": "code",
      "source": [
        "# Drop the table if already exists.\n",
        "cursor_obj.execute(\"DROP TABLE IF EXISTS INSTRUCTOR\")"
      ],
      "metadata": {
        "colab": {
          "base_uri": "https://localhost:8080/"
        },
        "id": "sgFEp20ODW0Z",
        "outputId": "a9f77a62-a4b6-45ce-d4e9-d69eef3248e4"
      },
      "execution_count": null,
      "outputs": [
        {
          "output_type": "execute_result",
          "data": {
            "text/plain": [
              "<sqlite3.Cursor at 0x7f78546b2540>"
            ]
          },
          "metadata": {},
          "execution_count": 42
        }
      ]
    },
    {
      "cell_type": "code",
      "source": [
        "# Creating table\n",
        "table = \"\"\" create table IF NOT EXISTS INSTRUCTOR2(ID INTEGER PRIMARY KEY , FNAME TEXT NOT NULL, LNAME TEXT, CITY TEXT, CCODE TEXT);\"\"\"\n",
        "\n",
        "cursor_obj.execute(table)\n",
        "\n",
        "print(\"Table is Ready\")"
      ],
      "metadata": {
        "colab": {
          "base_uri": "https://localhost:8080/"
        },
        "id": "uPkRyE8oDcdH",
        "outputId": "eb1458f8-b0c8-4c13-c6f2-1ca88bbda007"
      },
      "execution_count": null,
      "outputs": [
        {
          "output_type": "stream",
          "name": "stdout",
          "text": [
            "Table is Ready\n"
          ]
        }
      ]
    },
    {
      "cell_type": "markdown",
      "source": [
        "PRIMARY KEY\n",
        "\n",
        "NOT NULL\n",
        "\n",
        "UNIQUE\n",
        "\n",
        "CHECK\n",
        "\n",
        "FORIEGN KEY\n"
      ],
      "metadata": {
        "id": "hTWsVZLsRntK"
      }
    },
    {
      "cell_type": "code",
      "source": [
        "cursor_obj.execute('''insert into INSTRUCTOR2 values (4,\"Ravi\" , 'Ahuja', 'TORONTO', 'CA')''')"
      ],
      "metadata": {
        "colab": {
          "base_uri": "https://localhost:8080/"
        },
        "id": "4L3MmoEwDp_d",
        "outputId": "bfc71146-34a0-4151-dde6-2d4ed834e20c"
      },
      "execution_count": null,
      "outputs": [
        {
          "output_type": "execute_result",
          "data": {
            "text/plain": [
              "<sqlite3.Cursor at 0x7f78546b2540>"
            ]
          },
          "metadata": {},
          "execution_count": 53
        }
      ]
    },
    {
      "cell_type": "code",
      "source": [
        "cursor_obj.execute('''insert into INSTRUCTOR values (2, 'Raul', 'Chong', 'Markham', 'CA'), (3, 'Hima', 'Vasudevan', 'Chicago', 'US')''')"
      ],
      "metadata": {
        "colab": {
          "base_uri": "https://localhost:8080/"
        },
        "id": "3BFaIQRyDuS8",
        "outputId": "2816b7f1-2679-4dc8-d93d-ecfcd0070951"
      },
      "execution_count": null,
      "outputs": [
        {
          "output_type": "execute_result",
          "data": {
            "text/plain": [
              "<sqlite3.Cursor at 0x7f78546b2540>"
            ]
          },
          "metadata": {},
          "execution_count": 46
        }
      ]
    },
    {
      "cell_type": "code",
      "source": [
        "statement = '''SELECT * FROM INSTRUCTOR'''\n",
        "cursor_obj.execute(statement)\n",
        "\n",
        "print(\"All the data\")\n",
        "output_all = cursor_obj.fetchall()\n",
        "for row_all in output_all:\n",
        "  print(row_all)"
      ],
      "metadata": {
        "colab": {
          "base_uri": "https://localhost:8080/"
        },
        "id": "yXYYlifOEIqw",
        "outputId": "fb4af05c-1b4e-48b1-bdf9-4a7397057760"
      },
      "execution_count": null,
      "outputs": [
        {
          "output_type": "stream",
          "name": "stdout",
          "text": [
            "All the data\n",
            "(1, 'Rav', 'Ahuja', 'TORONTO', 'CA')\n",
            "(2, 'Raul', 'Chong', 'Markham', 'CA')\n",
            "(3, 'Hima', 'Vasudevan', 'Chicago', 'US')\n"
          ]
        }
      ]
    },
    {
      "cell_type": "code",
      "source": [
        "# Close the connection\n",
        "conn.close()"
      ],
      "metadata": {
        "id": "6KW9XGCcC6rY"
      },
      "execution_count": null,
      "outputs": []
    }
  ]
}